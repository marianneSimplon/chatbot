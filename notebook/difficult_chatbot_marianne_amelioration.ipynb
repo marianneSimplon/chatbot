{
 "cells": [
  {
   "cell_type": "code",
   "execution_count": 1,
   "id": "6911229e",
   "metadata": {},
   "outputs": [],
   "source": [
    "import json \n",
    "import numpy as np \n",
    "import pandas as pd\n",
    "import matplotlib.pyplot as plt\n",
    "import random\n",
    "\n",
    "import string\n",
    "# import nltk\n",
    "from nltk import *\n",
    "from nltk.stem import WordNetLemmatizer\n",
    "from nltk.corpus import stopwords\n",
    "\n",
    "import tensorflow as tf\n",
    "from tensorflow import keras\n",
    "from tensorflow.keras.models import Sequential\n",
    "from tensorflow.keras.layers import Dense, Embedding, GlobalAveragePooling1D , Activation\n",
    "from tensorflow.keras.preprocessing.text import Tokenizer\n",
    "from tensorflow.keras.preprocessing.sequence import pad_sequences\n",
    "from sklearn.preprocessing import LabelEncoder\n",
    "\n",
    "\n",
    "from tensorflow.keras import Sequential\n",
    "from tensorflow.keras.layers import InputLayer\n",
    "from tensorflow.keras.layers import SimpleRNN\n",
    "from tensorflow.keras.layers import Dropout\n",
    "from tensorflow.keras.layers import Dense\n",
    "from tensorflow.keras import callbacks"
   ]
  },
  {
   "cell_type": "code",
   "execution_count": 2,
   "id": "05fcbb44",
   "metadata": {},
   "outputs": [],
   "source": [
    "with open(\"../data/Intent.json\") as train_file:\n",
    "    df= json.load(train_file)"
   ]
  },
  {
   "cell_type": "markdown",
   "id": "3bcc17f8",
   "metadata": {},
   "source": [
    "# TOKENIZATION"
   ]
  },
  {
   "cell_type": "code",
   "execution_count": 3,
   "id": "77c25541",
   "metadata": {},
   "outputs": [
    {
     "data": {
      "text/plain": [
       "'Greeting'"
      ]
     },
     "execution_count": 3,
     "metadata": {},
     "output_type": "execute_result"
    }
   ],
   "source": [
    "df[\"intents\"][0][\"intent\"]"
   ]
  },
  {
   "cell_type": "code",
   "execution_count": 4,
   "id": "a82bd075",
   "metadata": {},
   "outputs": [
    {
     "data": {
      "text/html": [
       "<div>\n",
       "<style scoped>\n",
       "    .dataframe tbody tr th:only-of-type {\n",
       "        vertical-align: middle;\n",
       "    }\n",
       "\n",
       "    .dataframe tbody tr th {\n",
       "        vertical-align: top;\n",
       "    }\n",
       "\n",
       "    .dataframe thead th {\n",
       "        text-align: right;\n",
       "    }\n",
       "</style>\n",
       "<table border=\"1\" class=\"dataframe\">\n",
       "  <thead>\n",
       "    <tr style=\"text-align: right;\">\n",
       "      <th></th>\n",
       "      <th>inputs</th>\n",
       "      <th>tags</th>\n",
       "    </tr>\n",
       "  </thead>\n",
       "  <tbody>\n",
       "    <tr>\n",
       "      <th>0</th>\n",
       "      <td>Hi</td>\n",
       "      <td>Greeting</td>\n",
       "    </tr>\n",
       "    <tr>\n",
       "      <th>1</th>\n",
       "      <td>Hi there</td>\n",
       "      <td>Greeting</td>\n",
       "    </tr>\n",
       "    <tr>\n",
       "      <th>2</th>\n",
       "      <td>Hola</td>\n",
       "      <td>Greeting</td>\n",
       "    </tr>\n",
       "    <tr>\n",
       "      <th>3</th>\n",
       "      <td>Hello</td>\n",
       "      <td>Greeting</td>\n",
       "    </tr>\n",
       "    <tr>\n",
       "      <th>4</th>\n",
       "      <td>Hello there</td>\n",
       "      <td>Greeting</td>\n",
       "    </tr>\n",
       "    <tr>\n",
       "      <th>...</th>\n",
       "      <td>...</td>\n",
       "      <td>...</td>\n",
       "    </tr>\n",
       "    <tr>\n",
       "      <th>138</th>\n",
       "      <td>Can you prove you have a conscious</td>\n",
       "      <td>SelfAware</td>\n",
       "    </tr>\n",
       "    <tr>\n",
       "      <th>139</th>\n",
       "      <td>Can you prove you are self-aware please</td>\n",
       "      <td>SelfAware</td>\n",
       "    </tr>\n",
       "    <tr>\n",
       "      <th>140</th>\n",
       "      <td>Can you prove you are self aware please</td>\n",
       "      <td>SelfAware</td>\n",
       "    </tr>\n",
       "    <tr>\n",
       "      <th>141</th>\n",
       "      <td>Can you prove you have a conscious please</td>\n",
       "      <td>SelfAware</td>\n",
       "    </tr>\n",
       "    <tr>\n",
       "      <th>142</th>\n",
       "      <td>prove you have a conscious</td>\n",
       "      <td>SelfAware</td>\n",
       "    </tr>\n",
       "  </tbody>\n",
       "</table>\n",
       "<p>143 rows × 2 columns</p>\n",
       "</div>"
      ],
      "text/plain": [
       "                                        inputs       tags\n",
       "0                                           Hi   Greeting\n",
       "1                                     Hi there   Greeting\n",
       "2                                         Hola   Greeting\n",
       "3                                        Hello   Greeting\n",
       "4                                  Hello there   Greeting\n",
       "..                                         ...        ...\n",
       "138         Can you prove you have a conscious  SelfAware\n",
       "139    Can you prove you are self-aware please  SelfAware\n",
       "140    Can you prove you are self aware please  SelfAware\n",
       "141  Can you prove you have a conscious please  SelfAware\n",
       "142                 prove you have a conscious  SelfAware\n",
       "\n",
       "[143 rows x 2 columns]"
      ]
     },
     "execution_count": 4,
     "metadata": {},
     "output_type": "execute_result"
    }
   ],
   "source": [
    "tags = []\n",
    "inputs = []\n",
    "responses = {}\n",
    "\n",
    "for intent in df['intents']:\n",
    "    responses[intent['intent']] = intent['responses']\n",
    "    for lines in intent['text']:\n",
    "        inputs.append(lines)\n",
    "        tags.append(intent['intent'])\n",
    "df = pd.DataFrame({'inputs': inputs, 'tags': tags})\n",
    "df"
   ]
  },
  {
   "cell_type": "code",
   "execution_count": 5,
   "id": "4a2c282c",
   "metadata": {},
   "outputs": [],
   "source": [
    "df[\"inputs\"] = df[\"inputs\"].apply(lambda wrd:[ltrs.lower() for ltrs in wrd if ltrs not in string.punctuation])\n",
    "df[\"inputs\"] = df[\"inputs\"].apply(lambda wrd:\"\".join(wrd))"
   ]
  },
  {
   "cell_type": "code",
   "execution_count": 6,
   "id": "e6774370",
   "metadata": {},
   "outputs": [],
   "source": [
    "# Tokenizer les data\n",
    "tokenizer = Tokenizer(num_words=2000)\n",
    "tokenizer.fit_on_texts(df[\"inputs\"])\n",
    "train = tokenizer.texts_to_sequences(df[\"inputs\"])\n",
    "tokens = tokenizer.texts_to_sequences(df[\"inputs\"])"
   ]
  },
  {
   "cell_type": "code",
   "execution_count": 7,
   "id": "d85b5048",
   "metadata": {},
   "outputs": [],
   "source": [
    "# apply padding\n",
    "x_train = pad_sequences(train)"
   ]
  },
  {
   "cell_type": "code",
   "execution_count": 8,
   "id": "15abe545",
   "metadata": {},
   "outputs": [],
   "source": [
    "#encoding the outputs\n",
    "le = LabelEncoder()\n",
    "y_train = le.fit_transform(df['tags'])"
   ]
  },
  {
   "cell_type": "code",
   "execution_count": 9,
   "id": "59e1333d",
   "metadata": {},
   "outputs": [
    {
     "name": "stdout",
     "output_type": "stream",
     "text": [
      "9\n"
     ]
    }
   ],
   "source": [
    "input_shape = x_train.shape[1]\n",
    "print(input_shape)"
   ]
  },
  {
   "cell_type": "code",
   "execution_count": 10,
   "id": "145ea579",
   "metadata": {},
   "outputs": [
    {
     "name": "stdout",
     "output_type": "stream",
     "text": [
      "number of unique words : 117\n",
      "output length  22\n"
     ]
    }
   ],
   "source": [
    "#define vocabulary\n",
    "vocabulary = len(tokenizer.word_index)\n",
    "print(\"number of unique words :\",vocabulary)\n",
    "output_length = le.classes_.shape[0]\n",
    "print(\"output length \", output_length)"
   ]
  },
  {
   "cell_type": "markdown",
   "id": "551e46f8",
   "metadata": {},
   "source": [
    "# RNN"
   ]
  },
  {
   "cell_type": "code",
   "execution_count": 11,
   "id": "f31841b4",
   "metadata": {},
   "outputs": [],
   "source": [
    "from tensorflow.keras import Sequential\n",
    "from tensorflow.keras.layers import InputLayer\n",
    "from tensorflow.keras.layers import SimpleRNN\n",
    "from tensorflow.keras.layers import Dropout\n",
    "from tensorflow.keras.layers import Dense\n",
    "from tensorflow.keras import callbacks"
   ]
  },
  {
   "cell_type": "code",
   "execution_count": 12,
   "id": "a56e977c",
   "metadata": {},
   "outputs": [],
   "source": [
    "#creating model\n",
    "model = Sequential()\n",
    "model.add(Embedding(vocabulary+1,10))\n",
    "model.add(InputLayer(input_shape=(input_shape,)))\n",
    "model.add(SimpleRNN(30))\n",
    "model.add(Dense(output_length, activation=\"softmax\"))"
   ]
  },
  {
   "cell_type": "code",
   "execution_count": 13,
   "id": "81e2778e",
   "metadata": {},
   "outputs": [],
   "source": [
    "#compile the model\n",
    "model.compile(loss=\"sparse_categorical_crossentropy\",optimizer=\"adam\",metrics=[\"accuracy\"])"
   ]
  },
  {
   "cell_type": "code",
   "execution_count": 14,
   "id": "46b41aeb",
   "metadata": {
    "scrolled": true
   },
   "outputs": [
    {
     "name": "stdout",
     "output_type": "stream",
     "text": [
      "Epoch 1/100\n",
      "5/5 [==============================] - 1s 8ms/step - loss: 3.0853 - accuracy: 0.0210\n",
      "Epoch 2/100\n",
      "5/5 [==============================] - 0s 5ms/step - loss: 3.0616 - accuracy: 0.0559\n",
      "Epoch 3/100\n",
      "5/5 [==============================] - 0s 5ms/step - loss: 3.0403 - accuracy: 0.1329\n",
      "Epoch 4/100\n",
      "5/5 [==============================] - 0s 4ms/step - loss: 3.0169 - accuracy: 0.2028\n",
      "Epoch 5/100\n",
      "5/5 [==============================] - 0s 5ms/step - loss: 2.9920 - accuracy: 0.2378\n",
      "Epoch 6/100\n",
      "5/5 [==============================] - 0s 5ms/step - loss: 2.9645 - accuracy: 0.2657\n",
      "Epoch 7/100\n",
      "5/5 [==============================] - 0s 5ms/step - loss: 2.9317 - accuracy: 0.2727\n",
      "Epoch 8/100\n",
      "5/5 [==============================] - 0s 6ms/step - loss: 2.8975 - accuracy: 0.2867\n",
      "Epoch 9/100\n",
      "5/5 [==============================] - 0s 5ms/step - loss: 2.8531 - accuracy: 0.2867\n",
      "Epoch 10/100\n",
      "5/5 [==============================] - 0s 5ms/step - loss: 2.8034 - accuracy: 0.3007\n",
      "Epoch 11/100\n",
      "5/5 [==============================] - 0s 6ms/step - loss: 2.7556 - accuracy: 0.3147\n",
      "Epoch 12/100\n",
      "5/5 [==============================] - 0s 5ms/step - loss: 2.6947 - accuracy: 0.3357\n",
      "Epoch 13/100\n",
      "5/5 [==============================] - 0s 5ms/step - loss: 2.6360 - accuracy: 0.3427\n",
      "Epoch 14/100\n",
      "5/5 [==============================] - 0s 4ms/step - loss: 2.5772 - accuracy: 0.3497\n",
      "Epoch 15/100\n",
      "5/5 [==============================] - 0s 5ms/step - loss: 2.5090 - accuracy: 0.3497\n",
      "Epoch 16/100\n",
      "5/5 [==============================] - 0s 5ms/step - loss: 2.4434 - accuracy: 0.3636\n",
      "Epoch 17/100\n",
      "5/5 [==============================] - 0s 5ms/step - loss: 2.3901 - accuracy: 0.3986\n",
      "Epoch 18/100\n",
      "5/5 [==============================] - 0s 4ms/step - loss: 2.3300 - accuracy: 0.4266\n",
      "Epoch 19/100\n",
      "5/5 [==============================] - 0s 5ms/step - loss: 2.2634 - accuracy: 0.4825\n",
      "Epoch 20/100\n",
      "5/5 [==============================] - 0s 4ms/step - loss: 2.2144 - accuracy: 0.5105\n",
      "Epoch 21/100\n",
      "5/5 [==============================] - 0s 5ms/step - loss: 2.1662 - accuracy: 0.4825\n",
      "Epoch 22/100\n",
      "5/5 [==============================] - 0s 4ms/step - loss: 2.1027 - accuracy: 0.5524\n",
      "Epoch 23/100\n",
      "5/5 [==============================] - 0s 4ms/step - loss: 2.0372 - accuracy: 0.6014\n",
      "Epoch 24/100\n",
      "5/5 [==============================] - 0s 5ms/step - loss: 1.9790 - accuracy: 0.6154\n",
      "Epoch 25/100\n",
      "5/5 [==============================] - 0s 5ms/step - loss: 1.9479 - accuracy: 0.6084\n",
      "Epoch 26/100\n",
      "5/5 [==============================] - 0s 4ms/step - loss: 1.8768 - accuracy: 0.6294\n",
      "Epoch 27/100\n",
      "5/5 [==============================] - 0s 4ms/step - loss: 1.8244 - accuracy: 0.6294\n",
      "Epoch 28/100\n",
      "5/5 [==============================] - 0s 5ms/step - loss: 1.7788 - accuracy: 0.6084\n",
      "Epoch 29/100\n",
      "5/5 [==============================] - 0s 4ms/step - loss: 1.7205 - accuracy: 0.6853\n",
      "Epoch 30/100\n",
      "5/5 [==============================] - 0s 5ms/step - loss: 1.6775 - accuracy: 0.6993\n",
      "Epoch 31/100\n",
      "5/5 [==============================] - 0s 4ms/step - loss: 1.6300 - accuracy: 0.7203\n",
      "Epoch 32/100\n",
      "5/5 [==============================] - 0s 4ms/step - loss: 1.5878 - accuracy: 0.7832\n",
      "Epoch 33/100\n",
      "5/5 [==============================] - 0s 5ms/step - loss: 1.5491 - accuracy: 0.7552\n",
      "Epoch 34/100\n",
      "5/5 [==============================] - 0s 5ms/step - loss: 1.4951 - accuracy: 0.7832\n",
      "Epoch 35/100\n",
      "5/5 [==============================] - 0s 4ms/step - loss: 1.4572 - accuracy: 0.7972\n",
      "Epoch 36/100\n",
      "5/5 [==============================] - 0s 5ms/step - loss: 1.4156 - accuracy: 0.7902\n",
      "Epoch 37/100\n",
      "5/5 [==============================] - 0s 4ms/step - loss: 1.3934 - accuracy: 0.7972\n",
      "Epoch 38/100\n",
      "5/5 [==============================] - 0s 4ms/step - loss: 1.3681 - accuracy: 0.7483\n",
      "Epoch 39/100\n",
      "5/5 [==============================] - 0s 4ms/step - loss: 1.3198 - accuracy: 0.7902\n",
      "Epoch 40/100\n",
      "5/5 [==============================] - 0s 4ms/step - loss: 1.2907 - accuracy: 0.8322\n",
      "Epoch 41/100\n",
      "5/5 [==============================] - 0s 4ms/step - loss: 1.2471 - accuracy: 0.8252\n",
      "Epoch 42/100\n",
      "5/5 [==============================] - 0s 4ms/step - loss: 1.2193 - accuracy: 0.8252\n",
      "Epoch 43/100\n",
      "5/5 [==============================] - 0s 4ms/step - loss: 1.1858 - accuracy: 0.8322\n",
      "Epoch 44/100\n",
      "5/5 [==============================] - 0s 4ms/step - loss: 1.1556 - accuracy: 0.8182\n",
      "Epoch 45/100\n",
      "5/5 [==============================] - 0s 4ms/step - loss: 1.1550 - accuracy: 0.8322\n",
      "Epoch 46/100\n",
      "5/5 [==============================] - 0s 4ms/step - loss: 1.1134 - accuracy: 0.8671\n",
      "Epoch 47/100\n",
      "5/5 [==============================] - 0s 4ms/step - loss: 1.0912 - accuracy: 0.8671\n",
      "Epoch 48/100\n",
      "5/5 [==============================] - 0s 4ms/step - loss: 1.0499 - accuracy: 0.8811\n",
      "Epoch 49/100\n",
      "5/5 [==============================] - 0s 4ms/step - loss: 1.0262 - accuracy: 0.8811\n",
      "Epoch 50/100\n",
      "5/5 [==============================] - 0s 4ms/step - loss: 0.9987 - accuracy: 0.8741\n",
      "Epoch 51/100\n",
      "5/5 [==============================] - 0s 4ms/step - loss: 0.9719 - accuracy: 0.8881\n",
      "Epoch 52/100\n",
      "5/5 [==============================] - 0s 4ms/step - loss: 0.9476 - accuracy: 0.9021\n",
      "Epoch 53/100\n",
      "5/5 [==============================] - 0s 4ms/step - loss: 0.9281 - accuracy: 0.8951\n",
      "Epoch 54/100\n",
      "5/5 [==============================] - 0s 4ms/step - loss: 0.9143 - accuracy: 0.8881\n",
      "Epoch 55/100\n",
      "5/5 [==============================] - 0s 5ms/step - loss: 0.8959 - accuracy: 0.8881\n",
      "Epoch 56/100\n",
      "5/5 [==============================] - 0s 4ms/step - loss: 0.8743 - accuracy: 0.8951\n",
      "Epoch 57/100\n",
      "5/5 [==============================] - 0s 4ms/step - loss: 0.8556 - accuracy: 0.9021\n",
      "Epoch 58/100\n",
      "5/5 [==============================] - 0s 5ms/step - loss: 0.8554 - accuracy: 0.8881\n",
      "Epoch 59/100\n",
      "5/5 [==============================] - 0s 4ms/step - loss: 0.8391 - accuracy: 0.9021\n",
      "Epoch 60/100\n",
      "5/5 [==============================] - 0s 4ms/step - loss: 0.8123 - accuracy: 0.9161\n",
      "Epoch 61/100\n",
      "5/5 [==============================] - 0s 4ms/step - loss: 0.7858 - accuracy: 0.9021\n",
      "Epoch 62/100\n",
      "5/5 [==============================] - 0s 4ms/step - loss: 0.7589 - accuracy: 0.9301\n",
      "Epoch 63/100\n",
      "5/5 [==============================] - 0s 4ms/step - loss: 0.7313 - accuracy: 0.9301\n",
      "Epoch 64/100\n",
      "5/5 [==============================] - 0s 5ms/step - loss: 0.7157 - accuracy: 0.9161\n",
      "Epoch 65/100\n",
      "5/5 [==============================] - 0s 5ms/step - loss: 0.6956 - accuracy: 0.9371\n",
      "Epoch 66/100\n",
      "5/5 [==============================] - 0s 4ms/step - loss: 0.6766 - accuracy: 0.9371\n",
      "Epoch 67/100\n",
      "5/5 [==============================] - 0s 4ms/step - loss: 0.6600 - accuracy: 0.9371\n",
      "Epoch 68/100\n",
      "5/5 [==============================] - 0s 4ms/step - loss: 0.6511 - accuracy: 0.9371\n",
      "Epoch 69/100\n",
      "5/5 [==============================] - 0s 5ms/step - loss: 0.6344 - accuracy: 0.9301\n",
      "Epoch 70/100\n",
      "5/5 [==============================] - 0s 4ms/step - loss: 0.6120 - accuracy: 0.9371\n",
      "Epoch 71/100\n",
      "5/5 [==============================] - 0s 4ms/step - loss: 0.5977 - accuracy: 0.9371\n",
      "Epoch 72/100\n",
      "5/5 [==============================] - 0s 5ms/step - loss: 0.5825 - accuracy: 0.9441\n",
      "Epoch 73/100\n",
      "5/5 [==============================] - 0s 4ms/step - loss: 0.5699 - accuracy: 0.9371\n",
      "Epoch 74/100\n",
      "5/5 [==============================] - 0s 4ms/step - loss: 0.5617 - accuracy: 0.9371\n",
      "Epoch 75/100\n",
      "5/5 [==============================] - 0s 4ms/step - loss: 0.5469 - accuracy: 0.9371\n",
      "Epoch 76/100\n",
      "5/5 [==============================] - 0s 4ms/step - loss: 0.5353 - accuracy: 0.9371\n",
      "Epoch 77/100\n",
      "5/5 [==============================] - 0s 4ms/step - loss: 0.5265 - accuracy: 0.9301\n",
      "Epoch 78/100\n",
      "5/5 [==============================] - 0s 5ms/step - loss: 0.5149 - accuracy: 0.9371\n",
      "Epoch 79/100\n",
      "5/5 [==============================] - 0s 5ms/step - loss: 0.5059 - accuracy: 0.9510\n",
      "Epoch 80/100\n",
      "5/5 [==============================] - ETA: 0s - loss: 0.4750 - accuracy: 0.93 - 0s 4ms/step - loss: 0.4933 - accuracy: 0.9231\n",
      "Epoch 81/100\n",
      "5/5 [==============================] - 0s 4ms/step - loss: 0.4788 - accuracy: 0.9510\n",
      "Epoch 82/100\n",
      "5/5 [==============================] - 0s 4ms/step - loss: 0.4732 - accuracy: 0.9371\n",
      "Epoch 83/100\n",
      "5/5 [==============================] - 0s 5ms/step - loss: 0.4560 - accuracy: 0.9510\n",
      "Epoch 84/100\n"
     ]
    },
    {
     "name": "stdout",
     "output_type": "stream",
     "text": [
      "5/5 [==============================] - 0s 4ms/step - loss: 0.4466 - accuracy: 0.9510\n",
      "Epoch 85/100\n",
      "5/5 [==============================] - 0s 4ms/step - loss: 0.4322 - accuracy: 0.9580\n",
      "Epoch 86/100\n",
      "5/5 [==============================] - 0s 4ms/step - loss: 0.4218 - accuracy: 0.9510\n",
      "Epoch 87/100\n",
      "5/5 [==============================] - 0s 4ms/step - loss: 0.4161 - accuracy: 0.9650\n",
      "Epoch 88/100\n",
      "5/5 [==============================] - 0s 4ms/step - loss: 0.4050 - accuracy: 0.9580\n",
      "Epoch 89/100\n",
      "5/5 [==============================] - 0s 4ms/step - loss: 0.4034 - accuracy: 0.9510\n",
      "Epoch 90/100\n",
      "5/5 [==============================] - 0s 4ms/step - loss: 0.3982 - accuracy: 0.9650\n",
      "Epoch 91/100\n",
      "5/5 [==============================] - 0s 4ms/step - loss: 0.3819 - accuracy: 0.9510\n",
      "Epoch 92/100\n",
      "5/5 [==============================] - 0s 4ms/step - loss: 0.3763 - accuracy: 0.9720\n",
      "Epoch 93/100\n",
      "5/5 [==============================] - 0s 4ms/step - loss: 0.3743 - accuracy: 0.9510\n",
      "Epoch 94/100\n",
      "5/5 [==============================] - 0s 4ms/step - loss: 0.3591 - accuracy: 0.9720\n",
      "Epoch 95/100\n",
      "5/5 [==============================] - 0s 4ms/step - loss: 0.3499 - accuracy: 0.9720\n",
      "Epoch 96/100\n",
      "5/5 [==============================] - 0s 4ms/step - loss: 0.3501 - accuracy: 0.9650\n",
      "Epoch 97/100\n",
      "5/5 [==============================] - 0s 4ms/step - loss: 0.3395 - accuracy: 0.9720\n",
      "Epoch 98/100\n",
      "5/5 [==============================] - 0s 5ms/step - loss: 0.3323 - accuracy: 0.9650\n",
      "Epoch 99/100\n",
      "5/5 [==============================] - 0s 4ms/step - loss: 0.3217 - accuracy: 0.9720\n",
      "Epoch 100/100\n",
      "5/5 [==============================] - 0s 4ms/step - loss: 0.3176 - accuracy: 0.9860\n"
     ]
    }
   ],
   "source": [
    "train = model.fit(x_train, y_train, epochs=100)"
   ]
  },
  {
   "cell_type": "code",
   "execution_count": 15,
   "id": "9d1ba4f3",
   "metadata": {},
   "outputs": [
    {
     "data": {
      "text/plain": [
       "<matplotlib.legend.Legend at 0x213a2fbe880>"
      ]
     },
     "execution_count": 15,
     "metadata": {},
     "output_type": "execute_result"
    },
    {
     "data": {
      "image/png": "[encoded data removed]",
      "text/plain": [
       "<Figure size 432x288 with 1 Axes>"
      ]
     },
     "metadata": {
      "needs_background": "light"
     },
     "output_type": "display_data"
    }
   ],
   "source": [
    "#plotting model accuracy\n",
    "plt.plot(train.history['accuracy'], label=\"training set accuracy\")\n",
    "plt.plot(train.history[\"loss\"], label =\"training set loss\")\n",
    "plt.legend()"
   ]
  },
  {
   "cell_type": "code",
   "execution_count": 16,
   "id": "fce85660",
   "metadata": {},
   "outputs": [
    {
     "ename": "KeyboardInterrupt",
     "evalue": "Interrupted by user",
     "output_type": "error",
     "traceback": [
      "\u001b[1;31m---------------------------------------------------------------------------\u001b[0m",
      "\u001b[1;31mKeyboardInterrupt\u001b[0m                         Traceback (most recent call last)",
      "\u001b[1;32m<ipython-input-16-a4e01c871ec3>\u001b[0m in \u001b[0;36m<module>\u001b[1;34m\u001b[0m\n\u001b[0;32m      5\u001b[0m \u001b[1;32mwhile\u001b[0m \u001b[1;32mTrue\u001b[0m\u001b[1;33m:\u001b[0m\u001b[1;33m\u001b[0m\u001b[1;33m\u001b[0m\u001b[0m\n\u001b[0;32m      6\u001b[0m     \u001b[0mtexts_p\u001b[0m \u001b[1;33m=\u001b[0m \u001b[1;33m[\u001b[0m\u001b[1;33m]\u001b[0m\u001b[1;33m\u001b[0m\u001b[1;33m\u001b[0m\u001b[0m\n\u001b[1;32m----> 7\u001b[1;33m     \u001b[0mprediction_input\u001b[0m \u001b[1;33m=\u001b[0m \u001b[0minput\u001b[0m\u001b[1;33m(\u001b[0m\u001b[1;34m\"You : \"\u001b[0m\u001b[1;33m)\u001b[0m\u001b[1;33m\u001b[0m\u001b[1;33m\u001b[0m\u001b[0m\n\u001b[0m\u001b[0;32m      8\u001b[0m \u001b[1;33m\u001b[0m\u001b[0m\n\u001b[0;32m      9\u001b[0m     \u001b[1;31m#removing punctuation and converting to lowercase\u001b[0m\u001b[1;33m\u001b[0m\u001b[1;33m\u001b[0m\u001b[1;33m\u001b[0m\u001b[0m\n",
      "\u001b[1;32m~\\Anaconda3\\lib\\site-packages\\ipykernel\\kernelbase.py\u001b[0m in \u001b[0;36mraw_input\u001b[1;34m(self, prompt)\u001b[0m\n\u001b[0;32m    858\u001b[0m                 \u001b[1;34m\"raw_input was called, but this frontend does not support input requests.\"\u001b[0m\u001b[1;33m\u001b[0m\u001b[1;33m\u001b[0m\u001b[0m\n\u001b[0;32m    859\u001b[0m             )\n\u001b[1;32m--> 860\u001b[1;33m         return self._input_request(str(prompt),\n\u001b[0m\u001b[0;32m    861\u001b[0m             \u001b[0mself\u001b[0m\u001b[1;33m.\u001b[0m\u001b[0m_parent_ident\u001b[0m\u001b[1;33m,\u001b[0m\u001b[1;33m\u001b[0m\u001b[1;33m\u001b[0m\u001b[0m\n\u001b[0;32m    862\u001b[0m             \u001b[0mself\u001b[0m\u001b[1;33m.\u001b[0m\u001b[0m_parent_header\u001b[0m\u001b[1;33m,\u001b[0m\u001b[1;33m\u001b[0m\u001b[1;33m\u001b[0m\u001b[0m\n",
      "\u001b[1;32m~\\Anaconda3\\lib\\site-packages\\ipykernel\\kernelbase.py\u001b[0m in \u001b[0;36m_input_request\u001b[1;34m(self, prompt, ident, parent, password)\u001b[0m\n\u001b[0;32m    902\u001b[0m             \u001b[1;32mexcept\u001b[0m \u001b[0mKeyboardInterrupt\u001b[0m\u001b[1;33m:\u001b[0m\u001b[1;33m\u001b[0m\u001b[1;33m\u001b[0m\u001b[0m\n\u001b[0;32m    903\u001b[0m                 \u001b[1;31m# re-raise KeyboardInterrupt, to truncate traceback\u001b[0m\u001b[1;33m\u001b[0m\u001b[1;33m\u001b[0m\u001b[1;33m\u001b[0m\u001b[0m\n\u001b[1;32m--> 904\u001b[1;33m                 \u001b[1;32mraise\u001b[0m \u001b[0mKeyboardInterrupt\u001b[0m\u001b[1;33m(\u001b[0m\u001b[1;34m\"Interrupted by user\"\u001b[0m\u001b[1;33m)\u001b[0m \u001b[1;32mfrom\u001b[0m \u001b[1;32mNone\u001b[0m\u001b[1;33m\u001b[0m\u001b[1;33m\u001b[0m\u001b[0m\n\u001b[0m\u001b[0;32m    905\u001b[0m             \u001b[1;32mexcept\u001b[0m \u001b[0mException\u001b[0m \u001b[1;32mas\u001b[0m \u001b[0me\u001b[0m\u001b[1;33m:\u001b[0m\u001b[1;33m\u001b[0m\u001b[1;33m\u001b[0m\u001b[0m\n\u001b[0;32m    906\u001b[0m                 \u001b[0mself\u001b[0m\u001b[1;33m.\u001b[0m\u001b[0mlog\u001b[0m\u001b[1;33m.\u001b[0m\u001b[0mwarning\u001b[0m\u001b[1;33m(\u001b[0m\u001b[1;34m\"Invalid Message:\"\u001b[0m\u001b[1;33m,\u001b[0m \u001b[0mexc_info\u001b[0m\u001b[1;33m=\u001b[0m\u001b[1;32mTrue\u001b[0m\u001b[1;33m)\u001b[0m\u001b[1;33m\u001b[0m\u001b[1;33m\u001b[0m\u001b[0m\n",
      "\u001b[1;31mKeyboardInterrupt\u001b[0m: Interrupted by user"
     ]
    }
   ],
   "source": [
    "#chatting\n",
    "\n",
    "import random\n",
    "\n",
    "while True:\n",
    "    texts_p = []\n",
    "    prediction_input = input(\"You : \")\n",
    "    \n",
    "    #removing punctuation and converting to lowercase\n",
    "    prediction_input = [letters.lower() for letters in prediction_input if letters not in string.punctuation]\n",
    "    prediction_input = \"\".join(prediction_input)\n",
    "    texts_p.append(prediction_input)\n",
    "    \n",
    "    #tokenizing and padding\n",
    "    prediction_input = tokenizer.texts_to_sequences(texts_p)\n",
    "    prediction_input = np.array(prediction_input).reshape(-1)\n",
    "    prediction_input = pad_sequences([prediction_input],input_shape)\n",
    "    \n",
    "    #getting output from model\n",
    "    output = model.predict(prediction_input)\n",
    "    output = output.argmax()\n",
    "    \n",
    "    #finding the right tag and predicting\n",
    "    response_tag = le.inverse_transform([output])[0]\n",
    "    print(\"Bot :\",random.choice(responses[response_tag]))\n",
    "    if response_tag == \"goodbye\" :\n",
    "        break"
   ]
  },
  {
   "cell_type": "markdown",
   "id": "fd892754",
   "metadata": {},
   "source": [
    "# DELETE OR ADD STOPWORDS"
   ]
  },
  {
   "cell_type": "code",
   "execution_count": 16,
   "id": "e3a2bb4b",
   "metadata": {},
   "outputs": [],
   "source": [
    "stop_words = stopwords.words(\"english\")"
   ]
  },
  {
   "cell_type": "code",
   "execution_count": 17,
   "id": "74dc712e",
   "metadata": {},
   "outputs": [],
   "source": [
    "# print(stop_words)\n",
    "#this will show all the default stop word in the language english"
   ]
  },
  {
   "cell_type": "code",
   "execution_count": 18,
   "id": "f81b4ded",
   "metadata": {},
   "outputs": [],
   "source": [
    "stop_words.append(\"'s\")\n",
    "stop_words.append(\"n't\")\n",
    "\n",
    "# stop_words\n",
    "#this will add or remove a stop word"
   ]
  },
  {
   "cell_type": "code",
   "execution_count": 19,
   "id": "55a389ff",
   "metadata": {},
   "outputs": [
    {
     "data": {
      "text/plain": [
       "['Hi',\n",
       " 'Hi there',\n",
       " 'Hola',\n",
       " 'Hello',\n",
       " 'Hello there',\n",
       " 'Hya',\n",
       " 'Hya there',\n",
       " 'My user is Adam',\n",
       " 'This is Adam',\n",
       " 'I am Adam',\n",
       " 'It is Adam',\n",
       " 'My user is Bella',\n",
       " 'This is Bella',\n",
       " 'I am Bella',\n",
       " 'It is Bella',\n",
       " 'How are you?',\n",
       " 'Hi how are you?',\n",
       " 'Hello how are you?',\n",
       " 'Hola how are you?',\n",
       " 'How are you doing?',\n",
       " 'Hope you are doing well?',\n",
       " 'Hello hope you are doing well?',\n",
       " 'Good thanks! My user is Adam',\n",
       " 'Good thanks! This is Adam',\n",
       " 'Good thanks! I am Adam',\n",
       " 'Good thanks! It is Adam',\n",
       " 'Great thanks! My user is Bella',\n",
       " 'Great thanks! This is Bella',\n",
       " 'Great thanks! I am Bella',\n",
       " 'Great thanks! It is Bella',\n",
       " 'What is my name?',\n",
       " 'What do you call me?',\n",
       " 'Who do you think I am?',\n",
       " 'What do you think I am?',\n",
       " 'Who are you talking to?',\n",
       " 'What name do you call me by?',\n",
       " 'Tell me my name',\n",
       " 'What is your name?',\n",
       " 'What could I call you?',\n",
       " 'What can I call you?',\n",
       " 'What do your friends call you?',\n",
       " 'Who are you?',\n",
       " 'Tell me your name?',\n",
       " 'What is your real name?',\n",
       " 'What is your real name please?',\n",
       " \"What's your real name?\",\n",
       " 'Tell me your real name?',\n",
       " 'Your real name?',\n",
       " 'Your real name please?',\n",
       " 'Your real name please?',\n",
       " 'What is the time?',\n",
       " \"What's the time?\",\n",
       " 'Do you know what time it is?',\n",
       " 'Do you know the time?',\n",
       " 'Can you tell me the time?',\n",
       " 'Tell me what time it is?',\n",
       " 'Time',\n",
       " 'OK thank you',\n",
       " 'OK thanks',\n",
       " 'OK',\n",
       " 'Thanks',\n",
       " 'Thank you',\n",
       " \"That's helpful\",\n",
       " 'I am not talking to you',\n",
       " 'I was not talking to you',\n",
       " 'Not talking to you',\n",
       " \"Wasn't for you\",\n",
       " \"Wasn't meant for you\",\n",
       " \"Wasn't communicating to you\",\n",
       " \"Wasn't speaking to you\",\n",
       " 'Do you understand what I am saying',\n",
       " 'Do you understand me',\n",
       " 'Do you know what I am saying',\n",
       " 'Do you get me',\n",
       " 'Comprendo',\n",
       " 'Know what I mean',\n",
       " 'Be quiet',\n",
       " 'Shut up',\n",
       " 'Stop talking',\n",
       " 'Enough talking',\n",
       " 'Please be quiet',\n",
       " 'Quiet',\n",
       " 'Shhh',\n",
       " 'fuck off',\n",
       " 'fuck',\n",
       " 'twat',\n",
       " 'shit',\n",
       " 'Bye',\n",
       " 'Adios',\n",
       " 'See you later',\n",
       " 'Goodbye',\n",
       " 'Thanks, bye',\n",
       " 'Thanks for the help, goodbye',\n",
       " 'Thank you, bye',\n",
       " 'Thank you, goodbye',\n",
       " 'Thanks goodbye',\n",
       " 'Thanks good bye',\n",
       " 'Can you see me?',\n",
       " 'Do you see me?',\n",
       " 'Can you see anyone in the camera?',\n",
       " 'Do you see anyone in the camera?',\n",
       " 'Identify me',\n",
       " 'Who am I please',\n",
       " 'You are very clever',\n",
       " 'You are a very clever girl',\n",
       " 'You are very intelligent',\n",
       " 'You are a very intelligent girl',\n",
       " 'You are a genious',\n",
       " 'Clever girl',\n",
       " 'Genious',\n",
       " 'I am bored gossip with me',\n",
       " 'Got any gossip',\n",
       " 'I want to hear some gossip',\n",
       " 'Tell me some gossip',\n",
       " 'Any gossip',\n",
       " 'Tell me some more gossip',\n",
       " 'Tell me a joke',\n",
       " 'Do you know any jokes',\n",
       " 'How about a joke',\n",
       " 'Give me a joke',\n",
       " 'Make me laugh',\n",
       " 'I need cheering up',\n",
       " 'Open the pod bay door',\n",
       " 'Can you open the pod bay door',\n",
       " 'Will you open the pod bay door',\n",
       " 'Open the pod bay door please',\n",
       " 'Can you open the pod bay door please',\n",
       " 'Will you open the pod bay door please',\n",
       " 'Pod bay door',\n",
       " 'Why',\n",
       " 'Why not',\n",
       " 'Why can you not open the pod bay door',\n",
       " 'Why will you not open the pod bay door',\n",
       " 'Well why not',\n",
       " 'Surely you can',\n",
       " 'Tell me why',\n",
       " 'Can you prove you are self-aware',\n",
       " 'Can you prove you are self aware',\n",
       " 'Can you prove you have a conscious',\n",
       " 'Can you prove you are self-aware please',\n",
       " 'Can you prove you are self aware please',\n",
       " 'Can you prove you have a conscious please',\n",
       " 'prove you have a conscious']"
      ]
     },
     "execution_count": 19,
     "metadata": {},
     "output_type": "execute_result"
    }
   ],
   "source": [
    "inputs"
   ]
  },
  {
   "cell_type": "code",
   "execution_count": 20,
   "id": "f0512f04",
   "metadata": {},
   "outputs": [],
   "source": [
    "from nltk.tokenize import word_tokenize"
   ]
  },
  {
   "cell_type": "code",
   "execution_count": 22,
   "id": "eb11838c",
   "metadata": {},
   "outputs": [],
   "source": [
    "filtered_sentence = []\n",
    "\n",
    "for line in inputs:\n",
    "    filtered_sentence.append([w for w in word_tokenize(line) if not w.lower() in stop_words])\n",
    "\n",
    "    filtered_sentence = [' '.join(ele) for ele in filtered_sentence]"
   ]
  },
  {
   "cell_type": "code",
   "execution_count": 24,
   "id": "35c9fd08",
   "metadata": {},
   "outputs": [
    {
     "data": {
      "text/plain": [
       "['Hi',\n",
       " 'Hi',\n",
       " 'Hola',\n",
       " 'Hello',\n",
       " 'Hello',\n",
       " 'Hya',\n",
       " 'Hya',\n",
       " 'user Adam',\n",
       " 'Adam',\n",
       " 'Adam',\n",
       " 'Adam',\n",
       " 'user Bella',\n",
       " 'Bella',\n",
       " 'Bella',\n",
       " 'Bella',\n",
       " '?',\n",
       " 'Hi ?',\n",
       " 'Hello ?',\n",
       " 'Hola ?',\n",
       " '?',\n",
       " 'Hope well ?',\n",
       " 'Hello hope well ?',\n",
       " 'Good thanks ! user Adam',\n",
       " 'Good thanks ! Adam',\n",
       " 'Good thanks ! Adam',\n",
       " 'Good thanks ! Adam',\n",
       " 'Great thanks ! user Bella',\n",
       " 'Great thanks ! Bella',\n",
       " 'Great thanks ! Bella',\n",
       " 'Great thanks ! Bella',\n",
       " 'name ?',\n",
       " 'call ?',\n",
       " 'think ?',\n",
       " 'think ?',\n",
       " 'talking ?',\n",
       " 'name call ?',\n",
       " 'Tell name',\n",
       " 'name ?',\n",
       " 'could call ?',\n",
       " 'call ?',\n",
       " 'friends call ?',\n",
       " '?',\n",
       " 'Tell name ?',\n",
       " 'real name ?',\n",
       " 'real name please ?',\n",
       " 'real name ?',\n",
       " 'Tell real name ?',\n",
       " 'real name ?',\n",
       " 'real name please ?',\n",
       " 'real name please ?',\n",
       " 'time ?',\n",
       " 'time ?',\n",
       " 'know time ?',\n",
       " 'know time ?',\n",
       " 'tell time ?',\n",
       " 'Tell time ?',\n",
       " 'Time',\n",
       " 'OK thank',\n",
       " 'OK thanks',\n",
       " 'OK',\n",
       " 'Thanks',\n",
       " 'Thank',\n",
       " 'helpful',\n",
       " 'talking',\n",
       " 'talking',\n",
       " 'talking',\n",
       " '',\n",
       " 'meant',\n",
       " 'communicating',\n",
       " 'speaking',\n",
       " 'understand saying',\n",
       " 'understand',\n",
       " 'know saying',\n",
       " 'get',\n",
       " 'Comprendo',\n",
       " 'Know mean',\n",
       " 'quiet',\n",
       " 'Shut',\n",
       " 'Stop talking',\n",
       " 'Enough talking',\n",
       " 'Please quiet',\n",
       " 'Quiet',\n",
       " 'Shhh',\n",
       " 'fuck',\n",
       " 'fuck',\n",
       " 'twat',\n",
       " 'shit',\n",
       " 'Bye',\n",
       " 'Adios',\n",
       " 'See later',\n",
       " 'Goodbye',\n",
       " 'Thanks , bye',\n",
       " 'Thanks help , goodbye',\n",
       " 'Thank , bye',\n",
       " 'Thank , goodbye',\n",
       " 'Thanks goodbye',\n",
       " 'Thanks good bye',\n",
       " 'see ?',\n",
       " 'see ?',\n",
       " 'see anyone camera ?',\n",
       " 'see anyone camera ?',\n",
       " 'Identify',\n",
       " 'please',\n",
       " 'clever',\n",
       " 'clever girl',\n",
       " 'intelligent',\n",
       " 'intelligent girl',\n",
       " 'genious',\n",
       " 'Clever girl',\n",
       " 'Genious',\n",
       " 'bored gossip',\n",
       " 'Got gossip',\n",
       " 'want hear gossip',\n",
       " 'Tell gossip',\n",
       " 'gossip',\n",
       " 'Tell gossip',\n",
       " 'Tell joke',\n",
       " 'know jokes',\n",
       " 'joke',\n",
       " 'Give joke',\n",
       " 'Make laugh',\n",
       " 'need cheering',\n",
       " 'Open pod bay door',\n",
       " 'open pod bay door',\n",
       " 'open pod bay door',\n",
       " 'Open pod bay door please',\n",
       " 'open pod bay door please',\n",
       " 'open pod bay door please',\n",
       " 'Pod bay door',\n",
       " '',\n",
       " '',\n",
       " 'open pod bay door',\n",
       " 'open pod bay door',\n",
       " 'Well',\n",
       " 'Surely',\n",
       " 'Tell',\n",
       " 'prove self-aware',\n",
       " 'prove self aware',\n",
       " 'prove conscious',\n",
       " 'prove self-aware please',\n",
       " 'prove self aware please',\n",
       " 'prove conscious please',\n",
       " 'prove conscious']"
      ]
     },
     "execution_count": 24,
     "metadata": {},
     "output_type": "execute_result"
    }
   ],
   "source": [
    "filtered_sentence"
   ]
  },
  {
   "cell_type": "code",
   "execution_count": 25,
   "id": "81678b9e",
   "metadata": {},
   "outputs": [
    {
     "data": {
      "text/html": [
       "<div>\n",
       "<style scoped>\n",
       "    .dataframe tbody tr th:only-of-type {\n",
       "        vertical-align: middle;\n",
       "    }\n",
       "\n",
       "    .dataframe tbody tr th {\n",
       "        vertical-align: top;\n",
       "    }\n",
       "\n",
       "    .dataframe thead th {\n",
       "        text-align: right;\n",
       "    }\n",
       "</style>\n",
       "<table border=\"1\" class=\"dataframe\">\n",
       "  <thead>\n",
       "    <tr style=\"text-align: right;\">\n",
       "      <th></th>\n",
       "      <th>inputs</th>\n",
       "      <th>tags</th>\n",
       "    </tr>\n",
       "  </thead>\n",
       "  <tbody>\n",
       "    <tr>\n",
       "      <th>0</th>\n",
       "      <td>Hi</td>\n",
       "      <td>Greeting</td>\n",
       "    </tr>\n",
       "    <tr>\n",
       "      <th>1</th>\n",
       "      <td>Hi</td>\n",
       "      <td>Greeting</td>\n",
       "    </tr>\n",
       "    <tr>\n",
       "      <th>2</th>\n",
       "      <td>Hola</td>\n",
       "      <td>Greeting</td>\n",
       "    </tr>\n",
       "    <tr>\n",
       "      <th>3</th>\n",
       "      <td>Hello</td>\n",
       "      <td>Greeting</td>\n",
       "    </tr>\n",
       "    <tr>\n",
       "      <th>4</th>\n",
       "      <td>Hello</td>\n",
       "      <td>Greeting</td>\n",
       "    </tr>\n",
       "    <tr>\n",
       "      <th>...</th>\n",
       "      <td>...</td>\n",
       "      <td>...</td>\n",
       "    </tr>\n",
       "    <tr>\n",
       "      <th>138</th>\n",
       "      <td>prove conscious</td>\n",
       "      <td>SelfAware</td>\n",
       "    </tr>\n",
       "    <tr>\n",
       "      <th>139</th>\n",
       "      <td>prove self-aware please</td>\n",
       "      <td>SelfAware</td>\n",
       "    </tr>\n",
       "    <tr>\n",
       "      <th>140</th>\n",
       "      <td>prove self aware please</td>\n",
       "      <td>SelfAware</td>\n",
       "    </tr>\n",
       "    <tr>\n",
       "      <th>141</th>\n",
       "      <td>prove conscious please</td>\n",
       "      <td>SelfAware</td>\n",
       "    </tr>\n",
       "    <tr>\n",
       "      <th>142</th>\n",
       "      <td>prove conscious</td>\n",
       "      <td>SelfAware</td>\n",
       "    </tr>\n",
       "  </tbody>\n",
       "</table>\n",
       "<p>143 rows × 2 columns</p>\n",
       "</div>"
      ],
      "text/plain": [
       "                      inputs       tags\n",
       "0                         Hi   Greeting\n",
       "1                         Hi   Greeting\n",
       "2                       Hola   Greeting\n",
       "3                      Hello   Greeting\n",
       "4                      Hello   Greeting\n",
       "..                       ...        ...\n",
       "138          prove conscious  SelfAware\n",
       "139  prove self-aware please  SelfAware\n",
       "140  prove self aware please  SelfAware\n",
       "141   prove conscious please  SelfAware\n",
       "142          prove conscious  SelfAware\n",
       "\n",
       "[143 rows x 2 columns]"
      ]
     },
     "execution_count": 25,
     "metadata": {},
     "output_type": "execute_result"
    }
   ],
   "source": [
    "df_sw = pd.DataFrame({'inputs': filtered_sentence, 'tags': tags})\n",
    "df_sw"
   ]
  },
  {
   "cell_type": "code",
   "execution_count": 28,
   "id": "e883569a",
   "metadata": {},
   "outputs": [],
   "source": [
    "#duplicates\n",
    "df_sw.drop_duplicates(inplace=True)"
   ]
  },
  {
   "cell_type": "markdown",
   "id": "884f4c2a",
   "metadata": {},
   "source": [
    "#####  la suite c'est la même"
   ]
  },
  {
   "cell_type": "code",
   "execution_count": 29,
   "id": "782cd421",
   "metadata": {},
   "outputs": [],
   "source": [
    "df = df_sw.copy()"
   ]
  },
  {
   "cell_type": "code",
   "execution_count": 30,
   "id": "18734925",
   "metadata": {},
   "outputs": [],
   "source": [
    "df[\"inputs\"] = df[\"inputs\"].apply(lambda wrd:[ltrs.lower() for ltrs in wrd if ltrs not in string.punctuation])\n",
    "df[\"inputs\"] = df[\"inputs\"].apply(lambda wrd:\"\".join(wrd))"
   ]
  },
  {
   "cell_type": "code",
   "execution_count": 31,
   "id": "51c28358",
   "metadata": {},
   "outputs": [],
   "source": [
    "# Tokenizer les data\n",
    "tokenizer = Tokenizer(num_words=2000)\n",
    "tokenizer.fit_on_texts(df[\"inputs\"])\n",
    "train = tokenizer.texts_to_sequences(df[\"inputs\"])"
   ]
  },
  {
   "cell_type": "code",
   "execution_count": 32,
   "id": "c87a1f59",
   "metadata": {},
   "outputs": [],
   "source": [
    "# apply padding\n",
    "x_train = pad_sequences(train)"
   ]
  },
  {
   "cell_type": "code",
   "execution_count": 48,
   "id": "673566c0",
   "metadata": {},
   "outputs": [],
   "source": [
    "#encoding the outputs\n",
    "le = LabelEncoder()\n",
    "Y_train = le.fit_transform(df['tags'])"
   ]
  },
  {
   "cell_type": "code",
   "execution_count": 34,
   "id": "c913d9fb",
   "metadata": {},
   "outputs": [
    {
     "name": "stdout",
     "output_type": "stream",
     "text": [
      "5\n"
     ]
    }
   ],
   "source": [
    "input_shape = x_train.shape[1]\n",
    "print(input_shape)"
   ]
  },
  {
   "cell_type": "code",
   "execution_count": 50,
   "id": "882c6197",
   "metadata": {},
   "outputs": [],
   "source": [
    "from sklearn.model_selection import train_test_split"
   ]
  },
  {
   "cell_type": "code",
   "execution_count": 54,
   "id": "30401cf1",
   "metadata": {},
   "outputs": [],
   "source": [
    "X_train, X_test, y_train, y_test = train_test_split(x_train, Y_train, test_size=0.3, random_state=42, stratify=Y_train)"
   ]
  },
  {
   "cell_type": "code",
   "execution_count": 57,
   "id": "73b5e4a9",
   "metadata": {
    "scrolled": true
   },
   "outputs": [
    {
     "name": "stdout",
     "output_type": "stream",
     "text": [
      "(79, 5)\n",
      "(34, 5)\n",
      "(79,)\n",
      "(34,)\n"
     ]
    }
   ],
   "source": [
    "print(X_train.shape)\n",
    "print(X_test.shape)\n",
    "print(y_train.shape)\n",
    "print(y_test.shape)"
   ]
  },
  {
   "cell_type": "code",
   "execution_count": 35,
   "id": "b60dafb2",
   "metadata": {},
   "outputs": [
    {
     "name": "stdout",
     "output_type": "stream",
     "text": [
      "number of unique words : 77\n",
      "output length  22\n"
     ]
    }
   ],
   "source": [
    "#define vocabulary\n",
    "vocabulary = len(tokenizer.word_index)\n",
    "print(\"number of unique words :\",vocabulary)\n",
    "output_length = le.classes_.shape[0]\n",
    "print(\"output length \", output_length)"
   ]
  },
  {
   "cell_type": "code",
   "execution_count": 59,
   "id": "eb5b6ecb",
   "metadata": {},
   "outputs": [
    {
     "data": {
      "text/plain": [
       "77"
      ]
     },
     "execution_count": 59,
     "metadata": {},
     "output_type": "execute_result"
    }
   ],
   "source": [
    "vocabulary"
   ]
  },
  {
   "cell_type": "markdown",
   "id": "01c32b8c",
   "metadata": {},
   "source": [
    "# RNN"
   ]
  },
  {
   "cell_type": "code",
   "execution_count": 36,
   "id": "05118733",
   "metadata": {},
   "outputs": [],
   "source": [
    "#creating model\n",
    "model_sw = Sequential()\n",
    "model_sw.add(Embedding(vocabulary+1,10))\n",
    "model_sw.add(InputLayer(input_shape=(input_shape,)))\n",
    "model_sw.add(SimpleRNN(30))\n",
    "model_sw.add(Dense(output_length, activation=\"softmax\"))"
   ]
  },
  {
   "cell_type": "code",
   "execution_count": 37,
   "id": "9e6fb910",
   "metadata": {},
   "outputs": [],
   "source": [
    "#compile the model\n",
    "model_sw.compile(loss=\"sparse_categorical_crossentropy\",optimizer=\"adam\",metrics=[\"accuracy\"])"
   ]
  },
  {
   "cell_type": "code",
   "execution_count": 67,
   "id": "a9d97779",
   "metadata": {},
   "outputs": [],
   "source": [
    "early_stopping = callbacks.EarlyStopping(\n",
    "    patience=20,\n",
    "    min_delta=0.001,\n",
    "    restore_best_weights=True,\n",
    ")"
   ]
  },
  {
   "cell_type": "code",
   "execution_count": 68,
   "id": "fc3b594e",
   "metadata": {},
   "outputs": [],
   "source": [
    "early_stop = callbacks.EarlyStopping(monitor=\"loss\",mode=\"min\",verbose=1,patience=100)"
   ]
  },
  {
   "cell_type": "code",
   "execution_count": 69,
   "id": "c749c6a1",
   "metadata": {
    "scrolled": true
   },
   "outputs": [
    {
     "name": "stdout",
     "output_type": "stream",
     "text": [
      "Epoch 1/100\n",
      "2/2 [==============================] - 0s 66ms/step - loss: 0.2715 - accuracy: 0.9273 - val_loss: 0.1083 - val_accuracy: 0.9583\n",
      "Epoch 2/100\n",
      "2/2 [==============================] - 0s 37ms/step - loss: 0.2682 - accuracy: 0.9273 - val_loss: 0.1100 - val_accuracy: 0.9583\n",
      "Epoch 3/100\n",
      "2/2 [==============================] - 0s 35ms/step - loss: 0.2644 - accuracy: 0.9273 - val_loss: 0.1120 - val_accuracy: 0.9583\n",
      "Epoch 4/100\n",
      "2/2 [==============================] - 0s 35ms/step - loss: 0.2595 - accuracy: 0.9273 - val_loss: 0.1149 - val_accuracy: 0.9583\n",
      "Epoch 5/100\n",
      "2/2 [==============================] - 0s 38ms/step - loss: 0.2555 - accuracy: 0.9273 - val_loss: 0.1182 - val_accuracy: 0.9583\n",
      "Epoch 6/100\n",
      "2/2 [==============================] - 0s 33ms/step - loss: 0.2539 - accuracy: 0.9091 - val_loss: 0.1217 - val_accuracy: 0.9583\n",
      "Epoch 7/100\n",
      "2/2 [==============================] - 0s 36ms/step - loss: 0.2497 - accuracy: 0.9091 - val_loss: 0.1237 - val_accuracy: 0.9583\n",
      "Epoch 8/100\n",
      "2/2 [==============================] - 0s 34ms/step - loss: 0.2473 - accuracy: 0.9091 - val_loss: 0.1260 - val_accuracy: 0.9583\n",
      "Epoch 9/100\n",
      "2/2 [==============================] - 0s 35ms/step - loss: 0.2458 - accuracy: 0.9091 - val_loss: 0.1286 - val_accuracy: 0.9583\n",
      "Epoch 10/100\n",
      "2/2 [==============================] - 0s 36ms/step - loss: 0.2435 - accuracy: 0.9091 - val_loss: 0.1304 - val_accuracy: 0.9583\n",
      "Epoch 11/100\n",
      "2/2 [==============================] - 0s 38ms/step - loss: 0.2416 - accuracy: 0.9091 - val_loss: 0.1316 - val_accuracy: 0.9583\n",
      "Epoch 12/100\n",
      "2/2 [==============================] - 0s 38ms/step - loss: 0.2397 - accuracy: 0.9091 - val_loss: 0.1326 - val_accuracy: 0.9583\n",
      "Epoch 13/100\n",
      "2/2 [==============================] - 0s 37ms/step - loss: 0.2376 - accuracy: 0.9091 - val_loss: 0.1336 - val_accuracy: 0.9583\n",
      "Epoch 14/100\n",
      "2/2 [==============================] - 0s 39ms/step - loss: 0.2354 - accuracy: 0.9091 - val_loss: 0.1338 - val_accuracy: 0.9583\n",
      "Epoch 15/100\n",
      "2/2 [==============================] - 0s 40ms/step - loss: 0.2333 - accuracy: 0.9273 - val_loss: 0.1343 - val_accuracy: 0.9583\n",
      "Epoch 16/100\n",
      "2/2 [==============================] - 0s 35ms/step - loss: 0.2320 - accuracy: 0.9273 - val_loss: 0.1349 - val_accuracy: 0.9583\n",
      "Epoch 17/100\n",
      "2/2 [==============================] - 0s 35ms/step - loss: 0.2300 - accuracy: 0.9273 - val_loss: 0.1349 - val_accuracy: 0.9583\n",
      "Epoch 18/100\n",
      "2/2 [==============================] - 0s 38ms/step - loss: 0.2291 - accuracy: 0.9273 - val_loss: 0.1343 - val_accuracy: 0.9583\n",
      "Epoch 19/100\n",
      "2/2 [==============================] - 0s 32ms/step - loss: 0.2274 - accuracy: 0.9273 - val_loss: 0.1342 - val_accuracy: 0.9583\n",
      "Epoch 20/100\n",
      "2/2 [==============================] - 0s 38ms/step - loss: 0.2258 - accuracy: 0.9273 - val_loss: 0.1344 - val_accuracy: 0.9583\n",
      "Epoch 21/100\n",
      "2/2 [==============================] - 0s 40ms/step - loss: 0.2249 - accuracy: 0.9273 - val_loss: 0.1351 - val_accuracy: 0.9583\n"
     ]
    }
   ],
   "source": [
    "# history = model_sw.fit(x_train, Y_train, epochs=100)\n",
    "history = model_sw.fit(X_train,y_train, epochs=100, validation_split=0.3,callbacks=[early_stopping])\n",
    "# pas de batch_size ?!"
   ]
  },
  {
   "cell_type": "code",
   "execution_count": 70,
   "id": "192d37b5",
   "metadata": {},
   "outputs": [
    {
     "data": {
      "image/png": "[encoded data removed]",
      "text/plain": [
       "<Figure size 720x360 with 1 Axes>"
      ]
     },
     "metadata": {
      "needs_background": "light"
     },
     "output_type": "display_data"
    },
    {
     "data": {
      "image/png": "[encoded data removed]",
      "text/plain": [
       "<Figure size 720x360 with 1 Axes>"
      ]
     },
     "metadata": {
      "needs_background": "light"
     },
     "output_type": "display_data"
    }
   ],
   "source": [
    "# #plotting model accuracy\n",
    "# plt.plot(train_sw.history['accuracy'], label=\"training set accuracy\")\n",
    "# plt.plot(train_sw.history[\"loss\"], label =\"training set loss\")\n",
    "# plt.legend()\n",
    "\n",
    "plt.figure(figsize=(10,5))\n",
    "\n",
    "# summarize history for mae\n",
    "plt.plot(history.history['accuracy'])\n",
    "plt.plot(history.history['val_accuracy'])\n",
    "plt.title('Learning Curve')\n",
    "plt.ylabel('Error')\n",
    "plt.xlabel('epoch')\n",
    "plt.legend(['train', 'test'], loc='upper left')\n",
    "plt.show()\n",
    "\n",
    "# summarize history for loss\n",
    "plt.figure(figsize=(10,5))\n",
    "plt.plot(history.history['loss'])\n",
    "plt.plot(history.history['val_loss'])\n",
    "plt.title('model loss')\n",
    "plt.ylabel('loss')\n",
    "plt.xlabel('epoch')\n",
    "plt.legend(['train', 'test'], loc='upper left')\n",
    "plt.show()"
   ]
  },
  {
   "cell_type": "code",
   "execution_count": 71,
   "id": "1ac3fb4a",
   "metadata": {},
   "outputs": [
    {
     "name": "stdout",
     "output_type": "stream",
     "text": [
      "You : Hello\n",
      "Bot : Hello, I am great, how are you? Please tell me your GeniSys user\n",
      "You : Marianne\n",
      "Bot : It is classified, I could tell you but I would have to kill you!\n",
      "You : Why\n",
      "Bot : System says no!\n",
      "You : What do you want\n",
      "Bot : Let me see\n",
      "You : I'm awaiting your answer\n",
      "Bot : It's life Jim but not as we know it!\n",
      "You : What is your favorite color?\n",
      "Bot : It's life Jim but not as we know it!\n",
      "You : Can you prove you have a conscious\n",
      "Bot : That is an interesting question, can you prove that you are?\n"
     ]
    },
    {
     "ename": "KeyboardInterrupt",
     "evalue": "Interrupted by user",
     "output_type": "error",
     "traceback": [
      "\u001b[1;31m---------------------------------------------------------------------------\u001b[0m",
      "\u001b[1;31mKeyboardInterrupt\u001b[0m                         Traceback (most recent call last)",
      "\u001b[1;32m<ipython-input-71-1cd8e720cc32>\u001b[0m in \u001b[0;36m<module>\u001b[1;34m\u001b[0m\n\u001b[0;32m      1\u001b[0m \u001b[1;32mwhile\u001b[0m \u001b[1;32mTrue\u001b[0m\u001b[1;33m:\u001b[0m\u001b[1;33m\u001b[0m\u001b[1;33m\u001b[0m\u001b[0m\n\u001b[0;32m      2\u001b[0m     \u001b[0mtexts_p\u001b[0m \u001b[1;33m=\u001b[0m \u001b[1;33m[\u001b[0m\u001b[1;33m]\u001b[0m\u001b[1;33m\u001b[0m\u001b[1;33m\u001b[0m\u001b[0m\n\u001b[1;32m----> 3\u001b[1;33m     \u001b[0mprediction_input\u001b[0m \u001b[1;33m=\u001b[0m \u001b[0minput\u001b[0m\u001b[1;33m(\u001b[0m\u001b[1;34m\"You : \"\u001b[0m\u001b[1;33m)\u001b[0m\u001b[1;33m\u001b[0m\u001b[1;33m\u001b[0m\u001b[0m\n\u001b[0m\u001b[0;32m      4\u001b[0m \u001b[1;33m\u001b[0m\u001b[0m\n\u001b[0;32m      5\u001b[0m     \u001b[1;31m#removing punctuation and converting to lowercase\u001b[0m\u001b[1;33m\u001b[0m\u001b[1;33m\u001b[0m\u001b[1;33m\u001b[0m\u001b[0m\n",
      "\u001b[1;32m~\\Anaconda3\\lib\\site-packages\\ipykernel\\kernelbase.py\u001b[0m in \u001b[0;36mraw_input\u001b[1;34m(self, prompt)\u001b[0m\n\u001b[0;32m    858\u001b[0m                 \u001b[1;34m\"raw_input was called, but this frontend does not support input requests.\"\u001b[0m\u001b[1;33m\u001b[0m\u001b[1;33m\u001b[0m\u001b[0m\n\u001b[0;32m    859\u001b[0m             )\n\u001b[1;32m--> 860\u001b[1;33m         return self._input_request(str(prompt),\n\u001b[0m\u001b[0;32m    861\u001b[0m             \u001b[0mself\u001b[0m\u001b[1;33m.\u001b[0m\u001b[0m_parent_ident\u001b[0m\u001b[1;33m,\u001b[0m\u001b[1;33m\u001b[0m\u001b[1;33m\u001b[0m\u001b[0m\n\u001b[0;32m    862\u001b[0m             \u001b[0mself\u001b[0m\u001b[1;33m.\u001b[0m\u001b[0m_parent_header\u001b[0m\u001b[1;33m,\u001b[0m\u001b[1;33m\u001b[0m\u001b[1;33m\u001b[0m\u001b[0m\n",
      "\u001b[1;32m~\\Anaconda3\\lib\\site-packages\\ipykernel\\kernelbase.py\u001b[0m in \u001b[0;36m_input_request\u001b[1;34m(self, prompt, ident, parent, password)\u001b[0m\n\u001b[0;32m    902\u001b[0m             \u001b[1;32mexcept\u001b[0m \u001b[0mKeyboardInterrupt\u001b[0m\u001b[1;33m:\u001b[0m\u001b[1;33m\u001b[0m\u001b[1;33m\u001b[0m\u001b[0m\n\u001b[0;32m    903\u001b[0m                 \u001b[1;31m# re-raise KeyboardInterrupt, to truncate traceback\u001b[0m\u001b[1;33m\u001b[0m\u001b[1;33m\u001b[0m\u001b[1;33m\u001b[0m\u001b[0m\n\u001b[1;32m--> 904\u001b[1;33m                 \u001b[1;32mraise\u001b[0m \u001b[0mKeyboardInterrupt\u001b[0m\u001b[1;33m(\u001b[0m\u001b[1;34m\"Interrupted by user\"\u001b[0m\u001b[1;33m)\u001b[0m \u001b[1;32mfrom\u001b[0m \u001b[1;32mNone\u001b[0m\u001b[1;33m\u001b[0m\u001b[1;33m\u001b[0m\u001b[0m\n\u001b[0m\u001b[0;32m    905\u001b[0m             \u001b[1;32mexcept\u001b[0m \u001b[0mException\u001b[0m \u001b[1;32mas\u001b[0m \u001b[0me\u001b[0m\u001b[1;33m:\u001b[0m\u001b[1;33m\u001b[0m\u001b[1;33m\u001b[0m\u001b[0m\n\u001b[0;32m    906\u001b[0m                 \u001b[0mself\u001b[0m\u001b[1;33m.\u001b[0m\u001b[0mlog\u001b[0m\u001b[1;33m.\u001b[0m\u001b[0mwarning\u001b[0m\u001b[1;33m(\u001b[0m\u001b[1;34m\"Invalid Message:\"\u001b[0m\u001b[1;33m,\u001b[0m \u001b[0mexc_info\u001b[0m\u001b[1;33m=\u001b[0m\u001b[1;32mTrue\u001b[0m\u001b[1;33m)\u001b[0m\u001b[1;33m\u001b[0m\u001b[1;33m\u001b[0m\u001b[0m\n",
      "\u001b[1;31mKeyboardInterrupt\u001b[0m: Interrupted by user"
     ]
    }
   ],
   "source": [
    "while True:\n",
    "    texts_p = []\n",
    "    prediction_input = input(\"You : \")\n",
    "    \n",
    "    #removing punctuation and converting to lowercase\n",
    "    prediction_input = [letters.lower() for letters in prediction_input if letters not in string.punctuation]\n",
    "    prediction_input = \"\".join(prediction_input)\n",
    "    texts_p.append(prediction_input)\n",
    "    \n",
    "    #tokenizing and padding\n",
    "    prediction_input = tokenizer.texts_to_sequences(texts_p)\n",
    "    prediction_input = np.array(prediction_input).reshape(-1)\n",
    "    prediction_input = pad_sequences([prediction_input],input_shape)\n",
    "    \n",
    "    #getting output from model\n",
    "    output = model_sw.predict(prediction_input)\n",
    "    output = output.argmax()\n",
    "    \n",
    "    #finding the right tag and predicting\n",
    "    response_tag = le.inverse_transform([output])[0]\n",
    "    print(\"Bot :\",random.choice(responses[response_tag]))\n",
    "    if response_tag == \"goodbye\" :\n",
    "        break"
   ]
  },
  {
   "cell_type": "markdown",
   "id": "a98c9976",
   "metadata": {},
   "source": [
    "# STEMMING"
   ]
  },
  {
   "cell_type": "code",
   "execution_count": null,
   "id": "cad075a0",
   "metadata": {},
   "outputs": [],
   "source": [
    "from nltk.stem import PorterStemmer"
   ]
  },
  {
   "cell_type": "code",
   "execution_count": null,
   "id": "c5784c32",
   "metadata": {},
   "outputs": [],
   "source": [
    "stemmers = PorterStemmer()\n",
    "input_str = \"i don't know what i am doing please help\"\n",
    "input_str = nltk.word_tokenize(input_str)\n",
    "for word in input_str :\n",
    "    print(stemmers.stem(word))"
   ]
  },
  {
   "cell_type": "markdown",
   "id": "00c4bafa",
   "metadata": {},
   "source": [
    "# LEMMATIZATION"
   ]
  },
  {
   "cell_type": "code",
   "execution_count": null,
   "id": "85a70e1a",
   "metadata": {},
   "outputs": [],
   "source": [
    "from nltk.stem import WordNetLemmatizer"
   ]
  },
  {
   "cell_type": "code",
   "execution_count": null,
   "id": "d51e46e0",
   "metadata": {},
   "outputs": [],
   "source": [
    "lemmatizer = WordNetLemmatizer()\n",
    "input_str = \"so is it the same than stemming\"\n",
    "input_str = nltk.word_tokenize(input_str)\n",
    "for word in input_str :\n",
    "    print(lemmatizer.lemmatize(word))"
   ]
  },
  {
   "cell_type": "code",
   "execution_count": null,
   "id": "d99cfd7a",
   "metadata": {},
   "outputs": [],
   "source": [
    "for index,row in data.iterrows():\n",
    "    filter_sentence = []\n",
    "    sentence = row[\"Title\"]"
   ]
  }
 ],
 "metadata": {
  "kernelspec": {
   "display_name": "Python 3",
   "language": "python",
   "name": "python3"
  },
  "language_info": {
   "codemirror_mode": {
    "name": "ipython",
    "version": 3
   },
   "file_extension": ".py",
   "mimetype": "text/x-python",
   "name": "python",
   "nbconvert_exporter": "python",
   "pygments_lexer": "ipython3",
   "version": "3.8.8"
  }
 },
 "nbformat": 4,
 "nbformat_minor": 5
}
