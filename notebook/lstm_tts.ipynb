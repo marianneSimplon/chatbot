{
 "cells": [
  {
   "cell_type": "code",
   "execution_count": 1,
   "id": "6911229e",
   "metadata": {},
   "outputs": [],
   "source": [
    "import json \n",
    "import numpy as np \n",
    "import pandas as pd\n",
    "import matplotlib.pyplot as plt\n",
    "import random\n",
    "\n",
    "import string\n",
    "# import nltk\n",
    "from nltk import *\n",
    "from nltk.stem import WordNetLemmatizer\n",
    "from nltk.corpus import stopwords\n",
    "from nltk.tokenize import word_tokenize\n",
    "\n",
    "import tensorflow as tf\n",
    "from tensorflow import keras\n",
    "from tensorflow.keras.layers import Dense, Embedding, GlobalAveragePooling1D , Activation\n",
    "from tensorflow.keras.preprocessing.text import Tokenizer\n",
    "from tensorflow.keras.preprocessing.sequence import pad_sequences\n",
    "from sklearn.preprocessing import LabelEncoder\n",
    "\n",
    "from tensorflow.keras import Sequential\n",
    "from tensorflow.keras.layers import InputLayer\n",
    "from tensorflow.keras.layers import SimpleRNN\n",
    "from tensorflow.keras.layers import LSTM\n",
    "from tensorflow.keras.layers import Flatten\n",
    "from tensorflow.keras.layers import Dropout\n",
    "from tensorflow.keras import callbacks"
   ]
  },
  {
   "cell_type": "code",
   "execution_count": 2,
   "id": "05fcbb44",
   "metadata": {},
   "outputs": [],
   "source": [
    "with open(\"../data/Intent.json\") as train_file:\n",
    "    df= json.load(train_file)"
   ]
  },
  {
   "cell_type": "markdown",
   "id": "3bcc17f8",
   "metadata": {},
   "source": [
    "# TOKENIZATION"
   ]
  },
  {
   "cell_type": "code",
   "execution_count": 3,
   "id": "77c25541",
   "metadata": {},
   "outputs": [
    {
     "data": {
      "text/plain": [
       "'Greeting'"
      ]
     },
     "execution_count": 3,
     "metadata": {},
     "output_type": "execute_result"
    }
   ],
   "source": [
    "df[\"intents\"][0][\"intent\"]"
   ]
  },
  {
   "cell_type": "code",
   "execution_count": 4,
   "id": "a82bd075",
   "metadata": {},
   "outputs": [
    {
     "data": {
      "text/html": [
       "<div>\n",
       "<style scoped>\n",
       "    .dataframe tbody tr th:only-of-type {\n",
       "        vertical-align: middle;\n",
       "    }\n",
       "\n",
       "    .dataframe tbody tr th {\n",
       "        vertical-align: top;\n",
       "    }\n",
       "\n",
       "    .dataframe thead th {\n",
       "        text-align: right;\n",
       "    }\n",
       "</style>\n",
       "<table border=\"1\" class=\"dataframe\">\n",
       "  <thead>\n",
       "    <tr style=\"text-align: right;\">\n",
       "      <th></th>\n",
       "      <th>inputs</th>\n",
       "      <th>tags</th>\n",
       "    </tr>\n",
       "  </thead>\n",
       "  <tbody>\n",
       "    <tr>\n",
       "      <th>0</th>\n",
       "      <td>Hi</td>\n",
       "      <td>Greeting</td>\n",
       "    </tr>\n",
       "    <tr>\n",
       "      <th>1</th>\n",
       "      <td>Hi there</td>\n",
       "      <td>Greeting</td>\n",
       "    </tr>\n",
       "    <tr>\n",
       "      <th>2</th>\n",
       "      <td>Hola</td>\n",
       "      <td>Greeting</td>\n",
       "    </tr>\n",
       "    <tr>\n",
       "      <th>3</th>\n",
       "      <td>Hello</td>\n",
       "      <td>Greeting</td>\n",
       "    </tr>\n",
       "    <tr>\n",
       "      <th>4</th>\n",
       "      <td>Hello there</td>\n",
       "      <td>Greeting</td>\n",
       "    </tr>\n",
       "    <tr>\n",
       "      <th>...</th>\n",
       "      <td>...</td>\n",
       "      <td>...</td>\n",
       "    </tr>\n",
       "    <tr>\n",
       "      <th>138</th>\n",
       "      <td>Can you prove you have a conscious</td>\n",
       "      <td>SelfAware</td>\n",
       "    </tr>\n",
       "    <tr>\n",
       "      <th>139</th>\n",
       "      <td>Can you prove you are self-aware please</td>\n",
       "      <td>SelfAware</td>\n",
       "    </tr>\n",
       "    <tr>\n",
       "      <th>140</th>\n",
       "      <td>Can you prove you are self aware please</td>\n",
       "      <td>SelfAware</td>\n",
       "    </tr>\n",
       "    <tr>\n",
       "      <th>141</th>\n",
       "      <td>Can you prove you have a conscious please</td>\n",
       "      <td>SelfAware</td>\n",
       "    </tr>\n",
       "    <tr>\n",
       "      <th>142</th>\n",
       "      <td>prove you have a conscious</td>\n",
       "      <td>SelfAware</td>\n",
       "    </tr>\n",
       "  </tbody>\n",
       "</table>\n",
       "<p>143 rows × 2 columns</p>\n",
       "</div>"
      ],
      "text/plain": [
       "                                        inputs       tags\n",
       "0                                           Hi   Greeting\n",
       "1                                     Hi there   Greeting\n",
       "2                                         Hola   Greeting\n",
       "3                                        Hello   Greeting\n",
       "4                                  Hello there   Greeting\n",
       "..                                         ...        ...\n",
       "138         Can you prove you have a conscious  SelfAware\n",
       "139    Can you prove you are self-aware please  SelfAware\n",
       "140    Can you prove you are self aware please  SelfAware\n",
       "141  Can you prove you have a conscious please  SelfAware\n",
       "142                 prove you have a conscious  SelfAware\n",
       "\n",
       "[143 rows x 2 columns]"
      ]
     },
     "execution_count": 4,
     "metadata": {},
     "output_type": "execute_result"
    }
   ],
   "source": [
    "tags = []\n",
    "inputs = []\n",
    "responses = {}\n",
    "\n",
    "for intent in df['intents']:\n",
    "    responses[intent['intent']] = intent['responses']\n",
    "    for lines in intent['text']:\n",
    "        inputs.append(lines)\n",
    "        tags.append(intent['intent'])\n",
    "df = pd.DataFrame({'inputs': inputs, 'tags': tags})\n",
    "df"
   ]
  },
  {
   "cell_type": "code",
   "execution_count": 5,
   "id": "4a2c282c",
   "metadata": {},
   "outputs": [],
   "source": [
    "df[\"inputs\"] = df[\"inputs\"].apply(lambda wrd:[ltrs.lower() for ltrs in wrd if ltrs not in string.punctuation])\n",
    "df[\"inputs\"] = df[\"inputs\"].apply(lambda wrd:\"\".join(wrd))"
   ]
  },
  {
   "cell_type": "code",
   "execution_count": 6,
   "id": "e6774370",
   "metadata": {},
   "outputs": [],
   "source": [
    "# Tokenizer les data\n",
    "tokenizer = Tokenizer(num_words=2000)\n",
    "tokenizer.fit_on_texts(df[\"inputs\"])\n",
    "train = tokenizer.texts_to_sequences(df[\"inputs\"])"
   ]
  },
  {
   "cell_type": "code",
   "execution_count": 53,
   "id": "d85b5048",
   "metadata": {},
   "outputs": [],
   "source": [
    "# apply padding\n",
    "#x_train = pad_sequences(train)\n",
    "X_data = pad_sequences(train)"
   ]
  },
  {
   "cell_type": "code",
   "execution_count": 58,
   "id": "15abe545",
   "metadata": {},
   "outputs": [],
   "source": [
    "#encoding the outputs\n",
    "le = LabelEncoder()\n",
    "#Y_train = le.fit_transform(df['tags'])\n",
    "y_data = le.fit_transform(df['tags'])"
   ]
  },
  {
   "cell_type": "code",
   "execution_count": 55,
   "id": "59e1333d",
   "metadata": {},
   "outputs": [
    {
     "name": "stdout",
     "output_type": "stream",
     "text": [
      "9\n"
     ]
    }
   ],
   "source": [
    "#input_shape = x_train.shape[1]\n",
    "input_shape = X_train.shape[1]\n",
    "print(input_shape)"
   ]
  },
  {
   "cell_type": "code",
   "execution_count": 56,
   "id": "145ea579",
   "metadata": {},
   "outputs": [
    {
     "name": "stdout",
     "output_type": "stream",
     "text": [
      "number of unique words : 117\n",
      "output length  22\n"
     ]
    }
   ],
   "source": [
    "#define vocabulary\n",
    "vocabulary = len(tokenizer.word_index)\n",
    "print(\"number of unique words :\",vocabulary)\n",
    "output_length = le.classes_.shape[0]\n",
    "print(\"output length \", output_length)"
   ]
  },
  {
   "cell_type": "markdown",
   "id": "6968f72e",
   "metadata": {},
   "source": [
    "# Premier model sans train-test split ! "
   ]
  },
  {
   "cell_type": "code",
   "execution_count": 11,
   "id": "d6710e1b",
   "metadata": {},
   "outputs": [],
   "source": [
    "from sklearn.model_selection import train_test_split"
   ]
  },
  {
   "cell_type": "code",
   "execution_count": 61,
   "id": "9857d227",
   "metadata": {},
   "outputs": [],
   "source": [
    "#X_train_data, X_test, y_train_data, y_test = train_test_split(x_train, Y_train, test_size=0.1, random_state=42, stratify=Y_train)\n",
    "X_train_data, X_test, y_train_data, y_test = train_test_split(X_data, y_data, test_size=0.15, random_state=42, stratify=y_data)"
   ]
  },
  {
   "cell_type": "code",
   "execution_count": 62,
   "id": "f9c2d856",
   "metadata": {},
   "outputs": [],
   "source": [
    "X_train, X_val, y_train, y_val = train_test_split(X_train_data, y_train_data, test_size=0.2, random_state=42, stratify=y_train_data)"
   ]
  },
  {
   "cell_type": "code",
   "execution_count": 37,
   "id": "a4a2eb60",
   "metadata": {
    "collapsed": true
   },
   "outputs": [
    {
     "data": {
      "text/plain": [
       "8     6\n",
       "0     5\n",
       "19    5\n",
       "2     5\n",
       "16    5\n",
       "15    5\n",
       "14    5\n",
       "13    5\n",
       "12    5\n",
       "11    5\n",
       "3     5\n",
       "4     5\n",
       "7     5\n",
       "6     4\n",
       "1     4\n",
       "21    4\n",
       "9     4\n",
       "20    4\n",
       "18    4\n",
       "10    4\n",
       "5     3\n",
       "17    3\n",
       "Name: 0, dtype: int64"
      ]
     },
     "execution_count": 37,
     "metadata": {},
     "output_type": "execute_result"
    }
   ],
   "source": [
    "pd.DataFrame(y_train)[0].value_counts()"
   ]
  },
  {
   "cell_type": "code",
   "execution_count": 13,
   "id": "916e3574",
   "metadata": {
    "scrolled": true
   },
   "outputs": [
    {
     "name": "stdout",
     "output_type": "stream",
     "text": [
      "(100, 9)\n",
      "(43, 9)\n",
      "(100,)\n",
      "(43,)\n"
     ]
    }
   ],
   "source": [
    "print(X_train.shape)\n",
    "print(X_test.shape)\n",
    "print(y_train.shape)\n",
    "print(y_test.shape)"
   ]
  },
  {
   "cell_type": "code",
   "execution_count": 14,
   "id": "39fcd00b",
   "metadata": {},
   "outputs": [
    {
     "name": "stdout",
     "output_type": "stream",
     "text": [
      "number of unique words : 117\n",
      "output length  22\n"
     ]
    }
   ],
   "source": [
    "#define vocabulary\n",
    "vocabulary = len(tokenizer.word_index)\n",
    "print(\"number of unique words :\",vocabulary)\n",
    "output_length = le.classes_.shape[0]\n",
    "print(\"output length \", output_length)"
   ]
  },
  {
   "cell_type": "markdown",
   "id": "f87d00ce",
   "metadata": {},
   "source": [
    "# LTSM"
   ]
  },
  {
   "cell_type": "code",
   "execution_count": 71,
   "id": "18e7e7c6",
   "metadata": {},
   "outputs": [],
   "source": [
    "lstm_model = Sequential()\n",
    "lstm_model.add(InputLayer(input_shape=(input_shape,)))\n",
    "lstm_model.add(Embedding(vocabulary+1,10))\n",
    "lstm_model.add(LSTM(10, return_sequences=True))\n",
    "lstm_model.add(Flatten())\n",
    "lstm_model.add(Dense(output_length, activation=\"softmax\"))"
   ]
  },
  {
   "cell_type": "code",
   "execution_count": 72,
   "id": "48c46635",
   "metadata": {},
   "outputs": [],
   "source": [
    "#compile the model\n",
    "lstm_model.compile(loss=\"sparse_categorical_crossentropy\",optimizer=\"adam\",metrics=[\"accuracy\"])"
   ]
  },
  {
   "cell_type": "code",
   "execution_count": 73,
   "id": "4cf0e2ca",
   "metadata": {},
   "outputs": [],
   "source": [
    "# early_stopping = callbacks.EarlyStopping(\n",
    "#     patience=20,\n",
    "#     min_delta=0.001,\n",
    "#     restore_best_weights=True,\n",
    "# )"
   ]
  },
  {
   "cell_type": "code",
   "execution_count": 74,
   "id": "edac62fa",
   "metadata": {},
   "outputs": [],
   "source": [
    "# early_stop = callbacks.EarlyStopping(monitor=\"loss\",mode=\"min\",verbose=1,patience=100)"
   ]
  },
  {
   "cell_type": "code",
   "execution_count": 75,
   "id": "16b71669",
   "metadata": {
    "scrolled": true
   },
   "outputs": [
    {
     "name": "stdout",
     "output_type": "stream",
     "text": [
      "Epoch 1/100\n",
      "3/3 [==============================] - 3s 331ms/step - loss: 3.0907 - accuracy: 0.0208 - val_loss: 3.0897 - val_accuracy: 0.0400\n",
      "Epoch 2/100\n",
      "3/3 [==============================] - 0s 23ms/step - loss: 3.0882 - accuracy: 0.0312 - val_loss: 3.0888 - val_accuracy: 0.1200\n",
      "Epoch 3/100\n",
      "3/3 [==============================] - 0s 23ms/step - loss: 3.0861 - accuracy: 0.1042 - val_loss: 3.0879 - val_accuracy: 0.1600\n",
      "Epoch 4/100\n",
      "3/3 [==============================] - 0s 22ms/step - loss: 3.0840 - accuracy: 0.1458 - val_loss: 3.0870 - val_accuracy: 0.1200\n",
      "Epoch 5/100\n",
      "3/3 [==============================] - 0s 22ms/step - loss: 3.0820 - accuracy: 0.1667 - val_loss: 3.0860 - val_accuracy: 0.1200\n",
      "Epoch 6/100\n",
      "3/3 [==============================] - 0s 21ms/step - loss: 3.0798 - accuracy: 0.1667 - val_loss: 3.0850 - val_accuracy: 0.1600\n",
      "Epoch 7/100\n",
      "3/3 [==============================] - 0s 23ms/step - loss: 3.0775 - accuracy: 0.1667 - val_loss: 3.0838 - val_accuracy: 0.2000\n",
      "Epoch 8/100\n",
      "3/3 [==============================] - 0s 24ms/step - loss: 3.0754 - accuracy: 0.1771 - val_loss: 3.0826 - val_accuracy: 0.1600\n",
      "Epoch 9/100\n",
      "3/3 [==============================] - 0s 27ms/step - loss: 3.0726 - accuracy: 0.1979 - val_loss: 3.0813 - val_accuracy: 0.1600\n",
      "Epoch 10/100\n",
      "3/3 [==============================] - 0s 28ms/step - loss: 3.0698 - accuracy: 0.2083 - val_loss: 3.0799 - val_accuracy: 0.1600\n",
      "Epoch 11/100\n",
      "3/3 [==============================] - 0s 27ms/step - loss: 3.0668 - accuracy: 0.2083 - val_loss: 3.0782 - val_accuracy: 0.1600\n",
      "Epoch 12/100\n",
      "3/3 [==============================] - 0s 28ms/step - loss: 3.0635 - accuracy: 0.2188 - val_loss: 3.0764 - val_accuracy: 0.1600\n",
      "Epoch 13/100\n",
      "3/3 [==============================] - 0s 25ms/step - loss: 3.0598 - accuracy: 0.2188 - val_loss: 3.0743 - val_accuracy: 0.1600\n",
      "Epoch 14/100\n",
      "3/3 [==============================] - 0s 23ms/step - loss: 3.0557 - accuracy: 0.2188 - val_loss: 3.0721 - val_accuracy: 0.2000\n",
      "Epoch 15/100\n",
      "3/3 [==============================] - 0s 21ms/step - loss: 3.0512 - accuracy: 0.2292 - val_loss: 3.0694 - val_accuracy: 0.2000\n",
      "Epoch 16/100\n",
      "3/3 [==============================] - 0s 23ms/step - loss: 3.0461 - accuracy: 0.2396 - val_loss: 3.0664 - val_accuracy: 0.2000\n",
      "Epoch 17/100\n",
      "3/3 [==============================] - 0s 23ms/step - loss: 3.0407 - accuracy: 0.2396 - val_loss: 3.0632 - val_accuracy: 0.2000\n",
      "Epoch 18/100\n",
      "3/3 [==============================] - 0s 22ms/step - loss: 3.0344 - accuracy: 0.2708 - val_loss: 3.0594 - val_accuracy: 0.2000\n",
      "Epoch 19/100\n",
      "3/3 [==============================] - 0s 21ms/step - loss: 3.0282 - accuracy: 0.2812 - val_loss: 3.0554 - val_accuracy: 0.2400\n",
      "Epoch 20/100\n",
      "3/3 [==============================] - 0s 21ms/step - loss: 3.0202 - accuracy: 0.3021 - val_loss: 3.0508 - val_accuracy: 0.2400\n",
      "Epoch 21/100\n",
      "3/3 [==============================] - 0s 20ms/step - loss: 3.0122 - accuracy: 0.3021 - val_loss: 3.0458 - val_accuracy: 0.2400\n",
      "Epoch 22/100\n",
      "3/3 [==============================] - 0s 20ms/step - loss: 3.0031 - accuracy: 0.3021 - val_loss: 3.0400 - val_accuracy: 0.2400\n",
      "Epoch 23/100\n",
      "3/3 [==============================] - 0s 21ms/step - loss: 2.9927 - accuracy: 0.3021 - val_loss: 3.0337 - val_accuracy: 0.2400\n",
      "Epoch 24/100\n",
      "3/3 [==============================] - 0s 21ms/step - loss: 2.9818 - accuracy: 0.3021 - val_loss: 3.0269 - val_accuracy: 0.2400\n",
      "Epoch 25/100\n",
      "3/3 [==============================] - 0s 21ms/step - loss: 2.9697 - accuracy: 0.3021 - val_loss: 3.0194 - val_accuracy: 0.2400\n",
      "Epoch 26/100\n",
      "3/3 [==============================] - 0s 21ms/step - loss: 2.9556 - accuracy: 0.3021 - val_loss: 3.0110 - val_accuracy: 0.2400\n",
      "Epoch 27/100\n",
      "3/3 [==============================] - 0s 20ms/step - loss: 2.9402 - accuracy: 0.3021 - val_loss: 3.0016 - val_accuracy: 0.2400\n",
      "Epoch 28/100\n",
      "3/3 [==============================] - 0s 21ms/step - loss: 2.9245 - accuracy: 0.3021 - val_loss: 2.9911 - val_accuracy: 0.2400\n",
      "Epoch 29/100\n",
      "3/3 [==============================] - 0s 20ms/step - loss: 2.9076 - accuracy: 0.3125 - val_loss: 2.9797 - val_accuracy: 0.2800\n",
      "Epoch 30/100\n",
      "3/3 [==============================] - 0s 20ms/step - loss: 2.8868 - accuracy: 0.3125 - val_loss: 2.9675 - val_accuracy: 0.2800\n",
      "Epoch 31/100\n",
      "3/3 [==============================] - 0s 20ms/step - loss: 2.8664 - accuracy: 0.3125 - val_loss: 2.9535 - val_accuracy: 0.2800\n",
      "Epoch 32/100\n",
      "3/3 [==============================] - 0s 21ms/step - loss: 2.8426 - accuracy: 0.3125 - val_loss: 2.9390 - val_accuracy: 0.3200\n",
      "Epoch 33/100\n",
      "3/3 [==============================] - 0s 20ms/step - loss: 2.8171 - accuracy: 0.3125 - val_loss: 2.9232 - val_accuracy: 0.2800\n",
      "Epoch 34/100\n",
      "3/3 [==============================] - 0s 20ms/step - loss: 2.7907 - accuracy: 0.3125 - val_loss: 2.9065 - val_accuracy: 0.3200\n",
      "Epoch 35/100\n",
      "3/3 [==============================] - 0s 20ms/step - loss: 2.7630 - accuracy: 0.3229 - val_loss: 2.8887 - val_accuracy: 0.2800\n",
      "Epoch 36/100\n",
      "3/3 [==============================] - 0s 21ms/step - loss: 2.7323 - accuracy: 0.3333 - val_loss: 2.8707 - val_accuracy: 0.2800\n",
      "Epoch 37/100\n",
      "3/3 [==============================] - 0s 21ms/step - loss: 2.7018 - accuracy: 0.3438 - val_loss: 2.8518 - val_accuracy: 0.3200\n",
      "Epoch 38/100\n",
      "3/3 [==============================] - 0s 21ms/step - loss: 2.6679 - accuracy: 0.3229 - val_loss: 2.8315 - val_accuracy: 0.3200\n",
      "Epoch 39/100\n",
      "3/3 [==============================] - 0s 20ms/step - loss: 2.6341 - accuracy: 0.3229 - val_loss: 2.8098 - val_accuracy: 0.3200\n",
      "Epoch 40/100\n",
      "3/3 [==============================] - 0s 20ms/step - loss: 2.5988 - accuracy: 0.3438 - val_loss: 2.7891 - val_accuracy: 0.3200\n",
      "Epoch 41/100\n",
      "3/3 [==============================] - 0s 21ms/step - loss: 2.5647 - accuracy: 0.3333 - val_loss: 2.7669 - val_accuracy: 0.3200\n",
      "Epoch 42/100\n",
      "3/3 [==============================] - 0s 21ms/step - loss: 2.5309 - accuracy: 0.3333 - val_loss: 2.7439 - val_accuracy: 0.3200\n",
      "Epoch 43/100\n",
      "3/3 [==============================] - 0s 21ms/step - loss: 2.4946 - accuracy: 0.3333 - val_loss: 2.7201 - val_accuracy: 0.3200\n",
      "Epoch 44/100\n",
      "3/3 [==============================] - 0s 21ms/step - loss: 2.4601 - accuracy: 0.3333 - val_loss: 2.6972 - val_accuracy: 0.3200\n",
      "Epoch 45/100\n",
      "3/3 [==============================] - 0s 21ms/step - loss: 2.4223 - accuracy: 0.3333 - val_loss: 2.6726 - val_accuracy: 0.3200\n",
      "Epoch 46/100\n",
      "3/3 [==============================] - 0s 21ms/step - loss: 2.3871 - accuracy: 0.3333 - val_loss: 2.6465 - val_accuracy: 0.3200\n",
      "Epoch 47/100\n",
      "3/3 [==============================] - 0s 20ms/step - loss: 2.3514 - accuracy: 0.3438 - val_loss: 2.6210 - val_accuracy: 0.3200\n",
      "Epoch 48/100\n",
      "3/3 [==============================] - 0s 21ms/step - loss: 2.3145 - accuracy: 0.3542 - val_loss: 2.5946 - val_accuracy: 0.3200\n",
      "Epoch 49/100\n",
      "3/3 [==============================] - 0s 20ms/step - loss: 2.2790 - accuracy: 0.3750 - val_loss: 2.5676 - val_accuracy: 0.3600\n",
      "Epoch 50/100\n",
      "3/3 [==============================] - 0s 22ms/step - loss: 2.2426 - accuracy: 0.3750 - val_loss: 2.5404 - val_accuracy: 0.3600\n",
      "Epoch 51/100\n",
      "3/3 [==============================] - 0s 20ms/step - loss: 2.2069 - accuracy: 0.3750 - val_loss: 2.5150 - val_accuracy: 0.3600\n",
      "Epoch 52/100\n",
      "3/3 [==============================] - 0s 20ms/step - loss: 2.1672 - accuracy: 0.3854 - val_loss: 2.4874 - val_accuracy: 0.3600\n",
      "Epoch 53/100\n",
      "3/3 [==============================] - 0s 21ms/step - loss: 2.1309 - accuracy: 0.3958 - val_loss: 2.4591 - val_accuracy: 0.4000\n",
      "Epoch 54/100\n",
      "3/3 [==============================] - 0s 20ms/step - loss: 2.0921 - accuracy: 0.4062 - val_loss: 2.4310 - val_accuracy: 0.4000\n",
      "Epoch 55/100\n",
      "3/3 [==============================] - 0s 21ms/step - loss: 2.0537 - accuracy: 0.4271 - val_loss: 2.4017 - val_accuracy: 0.4000\n",
      "Epoch 56/100\n",
      "3/3 [==============================] - 0s 21ms/step - loss: 2.0165 - accuracy: 0.4583 - val_loss: 2.3715 - val_accuracy: 0.4000\n",
      "Epoch 57/100\n",
      "3/3 [==============================] - 0s 21ms/step - loss: 1.9793 - accuracy: 0.4583 - val_loss: 2.3416 - val_accuracy: 0.4000\n",
      "Epoch 58/100\n",
      "3/3 [==============================] - 0s 21ms/step - loss: 1.9395 - accuracy: 0.4792 - val_loss: 2.3110 - val_accuracy: 0.4000\n",
      "Epoch 59/100\n"
     ]
    },
    {
     "name": "stdout",
     "output_type": "stream",
     "text": [
      "3/3 [==============================] - 0s 22ms/step - loss: 1.9013 - accuracy: 0.4792 - val_loss: 2.2815 - val_accuracy: 0.4000\n",
      "Epoch 60/100\n",
      "3/3 [==============================] - 0s 21ms/step - loss: 1.8632 - accuracy: 0.4792 - val_loss: 2.2544 - val_accuracy: 0.4800\n",
      "Epoch 61/100\n",
      "3/3 [==============================] - 0s 21ms/step - loss: 1.8264 - accuracy: 0.4896 - val_loss: 2.2258 - val_accuracy: 0.4800\n",
      "Epoch 62/100\n",
      "3/3 [==============================] - 0s 21ms/step - loss: 1.7888 - accuracy: 0.5208 - val_loss: 2.1991 - val_accuracy: 0.4800\n",
      "Epoch 63/100\n",
      "3/3 [==============================] - 0s 21ms/step - loss: 1.7524 - accuracy: 0.5521 - val_loss: 2.1709 - val_accuracy: 0.4800\n",
      "Epoch 64/100\n",
      "3/3 [==============================] - 0s 21ms/step - loss: 1.7172 - accuracy: 0.5625 - val_loss: 2.1431 - val_accuracy: 0.5200\n",
      "Epoch 65/100\n",
      "3/3 [==============================] - 0s 21ms/step - loss: 1.6817 - accuracy: 0.5938 - val_loss: 2.1183 - val_accuracy: 0.5200\n",
      "Epoch 66/100\n",
      "3/3 [==============================] - 0s 21ms/step - loss: 1.6497 - accuracy: 0.6042 - val_loss: 2.0917 - val_accuracy: 0.5200\n",
      "Epoch 67/100\n",
      "3/3 [==============================] - 0s 21ms/step - loss: 1.6154 - accuracy: 0.6354 - val_loss: 2.0683 - val_accuracy: 0.5200\n",
      "Epoch 68/100\n",
      "3/3 [==============================] - 0s 20ms/step - loss: 1.5818 - accuracy: 0.6354 - val_loss: 2.0461 - val_accuracy: 0.5200\n",
      "Epoch 69/100\n",
      "3/3 [==============================] - 0s 20ms/step - loss: 1.5512 - accuracy: 0.6458 - val_loss: 2.0237 - val_accuracy: 0.5200\n",
      "Epoch 70/100\n",
      "3/3 [==============================] - 0s 21ms/step - loss: 1.5203 - accuracy: 0.6667 - val_loss: 2.0013 - val_accuracy: 0.5200\n",
      "Epoch 71/100\n",
      "3/3 [==============================] - 0s 22ms/step - loss: 1.4900 - accuracy: 0.6979 - val_loss: 1.9808 - val_accuracy: 0.5200\n",
      "Epoch 72/100\n",
      "3/3 [==============================] - 0s 20ms/step - loss: 1.4607 - accuracy: 0.7083 - val_loss: 1.9591 - val_accuracy: 0.5200\n",
      "Epoch 73/100\n",
      "3/3 [==============================] - 0s 20ms/step - loss: 1.4338 - accuracy: 0.7083 - val_loss: 1.9430 - val_accuracy: 0.5200\n",
      "Epoch 74/100\n",
      "3/3 [==============================] - 0s 20ms/step - loss: 1.4090 - accuracy: 0.7396 - val_loss: 1.9228 - val_accuracy: 0.5600\n",
      "Epoch 75/100\n",
      "3/3 [==============================] - 0s 21ms/step - loss: 1.3802 - accuracy: 0.7188 - val_loss: 1.9106 - val_accuracy: 0.5600\n",
      "Epoch 76/100\n",
      "3/3 [==============================] - 0s 20ms/step - loss: 1.3543 - accuracy: 0.7188 - val_loss: 1.8983 - val_accuracy: 0.5600\n",
      "Epoch 77/100\n",
      "3/3 [==============================] - 0s 20ms/step - loss: 1.3290 - accuracy: 0.7292 - val_loss: 1.8761 - val_accuracy: 0.5600\n",
      "Epoch 78/100\n",
      "3/3 [==============================] - 0s 20ms/step - loss: 1.3040 - accuracy: 0.7396 - val_loss: 1.8629 - val_accuracy: 0.5600\n",
      "Epoch 79/100\n",
      "3/3 [==============================] - 0s 21ms/step - loss: 1.2805 - accuracy: 0.7500 - val_loss: 1.8519 - val_accuracy: 0.5600\n",
      "Epoch 80/100\n",
      "3/3 [==============================] - 0s 21ms/step - loss: 1.2572 - accuracy: 0.7500 - val_loss: 1.8403 - val_accuracy: 0.5600\n",
      "Epoch 81/100\n",
      "3/3 [==============================] - 0s 20ms/step - loss: 1.2352 - accuracy: 0.7708 - val_loss: 1.8325 - val_accuracy: 0.5600\n",
      "Epoch 82/100\n",
      "3/3 [==============================] - 0s 20ms/step - loss: 1.2133 - accuracy: 0.7812 - val_loss: 1.8205 - val_accuracy: 0.5600\n",
      "Epoch 83/100\n",
      "3/3 [==============================] - 0s 21ms/step - loss: 1.1929 - accuracy: 0.7917 - val_loss: 1.8092 - val_accuracy: 0.5600\n",
      "Epoch 84/100\n",
      "3/3 [==============================] - 0s 22ms/step - loss: 1.1721 - accuracy: 0.7917 - val_loss: 1.7999 - val_accuracy: 0.5600\n",
      "Epoch 85/100\n",
      "3/3 [==============================] - 0s 20ms/step - loss: 1.1544 - accuracy: 0.7812 - val_loss: 1.7985 - val_accuracy: 0.5600\n",
      "Epoch 86/100\n",
      "3/3 [==============================] - 0s 20ms/step - loss: 1.1336 - accuracy: 0.7812 - val_loss: 1.7836 - val_accuracy: 0.5600\n",
      "Epoch 87/100\n",
      "3/3 [==============================] - 0s 20ms/step - loss: 1.1120 - accuracy: 0.7917 - val_loss: 1.7752 - val_accuracy: 0.5200\n",
      "Epoch 88/100\n",
      "3/3 [==============================] - 0s 20ms/step - loss: 1.0957 - accuracy: 0.7917 - val_loss: 1.7686 - val_accuracy: 0.5200\n",
      "Epoch 89/100\n",
      "3/3 [==============================] - 0s 20ms/step - loss: 1.0805 - accuracy: 0.8021 - val_loss: 1.7634 - val_accuracy: 0.5600\n",
      "Epoch 90/100\n",
      "3/3 [==============================] - 0s 20ms/step - loss: 1.0605 - accuracy: 0.8021 - val_loss: 1.7561 - val_accuracy: 0.5200\n",
      "Epoch 91/100\n",
      "3/3 [==============================] - 0s 22ms/step - loss: 1.0479 - accuracy: 0.8021 - val_loss: 1.7536 - val_accuracy: 0.5200\n",
      "Epoch 92/100\n",
      "3/3 [==============================] - 0s 20ms/step - loss: 1.0296 - accuracy: 0.8438 - val_loss: 1.7490 - val_accuracy: 0.5200\n",
      "Epoch 93/100\n",
      "3/3 [==============================] - 0s 20ms/step - loss: 1.0100 - accuracy: 0.8125 - val_loss: 1.7430 - val_accuracy: 0.5200\n",
      "Epoch 94/100\n",
      "3/3 [==============================] - 0s 22ms/step - loss: 0.9951 - accuracy: 0.8125 - val_loss: 1.7359 - val_accuracy: 0.5200\n",
      "Epoch 95/100\n",
      "3/3 [==============================] - 0s 22ms/step - loss: 0.9796 - accuracy: 0.8229 - val_loss: 1.7319 - val_accuracy: 0.5200\n",
      "Epoch 96/100\n",
      "3/3 [==============================] - 0s 20ms/step - loss: 0.9636 - accuracy: 0.8438 - val_loss: 1.7268 - val_accuracy: 0.5200\n",
      "Epoch 97/100\n",
      "3/3 [==============================] - 0s 21ms/step - loss: 0.9500 - accuracy: 0.8438 - val_loss: 1.7267 - val_accuracy: 0.5200\n",
      "Epoch 98/100\n",
      "3/3 [==============================] - 0s 21ms/step - loss: 0.9361 - accuracy: 0.8542 - val_loss: 1.7191 - val_accuracy: 0.5200\n",
      "Epoch 99/100\n",
      "3/3 [==============================] - 0s 21ms/step - loss: 0.9219 - accuracy: 0.8542 - val_loss: 1.7147 - val_accuracy: 0.5200\n",
      "Epoch 100/100\n",
      "3/3 [==============================] - 0s 20ms/step - loss: 0.9072 - accuracy: 0.8542 - val_loss: 1.7119 - val_accuracy: 0.5200\n"
     ]
    }
   ],
   "source": [
    "# history = model_sw.fit(x_train, Y_train, epochs=100)\n",
    "history = lstm_model.fit(X_train,y_train, epochs=100, validation_data=(X_val, y_val))\n",
    "#history = lstm_model.fit(X_train,y_train, epochs=100, validation_split=0.2)\n",
    "# history = lstm_model.fit(X_train,y_train, epochs=100, validation_split=0.3,callbacks=[early_stopping])\n",
    "# pas de batch_size ?!"
   ]
  },
  {
   "cell_type": "code",
   "execution_count": 77,
   "id": "c878e067",
   "metadata": {},
   "outputs": [
    {
     "data": {
      "image/png": "[encoded data removed]",
      "text/plain": [
       "<Figure size 720x360 with 1 Axes>"
      ]
     },
     "metadata": {
      "needs_background": "light"
     },
     "output_type": "display_data"
    },
    {
     "data": {
      "image/png": "[encoded data removed]",
      "text/plain": [
       "<Figure size 720x360 with 1 Axes>"
      ]
     },
     "metadata": {
      "needs_background": "light"
     },
     "output_type": "display_data"
    }
   ],
   "source": [
    "# #plotting model accuracy\n",
    "# plt.plot(train_sw.history['accuracy'], label=\"training set accuracy\")\n",
    "# plt.plot(train_sw.history[\"loss\"], label =\"training set loss\")\n",
    "# plt.legend()\n",
    "\n",
    "plt.figure(figsize=(10,5))\n",
    "\n",
    "# summarize history for mae\n",
    "plt.plot(history.history['accuracy'])\n",
    "plt.plot(history.history['val_accuracy'])\n",
    "plt.title('Learning Curve')\n",
    "plt.ylabel('Accuracy')\n",
    "plt.xlabel('epoch')\n",
    "plt.legend(['train', 'test'], loc='upper left')\n",
    "plt.show()\n",
    "\n",
    "# summarize history for loss\n",
    "plt.figure(figsize=(10,5))\n",
    "plt.plot(history.history['loss'])\n",
    "plt.plot(history.history['val_loss'])\n",
    "plt.title('model loss')\n",
    "plt.ylabel('loss')\n",
    "plt.xlabel('epoch')\n",
    "plt.legend(['train', 'test'], loc='upper left')\n",
    "plt.show()"
   ]
  },
  {
   "cell_type": "code",
   "execution_count": 81,
   "id": "5cb15183",
   "metadata": {},
   "outputs": [],
   "source": [
    "lstm_model.save('../modeles/lstm_model_tts.h5')"
   ]
  }
 ],
 "metadata": {
  "kernelspec": {
   "display_name": "Python 3",
   "language": "python",
   "name": "python3"
  },
  "language_info": {
   "codemirror_mode": {
    "name": "ipython",
    "version": 3
   },
   "file_extension": ".py",
   "mimetype": "text/x-python",
   "name": "python",
   "nbconvert_exporter": "python",
   "pygments_lexer": "ipython3",
   "version": "3.8.8"
  }
 },
 "nbformat": 4,
 "nbformat_minor": 5
}
