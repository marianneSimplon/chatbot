{
 "cells": [
  {
   "cell_type": "code",
   "execution_count": 1,
   "id": "6911229e",
   "metadata": {},
   "outputs": [],
   "source": [
    "import json \n",
    "import numpy as np \n",
    "import pandas as pd\n",
    "import matplotlib.pyplot as plt\n",
    "import random\n",
    "\n",
    "import string\n",
    "# import nltk\n",
    "from nltk import *\n",
    "from nltk.stem import WordNetLemmatizer\n",
    "from nltk.corpus import stopwords\n",
    "from nltk.tokenize import word_tokenize\n",
    "\n",
    "import tensorflow as tf\n",
    "from tensorflow import keras\n",
    "from tensorflow.keras.layers import Dense, Embedding, GlobalAveragePooling1D , Activation\n",
    "from tensorflow.keras.preprocessing.text import Tokenizer\n",
    "from tensorflow.keras.preprocessing.sequence import pad_sequences\n",
    "from sklearn.preprocessing import LabelEncoder\n",
    "\n",
    "from tensorflow.keras import Sequential\n",
    "from tensorflow.keras.layers import InputLayer\n",
    "from tensorflow.keras.layers import SimpleRNN\n",
    "from tensorflow.keras.layers import LSTM\n",
    "from tensorflow.keras.layers import Flatten\n",
    "from tensorflow.keras.layers import Dropout\n",
    "from tensorflow.keras import callbacks"
   ]
  },
  {
   "cell_type": "code",
   "execution_count": 2,
   "id": "05fcbb44",
   "metadata": {},
   "outputs": [],
   "source": [
    "with open(\"../data/Intent.json\") as train_file:\n",
    "    df= json.load(train_file)"
   ]
  },
  {
   "cell_type": "markdown",
   "id": "3bcc17f8",
   "metadata": {},
   "source": [
    "# TOKENIZATION"
   ]
  },
  {
   "cell_type": "code",
   "execution_count": 3,
   "id": "77c25541",
   "metadata": {},
   "outputs": [
    {
     "data": {
      "text/plain": [
       "'Greeting'"
      ]
     },
     "execution_count": 3,
     "metadata": {},
     "output_type": "execute_result"
    }
   ],
   "source": [
    "df[\"intents\"][0][\"intent\"]"
   ]
  },
  {
   "cell_type": "code",
   "execution_count": 4,
   "id": "a82bd075",
   "metadata": {},
   "outputs": [
    {
     "data": {
      "text/html": [
       "<div>\n",
       "<style scoped>\n",
       "    .dataframe tbody tr th:only-of-type {\n",
       "        vertical-align: middle;\n",
       "    }\n",
       "\n",
       "    .dataframe tbody tr th {\n",
       "        vertical-align: top;\n",
       "    }\n",
       "\n",
       "    .dataframe thead th {\n",
       "        text-align: right;\n",
       "    }\n",
       "</style>\n",
       "<table border=\"1\" class=\"dataframe\">\n",
       "  <thead>\n",
       "    <tr style=\"text-align: right;\">\n",
       "      <th></th>\n",
       "      <th>inputs</th>\n",
       "      <th>tags</th>\n",
       "    </tr>\n",
       "  </thead>\n",
       "  <tbody>\n",
       "    <tr>\n",
       "      <th>0</th>\n",
       "      <td>Hi</td>\n",
       "      <td>Greeting</td>\n",
       "    </tr>\n",
       "    <tr>\n",
       "      <th>1</th>\n",
       "      <td>Hi there</td>\n",
       "      <td>Greeting</td>\n",
       "    </tr>\n",
       "    <tr>\n",
       "      <th>2</th>\n",
       "      <td>Hola</td>\n",
       "      <td>Greeting</td>\n",
       "    </tr>\n",
       "    <tr>\n",
       "      <th>3</th>\n",
       "      <td>Hello</td>\n",
       "      <td>Greeting</td>\n",
       "    </tr>\n",
       "    <tr>\n",
       "      <th>4</th>\n",
       "      <td>Hello there</td>\n",
       "      <td>Greeting</td>\n",
       "    </tr>\n",
       "    <tr>\n",
       "      <th>...</th>\n",
       "      <td>...</td>\n",
       "      <td>...</td>\n",
       "    </tr>\n",
       "    <tr>\n",
       "      <th>138</th>\n",
       "      <td>Can you prove you have a conscious</td>\n",
       "      <td>SelfAware</td>\n",
       "    </tr>\n",
       "    <tr>\n",
       "      <th>139</th>\n",
       "      <td>Can you prove you are self-aware please</td>\n",
       "      <td>SelfAware</td>\n",
       "    </tr>\n",
       "    <tr>\n",
       "      <th>140</th>\n",
       "      <td>Can you prove you are self aware please</td>\n",
       "      <td>SelfAware</td>\n",
       "    </tr>\n",
       "    <tr>\n",
       "      <th>141</th>\n",
       "      <td>Can you prove you have a conscious please</td>\n",
       "      <td>SelfAware</td>\n",
       "    </tr>\n",
       "    <tr>\n",
       "      <th>142</th>\n",
       "      <td>prove you have a conscious</td>\n",
       "      <td>SelfAware</td>\n",
       "    </tr>\n",
       "  </tbody>\n",
       "</table>\n",
       "<p>143 rows × 2 columns</p>\n",
       "</div>"
      ],
      "text/plain": [
       "                                        inputs       tags\n",
       "0                                           Hi   Greeting\n",
       "1                                     Hi there   Greeting\n",
       "2                                         Hola   Greeting\n",
       "3                                        Hello   Greeting\n",
       "4                                  Hello there   Greeting\n",
       "..                                         ...        ...\n",
       "138         Can you prove you have a conscious  SelfAware\n",
       "139    Can you prove you are self-aware please  SelfAware\n",
       "140    Can you prove you are self aware please  SelfAware\n",
       "141  Can you prove you have a conscious please  SelfAware\n",
       "142                 prove you have a conscious  SelfAware\n",
       "\n",
       "[143 rows x 2 columns]"
      ]
     },
     "execution_count": 4,
     "metadata": {},
     "output_type": "execute_result"
    }
   ],
   "source": [
    "tags = []\n",
    "inputs = []\n",
    "responses = {}\n",
    "\n",
    "for intent in df['intents']:\n",
    "    responses[intent['intent']] = intent['responses']\n",
    "    for lines in intent['text']:\n",
    "        inputs.append(lines)\n",
    "        tags.append(intent['intent'])\n",
    "df = pd.DataFrame({'inputs': inputs, 'tags': tags})\n",
    "df"
   ]
  },
  {
   "cell_type": "code",
   "execution_count": 5,
   "id": "4a2c282c",
   "metadata": {},
   "outputs": [],
   "source": [
    "df[\"inputs\"] = df[\"inputs\"].apply(lambda wrd:[ltrs.lower() for ltrs in wrd if ltrs not in string.punctuation])\n",
    "df[\"inputs\"] = df[\"inputs\"].apply(lambda wrd:\"\".join(wrd))"
   ]
  },
  {
   "cell_type": "code",
   "execution_count": 6,
   "id": "e6774370",
   "metadata": {},
   "outputs": [],
   "source": [
    "# Tokenizer les data\n",
    "tokenizer = Tokenizer(num_words=2000)\n",
    "tokenizer.fit_on_texts(df[\"inputs\"])\n",
    "train = tokenizer.texts_to_sequences(df[\"inputs\"])\n",
    "tokens = tokenizer.texts_to_sequences(df[\"inputs\"])"
   ]
  },
  {
   "cell_type": "code",
   "execution_count": 7,
   "id": "d85b5048",
   "metadata": {},
   "outputs": [],
   "source": [
    "# apply padding\n",
    "x_train = pad_sequences(train)"
   ]
  },
  {
   "cell_type": "code",
   "execution_count": 8,
   "id": "15abe545",
   "metadata": {},
   "outputs": [],
   "source": [
    "#encoding the outputs\n",
    "le = LabelEncoder()\n",
    "Y_train = le.fit_transform(df['tags'])"
   ]
  },
  {
   "cell_type": "code",
   "execution_count": 9,
   "id": "59e1333d",
   "metadata": {},
   "outputs": [
    {
     "name": "stdout",
     "output_type": "stream",
     "text": [
      "9\n"
     ]
    }
   ],
   "source": [
    "input_shape = x_train.shape[1]\n",
    "print(input_shape)"
   ]
  },
  {
   "cell_type": "code",
   "execution_count": 10,
   "id": "145ea579",
   "metadata": {},
   "outputs": [
    {
     "name": "stdout",
     "output_type": "stream",
     "text": [
      "number of unique words : 117\n",
      "output length  22\n"
     ]
    }
   ],
   "source": [
    "#define vocabulary\n",
    "vocabulary = len(tokenizer.word_index)\n",
    "print(\"number of unique words :\",vocabulary)\n",
    "output_length = le.classes_.shape[0]\n",
    "print(\"output length \", output_length)"
   ]
  },
  {
   "cell_type": "markdown",
   "id": "fd892754",
   "metadata": {},
   "source": [
    "# DELETE OR ADD STOPWORDS"
   ]
  },
  {
   "cell_type": "code",
   "execution_count": 11,
   "id": "e3a2bb4b",
   "metadata": {},
   "outputs": [],
   "source": [
    "stop_words = stopwords.words(\"english\")"
   ]
  },
  {
   "cell_type": "code",
   "execution_count": 12,
   "id": "74dc712e",
   "metadata": {},
   "outputs": [],
   "source": [
    "# print(stop_words)\n",
    "#this will show all the default stop word in the language english"
   ]
  },
  {
   "cell_type": "code",
   "execution_count": 13,
   "id": "f81b4ded",
   "metadata": {},
   "outputs": [],
   "source": [
    "stop_words.append(\"'s\")\n",
    "stop_words.append(\"n't\")\n",
    "#this will add or remove a stop word"
   ]
  },
  {
   "cell_type": "code",
   "execution_count": 14,
   "id": "55a389ff",
   "metadata": {},
   "outputs": [
    {
     "data": {
      "text/plain": [
       "['Hi',\n",
       " 'Hi there',\n",
       " 'Hola',\n",
       " 'Hello',\n",
       " 'Hello there',\n",
       " 'Hya',\n",
       " 'Hya there',\n",
       " 'My user is Adam',\n",
       " 'This is Adam',\n",
       " 'I am Adam',\n",
       " 'It is Adam',\n",
       " 'My user is Bella',\n",
       " 'This is Bella',\n",
       " 'I am Bella',\n",
       " 'It is Bella',\n",
       " 'How are you?',\n",
       " 'Hi how are you?',\n",
       " 'Hello how are you?',\n",
       " 'Hola how are you?',\n",
       " 'How are you doing?',\n",
       " 'Hope you are doing well?',\n",
       " 'Hello hope you are doing well?',\n",
       " 'Good thanks! My user is Adam',\n",
       " 'Good thanks! This is Adam',\n",
       " 'Good thanks! I am Adam',\n",
       " 'Good thanks! It is Adam',\n",
       " 'Great thanks! My user is Bella',\n",
       " 'Great thanks! This is Bella',\n",
       " 'Great thanks! I am Bella',\n",
       " 'Great thanks! It is Bella',\n",
       " 'What is my name?',\n",
       " 'What do you call me?',\n",
       " 'Who do you think I am?',\n",
       " 'What do you think I am?',\n",
       " 'Who are you talking to?',\n",
       " 'What name do you call me by?',\n",
       " 'Tell me my name',\n",
       " 'What is your name?',\n",
       " 'What could I call you?',\n",
       " 'What can I call you?',\n",
       " 'What do your friends call you?',\n",
       " 'Who are you?',\n",
       " 'Tell me your name?',\n",
       " 'What is your real name?',\n",
       " 'What is your real name please?',\n",
       " \"What's your real name?\",\n",
       " 'Tell me your real name?',\n",
       " 'Your real name?',\n",
       " 'Your real name please?',\n",
       " 'Your real name please?',\n",
       " 'What is the time?',\n",
       " \"What's the time?\",\n",
       " 'Do you know what time it is?',\n",
       " 'Do you know the time?',\n",
       " 'Can you tell me the time?',\n",
       " 'Tell me what time it is?',\n",
       " 'Time',\n",
       " 'OK thank you',\n",
       " 'OK thanks',\n",
       " 'OK',\n",
       " 'Thanks',\n",
       " 'Thank you',\n",
       " \"That's helpful\",\n",
       " 'I am not talking to you',\n",
       " 'I was not talking to you',\n",
       " 'Not talking to you',\n",
       " \"Wasn't for you\",\n",
       " \"Wasn't meant for you\",\n",
       " \"Wasn't communicating to you\",\n",
       " \"Wasn't speaking to you\",\n",
       " 'Do you understand what I am saying',\n",
       " 'Do you understand me',\n",
       " 'Do you know what I am saying',\n",
       " 'Do you get me',\n",
       " 'Comprendo',\n",
       " 'Know what I mean',\n",
       " 'Be quiet',\n",
       " 'Shut up',\n",
       " 'Stop talking',\n",
       " 'Enough talking',\n",
       " 'Please be quiet',\n",
       " 'Quiet',\n",
       " 'Shhh',\n",
       " 'fuck off',\n",
       " 'fuck',\n",
       " 'twat',\n",
       " 'shit',\n",
       " 'Bye',\n",
       " 'Adios',\n",
       " 'See you later',\n",
       " 'Goodbye',\n",
       " 'Thanks, bye',\n",
       " 'Thanks for the help, goodbye',\n",
       " 'Thank you, bye',\n",
       " 'Thank you, goodbye',\n",
       " 'Thanks goodbye',\n",
       " 'Thanks good bye',\n",
       " 'Can you see me?',\n",
       " 'Do you see me?',\n",
       " 'Can you see anyone in the camera?',\n",
       " 'Do you see anyone in the camera?',\n",
       " 'Identify me',\n",
       " 'Who am I please',\n",
       " 'You are very clever',\n",
       " 'You are a very clever girl',\n",
       " 'You are very intelligent',\n",
       " 'You are a very intelligent girl',\n",
       " 'You are a genious',\n",
       " 'Clever girl',\n",
       " 'Genious',\n",
       " 'I am bored gossip with me',\n",
       " 'Got any gossip',\n",
       " 'I want to hear some gossip',\n",
       " 'Tell me some gossip',\n",
       " 'Any gossip',\n",
       " 'Tell me some more gossip',\n",
       " 'Tell me a joke',\n",
       " 'Do you know any jokes',\n",
       " 'How about a joke',\n",
       " 'Give me a joke',\n",
       " 'Make me laugh',\n",
       " 'I need cheering up',\n",
       " 'Open the pod bay door',\n",
       " 'Can you open the pod bay door',\n",
       " 'Will you open the pod bay door',\n",
       " 'Open the pod bay door please',\n",
       " 'Can you open the pod bay door please',\n",
       " 'Will you open the pod bay door please',\n",
       " 'Pod bay door',\n",
       " 'Why',\n",
       " 'Why not',\n",
       " 'Why can you not open the pod bay door',\n",
       " 'Why will you not open the pod bay door',\n",
       " 'Well why not',\n",
       " 'Surely you can',\n",
       " 'Tell me why',\n",
       " 'Can you prove you are self-aware',\n",
       " 'Can you prove you are self aware',\n",
       " 'Can you prove you have a conscious',\n",
       " 'Can you prove you are self-aware please',\n",
       " 'Can you prove you are self aware please',\n",
       " 'Can you prove you have a conscious please',\n",
       " 'prove you have a conscious']"
      ]
     },
     "execution_count": 14,
     "metadata": {},
     "output_type": "execute_result"
    }
   ],
   "source": [
    "inputs"
   ]
  },
  {
   "cell_type": "code",
   "execution_count": 15,
   "id": "eb11838c",
   "metadata": {},
   "outputs": [],
   "source": [
    "filtered_sentence = []\n",
    "\n",
    "for line in inputs:\n",
    "    filtered_sentence.append([w for w in word_tokenize(line) if not w.lower() in stop_words])\n",
    "\n",
    "filtered_sentence = [' '.join(ele) for ele in filtered_sentence]"
   ]
  },
  {
   "cell_type": "code",
   "execution_count": 16,
   "id": "35c9fd08",
   "metadata": {},
   "outputs": [
    {
     "data": {
      "text/plain": [
       "['Hi',\n",
       " 'Hi',\n",
       " 'Hola',\n",
       " 'Hello',\n",
       " 'Hello',\n",
       " 'Hya',\n",
       " 'Hya',\n",
       " 'user Adam',\n",
       " 'Adam',\n",
       " 'Adam',\n",
       " 'Adam',\n",
       " 'user Bella',\n",
       " 'Bella',\n",
       " 'Bella',\n",
       " 'Bella',\n",
       " '?',\n",
       " 'Hi ?',\n",
       " 'Hello ?',\n",
       " 'Hola ?',\n",
       " '?',\n",
       " 'Hope well ?',\n",
       " 'Hello hope well ?',\n",
       " 'Good thanks ! user Adam',\n",
       " 'Good thanks ! Adam',\n",
       " 'Good thanks ! Adam',\n",
       " 'Good thanks ! Adam',\n",
       " 'Great thanks ! user Bella',\n",
       " 'Great thanks ! Bella',\n",
       " 'Great thanks ! Bella',\n",
       " 'Great thanks ! Bella',\n",
       " 'name ?',\n",
       " 'call ?',\n",
       " 'think ?',\n",
       " 'think ?',\n",
       " 'talking ?',\n",
       " 'name call ?',\n",
       " 'Tell name',\n",
       " 'name ?',\n",
       " 'could call ?',\n",
       " 'call ?',\n",
       " 'friends call ?',\n",
       " '?',\n",
       " 'Tell name ?',\n",
       " 'real name ?',\n",
       " 'real name please ?',\n",
       " 'real name ?',\n",
       " 'Tell real name ?',\n",
       " 'real name ?',\n",
       " 'real name please ?',\n",
       " 'real name please ?',\n",
       " 'time ?',\n",
       " 'time ?',\n",
       " 'know time ?',\n",
       " 'know time ?',\n",
       " 'tell time ?',\n",
       " 'Tell time ?',\n",
       " 'Time',\n",
       " 'OK thank',\n",
       " 'OK thanks',\n",
       " 'OK',\n",
       " 'Thanks',\n",
       " 'Thank',\n",
       " 'helpful',\n",
       " 'talking',\n",
       " 'talking',\n",
       " 'talking',\n",
       " '',\n",
       " 'meant',\n",
       " 'communicating',\n",
       " 'speaking',\n",
       " 'understand saying',\n",
       " 'understand',\n",
       " 'know saying',\n",
       " 'get',\n",
       " 'Comprendo',\n",
       " 'Know mean',\n",
       " 'quiet',\n",
       " 'Shut',\n",
       " 'Stop talking',\n",
       " 'Enough talking',\n",
       " 'Please quiet',\n",
       " 'Quiet',\n",
       " 'Shhh',\n",
       " 'fuck',\n",
       " 'fuck',\n",
       " 'twat',\n",
       " 'shit',\n",
       " 'Bye',\n",
       " 'Adios',\n",
       " 'See later',\n",
       " 'Goodbye',\n",
       " 'Thanks , bye',\n",
       " 'Thanks help , goodbye',\n",
       " 'Thank , bye',\n",
       " 'Thank , goodbye',\n",
       " 'Thanks goodbye',\n",
       " 'Thanks good bye',\n",
       " 'see ?',\n",
       " 'see ?',\n",
       " 'see anyone camera ?',\n",
       " 'see anyone camera ?',\n",
       " 'Identify',\n",
       " 'please',\n",
       " 'clever',\n",
       " 'clever girl',\n",
       " 'intelligent',\n",
       " 'intelligent girl',\n",
       " 'genious',\n",
       " 'Clever girl',\n",
       " 'Genious',\n",
       " 'bored gossip',\n",
       " 'Got gossip',\n",
       " 'want hear gossip',\n",
       " 'Tell gossip',\n",
       " 'gossip',\n",
       " 'Tell gossip',\n",
       " 'Tell joke',\n",
       " 'know jokes',\n",
       " 'joke',\n",
       " 'Give joke',\n",
       " 'Make laugh',\n",
       " 'need cheering',\n",
       " 'Open pod bay door',\n",
       " 'open pod bay door',\n",
       " 'open pod bay door',\n",
       " 'Open pod bay door please',\n",
       " 'open pod bay door please',\n",
       " 'open pod bay door please',\n",
       " 'Pod bay door',\n",
       " '',\n",
       " '',\n",
       " 'open pod bay door',\n",
       " 'open pod bay door',\n",
       " 'Well',\n",
       " 'Surely',\n",
       " 'Tell',\n",
       " 'prove self-aware',\n",
       " 'prove self aware',\n",
       " 'prove conscious',\n",
       " 'prove self-aware please',\n",
       " 'prove self aware please',\n",
       " 'prove conscious please',\n",
       " 'prove conscious']"
      ]
     },
     "execution_count": 16,
     "metadata": {},
     "output_type": "execute_result"
    }
   ],
   "source": [
    "filtered_sentence"
   ]
  },
  {
   "cell_type": "code",
   "execution_count": 17,
   "id": "81678b9e",
   "metadata": {},
   "outputs": [
    {
     "data": {
      "text/html": [
       "<div>\n",
       "<style scoped>\n",
       "    .dataframe tbody tr th:only-of-type {\n",
       "        vertical-align: middle;\n",
       "    }\n",
       "\n",
       "    .dataframe tbody tr th {\n",
       "        vertical-align: top;\n",
       "    }\n",
       "\n",
       "    .dataframe thead th {\n",
       "        text-align: right;\n",
       "    }\n",
       "</style>\n",
       "<table border=\"1\" class=\"dataframe\">\n",
       "  <thead>\n",
       "    <tr style=\"text-align: right;\">\n",
       "      <th></th>\n",
       "      <th>inputs</th>\n",
       "      <th>tags</th>\n",
       "    </tr>\n",
       "  </thead>\n",
       "  <tbody>\n",
       "    <tr>\n",
       "      <th>0</th>\n",
       "      <td>Hi</td>\n",
       "      <td>Greeting</td>\n",
       "    </tr>\n",
       "    <tr>\n",
       "      <th>1</th>\n",
       "      <td>Hi</td>\n",
       "      <td>Greeting</td>\n",
       "    </tr>\n",
       "    <tr>\n",
       "      <th>2</th>\n",
       "      <td>Hola</td>\n",
       "      <td>Greeting</td>\n",
       "    </tr>\n",
       "    <tr>\n",
       "      <th>3</th>\n",
       "      <td>Hello</td>\n",
       "      <td>Greeting</td>\n",
       "    </tr>\n",
       "    <tr>\n",
       "      <th>4</th>\n",
       "      <td>Hello</td>\n",
       "      <td>Greeting</td>\n",
       "    </tr>\n",
       "    <tr>\n",
       "      <th>...</th>\n",
       "      <td>...</td>\n",
       "      <td>...</td>\n",
       "    </tr>\n",
       "    <tr>\n",
       "      <th>138</th>\n",
       "      <td>prove conscious</td>\n",
       "      <td>SelfAware</td>\n",
       "    </tr>\n",
       "    <tr>\n",
       "      <th>139</th>\n",
       "      <td>prove self-aware please</td>\n",
       "      <td>SelfAware</td>\n",
       "    </tr>\n",
       "    <tr>\n",
       "      <th>140</th>\n",
       "      <td>prove self aware please</td>\n",
       "      <td>SelfAware</td>\n",
       "    </tr>\n",
       "    <tr>\n",
       "      <th>141</th>\n",
       "      <td>prove conscious please</td>\n",
       "      <td>SelfAware</td>\n",
       "    </tr>\n",
       "    <tr>\n",
       "      <th>142</th>\n",
       "      <td>prove conscious</td>\n",
       "      <td>SelfAware</td>\n",
       "    </tr>\n",
       "  </tbody>\n",
       "</table>\n",
       "<p>143 rows × 2 columns</p>\n",
       "</div>"
      ],
      "text/plain": [
       "                      inputs       tags\n",
       "0                         Hi   Greeting\n",
       "1                         Hi   Greeting\n",
       "2                       Hola   Greeting\n",
       "3                      Hello   Greeting\n",
       "4                      Hello   Greeting\n",
       "..                       ...        ...\n",
       "138          prove conscious  SelfAware\n",
       "139  prove self-aware please  SelfAware\n",
       "140  prove self aware please  SelfAware\n",
       "141   prove conscious please  SelfAware\n",
       "142          prove conscious  SelfAware\n",
       "\n",
       "[143 rows x 2 columns]"
      ]
     },
     "execution_count": 17,
     "metadata": {},
     "output_type": "execute_result"
    }
   ],
   "source": [
    "df_sw = pd.DataFrame({'inputs': filtered_sentence, 'tags': tags})\n",
    "df_sw"
   ]
  },
  {
   "cell_type": "code",
   "execution_count": 18,
   "id": "e883569a",
   "metadata": {},
   "outputs": [],
   "source": [
    "#duplicates\n",
    "df_sw.drop_duplicates(inplace=True)"
   ]
  },
  {
   "cell_type": "markdown",
   "id": "884f4c2a",
   "metadata": {},
   "source": [
    "#####  la suite c'est la même"
   ]
  },
  {
   "cell_type": "code",
   "execution_count": 29,
   "id": "782cd421",
   "metadata": {},
   "outputs": [],
   "source": [
    "df = df_sw.copy()"
   ]
  },
  {
   "cell_type": "code",
   "execution_count": 30,
   "id": "18734925",
   "metadata": {},
   "outputs": [],
   "source": [
    "df[\"inputs\"] = df[\"inputs\"].apply(lambda wrd:[ltrs.lower() for ltrs in wrd if ltrs not in string.punctuation])\n",
    "df[\"inputs\"] = df[\"inputs\"].apply(lambda wrd:\"\".join(wrd))"
   ]
  },
  {
   "cell_type": "code",
   "execution_count": 31,
   "id": "51c28358",
   "metadata": {},
   "outputs": [],
   "source": [
    "# Tokenizer les data\n",
    "tokenizer = Tokenizer(num_words=2000)\n",
    "tokenizer.fit_on_texts(df[\"inputs\"])\n",
    "train = tokenizer.texts_to_sequences(df[\"inputs\"])"
   ]
  },
  {
   "cell_type": "code",
   "execution_count": 43,
   "id": "c87a1f59",
   "metadata": {},
   "outputs": [],
   "source": [
    "# apply padding\n",
    "# x_train = pad_sequences(train)\n",
    "X_data = pad_sequences(train)"
   ]
  },
  {
   "cell_type": "code",
   "execution_count": 44,
   "id": "673566c0",
   "metadata": {},
   "outputs": [],
   "source": [
    "#encoding the outputs\n",
    "le = LabelEncoder()\n",
    "# Y_train = le.fit_transform(df['tags'])\n",
    "y_data = le.fit_transform(df['tags'])"
   ]
  },
  {
   "cell_type": "code",
   "execution_count": 45,
   "id": "c913d9fb",
   "metadata": {},
   "outputs": [
    {
     "name": "stdout",
     "output_type": "stream",
     "text": [
      "5\n"
     ]
    }
   ],
   "source": [
    "# input_shape = x_train.shape[1]\n",
    "input_shape = X_data.shape[1]\n",
    "print(input_shape)"
   ]
  },
  {
   "cell_type": "code",
   "execution_count": 36,
   "id": "b60dafb2",
   "metadata": {},
   "outputs": [
    {
     "name": "stdout",
     "output_type": "stream",
     "text": [
      "number of unique words : 77\n",
      "output length  22\n"
     ]
    }
   ],
   "source": [
    "#define vocabulary\n",
    "vocabulary = len(tokenizer.word_index)\n",
    "print(\"number of unique words :\",vocabulary)\n",
    "output_length = le.classes_.shape[0]\n",
    "print(\"output length \", output_length)"
   ]
  },
  {
   "cell_type": "code",
   "execution_count": 37,
   "id": "d6710e1b",
   "metadata": {},
   "outputs": [],
   "source": [
    "from sklearn.model_selection import train_test_split"
   ]
  },
  {
   "cell_type": "code",
   "execution_count": 42,
   "id": "30401cf1",
   "metadata": {},
   "outputs": [],
   "source": [
    "# X_train, X_test, y_train, y_test = train_test_split(x_train, Y_train, test_size=0.3, random_state=42, stratify=Y_train)\n",
    "X_train_data, X_test, y_train_data, y_test = train_test_split(X_data, y_data, test_size=0.19, random_state=42, stratify=y_data)"
   ]
  },
  {
   "cell_type": "code",
   "execution_count": 49,
   "id": "a1310aa0",
   "metadata": {},
   "outputs": [],
   "source": [
    "X_train, X_val, y_train, y_val = train_test_split(X_train_data, y_train_data, test_size=0.24, random_state=42, stratify=y_train_data)"
   ]
  },
  {
   "cell_type": "code",
   "execution_count": 50,
   "id": "73b5e4a9",
   "metadata": {
    "scrolled": true
   },
   "outputs": [
    {
     "name": "stdout",
     "output_type": "stream",
     "text": [
      "(69, 5)\n",
      "(22, 5)\n",
      "(69,)\n",
      "(22,)\n"
     ]
    }
   ],
   "source": [
    "print(X_train.shape)\n",
    "print(X_test.shape)\n",
    "print(y_train.shape)\n",
    "print(y_test.shape)"
   ]
  },
  {
   "cell_type": "code",
   "execution_count": 51,
   "id": "05118733",
   "metadata": {},
   "outputs": [],
   "source": [
    "#creating model\n",
    "model_sw = Sequential()\n",
    "model_sw.add(Embedding(vocabulary+1,10))\n",
    "model_sw.add(InputLayer(input_shape=(input_shape,)))\n",
    "model_sw.add(SimpleRNN(30))\n",
    "model_sw.add(Dense(output_length, activation=\"softmax\"))"
   ]
  },
  {
   "cell_type": "code",
   "execution_count": 52,
   "id": "9e6fb910",
   "metadata": {},
   "outputs": [],
   "source": [
    "#compile the model\n",
    "model_sw.compile(loss=\"sparse_categorical_crossentropy\",optimizer=\"adam\",metrics=[\"accuracy\"])"
   ]
  },
  {
   "cell_type": "code",
   "execution_count": 53,
   "id": "a9d97779",
   "metadata": {},
   "outputs": [],
   "source": [
    "# early_stopping = callbacks.EarlyStopping(\n",
    "#     patience=20,\n",
    "#     min_delta=0.001,\n",
    "#     restore_best_weights=True,\n",
    "# )"
   ]
  },
  {
   "cell_type": "code",
   "execution_count": 54,
   "id": "fc3b594e",
   "metadata": {},
   "outputs": [],
   "source": [
    "# early_stop = callbacks.EarlyStopping(monitor=\"loss\",mode=\"min\",verbose=1,patience=100)"
   ]
  },
  {
   "cell_type": "code",
   "execution_count": 55,
   "id": "c749c6a1",
   "metadata": {
    "scrolled": true
   },
   "outputs": [
    {
     "name": "stdout",
     "output_type": "stream",
     "text": [
      "Epoch 1/100\n",
      "3/3 [==============================] - 2s 184ms/step - loss: 3.0837 - accuracy: 0.0145 - val_loss: 3.0787 - val_accuracy: 0.1364\n",
      "Epoch 2/100\n",
      "3/3 [==============================] - 0s 22ms/step - loss: 3.0716 - accuracy: 0.0580 - val_loss: 3.0756 - val_accuracy: 0.0455\n",
      "Epoch 3/100\n",
      "3/3 [==============================] - 0s 24ms/step - loss: 3.0620 - accuracy: 0.0870 - val_loss: 3.0730 - val_accuracy: 0.0000e+00\n",
      "Epoch 4/100\n",
      "3/3 [==============================] - 0s 21ms/step - loss: 3.0537 - accuracy: 0.1159 - val_loss: 3.0701 - val_accuracy: 0.0909\n",
      "Epoch 5/100\n",
      "3/3 [==============================] - 0s 20ms/step - loss: 3.0453 - accuracy: 0.1159 - val_loss: 3.0673 - val_accuracy: 0.0909\n",
      "Epoch 6/100\n",
      "3/3 [==============================] - 0s 20ms/step - loss: 3.0369 - accuracy: 0.1159 - val_loss: 3.0645 - val_accuracy: 0.0909\n",
      "Epoch 7/100\n",
      "3/3 [==============================] - 0s 22ms/step - loss: 3.0288 - accuracy: 0.1304 - val_loss: 3.0617 - val_accuracy: 0.1364\n",
      "Epoch 8/100\n",
      "3/3 [==============================] - 0s 21ms/step - loss: 3.0209 - accuracy: 0.1449 - val_loss: 3.0588 - val_accuracy: 0.0909\n",
      "Epoch 9/100\n",
      "3/3 [==============================] - 0s 21ms/step - loss: 3.0122 - accuracy: 0.1884 - val_loss: 3.0561 - val_accuracy: 0.0909\n",
      "Epoch 10/100\n",
      "3/3 [==============================] - 0s 21ms/step - loss: 3.0027 - accuracy: 0.2029 - val_loss: 3.0535 - val_accuracy: 0.0909\n",
      "Epoch 11/100\n",
      "3/3 [==============================] - 0s 20ms/step - loss: 2.9936 - accuracy: 0.2029 - val_loss: 3.0508 - val_accuracy: 0.0909\n",
      "Epoch 12/100\n",
      "3/3 [==============================] - 0s 19ms/step - loss: 2.9846 - accuracy: 0.2029 - val_loss: 3.0477 - val_accuracy: 0.0909\n",
      "Epoch 13/100\n",
      "3/3 [==============================] - 0s 18ms/step - loss: 2.9740 - accuracy: 0.2319 - val_loss: 3.0446 - val_accuracy: 0.0909\n",
      "Epoch 14/100\n",
      "3/3 [==============================] - 0s 20ms/step - loss: 2.9634 - accuracy: 0.2174 - val_loss: 3.0418 - val_accuracy: 0.0909\n",
      "Epoch 15/100\n",
      "3/3 [==============================] - 0s 19ms/step - loss: 2.9522 - accuracy: 0.2029 - val_loss: 3.0381 - val_accuracy: 0.0909\n",
      "Epoch 16/100\n",
      "3/3 [==============================] - 0s 20ms/step - loss: 2.9406 - accuracy: 0.2174 - val_loss: 3.0332 - val_accuracy: 0.0909\n",
      "Epoch 17/100\n",
      "3/3 [==============================] - 0s 18ms/step - loss: 2.9292 - accuracy: 0.2174 - val_loss: 3.0284 - val_accuracy: 0.0909\n",
      "Epoch 18/100\n",
      "3/3 [==============================] - 0s 20ms/step - loss: 2.9174 - accuracy: 0.2319 - val_loss: 3.0232 - val_accuracy: 0.1364\n",
      "Epoch 19/100\n",
      "3/3 [==============================] - 0s 20ms/step - loss: 2.9046 - accuracy: 0.2464 - val_loss: 3.0177 - val_accuracy: 0.1364\n",
      "Epoch 20/100\n",
      "3/3 [==============================] - 0s 20ms/step - loss: 2.8915 - accuracy: 0.2464 - val_loss: 3.0117 - val_accuracy: 0.0909\n",
      "Epoch 21/100\n",
      "3/3 [==============================] - 0s 20ms/step - loss: 2.8795 - accuracy: 0.2609 - val_loss: 3.0064 - val_accuracy: 0.0909\n",
      "Epoch 22/100\n",
      "3/3 [==============================] - 0s 20ms/step - loss: 2.8667 - accuracy: 0.2464 - val_loss: 3.0020 - val_accuracy: 0.0909\n",
      "Epoch 23/100\n",
      "3/3 [==============================] - 0s 20ms/step - loss: 2.8527 - accuracy: 0.2609 - val_loss: 2.9970 - val_accuracy: 0.0909\n",
      "Epoch 24/100\n",
      "3/3 [==============================] - 0s 21ms/step - loss: 2.8372 - accuracy: 0.2319 - val_loss: 2.9904 - val_accuracy: 0.0909\n",
      "Epoch 25/100\n",
      "3/3 [==============================] - 0s 21ms/step - loss: 2.8229 - accuracy: 0.2319 - val_loss: 2.9828 - val_accuracy: 0.0909\n",
      "Epoch 26/100\n",
      "3/3 [==============================] - 0s 19ms/step - loss: 2.8073 - accuracy: 0.2464 - val_loss: 2.9741 - val_accuracy: 0.0909\n",
      "Epoch 27/100\n",
      "3/3 [==============================] - 0s 21ms/step - loss: 2.7930 - accuracy: 0.2609 - val_loss: 2.9653 - val_accuracy: 0.0909\n",
      "Epoch 28/100\n",
      "3/3 [==============================] - 0s 22ms/step - loss: 2.7774 - accuracy: 0.2899 - val_loss: 2.9556 - val_accuracy: 0.0909\n",
      "Epoch 29/100\n",
      "3/3 [==============================] - 0s 24ms/step - loss: 2.7597 - accuracy: 0.3043 - val_loss: 2.9463 - val_accuracy: 0.0909\n",
      "Epoch 30/100\n",
      "3/3 [==============================] - 0s 23ms/step - loss: 2.7427 - accuracy: 0.3478 - val_loss: 2.9371 - val_accuracy: 0.1364\n",
      "Epoch 31/100\n",
      "3/3 [==============================] - 0s 21ms/step - loss: 2.7255 - accuracy: 0.3623 - val_loss: 2.9297 - val_accuracy: 0.1364\n",
      "Epoch 32/100\n",
      "3/3 [==============================] - 0s 20ms/step - loss: 2.7054 - accuracy: 0.3768 - val_loss: 2.9236 - val_accuracy: 0.1364\n",
      "Epoch 33/100\n",
      "3/3 [==============================] - 0s 21ms/step - loss: 2.6882 - accuracy: 0.3768 - val_loss: 2.9177 - val_accuracy: 0.1364\n",
      "Epoch 34/100\n",
      "3/3 [==============================] - 0s 19ms/step - loss: 2.6688 - accuracy: 0.3768 - val_loss: 2.9089 - val_accuracy: 0.1818\n",
      "Epoch 35/100\n",
      "3/3 [==============================] - 0s 19ms/step - loss: 2.6514 - accuracy: 0.3913 - val_loss: 2.8997 - val_accuracy: 0.2273\n",
      "Epoch 36/100\n",
      "3/3 [==============================] - 0s 20ms/step - loss: 2.6340 - accuracy: 0.4058 - val_loss: 2.8876 - val_accuracy: 0.2273\n",
      "Epoch 37/100\n",
      "3/3 [==============================] - 0s 20ms/step - loss: 2.6154 - accuracy: 0.4203 - val_loss: 2.8748 - val_accuracy: 0.2273\n",
      "Epoch 38/100\n",
      "3/3 [==============================] - 0s 23ms/step - loss: 2.5959 - accuracy: 0.4203 - val_loss: 2.8620 - val_accuracy: 0.2273\n",
      "Epoch 39/100\n",
      "3/3 [==============================] - 0s 23ms/step - loss: 2.5728 - accuracy: 0.4928 - val_loss: 2.8487 - val_accuracy: 0.2273\n",
      "Epoch 40/100\n",
      "3/3 [==============================] - 0s 25ms/step - loss: 2.5526 - accuracy: 0.5362 - val_loss: 2.8362 - val_accuracy: 0.2273\n",
      "Epoch 41/100\n",
      "3/3 [==============================] - 0s 26ms/step - loss: 2.5305 - accuracy: 0.5942 - val_loss: 2.8218 - val_accuracy: 0.2273\n",
      "Epoch 42/100\n",
      "3/3 [==============================] - 0s 22ms/step - loss: 2.5086 - accuracy: 0.5942 - val_loss: 2.8055 - val_accuracy: 0.2273\n",
      "Epoch 43/100\n",
      "3/3 [==============================] - 0s 22ms/step - loss: 2.4881 - accuracy: 0.6232 - val_loss: 2.7920 - val_accuracy: 0.2727\n",
      "Epoch 44/100\n",
      "3/3 [==============================] - 0s 21ms/step - loss: 2.4644 - accuracy: 0.6377 - val_loss: 2.7800 - val_accuracy: 0.2727\n",
      "Epoch 45/100\n",
      "3/3 [==============================] - 0s 22ms/step - loss: 2.4404 - accuracy: 0.6667 - val_loss: 2.7664 - val_accuracy: 0.2727\n",
      "Epoch 46/100\n",
      "3/3 [==============================] - 0s 20ms/step - loss: 2.4166 - accuracy: 0.6667 - val_loss: 2.7530 - val_accuracy: 0.2727\n",
      "Epoch 47/100\n",
      "3/3 [==============================] - 0s 20ms/step - loss: 2.3922 - accuracy: 0.6667 - val_loss: 2.7397 - val_accuracy: 0.2727\n",
      "Epoch 48/100\n",
      "3/3 [==============================] - 0s 23ms/step - loss: 2.3675 - accuracy: 0.6667 - val_loss: 2.7284 - val_accuracy: 0.2727\n",
      "Epoch 49/100\n",
      "3/3 [==============================] - 0s 21ms/step - loss: 2.3479 - accuracy: 0.5942 - val_loss: 2.7183 - val_accuracy: 0.2727\n",
      "Epoch 50/100\n",
      "3/3 [==============================] - 0s 21ms/step - loss: 2.3245 - accuracy: 0.6087 - val_loss: 2.7069 - val_accuracy: 0.2727\n",
      "Epoch 51/100\n",
      "3/3 [==============================] - 0s 22ms/step - loss: 2.2953 - accuracy: 0.6232 - val_loss: 2.6943 - val_accuracy: 0.2727\n",
      "Epoch 52/100\n",
      "3/3 [==============================] - 0s 21ms/step - loss: 2.2699 - accuracy: 0.6087 - val_loss: 2.6798 - val_accuracy: 0.3182\n",
      "Epoch 53/100\n",
      "3/3 [==============================] - 0s 19ms/step - loss: 2.2434 - accuracy: 0.6377 - val_loss: 2.6636 - val_accuracy: 0.3182\n",
      "Epoch 54/100\n",
      "3/3 [==============================] - 0s 20ms/step - loss: 2.2176 - accuracy: 0.6522 - val_loss: 2.6513 - val_accuracy: 0.3182\n",
      "Epoch 55/100\n",
      "3/3 [==============================] - 0s 20ms/step - loss: 2.1916 - accuracy: 0.6522 - val_loss: 2.6403 - val_accuracy: 0.3182\n",
      "Epoch 56/100\n",
      "3/3 [==============================] - 0s 21ms/step - loss: 2.1657 - accuracy: 0.6667 - val_loss: 2.6290 - val_accuracy: 0.3182\n",
      "Epoch 57/100\n",
      "3/3 [==============================] - 0s 21ms/step - loss: 2.1401 - accuracy: 0.6957 - val_loss: 2.6185 - val_accuracy: 0.3182\n",
      "Epoch 58/100\n",
      "3/3 [==============================] - 0s 23ms/step - loss: 2.1111 - accuracy: 0.6812 - val_loss: 2.6071 - val_accuracy: 0.3182\n",
      "Epoch 59/100\n"
     ]
    },
    {
     "name": "stdout",
     "output_type": "stream",
     "text": [
      "3/3 [==============================] - 0s 21ms/step - loss: 2.0811 - accuracy: 0.6667 - val_loss: 2.5966 - val_accuracy: 0.2727\n",
      "Epoch 60/100\n",
      "3/3 [==============================] - 0s 21ms/step - loss: 2.0542 - accuracy: 0.6667 - val_loss: 2.5869 - val_accuracy: 0.2727\n",
      "Epoch 61/100\n",
      "3/3 [==============================] - 0s 20ms/step - loss: 2.0289 - accuracy: 0.6667 - val_loss: 2.5775 - val_accuracy: 0.2727\n",
      "Epoch 62/100\n",
      "3/3 [==============================] - 0s 20ms/step - loss: 2.0019 - accuracy: 0.6812 - val_loss: 2.5633 - val_accuracy: 0.2727\n",
      "Epoch 63/100\n",
      "3/3 [==============================] - 0s 20ms/step - loss: 1.9722 - accuracy: 0.6812 - val_loss: 2.5462 - val_accuracy: 0.2727\n",
      "Epoch 64/100\n",
      "3/3 [==============================] - 0s 18ms/step - loss: 1.9477 - accuracy: 0.6957 - val_loss: 2.5300 - val_accuracy: 0.2727\n",
      "Epoch 65/100\n",
      "3/3 [==============================] - 0s 21ms/step - loss: 1.9194 - accuracy: 0.6957 - val_loss: 2.5140 - val_accuracy: 0.3182\n",
      "Epoch 66/100\n",
      "3/3 [==============================] - 0s 21ms/step - loss: 1.8923 - accuracy: 0.6812 - val_loss: 2.5003 - val_accuracy: 0.3182\n",
      "Epoch 67/100\n",
      "3/3 [==============================] - 0s 21ms/step - loss: 1.8681 - accuracy: 0.6812 - val_loss: 2.4896 - val_accuracy: 0.2727\n",
      "Epoch 68/100\n",
      "3/3 [==============================] - 0s 20ms/step - loss: 1.8434 - accuracy: 0.6957 - val_loss: 2.4797 - val_accuracy: 0.2727\n",
      "Epoch 69/100\n",
      "3/3 [==============================] - 0s 20ms/step - loss: 1.8165 - accuracy: 0.6957 - val_loss: 2.4725 - val_accuracy: 0.2273\n",
      "Epoch 70/100\n",
      "3/3 [==============================] - 0s 19ms/step - loss: 1.7935 - accuracy: 0.6812 - val_loss: 2.4654 - val_accuracy: 0.2273\n",
      "Epoch 71/100\n",
      "3/3 [==============================] - 0s 20ms/step - loss: 1.7672 - accuracy: 0.6812 - val_loss: 2.4563 - val_accuracy: 0.2273\n",
      "Epoch 72/100\n",
      "3/3 [==============================] - 0s 18ms/step - loss: 1.7429 - accuracy: 0.6812 - val_loss: 2.4442 - val_accuracy: 0.2727\n",
      "Epoch 73/100\n",
      "3/3 [==============================] - 0s 21ms/step - loss: 1.7192 - accuracy: 0.6812 - val_loss: 2.4269 - val_accuracy: 0.2727\n",
      "Epoch 74/100\n",
      "3/3 [==============================] - 0s 19ms/step - loss: 1.6971 - accuracy: 0.6812 - val_loss: 2.4132 - val_accuracy: 0.3182\n",
      "Epoch 75/100\n",
      "3/3 [==============================] - 0s 19ms/step - loss: 1.6745 - accuracy: 0.6812 - val_loss: 2.4047 - val_accuracy: 0.2727\n",
      "Epoch 76/100\n",
      "3/3 [==============================] - 0s 20ms/step - loss: 1.6519 - accuracy: 0.6812 - val_loss: 2.4016 - val_accuracy: 0.2727\n",
      "Epoch 77/100\n",
      "3/3 [==============================] - 0s 20ms/step - loss: 1.6297 - accuracy: 0.6957 - val_loss: 2.3945 - val_accuracy: 0.2727\n",
      "Epoch 78/100\n",
      "3/3 [==============================] - 0s 22ms/step - loss: 1.6100 - accuracy: 0.7101 - val_loss: 2.3841 - val_accuracy: 0.2727\n",
      "Epoch 79/100\n",
      "3/3 [==============================] - 0s 21ms/step - loss: 1.5860 - accuracy: 0.6957 - val_loss: 2.3689 - val_accuracy: 0.2727\n",
      "Epoch 80/100\n",
      "3/3 [==============================] - 0s 18ms/step - loss: 1.5638 - accuracy: 0.7101 - val_loss: 2.3545 - val_accuracy: 0.2727\n",
      "Epoch 81/100\n",
      "3/3 [==============================] - 0s 18ms/step - loss: 1.5453 - accuracy: 0.7101 - val_loss: 2.3387 - val_accuracy: 0.2727\n",
      "Epoch 82/100\n",
      "3/3 [==============================] - 0s 20ms/step - loss: 1.5231 - accuracy: 0.7246 - val_loss: 2.3227 - val_accuracy: 0.2727\n",
      "Epoch 83/100\n",
      "3/3 [==============================] - 0s 19ms/step - loss: 1.4991 - accuracy: 0.7246 - val_loss: 2.3089 - val_accuracy: 0.2727\n",
      "Epoch 84/100\n",
      "3/3 [==============================] - 0s 18ms/step - loss: 1.4755 - accuracy: 0.7391 - val_loss: 2.2955 - val_accuracy: 0.2727\n",
      "Epoch 85/100\n",
      "3/3 [==============================] - 0s 19ms/step - loss: 1.4544 - accuracy: 0.7536 - val_loss: 2.2817 - val_accuracy: 0.3182\n",
      "Epoch 86/100\n",
      "3/3 [==============================] - 0s 20ms/step - loss: 1.4317 - accuracy: 0.7681 - val_loss: 2.2703 - val_accuracy: 0.3182\n",
      "Epoch 87/100\n",
      "3/3 [==============================] - 0s 20ms/step - loss: 1.4119 - accuracy: 0.7681 - val_loss: 2.2634 - val_accuracy: 0.3182\n",
      "Epoch 88/100\n",
      "3/3 [==============================] - 0s 18ms/step - loss: 1.3939 - accuracy: 0.7536 - val_loss: 2.2634 - val_accuracy: 0.3182\n",
      "Epoch 89/100\n",
      "3/3 [==============================] - 0s 20ms/step - loss: 1.3791 - accuracy: 0.7391 - val_loss: 2.2627 - val_accuracy: 0.3182\n",
      "Epoch 90/100\n",
      "3/3 [==============================] - 0s 20ms/step - loss: 1.3650 - accuracy: 0.7246 - val_loss: 2.2500 - val_accuracy: 0.3182\n",
      "Epoch 91/100\n",
      "3/3 [==============================] - 0s 21ms/step - loss: 1.3417 - accuracy: 0.7536 - val_loss: 2.2360 - val_accuracy: 0.3182\n",
      "Epoch 92/100\n",
      "3/3 [==============================] - 0s 18ms/step - loss: 1.3185 - accuracy: 0.7536 - val_loss: 2.2228 - val_accuracy: 0.3182\n",
      "Epoch 93/100\n",
      "3/3 [==============================] - 0s 20ms/step - loss: 1.2990 - accuracy: 0.7681 - val_loss: 2.2089 - val_accuracy: 0.3182\n",
      "Epoch 94/100\n",
      "3/3 [==============================] - 0s 22ms/step - loss: 1.2821 - accuracy: 0.7826 - val_loss: 2.1984 - val_accuracy: 0.3182\n",
      "Epoch 95/100\n",
      "3/3 [==============================] - 0s 20ms/step - loss: 1.2660 - accuracy: 0.7826 - val_loss: 2.1873 - val_accuracy: 0.3182\n",
      "Epoch 96/100\n",
      "3/3 [==============================] - 0s 19ms/step - loss: 1.2475 - accuracy: 0.7971 - val_loss: 2.1792 - val_accuracy: 0.3182\n",
      "Epoch 97/100\n",
      "3/3 [==============================] - 0s 21ms/step - loss: 1.2269 - accuracy: 0.7971 - val_loss: 2.1738 - val_accuracy: 0.3182\n",
      "Epoch 98/100\n",
      "3/3 [==============================] - 0s 20ms/step - loss: 1.2091 - accuracy: 0.7971 - val_loss: 2.1694 - val_accuracy: 0.3182\n",
      "Epoch 99/100\n",
      "3/3 [==============================] - 0s 19ms/step - loss: 1.1932 - accuracy: 0.7826 - val_loss: 2.1608 - val_accuracy: 0.3182\n",
      "Epoch 100/100\n",
      "3/3 [==============================] - 0s 19ms/step - loss: 1.1760 - accuracy: 0.7971 - val_loss: 2.1466 - val_accuracy: 0.3182\n"
     ]
    }
   ],
   "source": [
    "# history = model_sw.fit(x_train, Y_train, epochs=100)\n",
    "history = model_sw.fit(X_train,y_train, epochs=100, validation_data=(X_val, y_val))\n",
    "# history = model_sw.fit(X_train,y_train, epochs=100, validation_split=0.3,callbacks=[early_stopping])\n",
    "# pas de batch_size ?!"
   ]
  },
  {
   "cell_type": "code",
   "execution_count": 56,
   "id": "192d37b5",
   "metadata": {
    "scrolled": false
   },
   "outputs": [
    {
     "data": {
      "image/png": "[encoded data removed]",
      "text/plain": [
       "<Figure size 720x360 with 1 Axes>"
      ]
     },
     "metadata": {
      "needs_background": "light"
     },
     "output_type": "display_data"
    },
    {
     "data": {
      "image/png": "[encoded data removed]",
      "text/plain": [
       "<Figure size 720x360 with 1 Axes>"
      ]
     },
     "metadata": {
      "needs_background": "light"
     },
     "output_type": "display_data"
    }
   ],
   "source": [
    "# #plotting model accuracy\n",
    "# plt.plot(train_sw.history['accuracy'], label=\"training set accuracy\")\n",
    "# plt.plot(train_sw.history[\"loss\"], label =\"training set loss\")\n",
    "# plt.legend()\n",
    "\n",
    "plt.figure(figsize=(10,5))\n",
    "\n",
    "# summarize history for mae\n",
    "plt.plot(history.history['accuracy'])\n",
    "plt.plot(history.history['val_accuracy'])\n",
    "plt.title('Learning Curve')\n",
    "plt.ylabel('Error')\n",
    "plt.xlabel('epoch')\n",
    "plt.legend(['train', 'test'], loc='upper left')\n",
    "plt.show()\n",
    "\n",
    "# summarize history for loss\n",
    "plt.figure(figsize=(10,5))\n",
    "plt.plot(history.history['loss'])\n",
    "plt.plot(history.history['val_loss'])\n",
    "plt.title('model loss')\n",
    "plt.ylabel('loss')\n",
    "plt.xlabel('epoch')\n",
    "plt.legend(['train', 'test'], loc='upper left')\n",
    "plt.show()"
   ]
  },
  {
   "cell_type": "code",
   "execution_count": 44,
   "id": "1ac3fb4a",
   "metadata": {},
   "outputs": [
    {
     "ename": "KeyboardInterrupt",
     "evalue": "Interrupted by user",
     "output_type": "error",
     "traceback": [
      "\u001b[1;31m---------------------------------------------------------------------------\u001b[0m",
      "\u001b[1;31mKeyboardInterrupt\u001b[0m                         Traceback (most recent call last)",
      "\u001b[1;32m<ipython-input-44-1cd8e720cc32>\u001b[0m in \u001b[0;36m<module>\u001b[1;34m\u001b[0m\n\u001b[0;32m      1\u001b[0m \u001b[1;32mwhile\u001b[0m \u001b[1;32mTrue\u001b[0m\u001b[1;33m:\u001b[0m\u001b[1;33m\u001b[0m\u001b[1;33m\u001b[0m\u001b[0m\n\u001b[0;32m      2\u001b[0m     \u001b[0mtexts_p\u001b[0m \u001b[1;33m=\u001b[0m \u001b[1;33m[\u001b[0m\u001b[1;33m]\u001b[0m\u001b[1;33m\u001b[0m\u001b[1;33m\u001b[0m\u001b[0m\n\u001b[1;32m----> 3\u001b[1;33m     \u001b[0mprediction_input\u001b[0m \u001b[1;33m=\u001b[0m \u001b[0minput\u001b[0m\u001b[1;33m(\u001b[0m\u001b[1;34m\"You : \"\u001b[0m\u001b[1;33m)\u001b[0m\u001b[1;33m\u001b[0m\u001b[1;33m\u001b[0m\u001b[0m\n\u001b[0m\u001b[0;32m      4\u001b[0m \u001b[1;33m\u001b[0m\u001b[0m\n\u001b[0;32m      5\u001b[0m     \u001b[1;31m#removing punctuation and converting to lowercase\u001b[0m\u001b[1;33m\u001b[0m\u001b[1;33m\u001b[0m\u001b[1;33m\u001b[0m\u001b[0m\n",
      "\u001b[1;32m~\\Anaconda3\\lib\\site-packages\\ipykernel\\kernelbase.py\u001b[0m in \u001b[0;36mraw_input\u001b[1;34m(self, prompt)\u001b[0m\n\u001b[0;32m    858\u001b[0m                 \u001b[1;34m\"raw_input was called, but this frontend does not support input requests.\"\u001b[0m\u001b[1;33m\u001b[0m\u001b[1;33m\u001b[0m\u001b[0m\n\u001b[0;32m    859\u001b[0m             )\n\u001b[1;32m--> 860\u001b[1;33m         return self._input_request(str(prompt),\n\u001b[0m\u001b[0;32m    861\u001b[0m             \u001b[0mself\u001b[0m\u001b[1;33m.\u001b[0m\u001b[0m_parent_ident\u001b[0m\u001b[1;33m,\u001b[0m\u001b[1;33m\u001b[0m\u001b[1;33m\u001b[0m\u001b[0m\n\u001b[0;32m    862\u001b[0m             \u001b[0mself\u001b[0m\u001b[1;33m.\u001b[0m\u001b[0m_parent_header\u001b[0m\u001b[1;33m,\u001b[0m\u001b[1;33m\u001b[0m\u001b[1;33m\u001b[0m\u001b[0m\n",
      "\u001b[1;32m~\\Anaconda3\\lib\\site-packages\\ipykernel\\kernelbase.py\u001b[0m in \u001b[0;36m_input_request\u001b[1;34m(self, prompt, ident, parent, password)\u001b[0m\n\u001b[0;32m    902\u001b[0m             \u001b[1;32mexcept\u001b[0m \u001b[0mKeyboardInterrupt\u001b[0m\u001b[1;33m:\u001b[0m\u001b[1;33m\u001b[0m\u001b[1;33m\u001b[0m\u001b[0m\n\u001b[0;32m    903\u001b[0m                 \u001b[1;31m# re-raise KeyboardInterrupt, to truncate traceback\u001b[0m\u001b[1;33m\u001b[0m\u001b[1;33m\u001b[0m\u001b[1;33m\u001b[0m\u001b[0m\n\u001b[1;32m--> 904\u001b[1;33m                 \u001b[1;32mraise\u001b[0m \u001b[0mKeyboardInterrupt\u001b[0m\u001b[1;33m(\u001b[0m\u001b[1;34m\"Interrupted by user\"\u001b[0m\u001b[1;33m)\u001b[0m \u001b[1;32mfrom\u001b[0m \u001b[1;32mNone\u001b[0m\u001b[1;33m\u001b[0m\u001b[1;33m\u001b[0m\u001b[0m\n\u001b[0m\u001b[0;32m    905\u001b[0m             \u001b[1;32mexcept\u001b[0m \u001b[0mException\u001b[0m \u001b[1;32mas\u001b[0m \u001b[0me\u001b[0m\u001b[1;33m:\u001b[0m\u001b[1;33m\u001b[0m\u001b[1;33m\u001b[0m\u001b[0m\n\u001b[0;32m    906\u001b[0m                 \u001b[0mself\u001b[0m\u001b[1;33m.\u001b[0m\u001b[0mlog\u001b[0m\u001b[1;33m.\u001b[0m\u001b[0mwarning\u001b[0m\u001b[1;33m(\u001b[0m\u001b[1;34m\"Invalid Message:\"\u001b[0m\u001b[1;33m,\u001b[0m \u001b[0mexc_info\u001b[0m\u001b[1;33m=\u001b[0m\u001b[1;32mTrue\u001b[0m\u001b[1;33m)\u001b[0m\u001b[1;33m\u001b[0m\u001b[1;33m\u001b[0m\u001b[0m\n",
      "\u001b[1;31mKeyboardInterrupt\u001b[0m: Interrupted by user"
     ]
    }
   ],
   "source": [
    "while True:\n",
    "    texts_p = []\n",
    "    prediction_input = input(\"You : \")\n",
    "    \n",
    "    #removing punctuation and converting to lowercase\n",
    "    prediction_input = [letters.lower() for letters in prediction_input if letters not in string.punctuation]\n",
    "    prediction_input = \"\".join(prediction_input)\n",
    "    texts_p.append(prediction_input)\n",
    "    \n",
    "    #tokenizing and padding\n",
    "    prediction_input = tokenizer.texts_to_sequences(texts_p)\n",
    "    prediction_input = np.array(prediction_input).reshape(-1)\n",
    "    prediction_input = pad_sequences([prediction_input],input_shape)\n",
    "    \n",
    "    #getting output from model\n",
    "    output = model_sw.predict(prediction_input)\n",
    "    output = output.argmax()\n",
    "    \n",
    "    #finding the right tag and predicting\n",
    "    response_tag = le.inverse_transform([output])[0]\n",
    "    print(\"Bot :\",random.choice(responses[response_tag]))\n",
    "    if response_tag == \"goodbye\" :\n",
    "        break"
   ]
  }
 ],
 "metadata": {
  "kernelspec": {
   "display_name": "Python 3",
   "language": "python",
   "name": "python3"
  },
  "language_info": {
   "codemirror_mode": {
    "name": "ipython",
    "version": 3
   },
   "file_extension": ".py",
   "mimetype": "text/x-python",
   "name": "python",
   "nbconvert_exporter": "python",
   "pygments_lexer": "ipython3",
   "version": "3.8.8"
  }
 },
 "nbformat": 4,
 "nbformat_minor": 5
}
