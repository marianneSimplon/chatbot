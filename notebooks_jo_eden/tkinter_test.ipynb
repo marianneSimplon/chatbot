{
 "cells": [
  {
   "cell_type": "code",
   "execution_count": 105,
   "id": "a9d31fd4",
   "metadata": {},
   "outputs": [],
   "source": [
    "from tkinter import *\n",
    "from tkinter import Button\n",
    "import string\n",
    "import pickle"
   ]
  },
  {
   "cell_type": "code",
   "execution_count": 2,
   "id": "9afa4136",
   "metadata": {},
   "outputs": [],
   "source": [
    "def cleaner(x):\n",
    "    return [a for a in (''.join([a for a in x if a not in string.punctuation])).lower().split()]"
   ]
  },
  {
   "cell_type": "code",
   "execution_count": 3,
   "id": "5b66d3aa",
   "metadata": {},
   "outputs": [],
   "source": [
    "with open('ensemble_model_pickle.pkl', 'rb') as file:\n",
    "    model = pickle.load(file)"
   ]
  },
  {
   "cell_type": "code",
   "execution_count": 4,
   "id": "7149028a",
   "metadata": {},
   "outputs": [
    {
     "data": {
      "text/plain": [
       "Pipeline(steps=[('bow',\n",
       "                 CountVectorizer(analyzer=<function cleaner at 0x0000025175A99E50>)),\n",
       "                ('tfidf', TfidfTransformer()),\n",
       "                ('classifier', DecisionTreeClassifier())])"
      ]
     },
     "execution_count": 4,
     "metadata": {},
     "output_type": "execute_result"
    }
   ],
   "source": [
    "model.transform()"
   ]
  },
  {
   "cell_type": "code",
   "execution_count": null,
   "id": "d92a2b16",
   "metadata": {},
   "outputs": [
    {
     "name": "stdout",
     "output_type": "stream",
     "text": [
      "you  h\n",
      "you  e\n",
      "you  l\n",
      "you  l\n",
      "you  o\n",
      "['h', 'e', 'l', 'l', 'o']\n"
     ]
    },
    {
     "name": "stderr",
     "output_type": "stream",
     "text": [
      "Exception in Tkinter callback\n",
      "Traceback (most recent call last):\n",
      "  File \"C:\\Users\\SImplon.co\\anaconda3\\lib\\tkinter\\__init__.py\", line 1892, in __call__\n",
      "    return self.func(*args)\n",
      "  File \"<ipython-input-160-f7514630ed33>\", line 32, in send\n",
      "    text.insert(END, answer)\n",
      "  File \"C:\\Users\\SImplon.co\\anaconda3\\lib\\tkinter\\__init__.py\", line 3743, in insert\n",
      "    self.tk.call((self._w, 'insert', index, chars) + args)\n",
      "_tkinter.TclError: wrong # args: should be \".!text insert index chars ?tagList chars tagList ...?\"\n"
     ]
    }
   ],
   "source": [
    "#that create the window\n",
    "window=Tk()\n",
    "\n",
    "#if we can found how to put the command enter this could be good for now it's just prints what we are typing for the conversation \n",
    "def on_keyboard_press(event):\n",
    "    print(\"you  \" + event.keysym)\n",
    "\n",
    "def predict(user_input):\n",
    "    user_input = e.get()\n",
    "##     print(type(user_input))\n",
    "    user_input = list(user_input)\n",
    "#     print(type(user_input))\n",
    "    user_input = ''.join(user_input)\n",
    "    print(list(user_input))\n",
    "#     answer = model.predict(list(user_input))\n",
    "    answer = model.predict(list(user_input))\n",
    "#     print(answer)\n",
    "#     answer = model.predict(user_input)\n",
    "#     print(answer)\n",
    "#     return answer\n",
    "    \n",
    "# get return the entry's current text as a string\n",
    "def send():\n",
    "    send = \"You : \" + e.get()\n",
    "#     user_input = e.get()\n",
    "#     user_input = list(user_input)\n",
    "#     print(user_input)\n",
    "#     user_input = ''.join(user_input)\n",
    "#     print(user_input)\n",
    "#     print(user_input)\n",
    "    answer = predict(user_input)\n",
    "    #this shows how his sending the message \n",
    "    text.insert(END, answer)\n",
    "\n",
    "window.title(\"Chatbot\")\n",
    "# button_quit = Button(window , text=\"exit program\" , command=window.quit)\n",
    "#this create a text window name Chatbot the size is per default for now\n",
    "text = Text(window)\n",
    "#this is the packages that help creating the window\n",
    "text.grid(row=0 , column=0  )\n",
    "#tbis is to know where the position is going to be it also set the width and columns of the writting part\n",
    "e=Entry(window , width=100)\n",
    "#creation of the send button\n",
    "send=Button(window , text=\"send\", command=send)\n",
    "#position of the send button\n",
    "send.grid(row=1 , column=1)\n",
    "#lets set the position of the rectangle for the writting part!\n",
    "e.grid(row=1 , column =0  )\n",
    "#set the position on the send button \n",
    "window.bind(\"<Key>\", on_keyboard_press)\n",
    "#this is to update the mainlooP\n",
    "window.mainloop()"
   ]
  },
  {
   "cell_type": "code",
   "execution_count": 44,
   "id": "5a3c895f",
   "metadata": {},
   "outputs": [],
   "source": [
    "# import tkinter as tk\n",
    "\n",
    "# def fahrenheit_to_celsius():\n",
    "#     \"\"\"Convert the value for Fahrenheit to Celsius and insert the\n",
    "#     result into lbl_result.\n",
    "#     \"\"\"\n",
    "#     fahrenheit = ent_temperature.get()\n",
    "#     celsius = (5/9) * (float(fahrenheit) - 32)\n",
    "#     lbl_result[\"text\"] = f\"{round(celsius, 2)} \\N{DEGREE CELSIUS}\"\n",
    "\n",
    "# # Set-up the window\n",
    "# window = tk.Tk()\n",
    "# window.title(\"Chatbot\")\n",
    "# window.resizable(width=True, height=True)\n",
    "\n",
    "# txt_edit = tk.Text(window)\n",
    "# fr_buttons = tk.Frame(window)\n",
    "\n",
    "# # # Create the Fahrenheit entry frame with an Entry\n",
    "# # # widget and label in it\n",
    "# # frm_entry = tk.Frame(master=window)\n",
    "# # ent_temperature = tk.Entry(master=frm_entry, width=10)\n",
    "# # lbl_temp = tk.Label(master=frm_entry, text=\"\\N{DEGREE FAHRENHEIT}\")\n",
    "\n",
    "# # # Layout the temperature Entry and Label in frm_entry\n",
    "# # # using the .grid() geometry manager\n",
    "# # ent_temperature.grid(row=0, column=0, sticky=\"e\")\n",
    "# # lbl_temp.grid(row=0, column=1, sticky=\"w\")\n",
    "\n",
    "# # # Create the conversion Button and result display Label\n",
    "# # btn_convert = tk.Button(\n",
    "# #     master=window,\n",
    "# #     text=\"\\N{RIGHTWARDS BLACK ARROW}\",\n",
    "# #     command=fahrenheit_to_celsius\n",
    "# # )\n",
    "# # lbl_result = tk.Label(master=window, text=\"\\N{DEGREE CELSIUS}\")\n",
    "\n",
    "# # Set-up the layout using the .grid() geometry manager\n",
    "# fr_buttons.grid(row=10, column=10, padx=10)\n",
    "# # btn_convert.grid(row=0, column=1, pady=10)\n",
    "# # lbl_result.grid(row=0, column=2, padx=10)\n",
    "\n",
    "# # Run the application\n",
    "# window.mainloop()"
   ]
  },
  {
   "cell_type": "code",
   "execution_count": 144,
   "id": "be88d736",
   "metadata": {},
   "outputs": [],
   "source": [
    "# def predict(user_input):\n",
    "#     user_input = list(user_input)\n",
    "#     answer = model.predict(user_input)[0]\n",
    "#     return answer\n",
    "\n",
    "\n",
    "# def send():\n",
    "#     send = \"You : \" + e.get()\n",
    "# #     predict(user_input)\n",
    "#     #this shows how his sending the message \n",
    "#     text.insert(END , \"\\n\" + send)\n",
    "    \n",
    "# root = Tk()\n",
    "\n",
    "# root.title(\"Chat Bot\")\n",
    "# root.geometry(\"400x500\")\n",
    "# root.resizable(width=FALSE, height=FALSE)\n",
    "\n",
    "# # window.title(\"Chatbot\")\n",
    "# #this create a text window name Chatbot the size is per default for now\n",
    "# text = Text(root)\n",
    "# #this is the packages that help creating the window\n",
    "# text.grid(row=0 , column=0  )\n",
    "# #tbis is to know where the position is going to be it also set the width and columns of the writting part\n",
    "# e=tk.Entry(root , width=100)\n",
    "# #creation of the send button\n",
    "# # send=Button(window , text=\"send\", command=send)\n",
    "\n",
    "# # chatWindow = Text(root, bd=1, bg=\"green\",  width=\"50\", height=\"8\", font=(\"Arial\", 23), foreground=\"#00ffff\")\n",
    "# # chatWindow.place(x=6,y=6, height=385, width=370)\n",
    "\n",
    "# messageWindow = Text(root, bd=0, bg=\"black\",width=\"30\", height=\"4\", font=(\"Arial\", 23), foreground=\"#00ffff\")\n",
    "# messageWindow.place(x=128, y=400, height=88, width=260)\n",
    "\n",
    "# scrollbar = Scrollbar(root, command=chatWindow.yview, cursor=\"star\")\n",
    "# scrollbar.place(x=375,y=5, height=385)\n",
    "\n",
    "# # sendMessage=Button(root , text=\"send\", command=send)\n",
    "# # sendMessage = Button(root, text=\"Send\",  width=\"12\", height=5, bd=0, bg=\"#0080ff\", activebackground=\"#00bfff\",foreground='#ffffff',font=(\"Arial\", 12))\n",
    "# sendMessage = Button(root, text=\"Send\",  width=\"12\", height=5, bd=0, command=send)\n",
    "# sendMessage.place(x=6, y=400, height=88)\n",
    "\n",
    "# # entry = tk.Entry()\n",
    "# # entry.pack()\n",
    "# # user_input = entry.get()\n",
    "# # entry.insert(0, user_input)\n",
    "\n",
    "# root.mainloop()"
   ]
  }
 ],
 "metadata": {
  "kernelspec": {
   "display_name": "Python 3",
   "language": "python",
   "name": "python3"
  },
  "language_info": {
   "codemirror_mode": {
    "name": "ipython",
    "version": 3
   },
   "file_extension": ".py",
   "mimetype": "text/x-python",
   "name": "python",
   "nbconvert_exporter": "python",
   "pygments_lexer": "ipython3",
   "version": "3.8.8"
  },
  "toc": {
   "base_numbering": 1,
   "nav_menu": {},
   "number_sections": true,
   "sideBar": true,
   "skip_h1_title": false,
   "title_cell": "Table of Contents",
   "title_sidebar": "Contents",
   "toc_cell": false,
   "toc_position": {},
   "toc_section_display": true,
   "toc_window_display": false
  },
  "varInspector": {
   "cols": {
    "lenName": 16,
    "lenType": 16,
    "lenVar": 40
   },
   "kernels_config": {
    "python": {
     "delete_cmd_postfix": "",
     "delete_cmd_prefix": "del ",
     "library": "var_list.py",
     "varRefreshCmd": "print(var_dic_list())"
    },
    "r": {
     "delete_cmd_postfix": ") ",
     "delete_cmd_prefix": "rm(",
     "library": "var_list.r",
     "varRefreshCmd": "cat(var_dic_list()) "
    }
   },
   "types_to_exclude": [
    "module",
    "function",
    "builtin_function_or_method",
    "instance",
    "_Feature"
   ],
   "window_display": false
  }
 },
 "nbformat": 4,
 "nbformat_minor": 5
}
