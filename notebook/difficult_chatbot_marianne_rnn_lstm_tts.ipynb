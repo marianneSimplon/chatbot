{
 "cells": [
  {
   "cell_type": "code",
   "execution_count": 34,
   "id": "6911229e",
   "metadata": {},
   "outputs": [],
   "source": [
    "import json \n",
    "import numpy as np \n",
    "import pandas as pd\n",
    "import matplotlib.pyplot as plt\n",
    "import random\n",
    "\n",
    "import string\n",
    "# import nltk\n",
    "from nltk import *\n",
    "from nltk.stem import WordNetLemmatizer\n",
    "from nltk.corpus import stopwords\n",
    "from nltk.tokenize import word_tokenize\n",
    "\n",
    "import tensorflow as tf\n",
    "from tensorflow import keras\n",
    "from tensorflow.keras.layers import Dense, Embedding, GlobalAveragePooling1D , Activation\n",
    "from tensorflow.keras.preprocessing.text import Tokenizer\n",
    "from tensorflow.keras.preprocessing.sequence import pad_sequences\n",
    "from sklearn.preprocessing import LabelEncoder\n",
    "\n",
    "from tensorflow.keras import Sequential\n",
    "from tensorflow.keras.layers import InputLayer\n",
    "from tensorflow.keras.layers import SimpleRNN\n",
    "from tensorflow.keras.layers import LSTM\n",
    "from tensorflow.keras.layers import Flatten\n",
    "from tensorflow.keras.layers import Dropout\n",
    "from tensorflow.keras import callbacks"
   ]
  },
  {
   "cell_type": "code",
   "execution_count": 3,
   "id": "05fcbb44",
   "metadata": {},
   "outputs": [],
   "source": [
    "with open(\"../data/Intent.json\") as train_file:\n",
    "    df= json.load(train_file)"
   ]
  },
  {
   "cell_type": "markdown",
   "id": "3bcc17f8",
   "metadata": {},
   "source": [
    "# TOKENIZATION"
   ]
  },
  {
   "cell_type": "code",
   "execution_count": 4,
   "id": "77c25541",
   "metadata": {},
   "outputs": [
    {
     "data": {
      "text/plain": [
       "'Greeting'"
      ]
     },
     "execution_count": 4,
     "metadata": {},
     "output_type": "execute_result"
    }
   ],
   "source": [
    "df[\"intents\"][0][\"intent\"]"
   ]
  },
  {
   "cell_type": "code",
   "execution_count": 5,
   "id": "a82bd075",
   "metadata": {},
   "outputs": [
    {
     "data": {
      "text/html": [
       "<div>\n",
       "<style scoped>\n",
       "    .dataframe tbody tr th:only-of-type {\n",
       "        vertical-align: middle;\n",
       "    }\n",
       "\n",
       "    .dataframe tbody tr th {\n",
       "        vertical-align: top;\n",
       "    }\n",
       "\n",
       "    .dataframe thead th {\n",
       "        text-align: right;\n",
       "    }\n",
       "</style>\n",
       "<table border=\"1\" class=\"dataframe\">\n",
       "  <thead>\n",
       "    <tr style=\"text-align: right;\">\n",
       "      <th></th>\n",
       "      <th>inputs</th>\n",
       "      <th>tags</th>\n",
       "    </tr>\n",
       "  </thead>\n",
       "  <tbody>\n",
       "    <tr>\n",
       "      <th>0</th>\n",
       "      <td>Hi</td>\n",
       "      <td>Greeting</td>\n",
       "    </tr>\n",
       "    <tr>\n",
       "      <th>1</th>\n",
       "      <td>Hi there</td>\n",
       "      <td>Greeting</td>\n",
       "    </tr>\n",
       "    <tr>\n",
       "      <th>2</th>\n",
       "      <td>Hola</td>\n",
       "      <td>Greeting</td>\n",
       "    </tr>\n",
       "    <tr>\n",
       "      <th>3</th>\n",
       "      <td>Hello</td>\n",
       "      <td>Greeting</td>\n",
       "    </tr>\n",
       "    <tr>\n",
       "      <th>4</th>\n",
       "      <td>Hello there</td>\n",
       "      <td>Greeting</td>\n",
       "    </tr>\n",
       "    <tr>\n",
       "      <th>...</th>\n",
       "      <td>...</td>\n",
       "      <td>...</td>\n",
       "    </tr>\n",
       "    <tr>\n",
       "      <th>138</th>\n",
       "      <td>Can you prove you have a conscious</td>\n",
       "      <td>SelfAware</td>\n",
       "    </tr>\n",
       "    <tr>\n",
       "      <th>139</th>\n",
       "      <td>Can you prove you are self-aware please</td>\n",
       "      <td>SelfAware</td>\n",
       "    </tr>\n",
       "    <tr>\n",
       "      <th>140</th>\n",
       "      <td>Can you prove you are self aware please</td>\n",
       "      <td>SelfAware</td>\n",
       "    </tr>\n",
       "    <tr>\n",
       "      <th>141</th>\n",
       "      <td>Can you prove you have a conscious please</td>\n",
       "      <td>SelfAware</td>\n",
       "    </tr>\n",
       "    <tr>\n",
       "      <th>142</th>\n",
       "      <td>prove you have a conscious</td>\n",
       "      <td>SelfAware</td>\n",
       "    </tr>\n",
       "  </tbody>\n",
       "</table>\n",
       "<p>143 rows × 2 columns</p>\n",
       "</div>"
      ],
      "text/plain": [
       "                                        inputs       tags\n",
       "0                                           Hi   Greeting\n",
       "1                                     Hi there   Greeting\n",
       "2                                         Hola   Greeting\n",
       "3                                        Hello   Greeting\n",
       "4                                  Hello there   Greeting\n",
       "..                                         ...        ...\n",
       "138         Can you prove you have a conscious  SelfAware\n",
       "139    Can you prove you are self-aware please  SelfAware\n",
       "140    Can you prove you are self aware please  SelfAware\n",
       "141  Can you prove you have a conscious please  SelfAware\n",
       "142                 prove you have a conscious  SelfAware\n",
       "\n",
       "[143 rows x 2 columns]"
      ]
     },
     "execution_count": 5,
     "metadata": {},
     "output_type": "execute_result"
    }
   ],
   "source": [
    "tags = []\n",
    "inputs = []\n",
    "responses = {}\n",
    "\n",
    "for intent in df['intents']:\n",
    "    responses[intent['intent']] = intent['responses']\n",
    "    for lines in intent['text']:\n",
    "        inputs.append(lines)\n",
    "        tags.append(intent['intent'])\n",
    "df = pd.DataFrame({'inputs': inputs, 'tags': tags})\n",
    "df"
   ]
  },
  {
   "cell_type": "code",
   "execution_count": 6,
   "id": "4a2c282c",
   "metadata": {},
   "outputs": [],
   "source": [
    "df[\"inputs\"] = df[\"inputs\"].apply(lambda wrd:[ltrs.lower() for ltrs in wrd if ltrs not in string.punctuation])\n",
    "df[\"inputs\"] = df[\"inputs\"].apply(lambda wrd:\"\".join(wrd))"
   ]
  },
  {
   "cell_type": "code",
   "execution_count": 7,
   "id": "e6774370",
   "metadata": {},
   "outputs": [],
   "source": [
    "# Tokenizer les data\n",
    "tokenizer = Tokenizer(num_words=2000)\n",
    "tokenizer.fit_on_texts(df[\"inputs\"])\n",
    "train = tokenizer.texts_to_sequences(df[\"inputs\"])\n",
    "tokens = tokenizer.texts_to_sequences(df[\"inputs\"])"
   ]
  },
  {
   "cell_type": "code",
   "execution_count": 8,
   "id": "d85b5048",
   "metadata": {},
   "outputs": [],
   "source": [
    "# apply padding\n",
    "x_train = pad_sequences(train)"
   ]
  },
  {
   "cell_type": "code",
   "execution_count": 15,
   "id": "15abe545",
   "metadata": {},
   "outputs": [],
   "source": [
    "#encoding the outputs\n",
    "le = LabelEncoder()\n",
    "Y_train = le.fit_transform(df['tags'])"
   ]
  },
  {
   "cell_type": "code",
   "execution_count": 16,
   "id": "59e1333d",
   "metadata": {},
   "outputs": [
    {
     "name": "stdout",
     "output_type": "stream",
     "text": [
      "9\n"
     ]
    }
   ],
   "source": [
    "input_shape = x_train.shape[1]\n",
    "print(input_shape)"
   ]
  },
  {
   "cell_type": "code",
   "execution_count": 17,
   "id": "145ea579",
   "metadata": {},
   "outputs": [
    {
     "name": "stdout",
     "output_type": "stream",
     "text": [
      "number of unique words : 117\n",
      "output length  22\n"
     ]
    }
   ],
   "source": [
    "#define vocabulary\n",
    "vocabulary = len(tokenizer.word_index)\n",
    "print(\"number of unique words :\",vocabulary)\n",
    "output_length = le.classes_.shape[0]\n",
    "print(\"output length \", output_length)"
   ]
  },
  {
   "cell_type": "markdown",
   "id": "6968f72e",
   "metadata": {},
   "source": [
    "# Premier model sans train-test split ! "
   ]
  },
  {
   "cell_type": "code",
   "execution_count": 18,
   "id": "d6710e1b",
   "metadata": {},
   "outputs": [],
   "source": [
    "from sklearn.model_selection import train_test_split"
   ]
  },
  {
   "cell_type": "code",
   "execution_count": 19,
   "id": "9857d227",
   "metadata": {},
   "outputs": [],
   "source": [
    "X_train, X_test, y_train, y_test = train_test_split(x_train, Y_train, test_size=0.3, random_state=42, stratify=Y_train)"
   ]
  },
  {
   "cell_type": "code",
   "execution_count": 20,
   "id": "916e3574",
   "metadata": {
    "scrolled": true
   },
   "outputs": [
    {
     "name": "stdout",
     "output_type": "stream",
     "text": [
      "(100, 9)\n",
      "(43, 9)\n",
      "(100,)\n",
      "(43,)\n"
     ]
    }
   ],
   "source": [
    "print(X_train.shape)\n",
    "print(X_test.shape)\n",
    "print(y_train.shape)\n",
    "print(y_test.shape)"
   ]
  },
  {
   "cell_type": "code",
   "execution_count": 21,
   "id": "39fcd00b",
   "metadata": {},
   "outputs": [
    {
     "name": "stdout",
     "output_type": "stream",
     "text": [
      "number of unique words : 117\n",
      "output length  22\n"
     ]
    }
   ],
   "source": [
    "#define vocabulary\n",
    "vocabulary = len(tokenizer.word_index)\n",
    "print(\"number of unique words :\",vocabulary)\n",
    "output_length = le.classes_.shape[0]\n",
    "print(\"output length \", output_length)"
   ]
  },
  {
   "cell_type": "code",
   "execution_count": 22,
   "id": "d940df8a",
   "metadata": {},
   "outputs": [],
   "source": [
    "#creating model\n",
    "model_tts = Sequential()\n",
    "model_tts.add(Embedding(vocabulary+1,10))\n",
    "model_tts.add(InputLayer(input_shape=(input_shape,)))\n",
    "model_tts.add(SimpleRNN(30))\n",
    "model_tts.add(Dense(output_length, activation=\"softmax\"))"
   ]
  },
  {
   "cell_type": "code",
   "execution_count": 23,
   "id": "f487bbad",
   "metadata": {},
   "outputs": [],
   "source": [
    "#compile the model\n",
    "model_tts.compile(loss=\"sparse_categorical_crossentropy\",optimizer=\"adam\",metrics=[\"accuracy\"])"
   ]
  },
  {
   "cell_type": "code",
   "execution_count": 24,
   "id": "ab85351a",
   "metadata": {},
   "outputs": [],
   "source": [
    "early_stopping = callbacks.EarlyStopping(\n",
    "    patience=20,\n",
    "    min_delta=0.001,\n",
    "    restore_best_weights=True,\n",
    ")"
   ]
  },
  {
   "cell_type": "code",
   "execution_count": 25,
   "id": "5714c39a",
   "metadata": {},
   "outputs": [],
   "source": [
    "early_stop = callbacks.EarlyStopping(monitor=\"loss\",mode=\"min\",verbose=1,patience=100)"
   ]
  },
  {
   "cell_type": "code",
   "execution_count": 26,
   "id": "ac2d726b",
   "metadata": {
    "scrolled": true
   },
   "outputs": [
    {
     "name": "stdout",
     "output_type": "stream",
     "text": [
      "Epoch 1/100\n",
      "3/3 [==============================] - 1s 169ms/step - loss: 3.0843 - accuracy: 0.0571 - val_loss: 3.1020 - val_accuracy: 0.0000e+00\n",
      "Epoch 2/100\n",
      "3/3 [==============================] - 0s 24ms/step - loss: 3.0655 - accuracy: 0.0714 - val_loss: 3.0997 - val_accuracy: 0.0000e+00\n",
      "Epoch 3/100\n",
      "3/3 [==============================] - 0s 24ms/step - loss: 3.0511 - accuracy: 0.1286 - val_loss: 3.1001 - val_accuracy: 0.0000e+00\n",
      "Epoch 4/100\n",
      "3/3 [==============================] - 0s 24ms/step - loss: 3.0363 - accuracy: 0.1143 - val_loss: 3.1011 - val_accuracy: 0.0000e+00\n",
      "Epoch 5/100\n",
      "3/3 [==============================] - 0s 18ms/step - loss: 3.0224 - accuracy: 0.1286 - val_loss: 3.1038 - val_accuracy: 0.0333\n",
      "Epoch 6/100\n",
      "3/3 [==============================] - 0s 25ms/step - loss: 3.0066 - accuracy: 0.1143 - val_loss: 3.1071 - val_accuracy: 0.0333\n",
      "Epoch 7/100\n",
      "3/3 [==============================] - 0s 21ms/step - loss: 2.9924 - accuracy: 0.1143 - val_loss: 3.1093 - val_accuracy: 0.0333\n",
      "Epoch 8/100\n",
      "3/3 [==============================] - 0s 22ms/step - loss: 2.9766 - accuracy: 0.1286 - val_loss: 3.1084 - val_accuracy: 0.0000e+00\n",
      "Epoch 9/100\n",
      "3/3 [==============================] - 0s 25ms/step - loss: 2.9598 - accuracy: 0.1429 - val_loss: 3.1064 - val_accuracy: 0.0000e+00\n",
      "Epoch 10/100\n",
      "3/3 [==============================] - 0s 27ms/step - loss: 2.9447 - accuracy: 0.1571 - val_loss: 3.1029 - val_accuracy: 0.0000e+00\n",
      "Epoch 11/100\n",
      "3/3 [==============================] - 0s 27ms/step - loss: 2.9282 - accuracy: 0.1429 - val_loss: 3.0967 - val_accuracy: 0.0000e+00\n",
      "Epoch 12/100\n",
      "3/3 [==============================] - 0s 29ms/step - loss: 2.9118 - accuracy: 0.1714 - val_loss: 3.0918 - val_accuracy: 0.0333\n",
      "Epoch 13/100\n",
      "3/3 [==============================] - 0s 20ms/step - loss: 2.8933 - accuracy: 0.2000 - val_loss: 3.0910 - val_accuracy: 0.0333\n",
      "Epoch 14/100\n",
      "3/3 [==============================] - 0s 21ms/step - loss: 2.8747 - accuracy: 0.2143 - val_loss: 3.0912 - val_accuracy: 0.0333\n",
      "Epoch 15/100\n",
      "3/3 [==============================] - 0s 20ms/step - loss: 2.8522 - accuracy: 0.2286 - val_loss: 3.0928 - val_accuracy: 0.0333\n",
      "Epoch 16/100\n",
      "3/3 [==============================] - 0s 34ms/step - loss: 2.8285 - accuracy: 0.2429 - val_loss: 3.0967 - val_accuracy: 0.0333\n",
      "Epoch 17/100\n",
      "3/3 [==============================] - 0s 19ms/step - loss: 2.8061 - accuracy: 0.1857 - val_loss: 3.1023 - val_accuracy: 0.0333\n",
      "Epoch 18/100\n",
      "3/3 [==============================] - 0s 18ms/step - loss: 2.7828 - accuracy: 0.1857 - val_loss: 3.1044 - val_accuracy: 0.0333\n",
      "Epoch 19/100\n",
      "3/3 [==============================] - 0s 20ms/step - loss: 2.7583 - accuracy: 0.2286 - val_loss: 3.1025 - val_accuracy: 0.0667\n",
      "Epoch 20/100\n",
      "3/3 [==============================] - 0s 24ms/step - loss: 2.7350 - accuracy: 0.2429 - val_loss: 3.0986 - val_accuracy: 0.0333\n",
      "Epoch 21/100\n",
      "3/3 [==============================] - 0s 26ms/step - loss: 2.7079 - accuracy: 0.2429 - val_loss: 3.0951 - val_accuracy: 0.0333\n",
      "Epoch 22/100\n",
      "3/3 [==============================] - 0s 23ms/step - loss: 2.6789 - accuracy: 0.2571 - val_loss: 3.0928 - val_accuracy: 0.0333\n",
      "Epoch 23/100\n",
      "3/3 [==============================] - 0s 24ms/step - loss: 2.6507 - accuracy: 0.2571 - val_loss: 3.0909 - val_accuracy: 0.0333\n",
      "Epoch 24/100\n",
      "3/3 [==============================] - 0s 22ms/step - loss: 2.6214 - accuracy: 0.2857 - val_loss: 3.0816 - val_accuracy: 0.0333\n",
      "Epoch 25/100\n",
      "3/3 [==============================] - 0s 18ms/step - loss: 2.5880 - accuracy: 0.2714 - val_loss: 3.0653 - val_accuracy: 0.0333\n",
      "Epoch 26/100\n",
      "3/3 [==============================] - 0s 21ms/step - loss: 2.5540 - accuracy: 0.2857 - val_loss: 3.0499 - val_accuracy: 0.0333\n",
      "Epoch 27/100\n",
      "3/3 [==============================] - 0s 24ms/step - loss: 2.5221 - accuracy: 0.3143 - val_loss: 3.0330 - val_accuracy: 0.0333\n",
      "Epoch 28/100\n",
      "3/3 [==============================] - 0s 24ms/step - loss: 2.4918 - accuracy: 0.3286 - val_loss: 3.0194 - val_accuracy: 0.0333\n",
      "Epoch 29/100\n",
      "3/3 [==============================] - 0s 20ms/step - loss: 2.4557 - accuracy: 0.3286 - val_loss: 3.0116 - val_accuracy: 0.1000\n",
      "Epoch 30/100\n",
      "3/3 [==============================] - 0s 20ms/step - loss: 2.4177 - accuracy: 0.3286 - val_loss: 3.0115 - val_accuracy: 0.1000\n",
      "Epoch 31/100\n",
      "3/3 [==============================] - 0s 21ms/step - loss: 2.3822 - accuracy: 0.3143 - val_loss: 3.0218 - val_accuracy: 0.0667\n",
      "Epoch 32/100\n",
      "3/3 [==============================] - 0s 20ms/step - loss: 2.3504 - accuracy: 0.3143 - val_loss: 3.0189 - val_accuracy: 0.0667\n",
      "Epoch 33/100\n",
      "3/3 [==============================] - 0s 23ms/step - loss: 2.3141 - accuracy: 0.3286 - val_loss: 2.9845 - val_accuracy: 0.1333\n",
      "Epoch 34/100\n",
      "3/3 [==============================] - 0s 19ms/step - loss: 2.2748 - accuracy: 0.4429 - val_loss: 2.9615 - val_accuracy: 0.1667\n",
      "Epoch 35/100\n",
      "3/3 [==============================] - 0s 20ms/step - loss: 2.2400 - accuracy: 0.4571 - val_loss: 2.9480 - val_accuracy: 0.1667\n",
      "Epoch 36/100\n",
      "3/3 [==============================] - 0s 18ms/step - loss: 2.2075 - accuracy: 0.4571 - val_loss: 2.9433 - val_accuracy: 0.1667\n",
      "Epoch 37/100\n",
      "3/3 [==============================] - 0s 22ms/step - loss: 2.1715 - accuracy: 0.4571 - val_loss: 2.9277 - val_accuracy: 0.1667\n",
      "Epoch 38/100\n",
      "3/3 [==============================] - 0s 25ms/step - loss: 2.1359 - accuracy: 0.5429 - val_loss: 2.9190 - val_accuracy: 0.2000\n",
      "Epoch 39/100\n",
      "3/3 [==============================] - 0s 23ms/step - loss: 2.1035 - accuracy: 0.5571 - val_loss: 2.9275 - val_accuracy: 0.1667\n",
      "Epoch 40/100\n",
      "3/3 [==============================] - 0s 22ms/step - loss: 2.0650 - accuracy: 0.6286 - val_loss: 2.9349 - val_accuracy: 0.1667\n",
      "Epoch 41/100\n",
      "3/3 [==============================] - 0s 24ms/step - loss: 2.0397 - accuracy: 0.5571 - val_loss: 2.9461 - val_accuracy: 0.1667\n",
      "Epoch 42/100\n",
      "3/3 [==============================] - 0s 26ms/step - loss: 2.0079 - accuracy: 0.5857 - val_loss: 2.9199 - val_accuracy: 0.2000\n",
      "Epoch 43/100\n",
      "3/3 [==============================] - 0s 25ms/step - loss: 1.9714 - accuracy: 0.6714 - val_loss: 2.8977 - val_accuracy: 0.2333\n",
      "Epoch 44/100\n",
      "3/3 [==============================] - 0s 23ms/step - loss: 1.9388 - accuracy: 0.6714 - val_loss: 2.8919 - val_accuracy: 0.2000\n",
      "Epoch 45/100\n",
      "3/3 [==============================] - 0s 24ms/step - loss: 1.9057 - accuracy: 0.7000 - val_loss: 2.9063 - val_accuracy: 0.1667\n",
      "Epoch 46/100\n",
      "3/3 [==============================] - 0s 20ms/step - loss: 1.8703 - accuracy: 0.6714 - val_loss: 2.9361 - val_accuracy: 0.1667\n",
      "Epoch 47/100\n",
      "3/3 [==============================] - 0s 20ms/step - loss: 1.8360 - accuracy: 0.6714 - val_loss: 2.9603 - val_accuracy: 0.2000\n",
      "Epoch 48/100\n",
      "3/3 [==============================] - 0s 21ms/step - loss: 1.8149 - accuracy: 0.7000 - val_loss: 2.9878 - val_accuracy: 0.1000\n",
      "Epoch 49/100\n",
      "3/3 [==============================] - 0s 18ms/step - loss: 1.7904 - accuracy: 0.6857 - val_loss: 2.9657 - val_accuracy: 0.2333\n",
      "Epoch 50/100\n",
      "3/3 [==============================] - 0s 20ms/step - loss: 1.7446 - accuracy: 0.7143 - val_loss: 2.9239 - val_accuracy: 0.2333\n",
      "Epoch 51/100\n",
      "3/3 [==============================] - 0s 20ms/step - loss: 1.7099 - accuracy: 0.7000 - val_loss: 2.9317 - val_accuracy: 0.2000\n",
      "Epoch 52/100\n",
      "3/3 [==============================] - 0s 19ms/step - loss: 1.6826 - accuracy: 0.7000 - val_loss: 2.9527 - val_accuracy: 0.2000\n",
      "Epoch 53/100\n",
      "3/3 [==============================] - 0s 19ms/step - loss: 1.6581 - accuracy: 0.7000 - val_loss: 2.9315 - val_accuracy: 0.2000\n",
      "Epoch 54/100\n",
      "3/3 [==============================] - 0s 19ms/step - loss: 1.6246 - accuracy: 0.7143 - val_loss: 2.9350 - val_accuracy: 0.2000\n",
      "Epoch 55/100\n",
      "3/3 [==============================] - 0s 19ms/step - loss: 1.5971 - accuracy: 0.7286 - val_loss: 2.9522 - val_accuracy: 0.2000\n",
      "Epoch 56/100\n",
      "3/3 [==============================] - 0s 28ms/step - loss: 1.5678 - accuracy: 0.7571 - val_loss: 2.9811 - val_accuracy: 0.2000\n",
      "Epoch 57/100\n",
      "3/3 [==============================] - 0s 19ms/step - loss: 1.5412 - accuracy: 0.7571 - val_loss: 2.9575 - val_accuracy: 0.2000\n",
      "Epoch 58/100\n",
      "3/3 [==============================] - 0s 22ms/step - loss: 1.5142 - accuracy: 0.7571 - val_loss: 2.9604 - val_accuracy: 0.2000\n"
     ]
    },
    {
     "name": "stdout",
     "output_type": "stream",
     "text": [
      "Epoch 59/100\n",
      "3/3 [==============================] - 0s 20ms/step - loss: 1.4940 - accuracy: 0.7571 - val_loss: 2.9949 - val_accuracy: 0.2333\n",
      "Epoch 60/100\n",
      "3/3 [==============================] - 0s 19ms/step - loss: 1.4646 - accuracy: 0.7571 - val_loss: 2.9427 - val_accuracy: 0.2000\n",
      "Epoch 61/100\n",
      "3/3 [==============================] - 0s 19ms/step - loss: 1.4404 - accuracy: 0.8000 - val_loss: 2.9417 - val_accuracy: 0.2000\n",
      "Epoch 62/100\n",
      "3/3 [==============================] - 0s 19ms/step - loss: 1.4276 - accuracy: 0.7286 - val_loss: 2.9891 - val_accuracy: 0.2333\n",
      "Epoch 63/100\n",
      "3/3 [==============================] - 0s 19ms/step - loss: 1.4027 - accuracy: 0.7571 - val_loss: 2.9888 - val_accuracy: 0.2333\n",
      "Epoch 64/100\n",
      "3/3 [==============================] - 0s 20ms/step - loss: 1.3726 - accuracy: 0.7714 - val_loss: 2.9555 - val_accuracy: 0.2000\n"
     ]
    }
   ],
   "source": [
    "# history = model_sw.fit(x_train, Y_train, epochs=100)\n",
    "history = model_tts.fit(X_train,y_train, epochs=100, validation_split=0.3,callbacks=[early_stopping])\n",
    "# pas de batch_size ?!"
   ]
  },
  {
   "cell_type": "code",
   "execution_count": 27,
   "id": "02964097",
   "metadata": {
    "scrolled": false
   },
   "outputs": [
    {
     "data": {
      "image/png": "[encoded data removed]",
      "text/plain": [
       "<Figure size 720x360 with 1 Axes>"
      ]
     },
     "metadata": {
      "needs_background": "light"
     },
     "output_type": "display_data"
    },
    {
     "data": {
      "image/png": "[encoded data removed]",
      "text/plain": [
       "<Figure size 720x360 with 1 Axes>"
      ]
     },
     "metadata": {
      "needs_background": "light"
     },
     "output_type": "display_data"
    }
   ],
   "source": [
    "# #plotting model accuracy\n",
    "# plt.plot(train_sw.history['accuracy'], label=\"training set accuracy\")\n",
    "# plt.plot(train_sw.history[\"loss\"], label =\"training set loss\")\n",
    "# plt.legend()\n",
    "\n",
    "plt.figure(figsize=(10,5))\n",
    "\n",
    "# summarize history for mae\n",
    "plt.plot(history.history['accuracy'])\n",
    "plt.plot(history.history['val_accuracy'])\n",
    "plt.title('Learning Curve')\n",
    "plt.ylabel('Error')\n",
    "plt.xlabel('epoch')\n",
    "plt.legend(['train', 'test'], loc='upper left')\n",
    "plt.show()\n",
    "\n",
    "# summarize history for loss\n",
    "plt.figure(figsize=(10,5))\n",
    "plt.plot(history.history['loss'])\n",
    "plt.plot(history.history['val_loss'])\n",
    "plt.title('model loss')\n",
    "plt.ylabel('loss')\n",
    "plt.xlabel('epoch')\n",
    "plt.legend(['train', 'test'], loc='upper left')\n",
    "plt.show()"
   ]
  },
  {
   "cell_type": "code",
   "execution_count": 16,
   "id": "fce85660",
   "metadata": {},
   "outputs": [
    {
     "ename": "KeyboardInterrupt",
     "evalue": "Interrupted by user",
     "output_type": "error",
     "traceback": [
      "\u001b[1;31m---------------------------------------------------------------------------\u001b[0m",
      "\u001b[1;31mKeyboardInterrupt\u001b[0m                         Traceback (most recent call last)",
      "\u001b[1;32m<ipython-input-16-a4e01c871ec3>\u001b[0m in \u001b[0;36m<module>\u001b[1;34m\u001b[0m\n\u001b[0;32m      5\u001b[0m \u001b[1;32mwhile\u001b[0m \u001b[1;32mTrue\u001b[0m\u001b[1;33m:\u001b[0m\u001b[1;33m\u001b[0m\u001b[1;33m\u001b[0m\u001b[0m\n\u001b[0;32m      6\u001b[0m     \u001b[0mtexts_p\u001b[0m \u001b[1;33m=\u001b[0m \u001b[1;33m[\u001b[0m\u001b[1;33m]\u001b[0m\u001b[1;33m\u001b[0m\u001b[1;33m\u001b[0m\u001b[0m\n\u001b[1;32m----> 7\u001b[1;33m     \u001b[0mprediction_input\u001b[0m \u001b[1;33m=\u001b[0m \u001b[0minput\u001b[0m\u001b[1;33m(\u001b[0m\u001b[1;34m\"You : \"\u001b[0m\u001b[1;33m)\u001b[0m\u001b[1;33m\u001b[0m\u001b[1;33m\u001b[0m\u001b[0m\n\u001b[0m\u001b[0;32m      8\u001b[0m \u001b[1;33m\u001b[0m\u001b[0m\n\u001b[0;32m      9\u001b[0m     \u001b[1;31m#removing punctuation and converting to lowercase\u001b[0m\u001b[1;33m\u001b[0m\u001b[1;33m\u001b[0m\u001b[1;33m\u001b[0m\u001b[0m\n",
      "\u001b[1;32m~\\Anaconda3\\lib\\site-packages\\ipykernel\\kernelbase.py\u001b[0m in \u001b[0;36mraw_input\u001b[1;34m(self, prompt)\u001b[0m\n\u001b[0;32m    858\u001b[0m                 \u001b[1;34m\"raw_input was called, but this frontend does not support input requests.\"\u001b[0m\u001b[1;33m\u001b[0m\u001b[1;33m\u001b[0m\u001b[0m\n\u001b[0;32m    859\u001b[0m             )\n\u001b[1;32m--> 860\u001b[1;33m         return self._input_request(str(prompt),\n\u001b[0m\u001b[0;32m    861\u001b[0m             \u001b[0mself\u001b[0m\u001b[1;33m.\u001b[0m\u001b[0m_parent_ident\u001b[0m\u001b[1;33m,\u001b[0m\u001b[1;33m\u001b[0m\u001b[1;33m\u001b[0m\u001b[0m\n\u001b[0;32m    862\u001b[0m             \u001b[0mself\u001b[0m\u001b[1;33m.\u001b[0m\u001b[0m_parent_header\u001b[0m\u001b[1;33m,\u001b[0m\u001b[1;33m\u001b[0m\u001b[1;33m\u001b[0m\u001b[0m\n",
      "\u001b[1;32m~\\Anaconda3\\lib\\site-packages\\ipykernel\\kernelbase.py\u001b[0m in \u001b[0;36m_input_request\u001b[1;34m(self, prompt, ident, parent, password)\u001b[0m\n\u001b[0;32m    902\u001b[0m             \u001b[1;32mexcept\u001b[0m \u001b[0mKeyboardInterrupt\u001b[0m\u001b[1;33m:\u001b[0m\u001b[1;33m\u001b[0m\u001b[1;33m\u001b[0m\u001b[0m\n\u001b[0;32m    903\u001b[0m                 \u001b[1;31m# re-raise KeyboardInterrupt, to truncate traceback\u001b[0m\u001b[1;33m\u001b[0m\u001b[1;33m\u001b[0m\u001b[1;33m\u001b[0m\u001b[0m\n\u001b[1;32m--> 904\u001b[1;33m                 \u001b[1;32mraise\u001b[0m \u001b[0mKeyboardInterrupt\u001b[0m\u001b[1;33m(\u001b[0m\u001b[1;34m\"Interrupted by user\"\u001b[0m\u001b[1;33m)\u001b[0m \u001b[1;32mfrom\u001b[0m \u001b[1;32mNone\u001b[0m\u001b[1;33m\u001b[0m\u001b[1;33m\u001b[0m\u001b[0m\n\u001b[0m\u001b[0;32m    905\u001b[0m             \u001b[1;32mexcept\u001b[0m \u001b[0mException\u001b[0m \u001b[1;32mas\u001b[0m \u001b[0me\u001b[0m\u001b[1;33m:\u001b[0m\u001b[1;33m\u001b[0m\u001b[1;33m\u001b[0m\u001b[0m\n\u001b[0;32m    906\u001b[0m                 \u001b[0mself\u001b[0m\u001b[1;33m.\u001b[0m\u001b[0mlog\u001b[0m\u001b[1;33m.\u001b[0m\u001b[0mwarning\u001b[0m\u001b[1;33m(\u001b[0m\u001b[1;34m\"Invalid Message:\"\u001b[0m\u001b[1;33m,\u001b[0m \u001b[0mexc_info\u001b[0m\u001b[1;33m=\u001b[0m\u001b[1;32mTrue\u001b[0m\u001b[1;33m)\u001b[0m\u001b[1;33m\u001b[0m\u001b[1;33m\u001b[0m\u001b[0m\n",
      "\u001b[1;31mKeyboardInterrupt\u001b[0m: Interrupted by user"
     ]
    }
   ],
   "source": [
    "#chatting\n",
    "\n",
    "import random\n",
    "\n",
    "while True:\n",
    "    texts_p = []\n",
    "    prediction_input = input(\"You : \")\n",
    "    \n",
    "    #removing punctuation and converting to lowercase\n",
    "    prediction_input = [letters.lower() for letters in prediction_input if letters not in string.punctuation]\n",
    "    prediction_input = \"\".join(prediction_input)\n",
    "    texts_p.append(prediction_input)\n",
    "    \n",
    "    #tokenizing and padding\n",
    "    prediction_input = tokenizer.texts_to_sequences(texts_p)\n",
    "    prediction_input = np.array(prediction_input).reshape(-1)\n",
    "    prediction_input = pad_sequences([prediction_input],input_shape)\n",
    "    \n",
    "    #getting output from model\n",
    "    output = model.predict(prediction_input)\n",
    "    output = output.argmax()\n",
    "    \n",
    "    #finding the right tag and predicting\n",
    "    response_tag = le.inverse_transform([output])[0]\n",
    "    print(\"Bot :\",random.choice(responses[response_tag]))\n",
    "    if response_tag == \"goodbye\" :\n",
    "        break"
   ]
  },
  {
   "cell_type": "markdown",
   "id": "fd892754",
   "metadata": {},
   "source": [
    "# DELETE OR ADD STOPWORDS"
   ]
  },
  {
   "cell_type": "code",
   "execution_count": 15,
   "id": "e3a2bb4b",
   "metadata": {},
   "outputs": [],
   "source": [
    "stop_words = stopwords.words(\"english\")"
   ]
  },
  {
   "cell_type": "code",
   "execution_count": 16,
   "id": "74dc712e",
   "metadata": {},
   "outputs": [],
   "source": [
    "# print(stop_words)\n",
    "#this will show all the default stop word in the language english"
   ]
  },
  {
   "cell_type": "code",
   "execution_count": 17,
   "id": "f81b4ded",
   "metadata": {},
   "outputs": [],
   "source": [
    "stop_words.append(\"'s\")\n",
    "stop_words.append(\"n't\")\n",
    "#this will add or remove a stop word"
   ]
  },
  {
   "cell_type": "code",
   "execution_count": 18,
   "id": "55a389ff",
   "metadata": {},
   "outputs": [
    {
     "data": {
      "text/plain": [
       "['Hi',\n",
       " 'Hi there',\n",
       " 'Hola',\n",
       " 'Hello',\n",
       " 'Hello there',\n",
       " 'Hya',\n",
       " 'Hya there',\n",
       " 'My user is Adam',\n",
       " 'This is Adam',\n",
       " 'I am Adam',\n",
       " 'It is Adam',\n",
       " 'My user is Bella',\n",
       " 'This is Bella',\n",
       " 'I am Bella',\n",
       " 'It is Bella',\n",
       " 'How are you?',\n",
       " 'Hi how are you?',\n",
       " 'Hello how are you?',\n",
       " 'Hola how are you?',\n",
       " 'How are you doing?',\n",
       " 'Hope you are doing well?',\n",
       " 'Hello hope you are doing well?',\n",
       " 'Good thanks! My user is Adam',\n",
       " 'Good thanks! This is Adam',\n",
       " 'Good thanks! I am Adam',\n",
       " 'Good thanks! It is Adam',\n",
       " 'Great thanks! My user is Bella',\n",
       " 'Great thanks! This is Bella',\n",
       " 'Great thanks! I am Bella',\n",
       " 'Great thanks! It is Bella',\n",
       " 'What is my name?',\n",
       " 'What do you call me?',\n",
       " 'Who do you think I am?',\n",
       " 'What do you think I am?',\n",
       " 'Who are you talking to?',\n",
       " 'What name do you call me by?',\n",
       " 'Tell me my name',\n",
       " 'What is your name?',\n",
       " 'What could I call you?',\n",
       " 'What can I call you?',\n",
       " 'What do your friends call you?',\n",
       " 'Who are you?',\n",
       " 'Tell me your name?',\n",
       " 'What is your real name?',\n",
       " 'What is your real name please?',\n",
       " \"What's your real name?\",\n",
       " 'Tell me your real name?',\n",
       " 'Your real name?',\n",
       " 'Your real name please?',\n",
       " 'Your real name please?',\n",
       " 'What is the time?',\n",
       " \"What's the time?\",\n",
       " 'Do you know what time it is?',\n",
       " 'Do you know the time?',\n",
       " 'Can you tell me the time?',\n",
       " 'Tell me what time it is?',\n",
       " 'Time',\n",
       " 'OK thank you',\n",
       " 'OK thanks',\n",
       " 'OK',\n",
       " 'Thanks',\n",
       " 'Thank you',\n",
       " \"That's helpful\",\n",
       " 'I am not talking to you',\n",
       " 'I was not talking to you',\n",
       " 'Not talking to you',\n",
       " \"Wasn't for you\",\n",
       " \"Wasn't meant for you\",\n",
       " \"Wasn't communicating to you\",\n",
       " \"Wasn't speaking to you\",\n",
       " 'Do you understand what I am saying',\n",
       " 'Do you understand me',\n",
       " 'Do you know what I am saying',\n",
       " 'Do you get me',\n",
       " 'Comprendo',\n",
       " 'Know what I mean',\n",
       " 'Be quiet',\n",
       " 'Shut up',\n",
       " 'Stop talking',\n",
       " 'Enough talking',\n",
       " 'Please be quiet',\n",
       " 'Quiet',\n",
       " 'Shhh',\n",
       " 'fuck off',\n",
       " 'fuck',\n",
       " 'twat',\n",
       " 'shit',\n",
       " 'Bye',\n",
       " 'Adios',\n",
       " 'See you later',\n",
       " 'Goodbye',\n",
       " 'Thanks, bye',\n",
       " 'Thanks for the help, goodbye',\n",
       " 'Thank you, bye',\n",
       " 'Thank you, goodbye',\n",
       " 'Thanks goodbye',\n",
       " 'Thanks good bye',\n",
       " 'Can you see me?',\n",
       " 'Do you see me?',\n",
       " 'Can you see anyone in the camera?',\n",
       " 'Do you see anyone in the camera?',\n",
       " 'Identify me',\n",
       " 'Who am I please',\n",
       " 'You are very clever',\n",
       " 'You are a very clever girl',\n",
       " 'You are very intelligent',\n",
       " 'You are a very intelligent girl',\n",
       " 'You are a genious',\n",
       " 'Clever girl',\n",
       " 'Genious',\n",
       " 'I am bored gossip with me',\n",
       " 'Got any gossip',\n",
       " 'I want to hear some gossip',\n",
       " 'Tell me some gossip',\n",
       " 'Any gossip',\n",
       " 'Tell me some more gossip',\n",
       " 'Tell me a joke',\n",
       " 'Do you know any jokes',\n",
       " 'How about a joke',\n",
       " 'Give me a joke',\n",
       " 'Make me laugh',\n",
       " 'I need cheering up',\n",
       " 'Open the pod bay door',\n",
       " 'Can you open the pod bay door',\n",
       " 'Will you open the pod bay door',\n",
       " 'Open the pod bay door please',\n",
       " 'Can you open the pod bay door please',\n",
       " 'Will you open the pod bay door please',\n",
       " 'Pod bay door',\n",
       " 'Why',\n",
       " 'Why not',\n",
       " 'Why can you not open the pod bay door',\n",
       " 'Why will you not open the pod bay door',\n",
       " 'Well why not',\n",
       " 'Surely you can',\n",
       " 'Tell me why',\n",
       " 'Can you prove you are self-aware',\n",
       " 'Can you prove you are self aware',\n",
       " 'Can you prove you have a conscious',\n",
       " 'Can you prove you are self-aware please',\n",
       " 'Can you prove you are self aware please',\n",
       " 'Can you prove you have a conscious please',\n",
       " 'prove you have a conscious']"
      ]
     },
     "execution_count": 18,
     "metadata": {},
     "output_type": "execute_result"
    }
   ],
   "source": [
    "inputs"
   ]
  },
  {
   "cell_type": "code",
   "execution_count": 19,
   "id": "eb11838c",
   "metadata": {},
   "outputs": [],
   "source": [
    "filtered_sentence = []\n",
    "\n",
    "for line in inputs:\n",
    "    filtered_sentence.append([w for w in word_tokenize(line) if not w.lower() in stop_words])\n",
    "\n",
    "filtered_sentence = [' '.join(ele) for ele in filtered_sentence]"
   ]
  },
  {
   "cell_type": "code",
   "execution_count": 20,
   "id": "35c9fd08",
   "metadata": {},
   "outputs": [
    {
     "data": {
      "text/plain": [
       "['Hi',\n",
       " 'Hi',\n",
       " 'Hola',\n",
       " 'Hello',\n",
       " 'Hello',\n",
       " 'Hya',\n",
       " 'Hya',\n",
       " 'user Adam',\n",
       " 'Adam',\n",
       " 'Adam',\n",
       " 'Adam',\n",
       " 'user Bella',\n",
       " 'Bella',\n",
       " 'Bella',\n",
       " 'Bella',\n",
       " '?',\n",
       " 'Hi ?',\n",
       " 'Hello ?',\n",
       " 'Hola ?',\n",
       " '?',\n",
       " 'Hope well ?',\n",
       " 'Hello hope well ?',\n",
       " 'Good thanks ! user Adam',\n",
       " 'Good thanks ! Adam',\n",
       " 'Good thanks ! Adam',\n",
       " 'Good thanks ! Adam',\n",
       " 'Great thanks ! user Bella',\n",
       " 'Great thanks ! Bella',\n",
       " 'Great thanks ! Bella',\n",
       " 'Great thanks ! Bella',\n",
       " 'name ?',\n",
       " 'call ?',\n",
       " 'think ?',\n",
       " 'think ?',\n",
       " 'talking ?',\n",
       " 'name call ?',\n",
       " 'Tell name',\n",
       " 'name ?',\n",
       " 'could call ?',\n",
       " 'call ?',\n",
       " 'friends call ?',\n",
       " '?',\n",
       " 'Tell name ?',\n",
       " 'real name ?',\n",
       " 'real name please ?',\n",
       " 'real name ?',\n",
       " 'Tell real name ?',\n",
       " 'real name ?',\n",
       " 'real name please ?',\n",
       " 'real name please ?',\n",
       " 'time ?',\n",
       " 'time ?',\n",
       " 'know time ?',\n",
       " 'know time ?',\n",
       " 'tell time ?',\n",
       " 'Tell time ?',\n",
       " 'Time',\n",
       " 'OK thank',\n",
       " 'OK thanks',\n",
       " 'OK',\n",
       " 'Thanks',\n",
       " 'Thank',\n",
       " 'helpful',\n",
       " 'talking',\n",
       " 'talking',\n",
       " 'talking',\n",
       " '',\n",
       " 'meant',\n",
       " 'communicating',\n",
       " 'speaking',\n",
       " 'understand saying',\n",
       " 'understand',\n",
       " 'know saying',\n",
       " 'get',\n",
       " 'Comprendo',\n",
       " 'Know mean',\n",
       " 'quiet',\n",
       " 'Shut',\n",
       " 'Stop talking',\n",
       " 'Enough talking',\n",
       " 'Please quiet',\n",
       " 'Quiet',\n",
       " 'Shhh',\n",
       " 'fuck',\n",
       " 'fuck',\n",
       " 'twat',\n",
       " 'shit',\n",
       " 'Bye',\n",
       " 'Adios',\n",
       " 'See later',\n",
       " 'Goodbye',\n",
       " 'Thanks , bye',\n",
       " 'Thanks help , goodbye',\n",
       " 'Thank , bye',\n",
       " 'Thank , goodbye',\n",
       " 'Thanks goodbye',\n",
       " 'Thanks good bye',\n",
       " 'see ?',\n",
       " 'see ?',\n",
       " 'see anyone camera ?',\n",
       " 'see anyone camera ?',\n",
       " 'Identify',\n",
       " 'please',\n",
       " 'clever',\n",
       " 'clever girl',\n",
       " 'intelligent',\n",
       " 'intelligent girl',\n",
       " 'genious',\n",
       " 'Clever girl',\n",
       " 'Genious',\n",
       " 'bored gossip',\n",
       " 'Got gossip',\n",
       " 'want hear gossip',\n",
       " 'Tell gossip',\n",
       " 'gossip',\n",
       " 'Tell gossip',\n",
       " 'Tell joke',\n",
       " 'know jokes',\n",
       " 'joke',\n",
       " 'Give joke',\n",
       " 'Make laugh',\n",
       " 'need cheering',\n",
       " 'Open pod bay door',\n",
       " 'open pod bay door',\n",
       " 'open pod bay door',\n",
       " 'Open pod bay door please',\n",
       " 'open pod bay door please',\n",
       " 'open pod bay door please',\n",
       " 'Pod bay door',\n",
       " '',\n",
       " '',\n",
       " 'open pod bay door',\n",
       " 'open pod bay door',\n",
       " 'Well',\n",
       " 'Surely',\n",
       " 'Tell',\n",
       " 'prove self-aware',\n",
       " 'prove self aware',\n",
       " 'prove conscious',\n",
       " 'prove self-aware please',\n",
       " 'prove self aware please',\n",
       " 'prove conscious please',\n",
       " 'prove conscious']"
      ]
     },
     "execution_count": 20,
     "metadata": {},
     "output_type": "execute_result"
    }
   ],
   "source": [
    "filtered_sentence"
   ]
  },
  {
   "cell_type": "code",
   "execution_count": 21,
   "id": "81678b9e",
   "metadata": {},
   "outputs": [
    {
     "data": {
      "text/html": [
       "<div>\n",
       "<style scoped>\n",
       "    .dataframe tbody tr th:only-of-type {\n",
       "        vertical-align: middle;\n",
       "    }\n",
       "\n",
       "    .dataframe tbody tr th {\n",
       "        vertical-align: top;\n",
       "    }\n",
       "\n",
       "    .dataframe thead th {\n",
       "        text-align: right;\n",
       "    }\n",
       "</style>\n",
       "<table border=\"1\" class=\"dataframe\">\n",
       "  <thead>\n",
       "    <tr style=\"text-align: right;\">\n",
       "      <th></th>\n",
       "      <th>inputs</th>\n",
       "      <th>tags</th>\n",
       "    </tr>\n",
       "  </thead>\n",
       "  <tbody>\n",
       "    <tr>\n",
       "      <th>0</th>\n",
       "      <td>Hi</td>\n",
       "      <td>Greeting</td>\n",
       "    </tr>\n",
       "    <tr>\n",
       "      <th>1</th>\n",
       "      <td>Hi</td>\n",
       "      <td>Greeting</td>\n",
       "    </tr>\n",
       "    <tr>\n",
       "      <th>2</th>\n",
       "      <td>Hola</td>\n",
       "      <td>Greeting</td>\n",
       "    </tr>\n",
       "    <tr>\n",
       "      <th>3</th>\n",
       "      <td>Hello</td>\n",
       "      <td>Greeting</td>\n",
       "    </tr>\n",
       "    <tr>\n",
       "      <th>4</th>\n",
       "      <td>Hello</td>\n",
       "      <td>Greeting</td>\n",
       "    </tr>\n",
       "    <tr>\n",
       "      <th>...</th>\n",
       "      <td>...</td>\n",
       "      <td>...</td>\n",
       "    </tr>\n",
       "    <tr>\n",
       "      <th>138</th>\n",
       "      <td>prove conscious</td>\n",
       "      <td>SelfAware</td>\n",
       "    </tr>\n",
       "    <tr>\n",
       "      <th>139</th>\n",
       "      <td>prove self-aware please</td>\n",
       "      <td>SelfAware</td>\n",
       "    </tr>\n",
       "    <tr>\n",
       "      <th>140</th>\n",
       "      <td>prove self aware please</td>\n",
       "      <td>SelfAware</td>\n",
       "    </tr>\n",
       "    <tr>\n",
       "      <th>141</th>\n",
       "      <td>prove conscious please</td>\n",
       "      <td>SelfAware</td>\n",
       "    </tr>\n",
       "    <tr>\n",
       "      <th>142</th>\n",
       "      <td>prove conscious</td>\n",
       "      <td>SelfAware</td>\n",
       "    </tr>\n",
       "  </tbody>\n",
       "</table>\n",
       "<p>143 rows × 2 columns</p>\n",
       "</div>"
      ],
      "text/plain": [
       "                      inputs       tags\n",
       "0                         Hi   Greeting\n",
       "1                         Hi   Greeting\n",
       "2                       Hola   Greeting\n",
       "3                      Hello   Greeting\n",
       "4                      Hello   Greeting\n",
       "..                       ...        ...\n",
       "138          prove conscious  SelfAware\n",
       "139  prove self-aware please  SelfAware\n",
       "140  prove self aware please  SelfAware\n",
       "141   prove conscious please  SelfAware\n",
       "142          prove conscious  SelfAware\n",
       "\n",
       "[143 rows x 2 columns]"
      ]
     },
     "execution_count": 21,
     "metadata": {},
     "output_type": "execute_result"
    }
   ],
   "source": [
    "df_sw = pd.DataFrame({'inputs': filtered_sentence, 'tags': tags})\n",
    "df_sw"
   ]
  },
  {
   "cell_type": "code",
   "execution_count": 22,
   "id": "e883569a",
   "metadata": {},
   "outputs": [],
   "source": [
    "#duplicates\n",
    "df_sw.drop_duplicates(inplace=True)"
   ]
  },
  {
   "cell_type": "markdown",
   "id": "884f4c2a",
   "metadata": {},
   "source": [
    "#####  la suite c'est la même"
   ]
  },
  {
   "cell_type": "code",
   "execution_count": 23,
   "id": "782cd421",
   "metadata": {},
   "outputs": [],
   "source": [
    "df = df_sw.copy()"
   ]
  },
  {
   "cell_type": "code",
   "execution_count": 24,
   "id": "18734925",
   "metadata": {},
   "outputs": [],
   "source": [
    "df[\"inputs\"] = df[\"inputs\"].apply(lambda wrd:[ltrs.lower() for ltrs in wrd if ltrs not in string.punctuation])\n",
    "df[\"inputs\"] = df[\"inputs\"].apply(lambda wrd:\"\".join(wrd))"
   ]
  },
  {
   "cell_type": "code",
   "execution_count": 25,
   "id": "51c28358",
   "metadata": {},
   "outputs": [],
   "source": [
    "# Tokenizer les data\n",
    "tokenizer = Tokenizer(num_words=2000)\n",
    "tokenizer.fit_on_texts(df[\"inputs\"])\n",
    "train = tokenizer.texts_to_sequences(df[\"inputs\"])"
   ]
  },
  {
   "cell_type": "code",
   "execution_count": 26,
   "id": "c87a1f59",
   "metadata": {},
   "outputs": [],
   "source": [
    "# apply padding\n",
    "x_train = pad_sequences(train)"
   ]
  },
  {
   "cell_type": "code",
   "execution_count": 27,
   "id": "673566c0",
   "metadata": {},
   "outputs": [],
   "source": [
    "#encoding the outputs\n",
    "le = LabelEncoder()\n",
    "Y_train = le.fit_transform(df['tags'])"
   ]
  },
  {
   "cell_type": "code",
   "execution_count": 28,
   "id": "c913d9fb",
   "metadata": {},
   "outputs": [
    {
     "name": "stdout",
     "output_type": "stream",
     "text": [
      "5\n"
     ]
    }
   ],
   "source": [
    "input_shape = x_train.shape[1]\n",
    "print(input_shape)"
   ]
  },
  {
   "cell_type": "code",
   "execution_count": 29,
   "id": "882c6197",
   "metadata": {},
   "outputs": [],
   "source": [
    "from sklearn.model_selection import train_test_split"
   ]
  },
  {
   "cell_type": "code",
   "execution_count": 30,
   "id": "30401cf1",
   "metadata": {},
   "outputs": [],
   "source": [
    "X_train, X_test, y_train, y_test = train_test_split(x_train, Y_train, test_size=0.3, random_state=42, stratify=Y_train)"
   ]
  },
  {
   "cell_type": "code",
   "execution_count": 31,
   "id": "73b5e4a9",
   "metadata": {
    "scrolled": true
   },
   "outputs": [
    {
     "name": "stdout",
     "output_type": "stream",
     "text": [
      "(79, 5)\n",
      "(34, 5)\n",
      "(79,)\n",
      "(34,)\n"
     ]
    }
   ],
   "source": [
    "print(X_train.shape)\n",
    "print(X_test.shape)\n",
    "print(y_train.shape)\n",
    "print(y_test.shape)"
   ]
  },
  {
   "cell_type": "code",
   "execution_count": 32,
   "id": "b60dafb2",
   "metadata": {},
   "outputs": [
    {
     "name": "stdout",
     "output_type": "stream",
     "text": [
      "number of unique words : 77\n",
      "output length  22\n"
     ]
    }
   ],
   "source": [
    "#define vocabulary\n",
    "vocabulary = len(tokenizer.word_index)\n",
    "print(\"number of unique words :\",vocabulary)\n",
    "output_length = le.classes_.shape[0]\n",
    "print(\"output length \", output_length)"
   ]
  },
  {
   "cell_type": "code",
   "execution_count": 34,
   "id": "05118733",
   "metadata": {},
   "outputs": [],
   "source": [
    "#creating model\n",
    "model_sw = Sequential()\n",
    "model_sw.add(Embedding(vocabulary+1,10))\n",
    "model_sw.add(InputLayer(input_shape=(input_shape,)))\n",
    "model_sw.add(SimpleRNN(30))\n",
    "model_sw.add(Dense(output_length, activation=\"softmax\"))"
   ]
  },
  {
   "cell_type": "code",
   "execution_count": 35,
   "id": "9e6fb910",
   "metadata": {},
   "outputs": [],
   "source": [
    "#compile the model\n",
    "model_sw.compile(loss=\"sparse_categorical_crossentropy\",optimizer=\"adam\",metrics=[\"accuracy\"])"
   ]
  },
  {
   "cell_type": "code",
   "execution_count": 36,
   "id": "a9d97779",
   "metadata": {},
   "outputs": [],
   "source": [
    "early_stopping = callbacks.EarlyStopping(\n",
    "    patience=20,\n",
    "    min_delta=0.001,\n",
    "    restore_best_weights=True,\n",
    ")"
   ]
  },
  {
   "cell_type": "code",
   "execution_count": 37,
   "id": "fc3b594e",
   "metadata": {},
   "outputs": [],
   "source": [
    "early_stop = callbacks.EarlyStopping(monitor=\"loss\",mode=\"min\",verbose=1,patience=100)"
   ]
  },
  {
   "cell_type": "code",
   "execution_count": 38,
   "id": "c749c6a1",
   "metadata": {
    "scrolled": true
   },
   "outputs": [
    {
     "name": "stdout",
     "output_type": "stream",
     "text": [
      "Epoch 1/100\n",
      "2/2 [==============================] - 2s 438ms/step - loss: 3.0801 - accuracy: 0.0727 - val_loss: 3.1001 - val_accuracy: 0.0417\n",
      "Epoch 2/100\n",
      "2/2 [==============================] - 0s 40ms/step - loss: 3.0712 - accuracy: 0.1091 - val_loss: 3.1006 - val_accuracy: 0.0833\n",
      "Epoch 3/100\n",
      "2/2 [==============================] - 0s 43ms/step - loss: 3.0629 - accuracy: 0.1273 - val_loss: 3.1002 - val_accuracy: 0.0833\n",
      "Epoch 4/100\n",
      "2/2 [==============================] - 0s 37ms/step - loss: 3.0548 - accuracy: 0.1273 - val_loss: 3.0996 - val_accuracy: 0.0833\n",
      "Epoch 5/100\n",
      "2/2 [==============================] - 0s 35ms/step - loss: 3.0464 - accuracy: 0.1273 - val_loss: 3.0996 - val_accuracy: 0.0833\n",
      "Epoch 6/100\n",
      "2/2 [==============================] - 0s 44ms/step - loss: 3.0381 - accuracy: 0.1273 - val_loss: 3.0997 - val_accuracy: 0.0833\n",
      "Epoch 7/100\n",
      "2/2 [==============================] - 0s 44ms/step - loss: 3.0300 - accuracy: 0.1091 - val_loss: 3.1005 - val_accuracy: 0.0833\n",
      "Epoch 8/100\n",
      "2/2 [==============================] - 0s 42ms/step - loss: 3.0211 - accuracy: 0.1091 - val_loss: 3.1014 - val_accuracy: 0.0833\n",
      "Epoch 9/100\n",
      "2/2 [==============================] - 0s 41ms/step - loss: 3.0119 - accuracy: 0.1273 - val_loss: 3.1031 - val_accuracy: 0.0833\n",
      "Epoch 10/100\n",
      "2/2 [==============================] - 0s 46ms/step - loss: 3.0012 - accuracy: 0.1455 - val_loss: 3.1053 - val_accuracy: 0.0833\n",
      "Epoch 11/100\n",
      "2/2 [==============================] - 0s 45ms/step - loss: 2.9911 - accuracy: 0.1455 - val_loss: 3.1078 - val_accuracy: 0.0833\n",
      "Epoch 12/100\n",
      "2/2 [==============================] - 0s 42ms/step - loss: 2.9804 - accuracy: 0.1636 - val_loss: 3.1114 - val_accuracy: 0.0833\n",
      "Epoch 13/100\n",
      "2/2 [==============================] - 0s 40ms/step - loss: 2.9698 - accuracy: 0.1636 - val_loss: 3.1158 - val_accuracy: 0.0833\n",
      "Epoch 14/100\n",
      "2/2 [==============================] - 0s 42ms/step - loss: 2.9564 - accuracy: 0.2000 - val_loss: 3.1198 - val_accuracy: 0.0417\n",
      "Epoch 15/100\n",
      "2/2 [==============================] - 0s 38ms/step - loss: 2.9439 - accuracy: 0.2182 - val_loss: 3.1246 - val_accuracy: 0.0417\n",
      "Epoch 16/100\n",
      "2/2 [==============================] - 0s 37ms/step - loss: 2.9313 - accuracy: 0.2182 - val_loss: 3.1308 - val_accuracy: 0.0417\n",
      "Epoch 17/100\n",
      "2/2 [==============================] - 0s 34ms/step - loss: 2.9173 - accuracy: 0.2182 - val_loss: 3.1380 - val_accuracy: 0.0417\n",
      "Epoch 18/100\n",
      "2/2 [==============================] - 0s 36ms/step - loss: 2.9034 - accuracy: 0.2000 - val_loss: 3.1468 - val_accuracy: 0.0417\n",
      "Epoch 19/100\n",
      "2/2 [==============================] - 0s 38ms/step - loss: 2.8896 - accuracy: 0.2000 - val_loss: 3.1559 - val_accuracy: 0.0417\n",
      "Epoch 20/100\n",
      "2/2 [==============================] - 0s 40ms/step - loss: 2.8737 - accuracy: 0.2000 - val_loss: 3.1650 - val_accuracy: 0.0417\n",
      "Epoch 21/100\n",
      "2/2 [==============================] - 0s 42ms/step - loss: 2.8591 - accuracy: 0.2182 - val_loss: 3.1750 - val_accuracy: 0.0417\n"
     ]
    }
   ],
   "source": [
    "# history = model_sw.fit(x_train, Y_train, epochs=100)\n",
    "history = model_sw.fit(X_train,y_train, epochs=100, validation_split=0.3,callbacks=[early_stopping])\n",
    "# pas de batch_size ?!"
   ]
  },
  {
   "cell_type": "code",
   "execution_count": 39,
   "id": "192d37b5",
   "metadata": {
    "scrolled": false
   },
   "outputs": [
    {
     "data": {
      "image/png": "[encoded data removed]",
      "text/plain": [
       "<Figure size 720x360 with 1 Axes>"
      ]
     },
     "metadata": {
      "needs_background": "light"
     },
     "output_type": "display_data"
    },
    {
     "data": {
      "image/png": "[encoded data removed]",
      "text/plain": [
       "<Figure size 720x360 with 1 Axes>"
      ]
     },
     "metadata": {
      "needs_background": "light"
     },
     "output_type": "display_data"
    }
   ],
   "source": [
    "# #plotting model accuracy\n",
    "# plt.plot(train_sw.history['accuracy'], label=\"training set accuracy\")\n",
    "# plt.plot(train_sw.history[\"loss\"], label =\"training set loss\")\n",
    "# plt.legend()\n",
    "\n",
    "plt.figure(figsize=(10,5))\n",
    "\n",
    "# summarize history for mae\n",
    "plt.plot(history.history['accuracy'])\n",
    "plt.plot(history.history['val_accuracy'])\n",
    "plt.title('Learning Curve')\n",
    "plt.ylabel('Error')\n",
    "plt.xlabel('epoch')\n",
    "plt.legend(['train', 'test'], loc='upper left')\n",
    "plt.show()\n",
    "\n",
    "# summarize history for loss\n",
    "plt.figure(figsize=(10,5))\n",
    "plt.plot(history.history['loss'])\n",
    "plt.plot(history.history['val_loss'])\n",
    "plt.title('model loss')\n",
    "plt.ylabel('loss')\n",
    "plt.xlabel('epoch')\n",
    "plt.legend(['train', 'test'], loc='upper left')\n",
    "plt.show()"
   ]
  },
  {
   "cell_type": "code",
   "execution_count": 44,
   "id": "1ac3fb4a",
   "metadata": {},
   "outputs": [
    {
     "ename": "KeyboardInterrupt",
     "evalue": "Interrupted by user",
     "output_type": "error",
     "traceback": [
      "\u001b[1;31m---------------------------------------------------------------------------\u001b[0m",
      "\u001b[1;31mKeyboardInterrupt\u001b[0m                         Traceback (most recent call last)",
      "\u001b[1;32m<ipython-input-44-1cd8e720cc32>\u001b[0m in \u001b[0;36m<module>\u001b[1;34m\u001b[0m\n\u001b[0;32m      1\u001b[0m \u001b[1;32mwhile\u001b[0m \u001b[1;32mTrue\u001b[0m\u001b[1;33m:\u001b[0m\u001b[1;33m\u001b[0m\u001b[1;33m\u001b[0m\u001b[0m\n\u001b[0;32m      2\u001b[0m     \u001b[0mtexts_p\u001b[0m \u001b[1;33m=\u001b[0m \u001b[1;33m[\u001b[0m\u001b[1;33m]\u001b[0m\u001b[1;33m\u001b[0m\u001b[1;33m\u001b[0m\u001b[0m\n\u001b[1;32m----> 3\u001b[1;33m     \u001b[0mprediction_input\u001b[0m \u001b[1;33m=\u001b[0m \u001b[0minput\u001b[0m\u001b[1;33m(\u001b[0m\u001b[1;34m\"You : \"\u001b[0m\u001b[1;33m)\u001b[0m\u001b[1;33m\u001b[0m\u001b[1;33m\u001b[0m\u001b[0m\n\u001b[0m\u001b[0;32m      4\u001b[0m \u001b[1;33m\u001b[0m\u001b[0m\n\u001b[0;32m      5\u001b[0m     \u001b[1;31m#removing punctuation and converting to lowercase\u001b[0m\u001b[1;33m\u001b[0m\u001b[1;33m\u001b[0m\u001b[1;33m\u001b[0m\u001b[0m\n",
      "\u001b[1;32m~\\Anaconda3\\lib\\site-packages\\ipykernel\\kernelbase.py\u001b[0m in \u001b[0;36mraw_input\u001b[1;34m(self, prompt)\u001b[0m\n\u001b[0;32m    858\u001b[0m                 \u001b[1;34m\"raw_input was called, but this frontend does not support input requests.\"\u001b[0m\u001b[1;33m\u001b[0m\u001b[1;33m\u001b[0m\u001b[0m\n\u001b[0;32m    859\u001b[0m             )\n\u001b[1;32m--> 860\u001b[1;33m         return self._input_request(str(prompt),\n\u001b[0m\u001b[0;32m    861\u001b[0m             \u001b[0mself\u001b[0m\u001b[1;33m.\u001b[0m\u001b[0m_parent_ident\u001b[0m\u001b[1;33m,\u001b[0m\u001b[1;33m\u001b[0m\u001b[1;33m\u001b[0m\u001b[0m\n\u001b[0;32m    862\u001b[0m             \u001b[0mself\u001b[0m\u001b[1;33m.\u001b[0m\u001b[0m_parent_header\u001b[0m\u001b[1;33m,\u001b[0m\u001b[1;33m\u001b[0m\u001b[1;33m\u001b[0m\u001b[0m\n",
      "\u001b[1;32m~\\Anaconda3\\lib\\site-packages\\ipykernel\\kernelbase.py\u001b[0m in \u001b[0;36m_input_request\u001b[1;34m(self, prompt, ident, parent, password)\u001b[0m\n\u001b[0;32m    902\u001b[0m             \u001b[1;32mexcept\u001b[0m \u001b[0mKeyboardInterrupt\u001b[0m\u001b[1;33m:\u001b[0m\u001b[1;33m\u001b[0m\u001b[1;33m\u001b[0m\u001b[0m\n\u001b[0;32m    903\u001b[0m                 \u001b[1;31m# re-raise KeyboardInterrupt, to truncate traceback\u001b[0m\u001b[1;33m\u001b[0m\u001b[1;33m\u001b[0m\u001b[1;33m\u001b[0m\u001b[0m\n\u001b[1;32m--> 904\u001b[1;33m                 \u001b[1;32mraise\u001b[0m \u001b[0mKeyboardInterrupt\u001b[0m\u001b[1;33m(\u001b[0m\u001b[1;34m\"Interrupted by user\"\u001b[0m\u001b[1;33m)\u001b[0m \u001b[1;32mfrom\u001b[0m \u001b[1;32mNone\u001b[0m\u001b[1;33m\u001b[0m\u001b[1;33m\u001b[0m\u001b[0m\n\u001b[0m\u001b[0;32m    905\u001b[0m             \u001b[1;32mexcept\u001b[0m \u001b[0mException\u001b[0m \u001b[1;32mas\u001b[0m \u001b[0me\u001b[0m\u001b[1;33m:\u001b[0m\u001b[1;33m\u001b[0m\u001b[1;33m\u001b[0m\u001b[0m\n\u001b[0;32m    906\u001b[0m                 \u001b[0mself\u001b[0m\u001b[1;33m.\u001b[0m\u001b[0mlog\u001b[0m\u001b[1;33m.\u001b[0m\u001b[0mwarning\u001b[0m\u001b[1;33m(\u001b[0m\u001b[1;34m\"Invalid Message:\"\u001b[0m\u001b[1;33m,\u001b[0m \u001b[0mexc_info\u001b[0m\u001b[1;33m=\u001b[0m\u001b[1;32mTrue\u001b[0m\u001b[1;33m)\u001b[0m\u001b[1;33m\u001b[0m\u001b[1;33m\u001b[0m\u001b[0m\n",
      "\u001b[1;31mKeyboardInterrupt\u001b[0m: Interrupted by user"
     ]
    }
   ],
   "source": [
    "while True:\n",
    "    texts_p = []\n",
    "    prediction_input = input(\"You : \")\n",
    "    \n",
    "    #removing punctuation and converting to lowercase\n",
    "    prediction_input = [letters.lower() for letters in prediction_input if letters not in string.punctuation]\n",
    "    prediction_input = \"\".join(prediction_input)\n",
    "    texts_p.append(prediction_input)\n",
    "    \n",
    "    #tokenizing and padding\n",
    "    prediction_input = tokenizer.texts_to_sequences(texts_p)\n",
    "    prediction_input = np.array(prediction_input).reshape(-1)\n",
    "    prediction_input = pad_sequences([prediction_input],input_shape)\n",
    "    \n",
    "    #getting output from model\n",
    "    output = model_sw.predict(prediction_input)\n",
    "    output = output.argmax()\n",
    "    \n",
    "    #finding the right tag and predicting\n",
    "    response_tag = le.inverse_transform([output])[0]\n",
    "    print(\"Bot :\",random.choice(responses[response_tag]))\n",
    "    if response_tag == \"goodbye\" :\n",
    "        break"
   ]
  },
  {
   "cell_type": "markdown",
   "id": "a98c9976",
   "metadata": {},
   "source": [
    "# STEMMING"
   ]
  },
  {
   "cell_type": "code",
   "execution_count": null,
   "id": "cad075a0",
   "metadata": {},
   "outputs": [],
   "source": [
    "# from nltk.stem import PorterStemmer"
   ]
  },
  {
   "cell_type": "code",
   "execution_count": null,
   "id": "c5784c32",
   "metadata": {},
   "outputs": [],
   "source": [
    "# stemmers = PorterStemmer()\n",
    "# input_str = \"i don't know what i am doing please help\"\n",
    "# input_str = nltk.word_tokenize(input_str)\n",
    "# for word in input_str :\n",
    "#     print(stemmers.stem(word))"
   ]
  },
  {
   "cell_type": "markdown",
   "id": "00c4bafa",
   "metadata": {},
   "source": [
    "# LEMMATIZATION"
   ]
  },
  {
   "cell_type": "code",
   "execution_count": 40,
   "id": "85a70e1a",
   "metadata": {},
   "outputs": [],
   "source": [
    "from nltk.stem import WordNetLemmatizer"
   ]
  },
  {
   "cell_type": "code",
   "execution_count": 41,
   "id": "da7caf63",
   "metadata": {},
   "outputs": [
    {
     "name": "stderr",
     "output_type": "stream",
     "text": [
      "[nltk_data] Downloading package wordnet to\n",
      "[nltk_data]     C:\\Users\\Admin\\AppData\\Roaming\\nltk_data...\n",
      "[nltk_data]   Package wordnet is already up-to-date!\n"
     ]
    },
    {
     "data": {
      "text/plain": [
       "True"
      ]
     },
     "execution_count": 41,
     "metadata": {},
     "output_type": "execute_result"
    }
   ],
   "source": [
    "import nltk\n",
    "nltk.download('wordnet')"
   ]
  },
  {
   "cell_type": "code",
   "execution_count": 75,
   "id": "2ef684a3",
   "metadata": {},
   "outputs": [
    {
     "data": {
      "text/plain": [
       "'friend'"
      ]
     },
     "execution_count": 75,
     "metadata": {},
     "output_type": "execute_result"
    }
   ],
   "source": [
    "lemmatizer.lemmatize(\"friends\")"
   ]
  },
  {
   "cell_type": "code",
   "execution_count": 95,
   "id": "4ed3cb08",
   "metadata": {},
   "outputs": [
    {
     "data": {
      "text/plain": [
       "['hi',\n",
       " 'hi there',\n",
       " 'hola',\n",
       " 'hello',\n",
       " 'hello there',\n",
       " 'hya',\n",
       " 'hya there',\n",
       " 'my user is adam',\n",
       " 'this is adam',\n",
       " 'i am adam',\n",
       " 'it is adam',\n",
       " 'my user is bella',\n",
       " 'this is bella',\n",
       " 'i am bella',\n",
       " 'it is bella',\n",
       " 'how are you ?',\n",
       " 'hi how are you ?',\n",
       " 'hello how are you ?',\n",
       " 'hola how are you ?',\n",
       " 'how are you doing ?',\n",
       " 'hope you are doing well ?',\n",
       " 'hello hope you are doing well ?',\n",
       " 'good thanks ! my user is adam',\n",
       " 'good thanks ! this is adam',\n",
       " 'good thanks ! i am adam',\n",
       " 'good thanks ! it is adam',\n",
       " 'great thanks ! my user is bella',\n",
       " 'great thanks ! this is bella',\n",
       " 'great thanks ! i am bella',\n",
       " 'great thanks ! it is bella',\n",
       " 'what is my name ?',\n",
       " 'what do you call me ?',\n",
       " 'who do you think i am ?',\n",
       " 'what do you think i am ?',\n",
       " 'who are you talking to ?',\n",
       " 'what name do you call me by ?',\n",
       " 'tell me my name',\n",
       " 'what is your name ?',\n",
       " 'what could i call you ?',\n",
       " 'what can i call you ?',\n",
       " 'what do your friend call you ?',\n",
       " 'who are you ?',\n",
       " 'tell me your name ?',\n",
       " 'what is your real name ?',\n",
       " 'what is your real name please ?',\n",
       " \"what 's your real name ?\",\n",
       " 'tell me your real name ?',\n",
       " 'your real name ?',\n",
       " 'your real name please ?',\n",
       " 'your real name please ?',\n",
       " 'what is the time ?',\n",
       " \"what 's the time ?\",\n",
       " 'do you know what time it is ?',\n",
       " 'do you know the time ?',\n",
       " 'can you tell me the time ?',\n",
       " 'tell me what time it is ?',\n",
       " 'time',\n",
       " 'ok thank you',\n",
       " 'ok thanks',\n",
       " 'ok',\n",
       " 'thanks',\n",
       " 'thank you',\n",
       " \"that 's helpful\",\n",
       " 'i am not talking to you',\n",
       " 'i wa not talking to you',\n",
       " 'not talking to you',\n",
       " \"wa n't for you\",\n",
       " \"wa n't meant for you\",\n",
       " \"wa n't communicating to you\",\n",
       " \"wa n't speaking to you\",\n",
       " 'do you understand what i am saying',\n",
       " 'do you understand me',\n",
       " 'do you know what i am saying',\n",
       " 'do you get me',\n",
       " 'comprendo',\n",
       " 'know what i mean',\n",
       " 'be quiet',\n",
       " 'shut up',\n",
       " 'stop talking',\n",
       " 'enough talking',\n",
       " 'please be quiet',\n",
       " 'quiet',\n",
       " 'shhh',\n",
       " 'fuck off',\n",
       " 'fuck',\n",
       " 'twat',\n",
       " 'shit',\n",
       " 'bye',\n",
       " 'adios',\n",
       " 'see you later',\n",
       " 'goodbye',\n",
       " 'thanks , bye',\n",
       " 'thanks for the help , goodbye',\n",
       " 'thank you , bye',\n",
       " 'thank you , goodbye',\n",
       " 'thanks goodbye',\n",
       " 'thanks good bye',\n",
       " 'can you see me ?',\n",
       " 'do you see me ?',\n",
       " 'can you see anyone in the camera ?',\n",
       " 'do you see anyone in the camera ?',\n",
       " 'identify me',\n",
       " 'who am i please',\n",
       " 'you are very clever',\n",
       " 'you are a very clever girl',\n",
       " 'you are very intelligent',\n",
       " 'you are a very intelligent girl',\n",
       " 'you are a genious',\n",
       " 'clever girl',\n",
       " 'genious',\n",
       " 'i am bored gossip with me',\n",
       " 'got any gossip',\n",
       " 'i want to hear some gossip',\n",
       " 'tell me some gossip',\n",
       " 'any gossip',\n",
       " 'tell me some more gossip',\n",
       " 'tell me a joke',\n",
       " 'do you know any joke',\n",
       " 'how about a joke',\n",
       " 'give me a joke',\n",
       " 'make me laugh',\n",
       " 'i need cheering up',\n",
       " 'open the pod bay door',\n",
       " 'can you open the pod bay door',\n",
       " 'will you open the pod bay door',\n",
       " 'open the pod bay door please',\n",
       " 'can you open the pod bay door please',\n",
       " 'will you open the pod bay door please',\n",
       " 'pod bay door',\n",
       " 'why',\n",
       " 'why not',\n",
       " 'why can you not open the pod bay door',\n",
       " 'why will you not open the pod bay door',\n",
       " 'well why not',\n",
       " 'surely you can',\n",
       " 'tell me why',\n",
       " 'can you prove you are self-aware',\n",
       " 'can you prove you are self aware',\n",
       " 'can you prove you have a conscious',\n",
       " 'can you prove you are self-aware please',\n",
       " 'can you prove you are self aware please',\n",
       " 'can you prove you have a conscious please',\n",
       " 'prove you have a conscious']"
      ]
     },
     "execution_count": 95,
     "metadata": {},
     "output_type": "execute_result"
    }
   ],
   "source": [
    "lemmatizer = WordNetLemmatizer()\n",
    "\n",
    "lemma_sentence = []\n",
    "lemma = []\n",
    "token = []\n",
    "\n",
    "for line in inputs:\n",
    "    token.append(word_tokenize(line))\n",
    "\n",
    "for token_line in token:\n",
    "    [lemma.append(lemmatizer.lemmatize(w.lower())) for w in token_line]\n",
    "    lemma_sentence.append(lemma)\n",
    "    lemma=[]\n",
    "\n",
    "\n",
    "lemma_sentence = [' '.join(ele) for ele in lemma_sentence]\n",
    "lemma_sentence"
   ]
  },
  {
   "cell_type": "code",
   "execution_count": 96,
   "id": "67b8dd0e",
   "metadata": {},
   "outputs": [
    {
     "data": {
      "text/html": [
       "<div>\n",
       "<style scoped>\n",
       "    .dataframe tbody tr th:only-of-type {\n",
       "        vertical-align: middle;\n",
       "    }\n",
       "\n",
       "    .dataframe tbody tr th {\n",
       "        vertical-align: top;\n",
       "    }\n",
       "\n",
       "    .dataframe thead th {\n",
       "        text-align: right;\n",
       "    }\n",
       "</style>\n",
       "<table border=\"1\" class=\"dataframe\">\n",
       "  <thead>\n",
       "    <tr style=\"text-align: right;\">\n",
       "      <th></th>\n",
       "      <th>inputs</th>\n",
       "      <th>tags</th>\n",
       "    </tr>\n",
       "  </thead>\n",
       "  <tbody>\n",
       "    <tr>\n",
       "      <th>0</th>\n",
       "      <td>hi</td>\n",
       "      <td>Greeting</td>\n",
       "    </tr>\n",
       "    <tr>\n",
       "      <th>1</th>\n",
       "      <td>hi there</td>\n",
       "      <td>Greeting</td>\n",
       "    </tr>\n",
       "    <tr>\n",
       "      <th>2</th>\n",
       "      <td>hola</td>\n",
       "      <td>Greeting</td>\n",
       "    </tr>\n",
       "    <tr>\n",
       "      <th>3</th>\n",
       "      <td>hello</td>\n",
       "      <td>Greeting</td>\n",
       "    </tr>\n",
       "    <tr>\n",
       "      <th>4</th>\n",
       "      <td>hello there</td>\n",
       "      <td>Greeting</td>\n",
       "    </tr>\n",
       "    <tr>\n",
       "      <th>...</th>\n",
       "      <td>...</td>\n",
       "      <td>...</td>\n",
       "    </tr>\n",
       "    <tr>\n",
       "      <th>138</th>\n",
       "      <td>can you prove you have a conscious</td>\n",
       "      <td>SelfAware</td>\n",
       "    </tr>\n",
       "    <tr>\n",
       "      <th>139</th>\n",
       "      <td>can you prove you are self-aware please</td>\n",
       "      <td>SelfAware</td>\n",
       "    </tr>\n",
       "    <tr>\n",
       "      <th>140</th>\n",
       "      <td>can you prove you are self aware please</td>\n",
       "      <td>SelfAware</td>\n",
       "    </tr>\n",
       "    <tr>\n",
       "      <th>141</th>\n",
       "      <td>can you prove you have a conscious please</td>\n",
       "      <td>SelfAware</td>\n",
       "    </tr>\n",
       "    <tr>\n",
       "      <th>142</th>\n",
       "      <td>prove you have a conscious</td>\n",
       "      <td>SelfAware</td>\n",
       "    </tr>\n",
       "  </tbody>\n",
       "</table>\n",
       "<p>143 rows × 2 columns</p>\n",
       "</div>"
      ],
      "text/plain": [
       "                                        inputs       tags\n",
       "0                                           hi   Greeting\n",
       "1                                     hi there   Greeting\n",
       "2                                         hola   Greeting\n",
       "3                                        hello   Greeting\n",
       "4                                  hello there   Greeting\n",
       "..                                         ...        ...\n",
       "138         can you prove you have a conscious  SelfAware\n",
       "139    can you prove you are self-aware please  SelfAware\n",
       "140    can you prove you are self aware please  SelfAware\n",
       "141  can you prove you have a conscious please  SelfAware\n",
       "142                 prove you have a conscious  SelfAware\n",
       "\n",
       "[143 rows x 2 columns]"
      ]
     },
     "execution_count": 96,
     "metadata": {},
     "output_type": "execute_result"
    }
   ],
   "source": [
    "df_lem = pd.DataFrame({'inputs': lemma_sentence, 'tags': tags})\n",
    "df_lem"
   ]
  },
  {
   "cell_type": "code",
   "execution_count": 97,
   "id": "09fde45c",
   "metadata": {},
   "outputs": [],
   "source": [
    "#duplicates\n",
    "df_lem.drop_duplicates(inplace=True)"
   ]
  },
  {
   "cell_type": "markdown",
   "id": "13564119",
   "metadata": {},
   "source": [
    "#####  la suite c'est la même"
   ]
  },
  {
   "cell_type": "code",
   "execution_count": 98,
   "id": "501f2296",
   "metadata": {},
   "outputs": [],
   "source": [
    "df = df_lem.copy()"
   ]
  },
  {
   "cell_type": "code",
   "execution_count": 99,
   "id": "839bac08",
   "metadata": {},
   "outputs": [],
   "source": [
    "df[\"inputs\"] = df[\"inputs\"].apply(lambda wrd:[ltrs.lower() for ltrs in wrd if ltrs not in string.punctuation])\n",
    "df[\"inputs\"] = df[\"inputs\"].apply(lambda wrd:\"\".join(wrd))"
   ]
  },
  {
   "cell_type": "code",
   "execution_count": 100,
   "id": "2b3e8fdb",
   "metadata": {},
   "outputs": [],
   "source": [
    "# Tokenizer les data\n",
    "tokenizer = Tokenizer(num_words=2000)\n",
    "tokenizer.fit_on_texts(df[\"inputs\"])\n",
    "train = tokenizer.texts_to_sequences(df[\"inputs\"])"
   ]
  },
  {
   "cell_type": "code",
   "execution_count": 101,
   "id": "aa8eb807",
   "metadata": {},
   "outputs": [],
   "source": [
    "# apply padding\n",
    "x_train = pad_sequences(train)"
   ]
  },
  {
   "cell_type": "code",
   "execution_count": 102,
   "id": "b85bacef",
   "metadata": {},
   "outputs": [],
   "source": [
    "#encoding the outputs\n",
    "le = LabelEncoder()\n",
    "Y_train = le.fit_transform(df['tags'])"
   ]
  },
  {
   "cell_type": "code",
   "execution_count": 103,
   "id": "182ad5f0",
   "metadata": {},
   "outputs": [],
   "source": [
    "input_shape = x_train.shape[1]"
   ]
  },
  {
   "cell_type": "code",
   "execution_count": 104,
   "id": "2ded8d83",
   "metadata": {},
   "outputs": [],
   "source": [
    "from sklearn.model_selection import train_test_split"
   ]
  },
  {
   "cell_type": "code",
   "execution_count": 105,
   "id": "c01afecb",
   "metadata": {},
   "outputs": [],
   "source": [
    "X_train, X_test, y_train, y_test = train_test_split(x_train, Y_train, test_size=0.3, random_state=42, stratify=Y_train)"
   ]
  },
  {
   "cell_type": "code",
   "execution_count": 106,
   "id": "d7d11988",
   "metadata": {
    "scrolled": true
   },
   "outputs": [
    {
     "name": "stdout",
     "output_type": "stream",
     "text": [
      "(99, 9)\n",
      "(43, 9)\n",
      "(99,)\n",
      "(43,)\n"
     ]
    }
   ],
   "source": [
    "print(X_train.shape)\n",
    "print(X_test.shape)\n",
    "print(y_train.shape)\n",
    "print(y_test.shape)"
   ]
  },
  {
   "cell_type": "code",
   "execution_count": 107,
   "id": "eae82d61",
   "metadata": {},
   "outputs": [
    {
     "name": "stdout",
     "output_type": "stream",
     "text": [
      "number of unique words : 116\n",
      "output length  22\n"
     ]
    }
   ],
   "source": [
    "#define vocabulary\n",
    "vocabulary = len(tokenizer.word_index)\n",
    "print(\"number of unique words :\",vocabulary)\n",
    "output_length = le.classes_.shape[0]\n",
    "print(\"output length \", output_length)"
   ]
  },
  {
   "cell_type": "code",
   "execution_count": 108,
   "id": "60919868",
   "metadata": {},
   "outputs": [],
   "source": [
    "#creating model\n",
    "model_lem = Sequential()\n",
    "model_lem.add(Embedding(vocabulary+1,10))\n",
    "model_lem.add(InputLayer(input_shape=(input_shape,)))\n",
    "model_lem.add(SimpleRNN(30))\n",
    "model_lem.add(Dense(output_length, activation=\"softmax\"))"
   ]
  },
  {
   "cell_type": "code",
   "execution_count": 109,
   "id": "0014e426",
   "metadata": {},
   "outputs": [],
   "source": [
    "#compile the model\n",
    "model_lem.compile(loss=\"sparse_categorical_crossentropy\",optimizer=\"adam\",metrics=[\"accuracy\"])"
   ]
  },
  {
   "cell_type": "code",
   "execution_count": 110,
   "id": "1a5835d0",
   "metadata": {},
   "outputs": [],
   "source": [
    "early_stopping = callbacks.EarlyStopping(\n",
    "    patience=20,\n",
    "    min_delta=0.001,\n",
    "    restore_best_weights=True,\n",
    ")"
   ]
  },
  {
   "cell_type": "code",
   "execution_count": 111,
   "id": "4f876b25",
   "metadata": {},
   "outputs": [],
   "source": [
    "early_stop = callbacks.EarlyStopping(monitor=\"loss\",mode=\"min\",verbose=1,patience=100)"
   ]
  },
  {
   "cell_type": "code",
   "execution_count": 112,
   "id": "aff0aa1c",
   "metadata": {
    "scrolled": true
   },
   "outputs": [
    {
     "name": "stdout",
     "output_type": "stream",
     "text": [
      "Epoch 1/100\n",
      "3/3 [==============================] - 1s 172ms/step - loss: 3.1037 - accuracy: 0.0290 - val_loss: 3.1007 - val_accuracy: 0.0333\n",
      "Epoch 2/100\n",
      "3/3 [==============================] - 0s 22ms/step - loss: 3.0827 - accuracy: 0.0725 - val_loss: 3.1020 - val_accuracy: 0.0333\n",
      "Epoch 3/100\n",
      "3/3 [==============================] - 0s 24ms/step - loss: 3.0653 - accuracy: 0.1159 - val_loss: 3.1030 - val_accuracy: 0.0333\n",
      "Epoch 4/100\n",
      "3/3 [==============================] - 0s 24ms/step - loss: 3.0505 - accuracy: 0.1159 - val_loss: 3.1040 - val_accuracy: 0.0333\n",
      "Epoch 5/100\n",
      "3/3 [==============================] - 0s 20ms/step - loss: 3.0347 - accuracy: 0.1594 - val_loss: 3.1025 - val_accuracy: 0.0333\n",
      "Epoch 6/100\n",
      "3/3 [==============================] - 0s 23ms/step - loss: 3.0209 - accuracy: 0.2029 - val_loss: 3.1003 - val_accuracy: 0.0333\n",
      "Epoch 7/100\n",
      "3/3 [==============================] - 0s 21ms/step - loss: 3.0071 - accuracy: 0.2174 - val_loss: 3.0966 - val_accuracy: 0.0333\n",
      "Epoch 8/100\n",
      "3/3 [==============================] - 0s 21ms/step - loss: 2.9929 - accuracy: 0.2464 - val_loss: 3.0929 - val_accuracy: 0.0333\n",
      "Epoch 9/100\n",
      "3/3 [==============================] - ETA: 0s - loss: 2.9935 - accuracy: 0.25 - 0s 22ms/step - loss: 2.9781 - accuracy: 0.3043 - val_loss: 3.0886 - val_accuracy: 0.0333\n",
      "Epoch 10/100\n",
      "3/3 [==============================] - 0s 23ms/step - loss: 2.9630 - accuracy: 0.3768 - val_loss: 3.0856 - val_accuracy: 0.0667\n",
      "Epoch 11/100\n",
      "3/3 [==============================] - ETA: 0s - loss: 2.9524 - accuracy: 0.37 - 0s 20ms/step - loss: 2.9456 - accuracy: 0.3768 - val_loss: 3.0818 - val_accuracy: 0.0667\n",
      "Epoch 12/100\n",
      "3/3 [==============================] - 0s 20ms/step - loss: 2.9287 - accuracy: 0.4493 - val_loss: 3.0765 - val_accuracy: 0.1000\n",
      "Epoch 13/100\n",
      "3/3 [==============================] - 0s 20ms/step - loss: 2.9091 - accuracy: 0.5072 - val_loss: 3.0723 - val_accuracy: 0.1000\n",
      "Epoch 14/100\n",
      "3/3 [==============================] - 0s 21ms/step - loss: 2.8887 - accuracy: 0.5652 - val_loss: 3.0674 - val_accuracy: 0.0667\n",
      "Epoch 15/100\n",
      "3/3 [==============================] - 0s 20ms/step - loss: 2.8676 - accuracy: 0.5942 - val_loss: 3.0635 - val_accuracy: 0.0667\n",
      "Epoch 16/100\n",
      "3/3 [==============================] - 0s 21ms/step - loss: 2.8453 - accuracy: 0.5652 - val_loss: 3.0609 - val_accuracy: 0.0667\n",
      "Epoch 17/100\n",
      "3/3 [==============================] - 0s 22ms/step - loss: 2.8185 - accuracy: 0.5652 - val_loss: 3.0551 - val_accuracy: 0.0667\n",
      "Epoch 18/100\n",
      "3/3 [==============================] - 0s 21ms/step - loss: 2.7906 - accuracy: 0.5652 - val_loss: 3.0466 - val_accuracy: 0.0667\n",
      "Epoch 19/100\n",
      "3/3 [==============================] - 0s 21ms/step - loss: 2.7627 - accuracy: 0.5797 - val_loss: 3.0336 - val_accuracy: 0.1000\n",
      "Epoch 20/100\n",
      "3/3 [==============================] - 0s 19ms/step - loss: 2.7333 - accuracy: 0.5797 - val_loss: 3.0227 - val_accuracy: 0.1667\n",
      "Epoch 21/100\n",
      "3/3 [==============================] - 0s 20ms/step - loss: 2.6999 - accuracy: 0.5652 - val_loss: 3.0164 - val_accuracy: 0.1667\n",
      "Epoch 22/100\n",
      "3/3 [==============================] - 0s 25ms/step - loss: 2.6659 - accuracy: 0.5797 - val_loss: 3.0162 - val_accuracy: 0.1667\n",
      "Epoch 23/100\n",
      "3/3 [==============================] - 0s 26ms/step - loss: 2.6238 - accuracy: 0.5942 - val_loss: 3.0263 - val_accuracy: 0.2000\n",
      "Epoch 24/100\n",
      "3/3 [==============================] - 0s 27ms/step - loss: 2.5818 - accuracy: 0.6087 - val_loss: 3.0518 - val_accuracy: 0.1333\n",
      "Epoch 25/100\n",
      "3/3 [==============================] - 0s 28ms/step - loss: 2.5482 - accuracy: 0.5797 - val_loss: 3.0812 - val_accuracy: 0.1333\n",
      "Epoch 26/100\n",
      "3/3 [==============================] - 0s 33ms/step - loss: 2.5112 - accuracy: 0.5362 - val_loss: 3.0959 - val_accuracy: 0.1333\n",
      "Epoch 27/100\n",
      "3/3 [==============================] - 0s 21ms/step - loss: 2.4736 - accuracy: 0.5217 - val_loss: 3.0924 - val_accuracy: 0.1333\n",
      "Epoch 28/100\n",
      "3/3 [==============================] - 0s 21ms/step - loss: 2.4285 - accuracy: 0.5507 - val_loss: 3.0861 - val_accuracy: 0.1333\n",
      "Epoch 29/100\n",
      "3/3 [==============================] - 0s 21ms/step - loss: 2.3847 - accuracy: 0.5507 - val_loss: 3.0735 - val_accuracy: 0.1333\n",
      "Epoch 30/100\n",
      "3/3 [==============================] - 0s 22ms/step - loss: 2.3368 - accuracy: 0.5797 - val_loss: 3.0391 - val_accuracy: 0.2000\n",
      "Epoch 31/100\n",
      "3/3 [==============================] - 0s 19ms/step - loss: 2.2950 - accuracy: 0.6087 - val_loss: 3.0080 - val_accuracy: 0.2333\n",
      "Epoch 32/100\n",
      "3/3 [==============================] - 0s 23ms/step - loss: 2.2511 - accuracy: 0.6232 - val_loss: 2.9971 - val_accuracy: 0.2333\n",
      "Epoch 33/100\n",
      "3/3 [==============================] - 0s 19ms/step - loss: 2.2014 - accuracy: 0.6377 - val_loss: 3.0165 - val_accuracy: 0.2000\n",
      "Epoch 34/100\n",
      "3/3 [==============================] - 0s 19ms/step - loss: 2.1570 - accuracy: 0.5797 - val_loss: 3.0181 - val_accuracy: 0.1667\n",
      "Epoch 35/100\n",
      "3/3 [==============================] - 0s 22ms/step - loss: 2.1187 - accuracy: 0.6087 - val_loss: 2.9940 - val_accuracy: 0.1667\n",
      "Epoch 36/100\n",
      "3/3 [==============================] - 0s 19ms/step - loss: 2.0730 - accuracy: 0.6232 - val_loss: 2.9491 - val_accuracy: 0.2333\n",
      "Epoch 37/100\n",
      "3/3 [==============================] - 0s 22ms/step - loss: 2.0218 - accuracy: 0.6377 - val_loss: 2.9147 - val_accuracy: 0.2333\n",
      "Epoch 38/100\n",
      "3/3 [==============================] - 0s 23ms/step - loss: 1.9804 - accuracy: 0.6522 - val_loss: 2.8911 - val_accuracy: 0.2333\n",
      "Epoch 39/100\n",
      "3/3 [==============================] - 0s 28ms/step - loss: 1.9387 - accuracy: 0.6667 - val_loss: 2.8683 - val_accuracy: 0.2333\n",
      "Epoch 40/100\n",
      "3/3 [==============================] - 0s 28ms/step - loss: 1.9019 - accuracy: 0.7246 - val_loss: 2.8415 - val_accuracy: 0.2667\n",
      "Epoch 41/100\n",
      "3/3 [==============================] - 0s 25ms/step - loss: 1.8688 - accuracy: 0.7101 - val_loss: 2.8472 - val_accuracy: 0.2000\n",
      "Epoch 42/100\n",
      "3/3 [==============================] - 0s 24ms/step - loss: 1.8266 - accuracy: 0.7101 - val_loss: 2.8699 - val_accuracy: 0.2000\n",
      "Epoch 43/100\n",
      "3/3 [==============================] - 0s 24ms/step - loss: 1.7867 - accuracy: 0.7101 - val_loss: 2.8680 - val_accuracy: 0.2000\n",
      "Epoch 44/100\n",
      "3/3 [==============================] - 0s 21ms/step - loss: 1.7504 - accuracy: 0.7101 - val_loss: 2.8412 - val_accuracy: 0.2000\n",
      "Epoch 45/100\n",
      "3/3 [==============================] - 0s 23ms/step - loss: 1.7199 - accuracy: 0.7101 - val_loss: 2.8265 - val_accuracy: 0.2000\n",
      "Epoch 46/100\n",
      "3/3 [==============================] - 0s 23ms/step - loss: 1.6850 - accuracy: 0.7391 - val_loss: 2.8529 - val_accuracy: 0.1667\n",
      "Epoch 47/100\n",
      "3/3 [==============================] - 0s 22ms/step - loss: 1.6575 - accuracy: 0.7101 - val_loss: 2.9084 - val_accuracy: 0.1667\n",
      "Epoch 48/100\n",
      "3/3 [==============================] - 0s 23ms/step - loss: 1.6426 - accuracy: 0.7246 - val_loss: 2.8865 - val_accuracy: 0.1667\n",
      "Epoch 49/100\n",
      "3/3 [==============================] - 0s 29ms/step - loss: 1.5989 - accuracy: 0.7391 - val_loss: 2.8153 - val_accuracy: 0.2333\n",
      "Epoch 50/100\n",
      "3/3 [==============================] - 0s 38ms/step - loss: 1.5655 - accuracy: 0.7826 - val_loss: 2.7893 - val_accuracy: 0.2333\n",
      "Epoch 51/100\n",
      "3/3 [==============================] - 0s 30ms/step - loss: 1.5362 - accuracy: 0.7826 - val_loss: 2.8343 - val_accuracy: 0.2000\n",
      "Epoch 52/100\n",
      "3/3 [==============================] - 0s 21ms/step - loss: 1.5056 - accuracy: 0.7681 - val_loss: 2.8834 - val_accuracy: 0.2000\n",
      "Epoch 53/100\n",
      "3/3 [==============================] - 0s 20ms/step - loss: 1.4922 - accuracy: 0.7391 - val_loss: 2.8921 - val_accuracy: 0.2000\n",
      "Epoch 54/100\n",
      "3/3 [==============================] - 0s 19ms/step - loss: 1.4671 - accuracy: 0.7681 - val_loss: 2.8445 - val_accuracy: 0.2000\n",
      "Epoch 55/100\n",
      "3/3 [==============================] - 0s 19ms/step - loss: 1.4269 - accuracy: 0.7681 - val_loss: 2.7783 - val_accuracy: 0.2667\n",
      "Epoch 56/100\n",
      "3/3 [==============================] - 0s 21ms/step - loss: 1.4142 - accuracy: 0.7681 - val_loss: 2.7631 - val_accuracy: 0.2667\n",
      "Epoch 57/100\n",
      "3/3 [==============================] - 0s 21ms/step - loss: 1.3848 - accuracy: 0.7826 - val_loss: 2.7991 - val_accuracy: 0.2333\n",
      "Epoch 58/100\n",
      "3/3 [==============================] - 0s 22ms/step - loss: 1.3595 - accuracy: 0.7826 - val_loss: 2.8297 - val_accuracy: 0.2333\n",
      "Epoch 59/100\n",
      "3/3 [==============================] - 0s 22ms/step - loss: 1.3442 - accuracy: 0.7826 - val_loss: 2.8191 - val_accuracy: 0.2333\n",
      "Epoch 60/100\n",
      "3/3 [==============================] - 0s 23ms/step - loss: 1.3204 - accuracy: 0.7826 - val_loss: 2.7647 - val_accuracy: 0.2667\n",
      "Epoch 61/100\n",
      "3/3 [==============================] - 0s 23ms/step - loss: 1.2958 - accuracy: 0.8116 - val_loss: 2.7213 - val_accuracy: 0.3000\n",
      "Epoch 62/100\n",
      "3/3 [==============================] - 0s 21ms/step - loss: 1.2743 - accuracy: 0.8406 - val_loss: 2.7147 - val_accuracy: 0.3000\n",
      "Epoch 63/100\n",
      "3/3 [==============================] - 0s 19ms/step - loss: 1.2503 - accuracy: 0.8406 - val_loss: 2.7242 - val_accuracy: 0.3000\n",
      "Epoch 64/100\n",
      "3/3 [==============================] - 0s 19ms/step - loss: 1.2271 - accuracy: 0.8406 - val_loss: 2.7134 - val_accuracy: 0.3333\n",
      "Epoch 65/100\n",
      "3/3 [==============================] - 0s 21ms/step - loss: 1.2054 - accuracy: 0.8551 - val_loss: 2.6955 - val_accuracy: 0.3333\n",
      "Epoch 66/100\n",
      "3/3 [==============================] - 0s 21ms/step - loss: 1.1862 - accuracy: 0.8406 - val_loss: 2.6606 - val_accuracy: 0.3667\n",
      "Epoch 67/100\n",
      "3/3 [==============================] - 0s 23ms/step - loss: 1.1689 - accuracy: 0.8696 - val_loss: 2.6580 - val_accuracy: 0.3333\n",
      "Epoch 68/100\n",
      "3/3 [==============================] - 0s 21ms/step - loss: 1.1467 - accuracy: 0.8551 - val_loss: 2.6758 - val_accuracy: 0.3333\n",
      "Epoch 69/100\n",
      "3/3 [==============================] - 0s 24ms/step - loss: 1.1279 - accuracy: 0.8696 - val_loss: 2.6749 - val_accuracy: 0.2667\n",
      "Epoch 70/100\n",
      "3/3 [==============================] - 0s 23ms/step - loss: 1.1114 - accuracy: 0.8696 - val_loss: 2.6621 - val_accuracy: 0.2667\n",
      "Epoch 71/100\n",
      "3/3 [==============================] - 0s 21ms/step - loss: 1.0937 - accuracy: 0.8841 - val_loss: 2.6379 - val_accuracy: 0.3333\n",
      "Epoch 72/100\n",
      "3/3 [==============================] - 0s 21ms/step - loss: 1.0737 - accuracy: 0.8841 - val_loss: 2.6582 - val_accuracy: 0.3000\n",
      "Epoch 73/100\n",
      "3/3 [==============================] - 0s 21ms/step - loss: 1.0550 - accuracy: 0.8986 - val_loss: 2.6415 - val_accuracy: 0.3667\n",
      "Epoch 74/100\n",
      "3/3 [==============================] - 0s 21ms/step - loss: 1.0364 - accuracy: 0.8986 - val_loss: 2.6162 - val_accuracy: 0.3667\n",
      "Epoch 75/100\n",
      "3/3 [==============================] - 0s 21ms/step - loss: 1.0209 - accuracy: 0.8986 - val_loss: 2.6358 - val_accuracy: 0.3667\n",
      "Epoch 76/100\n",
      "3/3 [==============================] - 0s 20ms/step - loss: 1.0072 - accuracy: 0.8696 - val_loss: 2.6465 - val_accuracy: 0.3333\n",
      "Epoch 77/100\n",
      "3/3 [==============================] - 0s 20ms/step - loss: 0.9923 - accuracy: 0.8696 - val_loss: 2.6521 - val_accuracy: 0.3333\n",
      "Epoch 78/100\n",
      "3/3 [==============================] - 0s 22ms/step - loss: 0.9768 - accuracy: 0.8841 - val_loss: 2.6217 - val_accuracy: 0.3333\n",
      "Epoch 79/100\n",
      "3/3 [==============================] - 0s 23ms/step - loss: 0.9593 - accuracy: 0.8841 - val_loss: 2.5920 - val_accuracy: 0.3333\n",
      "Epoch 80/100\n",
      "3/3 [==============================] - 0s 21ms/step - loss: 0.9461 - accuracy: 0.8986 - val_loss: 2.6242 - val_accuracy: 0.3333\n",
      "Epoch 81/100\n",
      "3/3 [==============================] - 0s 21ms/step - loss: 0.9287 - accuracy: 0.8986 - val_loss: 2.6602 - val_accuracy: 0.3333\n",
      "Epoch 82/100\n",
      "3/3 [==============================] - 0s 20ms/step - loss: 0.9213 - accuracy: 0.8986 - val_loss: 2.6267 - val_accuracy: 0.3333\n",
      "Epoch 83/100\n",
      "3/3 [==============================] - 0s 20ms/step - loss: 0.9023 - accuracy: 0.9130 - val_loss: 2.5879 - val_accuracy: 0.3333\n",
      "Epoch 84/100\n",
      "3/3 [==============================] - 0s 22ms/step - loss: 0.8850 - accuracy: 0.9130 - val_loss: 2.5813 - val_accuracy: 0.3667\n",
      "Epoch 85/100\n",
      "3/3 [==============================] - ETA: 0s - loss: 0.7991 - accuracy: 0.93 - 0s 21ms/step - loss: 0.8747 - accuracy: 0.9130 - val_loss: 2.5996 - val_accuracy: 0.3333\n",
      "Epoch 86/100\n",
      "3/3 [==============================] - 0s 20ms/step - loss: 0.8619 - accuracy: 0.9130 - val_loss: 2.5797 - val_accuracy: 0.3667\n",
      "Epoch 87/100\n",
      "3/3 [==============================] - 0s 23ms/step - loss: 0.8483 - accuracy: 0.9130 - val_loss: 2.5492 - val_accuracy: 0.3667\n",
      "Epoch 88/100\n",
      "3/3 [==============================] - 0s 21ms/step - loss: 0.8366 - accuracy: 0.9130 - val_loss: 2.5302 - val_accuracy: 0.3667\n",
      "Epoch 89/100\n",
      "3/3 [==============================] - 0s 19ms/step - loss: 0.8232 - accuracy: 0.9275 - val_loss: 2.5469 - val_accuracy: 0.3667\n",
      "Epoch 90/100\n",
      "3/3 [==============================] - 0s 21ms/step - loss: 0.8107 - accuracy: 0.9130 - val_loss: 2.5836 - val_accuracy: 0.3667\n",
      "Epoch 91/100\n",
      "3/3 [==============================] - 0s 20ms/step - loss: 0.8040 - accuracy: 0.8986 - val_loss: 2.5739 - val_accuracy: 0.3667\n",
      "Epoch 92/100\n",
      "3/3 [==============================] - 0s 19ms/step - loss: 0.7892 - accuracy: 0.9130 - val_loss: 2.5411 - val_accuracy: 0.3667\n",
      "Epoch 93/100\n",
      "3/3 [==============================] - 0s 21ms/step - loss: 0.7771 - accuracy: 0.9130 - val_loss: 2.5491 - val_accuracy: 0.3667\n",
      "Epoch 94/100\n",
      "3/3 [==============================] - 0s 19ms/step - loss: 0.7630 - accuracy: 0.9130 - val_loss: 2.5835 - val_accuracy: 0.3667\n",
      "Epoch 95/100\n",
      "3/3 [==============================] - 0s 20ms/step - loss: 0.7605 - accuracy: 0.9130 - val_loss: 2.5704 - val_accuracy: 0.3667\n",
      "Epoch 96/100\n",
      "3/3 [==============================] - 0s 21ms/step - loss: 0.7420 - accuracy: 0.9130 - val_loss: 2.4919 - val_accuracy: 0.3667\n",
      "Epoch 97/100\n",
      "3/3 [==============================] - 0s 21ms/step - loss: 0.7316 - accuracy: 0.9420 - val_loss: 2.4712 - val_accuracy: 0.4000\n",
      "Epoch 98/100\n",
      "3/3 [==============================] - 0s 22ms/step - loss: 0.7219 - accuracy: 0.9130 - val_loss: 2.5365 - val_accuracy: 0.3667\n",
      "Epoch 99/100\n",
      "3/3 [==============================] - 0s 21ms/step - loss: 0.7088 - accuracy: 0.9130 - val_loss: 2.5498 - val_accuracy: 0.3667\n",
      "Epoch 100/100\n",
      "3/3 [==============================] - 0s 19ms/step - loss: 0.7073 - accuracy: 0.9275 - val_loss: 2.5102 - val_accuracy: 0.3667\n"
     ]
    }
   ],
   "source": [
    "# history = model_sw.fit(x_train, Y_train, epochs=100)\n",
    "history = model_lem.fit(X_train,y_train, epochs=100, validation_split=0.3,callbacks=[early_stopping])\n",
    "# pas de batch_size ?!"
   ]
  },
  {
   "cell_type": "code",
   "execution_count": 113,
   "id": "6efce4c3",
   "metadata": {
    "scrolled": false
   },
   "outputs": [
    {
     "data": {
      "image/png": "[encoded data removed]",
      "text/plain": [
       "<Figure size 720x360 with 1 Axes>"
      ]
     },
     "metadata": {
      "needs_background": "light"
     },
     "output_type": "display_data"
    },
    {
     "data": {
      "image/png": "[encoded data removed]",
      "text/plain": [
       "<Figure size 720x360 with 1 Axes>"
      ]
     },
     "metadata": {
      "needs_background": "light"
     },
     "output_type": "display_data"
    }
   ],
   "source": [
    "# #plotting model accuracy\n",
    "# plt.plot(train_sw.history['accuracy'], label=\"training set accuracy\")\n",
    "# plt.plot(train_sw.history[\"loss\"], label =\"training set loss\")\n",
    "# plt.legend()\n",
    "\n",
    "plt.figure(figsize=(10,5))\n",
    "\n",
    "# summarize history for mae\n",
    "plt.plot(history.history['accuracy'])\n",
    "plt.plot(history.history['val_accuracy'])\n",
    "plt.title('Learning Curve')\n",
    "plt.ylabel('Error')\n",
    "plt.xlabel('epoch')\n",
    "plt.legend(['train', 'test'], loc='upper left')\n",
    "plt.show()\n",
    "\n",
    "# summarize history for loss\n",
    "plt.figure(figsize=(10,5))\n",
    "plt.plot(history.history['loss'])\n",
    "plt.plot(history.history['val_loss'])\n",
    "plt.title('model loss')\n",
    "plt.ylabel('loss')\n",
    "plt.xlabel('epoch')\n",
    "plt.legend(['train', 'test'], loc='upper left')\n",
    "plt.show()"
   ]
  },
  {
   "cell_type": "markdown",
   "id": "f87d00ce",
   "metadata": {},
   "source": [
    "# LTSM"
   ]
  },
  {
   "cell_type": "code",
   "execution_count": null,
   "id": "def52a1a",
   "metadata": {},
   "outputs": [],
   "source": []
  },
  {
   "cell_type": "code",
   "execution_count": 35,
   "id": "18e7e7c6",
   "metadata": {},
   "outputs": [],
   "source": [
    "lstm_model = Sequential()\n",
    "lstm_model.add(InputLayer(input_shape=(input_shape,)))\n",
    "lstm_model.add(Embedding(vocabulary+1,10))\n",
    "lstm_model.add(LSTM(10, return_sequences=True))\n",
    "lstm_model.add(Flatten())\n",
    "lstm_model.add(Dense(output_length, activation=\"softmax\"))"
   ]
  },
  {
   "cell_type": "code",
   "execution_count": 36,
   "id": "48c46635",
   "metadata": {},
   "outputs": [],
   "source": [
    "#compile the model\n",
    "lstm_model.compile(loss=\"sparse_categorical_crossentropy\",optimizer=\"adam\",metrics=[\"accuracy\"])"
   ]
  },
  {
   "cell_type": "code",
   "execution_count": 37,
   "id": "6a2894ce",
   "metadata": {},
   "outputs": [],
   "source": [
    "#compile the model\n",
    "model_tts.compile(loss=\"sparse_categorical_crossentropy\",optimizer=\"adam\",metrics=[\"accuracy\"])"
   ]
  },
  {
   "cell_type": "code",
   "execution_count": 38,
   "id": "4cf0e2ca",
   "metadata": {},
   "outputs": [],
   "source": [
    "early_stopping = callbacks.EarlyStopping(\n",
    "    patience=20,\n",
    "    min_delta=0.001,\n",
    "    restore_best_weights=True,\n",
    ")"
   ]
  },
  {
   "cell_type": "code",
   "execution_count": 39,
   "id": "edac62fa",
   "metadata": {},
   "outputs": [],
   "source": [
    "early_stop = callbacks.EarlyStopping(monitor=\"loss\",mode=\"min\",verbose=1,patience=100)"
   ]
  },
  {
   "cell_type": "code",
   "execution_count": 40,
   "id": "16b71669",
   "metadata": {
    "scrolled": true
   },
   "outputs": [
    {
     "name": "stdout",
     "output_type": "stream",
     "text": [
      "Epoch 1/100\n",
      "3/3 [==============================] - 3s 312ms/step - loss: 3.0914 - accuracy: 0.0714 - val_loss: 3.0935 - val_accuracy: 0.0667\n",
      "Epoch 2/100\n",
      "3/3 [==============================] - 0s 22ms/step - loss: 3.0884 - accuracy: 0.0857 - val_loss: 3.0942 - val_accuracy: 0.0667\n",
      "Epoch 3/100\n",
      "3/3 [==============================] - 0s 23ms/step - loss: 3.0862 - accuracy: 0.0857 - val_loss: 3.0947 - val_accuracy: 0.0667\n",
      "Epoch 4/100\n",
      "3/3 [==============================] - 0s 22ms/step - loss: 3.0838 - accuracy: 0.0857 - val_loss: 3.0951 - val_accuracy: 0.0667\n",
      "Epoch 5/100\n",
      "3/3 [==============================] - 0s 22ms/step - loss: 3.0817 - accuracy: 0.1143 - val_loss: 3.0957 - val_accuracy: 0.1000\n",
      "Epoch 6/100\n",
      "3/3 [==============================] - 0s 25ms/step - loss: 3.0795 - accuracy: 0.1571 - val_loss: 3.0964 - val_accuracy: 0.1000\n",
      "Epoch 7/100\n",
      "3/3 [==============================] - 0s 24ms/step - loss: 3.0772 - accuracy: 0.2000 - val_loss: 3.0972 - val_accuracy: 0.1000\n",
      "Epoch 8/100\n",
      "3/3 [==============================] - 0s 22ms/step - loss: 3.0748 - accuracy: 0.2143 - val_loss: 3.0983 - val_accuracy: 0.1000\n",
      "Epoch 9/100\n",
      "3/3 [==============================] - 0s 22ms/step - loss: 3.0722 - accuracy: 0.2000 - val_loss: 3.0993 - val_accuracy: 0.1000\n",
      "Epoch 10/100\n",
      "3/3 [==============================] - 0s 26ms/step - loss: 3.0697 - accuracy: 0.2000 - val_loss: 3.1001 - val_accuracy: 0.1000\n",
      "Epoch 11/100\n",
      "3/3 [==============================] - 0s 22ms/step - loss: 3.0668 - accuracy: 0.2429 - val_loss: 3.1006 - val_accuracy: 0.1000\n",
      "Epoch 12/100\n",
      "3/3 [==============================] - 0s 23ms/step - loss: 3.0638 - accuracy: 0.2286 - val_loss: 3.1013 - val_accuracy: 0.1000\n",
      "Epoch 13/100\n",
      "3/3 [==============================] - 0s 22ms/step - loss: 3.0610 - accuracy: 0.2143 - val_loss: 3.1024 - val_accuracy: 0.1000\n",
      "Epoch 14/100\n",
      "3/3 [==============================] - 0s 20ms/step - loss: 3.0571 - accuracy: 0.2143 - val_loss: 3.1035 - val_accuracy: 0.1000\n",
      "Epoch 15/100\n",
      "3/3 [==============================] - 0s 25ms/step - loss: 3.0534 - accuracy: 0.2143 - val_loss: 3.1047 - val_accuracy: 0.1000\n",
      "Epoch 16/100\n",
      "3/3 [==============================] - 0s 26ms/step - loss: 3.0494 - accuracy: 0.2000 - val_loss: 3.1056 - val_accuracy: 0.1000\n",
      "Epoch 17/100\n",
      "3/3 [==============================] - 0s 25ms/step - loss: 3.0450 - accuracy: 0.2000 - val_loss: 3.1063 - val_accuracy: 0.1000\n",
      "Epoch 18/100\n",
      "3/3 [==============================] - 0s 22ms/step - loss: 3.0399 - accuracy: 0.1714 - val_loss: 3.1072 - val_accuracy: 0.1000\n",
      "Epoch 19/100\n",
      "3/3 [==============================] - 0s 21ms/step - loss: 3.0341 - accuracy: 0.2000 - val_loss: 3.1080 - val_accuracy: 0.1000\n",
      "Epoch 20/100\n",
      "3/3 [==============================] - 0s 20ms/step - loss: 3.0280 - accuracy: 0.2143 - val_loss: 3.1088 - val_accuracy: 0.1000\n",
      "Epoch 21/100\n",
      "3/3 [==============================] - 0s 21ms/step - loss: 3.0213 - accuracy: 0.2286 - val_loss: 3.1104 - val_accuracy: 0.1000\n"
     ]
    }
   ],
   "source": [
    "# history = model_sw.fit(x_train, Y_train, epochs=100)\n",
    "history = lstm_model.fit(X_train,y_train, epochs=100, validation_split=0.3,callbacks=[early_stopping])\n",
    "# pas de batch_size ?!"
   ]
  },
  {
   "cell_type": "code",
   "execution_count": 41,
   "id": "c878e067",
   "metadata": {},
   "outputs": [
    {
     "data": {
      "image/png": "[encoded data removed]",
      "text/plain": [
       "<Figure size 720x360 with 1 Axes>"
      ]
     },
     "metadata": {
      "needs_background": "light"
     },
     "output_type": "display_data"
    },
    {
     "data": {
      "image/png": "[encoded data removed]",
      "text/plain": [
       "<Figure size 720x360 with 1 Axes>"
      ]
     },
     "metadata": {
      "needs_background": "light"
     },
     "output_type": "display_data"
    }
   ],
   "source": [
    "# #plotting model accuracy\n",
    "# plt.plot(train_sw.history['accuracy'], label=\"training set accuracy\")\n",
    "# plt.plot(train_sw.history[\"loss\"], label =\"training set loss\")\n",
    "# plt.legend()\n",
    "\n",
    "plt.figure(figsize=(10,5))\n",
    "\n",
    "# summarize history for mae\n",
    "plt.plot(history.history['accuracy'])\n",
    "plt.plot(history.history['val_accuracy'])\n",
    "plt.title('Learning Curve')\n",
    "plt.ylabel('Error')\n",
    "plt.xlabel('epoch')\n",
    "plt.legend(['train', 'test'], loc='upper left')\n",
    "plt.show()\n",
    "\n",
    "# summarize history for loss\n",
    "plt.figure(figsize=(10,5))\n",
    "plt.plot(history.history['loss'])\n",
    "plt.plot(history.history['val_loss'])\n",
    "plt.title('model loss')\n",
    "plt.ylabel('loss')\n",
    "plt.xlabel('epoch')\n",
    "plt.legend(['train', 'test'], loc='upper left')\n",
    "plt.show()"
   ]
  }
 ],
 "metadata": {
  "kernelspec": {
   "display_name": "Python 3",
   "language": "python",
   "name": "python3"
  },
  "language_info": {
   "codemirror_mode": {
    "name": "ipython",
    "version": 3
   },
   "file_extension": ".py",
   "mimetype": "text/x-python",
   "name": "python",
   "nbconvert_exporter": "python",
   "pygments_lexer": "ipython3",
   "version": "3.8.8"
  }
 },
 "nbformat": 4,
 "nbformat_minor": 5
}
