{
 "cells": [
  {
   "cell_type": "code",
   "execution_count": 1,
   "id": "6911229e",
   "metadata": {},
   "outputs": [],
   "source": [
    "import json \n",
    "import numpy as np \n",
    "import pandas as pd\n",
    "import matplotlib.pyplot as plt\n",
    "import random\n",
    "\n",
    "import string\n",
    "# import nltk\n",
    "from nltk import *\n",
    "\n",
    "from nltk.corpus import stopwords\n",
    "from nltk.tokenize import word_tokenize\n",
    "\n",
    "from sklearn.model_selection import train_test_split\n",
    "\n",
    "import tensorflow as tf\n",
    "from tensorflow import keras\n",
    "from tensorflow.keras.layers import Dense, Embedding, GlobalAveragePooling1D , Activation\n",
    "from tensorflow.keras.preprocessing.text import Tokenizer\n",
    "from tensorflow.keras.preprocessing.sequence import pad_sequences\n",
    "from sklearn.preprocessing import LabelEncoder\n",
    "\n",
    "from tensorflow.keras import Sequential\n",
    "from tensorflow.keras.layers import InputLayer\n",
    "from tensorflow.keras.layers import SimpleRNN\n",
    "from tensorflow.keras.layers import LSTM\n",
    "from tensorflow.keras.layers import Flatten\n",
    "from tensorflow.keras.layers import Dropout\n",
    "from tensorflow.keras import callbacks"
   ]
  },
  {
   "cell_type": "code",
   "execution_count": 3,
   "id": "05fcbb44",
   "metadata": {},
   "outputs": [],
   "source": [
    "with open(\"../../data/Intent.json\") as train_file:\n",
    "    df= json.load(train_file)"
   ]
  },
  {
   "cell_type": "markdown",
   "id": "3bcc17f8",
   "metadata": {},
   "source": [
    "# TOKENIZATION"
   ]
  },
  {
   "cell_type": "code",
   "execution_count": 4,
   "id": "a82bd075",
   "metadata": {},
   "outputs": [
    {
     "data": {
      "text/html": [
       "<div>\n",
       "<style scoped>\n",
       "    .dataframe tbody tr th:only-of-type {\n",
       "        vertical-align: middle;\n",
       "    }\n",
       "\n",
       "    .dataframe tbody tr th {\n",
       "        vertical-align: top;\n",
       "    }\n",
       "\n",
       "    .dataframe thead th {\n",
       "        text-align: right;\n",
       "    }\n",
       "</style>\n",
       "<table border=\"1\" class=\"dataframe\">\n",
       "  <thead>\n",
       "    <tr style=\"text-align: right;\">\n",
       "      <th></th>\n",
       "      <th>inputs</th>\n",
       "      <th>tags</th>\n",
       "    </tr>\n",
       "  </thead>\n",
       "  <tbody>\n",
       "    <tr>\n",
       "      <th>0</th>\n",
       "      <td>Hi</td>\n",
       "      <td>Greeting</td>\n",
       "    </tr>\n",
       "    <tr>\n",
       "      <th>1</th>\n",
       "      <td>Hi there</td>\n",
       "      <td>Greeting</td>\n",
       "    </tr>\n",
       "    <tr>\n",
       "      <th>2</th>\n",
       "      <td>Hola</td>\n",
       "      <td>Greeting</td>\n",
       "    </tr>\n",
       "    <tr>\n",
       "      <th>3</th>\n",
       "      <td>Hello</td>\n",
       "      <td>Greeting</td>\n",
       "    </tr>\n",
       "    <tr>\n",
       "      <th>4</th>\n",
       "      <td>Hello there</td>\n",
       "      <td>Greeting</td>\n",
       "    </tr>\n",
       "    <tr>\n",
       "      <th>...</th>\n",
       "      <td>...</td>\n",
       "      <td>...</td>\n",
       "    </tr>\n",
       "    <tr>\n",
       "      <th>138</th>\n",
       "      <td>Can you prove you have a conscious</td>\n",
       "      <td>SelfAware</td>\n",
       "    </tr>\n",
       "    <tr>\n",
       "      <th>139</th>\n",
       "      <td>Can you prove you are self-aware please</td>\n",
       "      <td>SelfAware</td>\n",
       "    </tr>\n",
       "    <tr>\n",
       "      <th>140</th>\n",
       "      <td>Can you prove you are self aware please</td>\n",
       "      <td>SelfAware</td>\n",
       "    </tr>\n",
       "    <tr>\n",
       "      <th>141</th>\n",
       "      <td>Can you prove you have a conscious please</td>\n",
       "      <td>SelfAware</td>\n",
       "    </tr>\n",
       "    <tr>\n",
       "      <th>142</th>\n",
       "      <td>prove you have a conscious</td>\n",
       "      <td>SelfAware</td>\n",
       "    </tr>\n",
       "  </tbody>\n",
       "</table>\n",
       "<p>143 rows × 2 columns</p>\n",
       "</div>"
      ],
      "text/plain": [
       "                                        inputs       tags\n",
       "0                                           Hi   Greeting\n",
       "1                                     Hi there   Greeting\n",
       "2                                         Hola   Greeting\n",
       "3                                        Hello   Greeting\n",
       "4                                  Hello there   Greeting\n",
       "..                                         ...        ...\n",
       "138         Can you prove you have a conscious  SelfAware\n",
       "139    Can you prove you are self-aware please  SelfAware\n",
       "140    Can you prove you are self aware please  SelfAware\n",
       "141  Can you prove you have a conscious please  SelfAware\n",
       "142                 prove you have a conscious  SelfAware\n",
       "\n",
       "[143 rows x 2 columns]"
      ]
     },
     "execution_count": 4,
     "metadata": {},
     "output_type": "execute_result"
    }
   ],
   "source": [
    "tags = []\n",
    "inputs = []\n",
    "responses = {}\n",
    "\n",
    "for intent in df['intents']:\n",
    "    responses[intent['intent']] = intent['responses']\n",
    "    for lines in intent['text']:\n",
    "        inputs.append(lines)\n",
    "        tags.append(intent['intent'])\n",
    "df = pd.DataFrame({'inputs': inputs, 'tags': tags})\n",
    "df"
   ]
  },
  {
   "cell_type": "code",
   "execution_count": 5,
   "id": "4a2c282c",
   "metadata": {},
   "outputs": [],
   "source": [
    "df[\"inputs\"] = df[\"inputs\"].apply(lambda wrd:[ltrs.lower() for ltrs in wrd if ltrs not in string.punctuation])\n",
    "df[\"inputs\"] = df[\"inputs\"].apply(lambda wrd:\"\".join(wrd))"
   ]
  },
  {
   "cell_type": "code",
   "execution_count": 6,
   "id": "e6774370",
   "metadata": {},
   "outputs": [],
   "source": [
    "# Tokenizer les data\n",
    "tokenizer = Tokenizer(num_words=2000)\n",
    "tokenizer.fit_on_texts(df[\"inputs\"])\n",
    "train = tokenizer.texts_to_sequences(df[\"inputs\"])"
   ]
  },
  {
   "cell_type": "code",
   "execution_count": 7,
   "id": "d85b5048",
   "metadata": {},
   "outputs": [],
   "source": [
    "# apply padding\n",
    "# x_train = pad_sequences(train)\n",
    "X_data = pad_sequences(train)"
   ]
  },
  {
   "cell_type": "code",
   "execution_count": 8,
   "id": "15abe545",
   "metadata": {},
   "outputs": [],
   "source": [
    "#encoding the outputs\n",
    "le = LabelEncoder()\n",
    "# Y_train = le.fit_transform(df['tags'])\n",
    "y_data = le.fit_transform(df['tags'])"
   ]
  },
  {
   "cell_type": "code",
   "execution_count": 9,
   "id": "59e1333d",
   "metadata": {},
   "outputs": [
    {
     "name": "stdout",
     "output_type": "stream",
     "text": [
      "9\n"
     ]
    }
   ],
   "source": [
    "# input_shape = x_train.shape[1]\n",
    "input_shape = X_data.shape[1]\n",
    "print(input_shape)"
   ]
  },
  {
   "cell_type": "code",
   "execution_count": 10,
   "id": "145ea579",
   "metadata": {},
   "outputs": [
    {
     "name": "stdout",
     "output_type": "stream",
     "text": [
      "number of unique words : 117\n",
      "output length  22\n"
     ]
    }
   ],
   "source": [
    "#define vocabulary\n",
    "vocabulary = len(tokenizer.word_index)\n",
    "print(\"number of unique words :\",vocabulary)\n",
    "output_length = le.classes_.shape[0]\n",
    "print(\"output length \", output_length)"
   ]
  },
  {
   "cell_type": "code",
   "execution_count": 11,
   "id": "9857d227",
   "metadata": {},
   "outputs": [],
   "source": [
    "# X_train, X_test, y_train, y_test = train_test_split(x_train, Y_train, test_size=0.3, random_state=42, stratify=Y_train)\n",
    "X_train_data, X_test, y_train_data, y_test = train_test_split(X_data, y_data, test_size=0.15, random_state=42, stratify=y_data)"
   ]
  },
  {
   "cell_type": "code",
   "execution_count": 12,
   "id": "1d9b8c48",
   "metadata": {},
   "outputs": [],
   "source": [
    "X_train, X_val, y_train, y_val = train_test_split(X_train_data, y_train_data, test_size=0.2, random_state=42, stratify=y_train_data)"
   ]
  },
  {
   "cell_type": "code",
   "execution_count": 13,
   "id": "916e3574",
   "metadata": {
    "scrolled": true
   },
   "outputs": [
    {
     "name": "stdout",
     "output_type": "stream",
     "text": [
      "(96, 9)\n",
      "(22, 9)\n",
      "(96,)\n",
      "(22,)\n"
     ]
    }
   ],
   "source": [
    "print(X_train.shape)\n",
    "print(X_test.shape)\n",
    "print(y_train.shape)\n",
    "print(y_test.shape)"
   ]
  },
  {
   "cell_type": "code",
   "execution_count": 14,
   "id": "39fcd00b",
   "metadata": {},
   "outputs": [
    {
     "name": "stdout",
     "output_type": "stream",
     "text": [
      "number of unique words : 117\n",
      "output length  22\n"
     ]
    }
   ],
   "source": [
    "#define vocabulary\n",
    "vocabulary = len(tokenizer.word_index)\n",
    "print(\"number of unique words :\",vocabulary)\n",
    "output_length = le.classes_.shape[0]\n",
    "print(\"output length \", output_length)"
   ]
  },
  {
   "cell_type": "markdown",
   "id": "5cbbada4",
   "metadata": {},
   "source": [
    "# SimpleRNN"
   ]
  },
  {
   "cell_type": "code",
   "execution_count": 15,
   "id": "d940df8a",
   "metadata": {},
   "outputs": [],
   "source": [
    "#creating model\n",
    "model_tts = Sequential()\n",
    "model_tts.add(Embedding(vocabulary+1,10))\n",
    "model_tts.add(InputLayer(input_shape=(input_shape,)))\n",
    "model_tts.add(SimpleRNN(30))\n",
    "model_tts.add(Dense(output_length, activation=\"softmax\"))"
   ]
  },
  {
   "cell_type": "code",
   "execution_count": 16,
   "id": "f487bbad",
   "metadata": {},
   "outputs": [],
   "source": [
    "#compile the model\n",
    "model_tts.compile(loss=\"sparse_categorical_crossentropy\",optimizer=\"adam\",metrics=[\"accuracy\"])"
   ]
  },
  {
   "cell_type": "code",
   "execution_count": 17,
   "id": "ab85351a",
   "metadata": {},
   "outputs": [],
   "source": [
    "# early_stopping = callbacks.EarlyStopping(\n",
    "#     patience=20,\n",
    "#     min_delta=0.001,\n",
    "#     restore_best_weights=True,\n",
    "# )"
   ]
  },
  {
   "cell_type": "code",
   "execution_count": 18,
   "id": "5714c39a",
   "metadata": {},
   "outputs": [],
   "source": [
    "# early_stop = callbacks.EarlyStopping(monitor=\"loss\",mode=\"min\",verbose=1,patience=100)"
   ]
  },
  {
   "cell_type": "code",
   "execution_count": 19,
   "id": "ac2d726b",
   "metadata": {
    "scrolled": true
   },
   "outputs": [
    {
     "name": "stdout",
     "output_type": "stream",
     "text": [
      "Epoch 1/100\n",
      "3/3 [==============================] - 2s 173ms/step - loss: 3.0996 - accuracy: 0.0208 - val_loss: 3.0823 - val_accuracy: 0.1600\n",
      "Epoch 2/100\n",
      "3/3 [==============================] - 0s 22ms/step - loss: 3.0819 - accuracy: 0.0521 - val_loss: 3.0732 - val_accuracy: 0.2000\n",
      "Epoch 3/100\n",
      "3/3 [==============================] - 0s 19ms/step - loss: 3.0669 - accuracy: 0.1354 - val_loss: 3.0643 - val_accuracy: 0.2000\n",
      "Epoch 4/100\n",
      "3/3 [==============================] - 0s 20ms/step - loss: 3.0524 - accuracy: 0.2292 - val_loss: 3.0560 - val_accuracy: 0.2800\n",
      "Epoch 5/100\n",
      "3/3 [==============================] - 0s 22ms/step - loss: 3.0377 - accuracy: 0.2500 - val_loss: 3.0473 - val_accuracy: 0.2800\n",
      "Epoch 6/100\n",
      "3/3 [==============================] - 0s 20ms/step - loss: 3.0228 - accuracy: 0.2917 - val_loss: 3.0389 - val_accuracy: 0.2800\n",
      "Epoch 7/100\n",
      "3/3 [==============================] - 0s 21ms/step - loss: 3.0063 - accuracy: 0.3229 - val_loss: 3.0296 - val_accuracy: 0.2800\n",
      "Epoch 8/100\n",
      "3/3 [==============================] - 0s 23ms/step - loss: 2.9897 - accuracy: 0.3438 - val_loss: 3.0197 - val_accuracy: 0.2800\n",
      "Epoch 9/100\n",
      "3/3 [==============================] - 0s 22ms/step - loss: 2.9718 - accuracy: 0.3438 - val_loss: 3.0096 - val_accuracy: 0.2800\n",
      "Epoch 10/100\n",
      "3/3 [==============================] - 0s 20ms/step - loss: 2.9526 - accuracy: 0.3646 - val_loss: 2.9975 - val_accuracy: 0.3200\n",
      "Epoch 11/100\n",
      "3/3 [==============================] - 0s 22ms/step - loss: 2.9320 - accuracy: 0.3750 - val_loss: 2.9835 - val_accuracy: 0.2800\n",
      "Epoch 12/100\n",
      "3/3 [==============================] - 0s 19ms/step - loss: 2.9079 - accuracy: 0.3958 - val_loss: 2.9697 - val_accuracy: 0.2800\n",
      "Epoch 13/100\n",
      "3/3 [==============================] - 0s 21ms/step - loss: 2.8824 - accuracy: 0.4167 - val_loss: 2.9530 - val_accuracy: 0.3200\n",
      "Epoch 14/100\n",
      "3/3 [==============================] - 0s 21ms/step - loss: 2.8536 - accuracy: 0.4271 - val_loss: 2.9356 - val_accuracy: 0.3600\n",
      "Epoch 15/100\n",
      "3/3 [==============================] - 0s 21ms/step - loss: 2.8233 - accuracy: 0.4375 - val_loss: 2.9146 - val_accuracy: 0.3200\n",
      "Epoch 16/100\n",
      "3/3 [==============================] - 0s 22ms/step - loss: 2.7892 - accuracy: 0.4688 - val_loss: 2.8929 - val_accuracy: 0.2800\n",
      "Epoch 17/100\n",
      "3/3 [==============================] - 0s 21ms/step - loss: 2.7510 - accuracy: 0.4688 - val_loss: 2.8692 - val_accuracy: 0.2400\n",
      "Epoch 18/100\n",
      "3/3 [==============================] - 0s 21ms/step - loss: 2.7107 - accuracy: 0.5000 - val_loss: 2.8425 - val_accuracy: 0.2400\n",
      "Epoch 19/100\n",
      "3/3 [==============================] - 0s 21ms/step - loss: 2.6643 - accuracy: 0.5208 - val_loss: 2.8131 - val_accuracy: 0.3200\n",
      "Epoch 20/100\n",
      "3/3 [==============================] - 0s 21ms/step - loss: 2.6168 - accuracy: 0.5729 - val_loss: 2.7798 - val_accuracy: 0.3200\n",
      "Epoch 21/100\n",
      "3/3 [==============================] - 0s 21ms/step - loss: 2.5672 - accuracy: 0.5625 - val_loss: 2.7419 - val_accuracy: 0.2800\n",
      "Epoch 22/100\n",
      "3/3 [==============================] - 0s 21ms/step - loss: 2.5176 - accuracy: 0.5729 - val_loss: 2.7059 - val_accuracy: 0.3200\n",
      "Epoch 23/100\n",
      "3/3 [==============================] - 0s 19ms/step - loss: 2.4672 - accuracy: 0.5938 - val_loss: 2.6652 - val_accuracy: 0.3200\n",
      "Epoch 24/100\n",
      "3/3 [==============================] - 0s 22ms/step - loss: 2.4177 - accuracy: 0.5104 - val_loss: 2.6230 - val_accuracy: 0.3600\n",
      "Epoch 25/100\n",
      "3/3 [==============================] - 0s 19ms/step - loss: 2.3605 - accuracy: 0.5521 - val_loss: 2.5845 - val_accuracy: 0.4000\n",
      "Epoch 26/100\n",
      "3/3 [==============================] - 0s 20ms/step - loss: 2.3083 - accuracy: 0.5938 - val_loss: 2.5368 - val_accuracy: 0.4400\n",
      "Epoch 27/100\n",
      "3/3 [==============================] - 0s 21ms/step - loss: 2.2568 - accuracy: 0.5521 - val_loss: 2.4947 - val_accuracy: 0.4400\n",
      "Epoch 28/100\n",
      "3/3 [==============================] - 0s 22ms/step - loss: 2.2059 - accuracy: 0.5938 - val_loss: 2.4534 - val_accuracy: 0.4400\n",
      "Epoch 29/100\n",
      "3/3 [==============================] - 0s 21ms/step - loss: 2.1587 - accuracy: 0.5938 - val_loss: 2.4189 - val_accuracy: 0.4000\n",
      "Epoch 30/100\n",
      "3/3 [==============================] - 0s 21ms/step - loss: 2.1088 - accuracy: 0.6042 - val_loss: 2.3819 - val_accuracy: 0.5200\n",
      "Epoch 31/100\n",
      "3/3 [==============================] - 0s 20ms/step - loss: 2.0660 - accuracy: 0.5625 - val_loss: 2.3399 - val_accuracy: 0.5600\n",
      "Epoch 32/100\n",
      "3/3 [==============================] - 0s 21ms/step - loss: 2.0257 - accuracy: 0.5833 - val_loss: 2.3147 - val_accuracy: 0.4400\n",
      "Epoch 33/100\n",
      "3/3 [==============================] - 0s 23ms/step - loss: 1.9852 - accuracy: 0.5729 - val_loss: 2.2878 - val_accuracy: 0.4000\n",
      "Epoch 34/100\n",
      "3/3 [==============================] - 0s 21ms/step - loss: 1.9347 - accuracy: 0.5729 - val_loss: 2.2526 - val_accuracy: 0.5200\n",
      "Epoch 35/100\n",
      "3/3 [==============================] - 0s 20ms/step - loss: 1.8922 - accuracy: 0.6146 - val_loss: 2.2344 - val_accuracy: 0.4800\n",
      "Epoch 36/100\n",
      "3/3 [==============================] - 0s 19ms/step - loss: 1.8492 - accuracy: 0.6250 - val_loss: 2.2137 - val_accuracy: 0.5600\n",
      "Epoch 37/100\n",
      "3/3 [==============================] - 0s 21ms/step - loss: 1.8113 - accuracy: 0.6250 - val_loss: 2.1798 - val_accuracy: 0.4800\n",
      "Epoch 38/100\n",
      "3/3 [==============================] - 0s 21ms/step - loss: 1.7757 - accuracy: 0.6771 - val_loss: 2.1619 - val_accuracy: 0.5200\n",
      "Epoch 39/100\n",
      "3/3 [==============================] - 0s 21ms/step - loss: 1.7299 - accuracy: 0.6667 - val_loss: 2.1530 - val_accuracy: 0.5200\n",
      "Epoch 40/100\n",
      "3/3 [==============================] - 0s 21ms/step - loss: 1.7130 - accuracy: 0.6562 - val_loss: 2.1328 - val_accuracy: 0.4800\n",
      "Epoch 41/100\n",
      "3/3 [==============================] - 0s 21ms/step - loss: 1.6672 - accuracy: 0.7188 - val_loss: 2.1039 - val_accuracy: 0.5200\n",
      "Epoch 42/100\n",
      "3/3 [==============================] - 0s 20ms/step - loss: 1.6416 - accuracy: 0.6979 - val_loss: 2.0963 - val_accuracy: 0.4800\n",
      "Epoch 43/100\n",
      "3/3 [==============================] - 0s 21ms/step - loss: 1.5936 - accuracy: 0.6979 - val_loss: 2.0725 - val_accuracy: 0.5200\n",
      "Epoch 44/100\n",
      "3/3 [==============================] - 0s 19ms/step - loss: 1.5654 - accuracy: 0.7604 - val_loss: 2.0586 - val_accuracy: 0.5200\n",
      "Epoch 45/100\n",
      "3/3 [==============================] - 0s 20ms/step - loss: 1.5348 - accuracy: 0.7292 - val_loss: 2.0564 - val_accuracy: 0.5200\n",
      "Epoch 46/100\n",
      "3/3 [==============================] - 0s 21ms/step - loss: 1.5052 - accuracy: 0.7500 - val_loss: 2.0323 - val_accuracy: 0.4800\n",
      "Epoch 47/100\n",
      "3/3 [==============================] - 0s 19ms/step - loss: 1.4688 - accuracy: 0.7500 - val_loss: 2.0218 - val_accuracy: 0.5200\n",
      "Epoch 48/100\n",
      "3/3 [==============================] - 0s 23ms/step - loss: 1.4528 - accuracy: 0.7188 - val_loss: 2.0281 - val_accuracy: 0.5200\n",
      "Epoch 49/100\n",
      "3/3 [==============================] - 0s 22ms/step - loss: 1.4358 - accuracy: 0.7500 - val_loss: 2.0228 - val_accuracy: 0.4400\n",
      "Epoch 50/100\n",
      "3/3 [==============================] - 0s 22ms/step - loss: 1.3881 - accuracy: 0.8021 - val_loss: 1.9992 - val_accuracy: 0.4800\n",
      "Epoch 51/100\n",
      "3/3 [==============================] - 0s 20ms/step - loss: 1.3709 - accuracy: 0.7604 - val_loss: 2.0097 - val_accuracy: 0.5200\n",
      "Epoch 52/100\n",
      "3/3 [==============================] - 0s 20ms/step - loss: 1.3302 - accuracy: 0.7708 - val_loss: 1.9838 - val_accuracy: 0.4000\n",
      "Epoch 53/100\n",
      "3/3 [==============================] - 0s 19ms/step - loss: 1.3171 - accuracy: 0.7917 - val_loss: 1.9814 - val_accuracy: 0.4800\n",
      "Epoch 54/100\n",
      "3/3 [==============================] - 0s 21ms/step - loss: 1.2733 - accuracy: 0.8021 - val_loss: 1.9886 - val_accuracy: 0.4800\n",
      "Epoch 55/100\n",
      "3/3 [==============================] - 0s 21ms/step - loss: 1.2594 - accuracy: 0.7917 - val_loss: 1.9597 - val_accuracy: 0.4400\n",
      "Epoch 56/100\n",
      "3/3 [==============================] - 0s 21ms/step - loss: 1.2148 - accuracy: 0.8229 - val_loss: 1.9525 - val_accuracy: 0.4800\n",
      "Epoch 57/100\n",
      "3/3 [==============================] - 0s 21ms/step - loss: 1.2054 - accuracy: 0.8438 - val_loss: 1.9468 - val_accuracy: 0.4000\n",
      "Epoch 58/100\n",
      "3/3 [==============================] - 0s 21ms/step - loss: 1.1627 - accuracy: 0.8333 - val_loss: 1.9554 - val_accuracy: 0.5200\n",
      "Epoch 59/100\n"
     ]
    },
    {
     "name": "stdout",
     "output_type": "stream",
     "text": [
      "3/3 [==============================] - 0s 21ms/step - loss: 1.1516 - accuracy: 0.8125 - val_loss: 1.9359 - val_accuracy: 0.5600\n",
      "Epoch 60/100\n",
      "3/3 [==============================] - 0s 20ms/step - loss: 1.1166 - accuracy: 0.8333 - val_loss: 1.9254 - val_accuracy: 0.4000\n",
      "Epoch 61/100\n",
      "3/3 [==============================] - 0s 20ms/step - loss: 1.0968 - accuracy: 0.8542 - val_loss: 1.9208 - val_accuracy: 0.4800\n",
      "Epoch 62/100\n",
      "3/3 [==============================] - 0s 20ms/step - loss: 1.0710 - accuracy: 0.8438 - val_loss: 1.9193 - val_accuracy: 0.5200\n",
      "Epoch 63/100\n",
      "3/3 [==============================] - 0s 21ms/step - loss: 1.0511 - accuracy: 0.8333 - val_loss: 1.9102 - val_accuracy: 0.4400\n",
      "Epoch 64/100\n",
      "3/3 [==============================] - 0s 19ms/step - loss: 1.0381 - accuracy: 0.8438 - val_loss: 1.9199 - val_accuracy: 0.4800\n",
      "Epoch 65/100\n",
      "3/3 [==============================] - 0s 21ms/step - loss: 1.0062 - accuracy: 0.8542 - val_loss: 1.9087 - val_accuracy: 0.5200\n",
      "Epoch 66/100\n",
      "3/3 [==============================] - 0s 21ms/step - loss: 0.9913 - accuracy: 0.8750 - val_loss: 1.9025 - val_accuracy: 0.4800\n",
      "Epoch 67/100\n",
      "3/3 [==============================] - 0s 21ms/step - loss: 0.9779 - accuracy: 0.8333 - val_loss: 1.9149 - val_accuracy: 0.4800\n",
      "Epoch 68/100\n",
      "3/3 [==============================] - 0s 22ms/step - loss: 0.9458 - accuracy: 0.8542 - val_loss: 1.9092 - val_accuracy: 0.5200\n",
      "Epoch 69/100\n",
      "3/3 [==============================] - 0s 22ms/step - loss: 0.9410 - accuracy: 0.8750 - val_loss: 1.8850 - val_accuracy: 0.4800\n",
      "Epoch 70/100\n",
      "3/3 [==============================] - 0s 22ms/step - loss: 0.9086 - accuracy: 0.8854 - val_loss: 1.8903 - val_accuracy: 0.4800\n",
      "Epoch 71/100\n",
      "3/3 [==============================] - 0s 23ms/step - loss: 0.8907 - accuracy: 0.8646 - val_loss: 1.8898 - val_accuracy: 0.5600\n",
      "Epoch 72/100\n",
      "3/3 [==============================] - 0s 21ms/step - loss: 0.8723 - accuracy: 0.8750 - val_loss: 1.8795 - val_accuracy: 0.4800\n",
      "Epoch 73/100\n",
      "3/3 [==============================] - 0s 21ms/step - loss: 0.8588 - accuracy: 0.8750 - val_loss: 1.8752 - val_accuracy: 0.4800\n",
      "Epoch 74/100\n",
      "3/3 [==============================] - 0s 20ms/step - loss: 0.8335 - accuracy: 0.8750 - val_loss: 1.8749 - val_accuracy: 0.5200\n",
      "Epoch 75/100\n",
      "3/3 [==============================] - 0s 21ms/step - loss: 0.8176 - accuracy: 0.8750 - val_loss: 1.8711 - val_accuracy: 0.4800\n",
      "Epoch 76/100\n",
      "3/3 [==============================] - 0s 20ms/step - loss: 0.8178 - accuracy: 0.8958 - val_loss: 1.8740 - val_accuracy: 0.4800\n",
      "Epoch 77/100\n",
      "3/3 [==============================] - 0s 22ms/step - loss: 0.7949 - accuracy: 0.8854 - val_loss: 1.8829 - val_accuracy: 0.5200\n",
      "Epoch 78/100\n",
      "3/3 [==============================] - 0s 20ms/step - loss: 0.7660 - accuracy: 0.8958 - val_loss: 1.8726 - val_accuracy: 0.4800\n",
      "Epoch 79/100\n",
      "3/3 [==============================] - 0s 20ms/step - loss: 0.7506 - accuracy: 0.9062 - val_loss: 1.8696 - val_accuracy: 0.4800\n",
      "Epoch 80/100\n",
      "3/3 [==============================] - 0s 21ms/step - loss: 0.7348 - accuracy: 0.9167 - val_loss: 1.8601 - val_accuracy: 0.4800\n",
      "Epoch 81/100\n",
      "3/3 [==============================] - 0s 19ms/step - loss: 0.7234 - accuracy: 0.9062 - val_loss: 1.8561 - val_accuracy: 0.4800\n",
      "Epoch 82/100\n",
      "3/3 [==============================] - 0s 20ms/step - loss: 0.7066 - accuracy: 0.9271 - val_loss: 1.8654 - val_accuracy: 0.5200\n",
      "Epoch 83/100\n",
      "3/3 [==============================] - 0s 20ms/step - loss: 0.6919 - accuracy: 0.9167 - val_loss: 1.8565 - val_accuracy: 0.5200\n",
      "Epoch 84/100\n",
      "3/3 [==============================] - 0s 19ms/step - loss: 0.6753 - accuracy: 0.9167 - val_loss: 1.8533 - val_accuracy: 0.4800\n",
      "Epoch 85/100\n",
      "3/3 [==============================] - 0s 19ms/step - loss: 0.6549 - accuracy: 0.9271 - val_loss: 1.8485 - val_accuracy: 0.5200\n",
      "Epoch 86/100\n",
      "3/3 [==============================] - 0s 21ms/step - loss: 0.6453 - accuracy: 0.9271 - val_loss: 1.8442 - val_accuracy: 0.5200\n",
      "Epoch 87/100\n",
      "3/3 [==============================] - 0s 22ms/step - loss: 0.6253 - accuracy: 0.9375 - val_loss: 1.8478 - val_accuracy: 0.5200\n",
      "Epoch 88/100\n",
      "3/3 [==============================] - 0s 20ms/step - loss: 0.6187 - accuracy: 0.9271 - val_loss: 1.8421 - val_accuracy: 0.5200\n",
      "Epoch 89/100\n",
      "3/3 [==============================] - 0s 22ms/step - loss: 0.6037 - accuracy: 0.9375 - val_loss: 1.8501 - val_accuracy: 0.5200\n",
      "Epoch 90/100\n",
      "3/3 [==============================] - 0s 20ms/step - loss: 0.5954 - accuracy: 0.9271 - val_loss: 1.8387 - val_accuracy: 0.5200\n",
      "Epoch 91/100\n",
      "3/3 [==============================] - 0s 22ms/step - loss: 0.5813 - accuracy: 0.9375 - val_loss: 1.8405 - val_accuracy: 0.5200\n",
      "Epoch 92/100\n",
      "3/3 [==============================] - 0s 21ms/step - loss: 0.5744 - accuracy: 0.9375 - val_loss: 1.8460 - val_accuracy: 0.5200\n",
      "Epoch 93/100\n",
      "3/3 [==============================] - 0s 22ms/step - loss: 0.5585 - accuracy: 0.9375 - val_loss: 1.8408 - val_accuracy: 0.5200\n",
      "Epoch 94/100\n",
      "3/3 [==============================] - 0s 21ms/step - loss: 0.5470 - accuracy: 0.9583 - val_loss: 1.8352 - val_accuracy: 0.5200\n",
      "Epoch 95/100\n",
      "3/3 [==============================] - 0s 21ms/step - loss: 0.5349 - accuracy: 0.9688 - val_loss: 1.8311 - val_accuracy: 0.5200\n",
      "Epoch 96/100\n",
      "3/3 [==============================] - 0s 21ms/step - loss: 0.5194 - accuracy: 0.9688 - val_loss: 1.8311 - val_accuracy: 0.5200\n",
      "Epoch 97/100\n",
      "3/3 [==============================] - 0s 21ms/step - loss: 0.5105 - accuracy: 0.9688 - val_loss: 1.8339 - val_accuracy: 0.5200\n",
      "Epoch 98/100\n",
      "3/3 [==============================] - 0s 20ms/step - loss: 0.5068 - accuracy: 0.9688 - val_loss: 1.8329 - val_accuracy: 0.5200\n",
      "Epoch 99/100\n",
      "3/3 [==============================] - 0s 21ms/step - loss: 0.4903 - accuracy: 0.9688 - val_loss: 1.8334 - val_accuracy: 0.5200\n",
      "Epoch 100/100\n",
      "3/3 [==============================] - 0s 20ms/step - loss: 0.4809 - accuracy: 0.9792 - val_loss: 1.8373 - val_accuracy: 0.5200\n"
     ]
    }
   ],
   "source": [
    "history = model_tts.fit(X_train,y_train, epochs=100, validation_data=(X_val, y_val))\n",
    "# history = model_tts.fit(X_train,y_train, epochs=100, validation_split=0.3,callbacks=[early_stopping])"
   ]
  },
  {
   "cell_type": "code",
   "execution_count": 20,
   "id": "02964097",
   "metadata": {
    "scrolled": false
   },
   "outputs": [
    {
     "data": {
      "image/png": "[encoded data removed]",
      "text/plain": [
       "<Figure size 720x360 with 1 Axes>"
      ]
     },
     "metadata": {
      "needs_background": "light"
     },
     "output_type": "display_data"
    },
    {
     "data": {
      "image/png": "[encoded data removed]",
      "text/plain": [
       "<Figure size 720x360 with 1 Axes>"
      ]
     },
     "metadata": {
      "needs_background": "light"
     },
     "output_type": "display_data"
    }
   ],
   "source": [
    "plt.figure(figsize=(10,5))\n",
    "\n",
    "# summarize history for mae\n",
    "plt.plot(history.history['accuracy'])\n",
    "plt.plot(history.history['val_accuracy'])\n",
    "plt.title('Learning Curve')\n",
    "plt.ylabel('Accuracy')\n",
    "plt.xlabel('epoch')\n",
    "plt.legend(['train', 'test'], loc='upper left')\n",
    "plt.show()\n",
    "\n",
    "# summarize history for loss\n",
    "plt.figure(figsize=(10,5))\n",
    "plt.plot(history.history['loss'])\n",
    "plt.plot(history.history['val_loss'])\n",
    "plt.title('model loss')\n",
    "plt.ylabel('loss')\n",
    "plt.xlabel('epoch')\n",
    "plt.legend(['train', 'test'], loc='upper left')\n",
    "plt.show()"
   ]
  },
  {
   "cell_type": "markdown",
   "id": "d3f30aea",
   "metadata": {},
   "source": [
    "# Test chatbot RNN"
   ]
  },
  {
   "cell_type": "code",
   "execution_count": 21,
   "id": "fce85660",
   "metadata": {
    "scrolled": true
   },
   "outputs": [],
   "source": [
    "#chatting\n",
    "\n",
    "# import random\n",
    "\n",
    "# while True:\n",
    "#     texts_p = []\n",
    "#     prediction_input = input(\"You : \")\n",
    "    \n",
    "#     #removing punctuation and converting to lowercase\n",
    "#     prediction_input = [letters.lower() for letters in prediction_input if letters not in string.punctuation]\n",
    "#     prediction_input = \"\".join(prediction_input)\n",
    "#     texts_p.append(prediction_input)\n",
    "    \n",
    "#     #tokenizing and padding\n",
    "#     prediction_input = tokenizer.texts_to_sequences(texts_p)\n",
    "#     prediction_input = np.array(prediction_input).reshape(-1)\n",
    "#     prediction_input = pad_sequences([prediction_input],input_shape)\n",
    "    \n",
    "#     #getting output from model\n",
    "#     output = model.predict(prediction_input)\n",
    "#     output = output.argmax()\n",
    "    \n",
    "#     #finding the right tag and predicting\n",
    "#     response_tag = le.inverse_transform([output])[0]\n",
    "#     print(\"Bot :\",random.choice(responses[response_tag]))\n",
    "#     if response_tag == \"goodbye\" :\n",
    "#         break"
   ]
  },
  {
   "cell_type": "markdown",
   "id": "f270bb03",
   "metadata": {},
   "source": [
    "# LTSM"
   ]
  },
  {
   "cell_type": "code",
   "execution_count": 22,
   "id": "73197a5e",
   "metadata": {},
   "outputs": [],
   "source": [
    "lstm_model = Sequential()\n",
    "lstm_model.add(InputLayer(input_shape=(input_shape,)))\n",
    "lstm_model.add(Embedding(vocabulary+1,10))\n",
    "lstm_model.add(LSTM(10, return_sequences=True))\n",
    "lstm_model.add(Flatten())\n",
    "lstm_model.add(Dense(output_length, activation=\"softmax\"))"
   ]
  },
  {
   "cell_type": "code",
   "execution_count": 23,
   "id": "f1fb1829",
   "metadata": {},
   "outputs": [],
   "source": [
    "#compile the model\n",
    "lstm_model.compile(loss=\"sparse_categorical_crossentropy\",optimizer=\"adam\",metrics=[\"accuracy\"])"
   ]
  },
  {
   "cell_type": "code",
   "execution_count": 24,
   "id": "280593c6",
   "metadata": {},
   "outputs": [],
   "source": [
    "# early_stopping = callbacks.EarlyStopping(\n",
    "#     patience=20,\n",
    "#     min_delta=0.001,\n",
    "#     restore_best_weights=True,\n",
    "# )"
   ]
  },
  {
   "cell_type": "code",
   "execution_count": 25,
   "id": "5de94899",
   "metadata": {},
   "outputs": [],
   "source": [
    "# early_stop = callbacks.EarlyStopping(monitor=\"loss\",mode=\"min\",verbose=1,patience=100)"
   ]
  },
  {
   "cell_type": "code",
   "execution_count": 26,
   "id": "7d2ec01a",
   "metadata": {},
   "outputs": [
    {
     "name": "stdout",
     "output_type": "stream",
     "text": [
      "Epoch 1/100\n",
      "3/3 [==============================] - 3s 333ms/step - loss: 3.0925 - accuracy: 0.0312 - val_loss: 3.0887 - val_accuracy: 0.0400\n",
      "Epoch 2/100\n",
      "3/3 [==============================] - 0s 23ms/step - loss: 3.0901 - accuracy: 0.0625 - val_loss: 3.0877 - val_accuracy: 0.0400\n",
      "Epoch 3/100\n",
      "3/3 [==============================] - 0s 21ms/step - loss: 3.0879 - accuracy: 0.0729 - val_loss: 3.0867 - val_accuracy: 0.1200\n",
      "Epoch 4/100\n",
      "3/3 [==============================] - 0s 21ms/step - loss: 3.0859 - accuracy: 0.1042 - val_loss: 3.0857 - val_accuracy: 0.1200\n",
      "Epoch 5/100\n",
      "3/3 [==============================] - 0s 21ms/step - loss: 3.0840 - accuracy: 0.0938 - val_loss: 3.0846 - val_accuracy: 0.1200\n",
      "Epoch 6/100\n",
      "3/3 [==============================] - 0s 21ms/step - loss: 3.0817 - accuracy: 0.1042 - val_loss: 3.0836 - val_accuracy: 0.1200\n",
      "Epoch 7/100\n",
      "3/3 [==============================] - 0s 23ms/step - loss: 3.0796 - accuracy: 0.0729 - val_loss: 3.0825 - val_accuracy: 0.0800\n",
      "Epoch 8/100\n",
      "3/3 [==============================] - 0s 23ms/step - loss: 3.0774 - accuracy: 0.0938 - val_loss: 3.0812 - val_accuracy: 0.0800\n",
      "Epoch 9/100\n",
      "3/3 [==============================] - 0s 20ms/step - loss: 3.0751 - accuracy: 0.0938 - val_loss: 3.0799 - val_accuracy: 0.0800\n",
      "Epoch 10/100\n",
      "3/3 [==============================] - 0s 22ms/step - loss: 3.0724 - accuracy: 0.0938 - val_loss: 3.0784 - val_accuracy: 0.1200\n",
      "Epoch 11/100\n",
      "3/3 [==============================] - 0s 22ms/step - loss: 3.0697 - accuracy: 0.0938 - val_loss: 3.0768 - val_accuracy: 0.1200\n",
      "Epoch 12/100\n",
      "3/3 [==============================] - 0s 21ms/step - loss: 3.0668 - accuracy: 0.1042 - val_loss: 3.0750 - val_accuracy: 0.1200\n",
      "Epoch 13/100\n",
      "3/3 [==============================] - 0s 20ms/step - loss: 3.0634 - accuracy: 0.1042 - val_loss: 3.0730 - val_accuracy: 0.1200\n",
      "Epoch 14/100\n",
      "3/3 [==============================] - 0s 22ms/step - loss: 3.0595 - accuracy: 0.1146 - val_loss: 3.0707 - val_accuracy: 0.1200\n",
      "Epoch 15/100\n",
      "3/3 [==============================] - 0s 22ms/step - loss: 3.0561 - accuracy: 0.1146 - val_loss: 3.0681 - val_accuracy: 0.1200\n",
      "Epoch 16/100\n",
      "3/3 [==============================] - 0s 23ms/step - loss: 3.0510 - accuracy: 0.1354 - val_loss: 3.0653 - val_accuracy: 0.1200\n",
      "Epoch 17/100\n",
      "3/3 [==============================] - 0s 22ms/step - loss: 3.0462 - accuracy: 0.1354 - val_loss: 3.0622 - val_accuracy: 0.1200\n",
      "Epoch 18/100\n",
      "3/3 [==============================] - 0s 21ms/step - loss: 3.0406 - accuracy: 0.1354 - val_loss: 3.0586 - val_accuracy: 0.1200\n",
      "Epoch 19/100\n",
      "3/3 [==============================] - 0s 21ms/step - loss: 3.0347 - accuracy: 0.1354 - val_loss: 3.0546 - val_accuracy: 0.1200\n",
      "Epoch 20/100\n",
      "3/3 [==============================] - 0s 21ms/step - loss: 3.0282 - accuracy: 0.1562 - val_loss: 3.0500 - val_accuracy: 0.1200\n",
      "Epoch 21/100\n",
      "3/3 [==============================] - 0s 21ms/step - loss: 3.0200 - accuracy: 0.1562 - val_loss: 3.0448 - val_accuracy: 0.1200\n",
      "Epoch 22/100\n",
      "3/3 [==============================] - 0s 21ms/step - loss: 3.0117 - accuracy: 0.1562 - val_loss: 3.0390 - val_accuracy: 0.1200\n",
      "Epoch 23/100\n",
      "3/3 [==============================] - 0s 23ms/step - loss: 3.0025 - accuracy: 0.1354 - val_loss: 3.0322 - val_accuracy: 0.1200\n",
      "Epoch 24/100\n",
      "3/3 [==============================] - 0s 24ms/step - loss: 2.9917 - accuracy: 0.1458 - val_loss: 3.0244 - val_accuracy: 0.1200\n",
      "Epoch 25/100\n",
      "3/3 [==============================] - 0s 22ms/step - loss: 2.9790 - accuracy: 0.1562 - val_loss: 3.0156 - val_accuracy: 0.1600\n",
      "Epoch 26/100\n",
      "3/3 [==============================] - 0s 21ms/step - loss: 2.9650 - accuracy: 0.1562 - val_loss: 3.0056 - val_accuracy: 0.1600\n",
      "Epoch 27/100\n",
      "3/3 [==============================] - 0s 21ms/step - loss: 2.9504 - accuracy: 0.1875 - val_loss: 2.9944 - val_accuracy: 0.2000\n",
      "Epoch 28/100\n",
      "3/3 [==============================] - 0s 24ms/step - loss: 2.9321 - accuracy: 0.1979 - val_loss: 2.9820 - val_accuracy: 0.2000\n",
      "Epoch 29/100\n",
      "3/3 [==============================] - 0s 25ms/step - loss: 2.9141 - accuracy: 0.1771 - val_loss: 2.9681 - val_accuracy: 0.2000\n",
      "Epoch 30/100\n",
      "3/3 [==============================] - 0s 24ms/step - loss: 2.8941 - accuracy: 0.1771 - val_loss: 2.9522 - val_accuracy: 0.2000\n",
      "Epoch 31/100\n",
      "3/3 [==============================] - 0s 21ms/step - loss: 2.8695 - accuracy: 0.1875 - val_loss: 2.9347 - val_accuracy: 0.2000\n",
      "Epoch 32/100\n",
      "3/3 [==============================] - 0s 23ms/step - loss: 2.8453 - accuracy: 0.2083 - val_loss: 2.9158 - val_accuracy: 0.2000\n",
      "Epoch 33/100\n",
      "3/3 [==============================] - 0s 21ms/step - loss: 2.8172 - accuracy: 0.2188 - val_loss: 2.8962 - val_accuracy: 0.2000\n",
      "Epoch 34/100\n",
      "3/3 [==============================] - 0s 23ms/step - loss: 2.7912 - accuracy: 0.2188 - val_loss: 2.8758 - val_accuracy: 0.2000\n",
      "Epoch 35/100\n",
      "3/3 [==============================] - 0s 24ms/step - loss: 2.7619 - accuracy: 0.2188 - val_loss: 2.8556 - val_accuracy: 0.2400\n",
      "Epoch 36/100\n",
      "3/3 [==============================] - 0s 24ms/step - loss: 2.7325 - accuracy: 0.2396 - val_loss: 2.8357 - val_accuracy: 0.2400\n",
      "Epoch 37/100\n",
      "3/3 [==============================] - 0s 22ms/step - loss: 2.7056 - accuracy: 0.2396 - val_loss: 2.8151 - val_accuracy: 0.2400\n",
      "Epoch 38/100\n",
      "3/3 [==============================] - 0s 23ms/step - loss: 2.6777 - accuracy: 0.2396 - val_loss: 2.7966 - val_accuracy: 0.2400\n",
      "Epoch 39/100\n",
      "3/3 [==============================] - 0s 24ms/step - loss: 2.6509 - accuracy: 0.2604 - val_loss: 2.7799 - val_accuracy: 0.2400\n",
      "Epoch 40/100\n",
      "3/3 [==============================] - 0s 22ms/step - loss: 2.6238 - accuracy: 0.3021 - val_loss: 2.7623 - val_accuracy: 0.2800\n",
      "Epoch 41/100\n",
      "3/3 [==============================] - 0s 22ms/step - loss: 2.5966 - accuracy: 0.3125 - val_loss: 2.7461 - val_accuracy: 0.2800\n",
      "Epoch 42/100\n",
      "3/3 [==============================] - 0s 24ms/step - loss: 2.5724 - accuracy: 0.3229 - val_loss: 2.7299 - val_accuracy: 0.2800\n",
      "Epoch 43/100\n",
      "3/3 [==============================] - 0s 25ms/step - loss: 2.5463 - accuracy: 0.3229 - val_loss: 2.7146 - val_accuracy: 0.2800\n",
      "Epoch 44/100\n",
      "3/3 [==============================] - 0s 27ms/step - loss: 2.5220 - accuracy: 0.3229 - val_loss: 2.6970 - val_accuracy: 0.2800\n",
      "Epoch 45/100\n",
      "3/3 [==============================] - 0s 22ms/step - loss: 2.4943 - accuracy: 0.3542 - val_loss: 2.6815 - val_accuracy: 0.2800\n",
      "Epoch 46/100\n",
      "3/3 [==============================] - 0s 25ms/step - loss: 2.4680 - accuracy: 0.3646 - val_loss: 2.6679 - val_accuracy: 0.2800\n",
      "Epoch 47/100\n",
      "3/3 [==============================] - 0s 24ms/step - loss: 2.4410 - accuracy: 0.3750 - val_loss: 2.6528 - val_accuracy: 0.3200\n",
      "Epoch 48/100\n",
      "3/3 [==============================] - 0s 25ms/step - loss: 2.4171 - accuracy: 0.3958 - val_loss: 2.6387 - val_accuracy: 0.3200\n",
      "Epoch 49/100\n",
      "3/3 [==============================] - 0s 24ms/step - loss: 2.3893 - accuracy: 0.3958 - val_loss: 2.6198 - val_accuracy: 0.3200\n",
      "Epoch 50/100\n",
      "3/3 [==============================] - 0s 26ms/step - loss: 2.3601 - accuracy: 0.3854 - val_loss: 2.5996 - val_accuracy: 0.3200\n",
      "Epoch 51/100\n",
      "3/3 [==============================] - 0s 25ms/step - loss: 2.3345 - accuracy: 0.3854 - val_loss: 2.5782 - val_accuracy: 0.3200\n",
      "Epoch 52/100\n",
      "3/3 [==============================] - 0s 23ms/step - loss: 2.3038 - accuracy: 0.3958 - val_loss: 2.5574 - val_accuracy: 0.3200\n",
      "Epoch 53/100\n",
      "3/3 [==============================] - 0s 24ms/step - loss: 2.2761 - accuracy: 0.4062 - val_loss: 2.5383 - val_accuracy: 0.3200\n",
      "Epoch 54/100\n",
      "3/3 [==============================] - 0s 22ms/step - loss: 2.2462 - accuracy: 0.4167 - val_loss: 2.5189 - val_accuracy: 0.3200\n",
      "Epoch 55/100\n",
      "3/3 [==============================] - 0s 21ms/step - loss: 2.2173 - accuracy: 0.4271 - val_loss: 2.4983 - val_accuracy: 0.2800\n",
      "Epoch 56/100\n",
      "3/3 [==============================] - 0s 22ms/step - loss: 2.1856 - accuracy: 0.4271 - val_loss: 2.4773 - val_accuracy: 0.2800\n",
      "Epoch 57/100\n",
      "3/3 [==============================] - 0s 22ms/step - loss: 2.1563 - accuracy: 0.4271 - val_loss: 2.4544 - val_accuracy: 0.3200\n",
      "Epoch 58/100\n",
      "3/3 [==============================] - 0s 23ms/step - loss: 2.1260 - accuracy: 0.4271 - val_loss: 2.4363 - val_accuracy: 0.3200\n",
      "Epoch 59/100\n"
     ]
    },
    {
     "name": "stdout",
     "output_type": "stream",
     "text": [
      "3/3 [==============================] - 0s 23ms/step - loss: 2.0939 - accuracy: 0.4375 - val_loss: 2.4149 - val_accuracy: 0.3600\n",
      "Epoch 60/100\n",
      "3/3 [==============================] - 0s 22ms/step - loss: 2.0627 - accuracy: 0.4688 - val_loss: 2.3904 - val_accuracy: 0.3600\n",
      "Epoch 61/100\n",
      "3/3 [==============================] - 0s 20ms/step - loss: 2.0327 - accuracy: 0.4896 - val_loss: 2.3689 - val_accuracy: 0.3600\n",
      "Epoch 62/100\n",
      "3/3 [==============================] - 0s 20ms/step - loss: 2.0015 - accuracy: 0.5000 - val_loss: 2.3500 - val_accuracy: 0.3600\n",
      "Epoch 63/100\n",
      "3/3 [==============================] - 0s 20ms/step - loss: 1.9712 - accuracy: 0.5104 - val_loss: 2.3304 - val_accuracy: 0.3200\n",
      "Epoch 64/100\n",
      "3/3 [==============================] - 0s 19ms/step - loss: 1.9393 - accuracy: 0.5104 - val_loss: 2.3119 - val_accuracy: 0.3600\n",
      "Epoch 65/100\n",
      "3/3 [==============================] - 0s 21ms/step - loss: 1.9104 - accuracy: 0.5104 - val_loss: 2.2901 - val_accuracy: 0.3600\n",
      "Epoch 66/100\n",
      "3/3 [==============================] - 0s 20ms/step - loss: 1.8782 - accuracy: 0.5312 - val_loss: 2.2692 - val_accuracy: 0.4000\n",
      "Epoch 67/100\n",
      "3/3 [==============================] - 0s 20ms/step - loss: 1.8474 - accuracy: 0.5417 - val_loss: 2.2429 - val_accuracy: 0.3600\n",
      "Epoch 68/100\n",
      "3/3 [==============================] - 0s 25ms/step - loss: 1.8152 - accuracy: 0.5625 - val_loss: 2.2214 - val_accuracy: 0.4000\n",
      "Epoch 69/100\n",
      "3/3 [==============================] - 0s 21ms/step - loss: 1.7836 - accuracy: 0.5833 - val_loss: 2.2076 - val_accuracy: 0.3600\n",
      "Epoch 70/100\n",
      "3/3 [==============================] - 0s 22ms/step - loss: 1.7524 - accuracy: 0.5938 - val_loss: 2.1940 - val_accuracy: 0.4000\n",
      "Epoch 71/100\n",
      "3/3 [==============================] - 0s 21ms/step - loss: 1.7208 - accuracy: 0.6146 - val_loss: 2.1772 - val_accuracy: 0.4400\n",
      "Epoch 72/100\n",
      "3/3 [==============================] - 0s 22ms/step - loss: 1.6938 - accuracy: 0.5938 - val_loss: 2.1620 - val_accuracy: 0.4400\n",
      "Epoch 73/100\n",
      "3/3 [==============================] - 0s 23ms/step - loss: 1.6629 - accuracy: 0.6250 - val_loss: 2.1322 - val_accuracy: 0.4000\n",
      "Epoch 74/100\n",
      "3/3 [==============================] - 0s 22ms/step - loss: 1.6317 - accuracy: 0.6250 - val_loss: 2.1159 - val_accuracy: 0.4000\n",
      "Epoch 75/100\n",
      "3/3 [==============================] - 0s 20ms/step - loss: 1.6053 - accuracy: 0.6250 - val_loss: 2.0945 - val_accuracy: 0.4400\n",
      "Epoch 76/100\n",
      "3/3 [==============================] - 0s 22ms/step - loss: 1.5726 - accuracy: 0.6250 - val_loss: 2.0843 - val_accuracy: 0.4000\n",
      "Epoch 77/100\n",
      "3/3 [==============================] - 0s 25ms/step - loss: 1.5447 - accuracy: 0.6354 - val_loss: 2.0746 - val_accuracy: 0.4400\n",
      "Epoch 78/100\n",
      "3/3 [==============================] - 0s 25ms/step - loss: 1.5172 - accuracy: 0.6354 - val_loss: 2.0576 - val_accuracy: 0.4400\n",
      "Epoch 79/100\n",
      "3/3 [==============================] - 0s 25ms/step - loss: 1.4881 - accuracy: 0.6354 - val_loss: 2.0282 - val_accuracy: 0.4000\n",
      "Epoch 80/100\n",
      "3/3 [==============================] - 0s 23ms/step - loss: 1.4607 - accuracy: 0.6562 - val_loss: 2.0097 - val_accuracy: 0.4400\n",
      "Epoch 81/100\n",
      "3/3 [==============================] - 0s 22ms/step - loss: 1.4335 - accuracy: 0.6875 - val_loss: 2.0006 - val_accuracy: 0.4400\n",
      "Epoch 82/100\n",
      "3/3 [==============================] - 0s 20ms/step - loss: 1.4049 - accuracy: 0.7083 - val_loss: 1.9899 - val_accuracy: 0.5200\n",
      "Epoch 83/100\n",
      "3/3 [==============================] - 0s 20ms/step - loss: 1.3826 - accuracy: 0.7292 - val_loss: 1.9850 - val_accuracy: 0.5200\n",
      "Epoch 84/100\n",
      "3/3 [==============================] - 0s 25ms/step - loss: 1.3559 - accuracy: 0.7396 - val_loss: 1.9611 - val_accuracy: 0.5200\n",
      "Epoch 85/100\n",
      "3/3 [==============================] - 0s 25ms/step - loss: 1.3276 - accuracy: 0.7604 - val_loss: 1.9437 - val_accuracy: 0.5600\n",
      "Epoch 86/100\n",
      "3/3 [==============================] - 0s 22ms/step - loss: 1.3077 - accuracy: 0.7604 - val_loss: 1.9353 - val_accuracy: 0.5600\n",
      "Epoch 87/100\n",
      "3/3 [==============================] - 0s 24ms/step - loss: 1.2801 - accuracy: 0.7708 - val_loss: 1.9174 - val_accuracy: 0.5600\n",
      "Epoch 88/100\n",
      "3/3 [==============================] - 0s 21ms/step - loss: 1.2600 - accuracy: 0.7708 - val_loss: 1.9128 - val_accuracy: 0.5600\n",
      "Epoch 89/100\n",
      "3/3 [==============================] - 0s 21ms/step - loss: 1.2347 - accuracy: 0.7812 - val_loss: 1.9004 - val_accuracy: 0.5600\n",
      "Epoch 90/100\n",
      "3/3 [==============================] - 0s 21ms/step - loss: 1.2114 - accuracy: 0.7812 - val_loss: 1.8925 - val_accuracy: 0.5600\n",
      "Epoch 91/100\n",
      "3/3 [==============================] - 0s 21ms/step - loss: 1.1901 - accuracy: 0.7812 - val_loss: 1.8883 - val_accuracy: 0.5600\n",
      "Epoch 92/100\n",
      "3/3 [==============================] - 0s 21ms/step - loss: 1.1721 - accuracy: 0.7917 - val_loss: 1.8836 - val_accuracy: 0.5600\n",
      "Epoch 93/100\n",
      "3/3 [==============================] - 0s 20ms/step - loss: 1.1535 - accuracy: 0.7917 - val_loss: 1.8549 - val_accuracy: 0.5600\n",
      "Epoch 94/100\n",
      "3/3 [==============================] - 0s 21ms/step - loss: 1.1301 - accuracy: 0.8021 - val_loss: 1.8503 - val_accuracy: 0.5600\n",
      "Epoch 95/100\n",
      "3/3 [==============================] - 0s 20ms/step - loss: 1.1087 - accuracy: 0.7917 - val_loss: 1.8647 - val_accuracy: 0.5200\n",
      "Epoch 96/100\n",
      "3/3 [==============================] - 0s 21ms/step - loss: 1.0893 - accuracy: 0.8021 - val_loss: 1.8661 - val_accuracy: 0.5200\n",
      "Epoch 97/100\n",
      "3/3 [==============================] - 0s 22ms/step - loss: 1.0711 - accuracy: 0.8021 - val_loss: 1.8448 - val_accuracy: 0.5200\n",
      "Epoch 98/100\n",
      "3/3 [==============================] - 0s 21ms/step - loss: 1.0538 - accuracy: 0.7917 - val_loss: 1.8304 - val_accuracy: 0.5200\n",
      "Epoch 99/100\n",
      "3/3 [==============================] - 0s 22ms/step - loss: 1.0341 - accuracy: 0.8125 - val_loss: 1.8194 - val_accuracy: 0.5200\n",
      "Epoch 100/100\n",
      "3/3 [==============================] - 0s 22ms/step - loss: 1.0206 - accuracy: 0.8125 - val_loss: 1.8308 - val_accuracy: 0.5200\n"
     ]
    }
   ],
   "source": [
    "history = lstm_model.fit(X_train,y_train, epochs=100, validation_data=(X_val, y_val))\n",
    "# history = lstm_model.fit(X_train,y_train, epochs=100, validation_split=0.3,callbacks=[early_stopping])"
   ]
  },
  {
   "cell_type": "code",
   "execution_count": 27,
   "id": "30d6e5fd",
   "metadata": {},
   "outputs": [
    {
     "data": {
      "image/png": "[encoded data removed]",
      "text/plain": [
       "<Figure size 720x360 with 1 Axes>"
      ]
     },
     "metadata": {
      "needs_background": "light"
     },
     "output_type": "display_data"
    },
    {
     "data": {
      "image/png": "[encoded data removed]",
      "text/plain": [
       "<Figure size 720x360 with 1 Axes>"
      ]
     },
     "metadata": {
      "needs_background": "light"
     },
     "output_type": "display_data"
    }
   ],
   "source": [
    "plt.figure(figsize=(10,5))\n",
    "\n",
    "# summarize history for mae\n",
    "plt.plot(history.history['accuracy'])\n",
    "plt.plot(history.history['val_accuracy'])\n",
    "plt.title('Learning Curve')\n",
    "plt.ylabel('Accuracy')\n",
    "plt.xlabel('epoch')\n",
    "plt.legend(['train', 'test'], loc='upper left')\n",
    "plt.show()\n",
    "\n",
    "# summarize history for loss\n",
    "plt.figure(figsize=(10,5))\n",
    "plt.plot(history.history['loss'])\n",
    "plt.plot(history.history['val_loss'])\n",
    "plt.title('model loss')\n",
    "plt.ylabel('loss')\n",
    "plt.xlabel('epoch')\n",
    "plt.legend(['train', 'test'], loc='upper left')\n",
    "plt.show()"
   ]
  },
  {
   "cell_type": "code",
   "execution_count": null,
   "id": "198a2c4b",
   "metadata": {},
   "outputs": [],
   "source": [
    "# lstm_model.save('../modeles/lstm_model_tts.h5')"
   ]
  }
 ],
 "metadata": {
  "kernelspec": {
   "display_name": "Python 3",
   "language": "python",
   "name": "python3"
  },
  "language_info": {
   "codemirror_mode": {
    "name": "ipython",
    "version": 3
   },
   "file_extension": ".py",
   "mimetype": "text/x-python",
   "name": "python",
   "nbconvert_exporter": "python",
   "pygments_lexer": "ipython3",
   "version": "3.8.8"
  }
 },
 "nbformat": 4,
 "nbformat_minor": 5
}
