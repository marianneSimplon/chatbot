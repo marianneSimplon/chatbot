{
 "cells": [
  {
   "cell_type": "markdown",
   "id": "56579e20",
   "metadata": {},
   "source": [
    "EDA : **Nuage de mot** pour connaitre les mots les plus communs pour saluer, dire au revoir, etc\n",
    "\n",
    "**Un outil pour évaluer le modele** (LC, accuracy, etc.)\n",
    "\n",
    "**Une inteface**"
   ]
  },
  {
   "cell_type": "code",
   "execution_count": 1,
   "id": "3d7d898b",
   "metadata": {},
   "outputs": [],
   "source": [
    "import numpy as np \n",
    "import string\n",
    "from nltk.corpus import stopwords\n",
    "import pandas as pd \n",
    "from sklearn.feature_extraction.text import CountVectorizer\n",
    "from sklearn.tree import DecisionTreeClassifier\n",
    "from sklearn.feature_extraction.text import TfidfTransformer,TfidfVectorizer\n",
    "from sklearn.pipeline import Pipeline"
   ]
  },
  {
   "cell_type": "code",
   "execution_count": 2,
   "id": "50490468",
   "metadata": {},
   "outputs": [],
   "source": [
    "df = pd.read_csv('../data_fournis/dialogs.txt', delimiter=\"\\t\", header=None)"
   ]
  },
  {
   "cell_type": "code",
   "execution_count": 3,
   "id": "ded61d66",
   "metadata": {
    "scrolled": true
   },
   "outputs": [
    {
     "data": {
      "text/html": [
       "<div>\n",
       "<style scoped>\n",
       "    .dataframe tbody tr th:only-of-type {\n",
       "        vertical-align: middle;\n",
       "    }\n",
       "\n",
       "    .dataframe tbody tr th {\n",
       "        vertical-align: top;\n",
       "    }\n",
       "\n",
       "    .dataframe thead th {\n",
       "        text-align: right;\n",
       "    }\n",
       "</style>\n",
       "<table border=\"1\" class=\"dataframe\">\n",
       "  <thead>\n",
       "    <tr style=\"text-align: right;\">\n",
       "      <th></th>\n",
       "      <th>0</th>\n",
       "      <th>1</th>\n",
       "    </tr>\n",
       "  </thead>\n",
       "  <tbody>\n",
       "    <tr>\n",
       "      <th>0</th>\n",
       "      <td>hi, how are you doing?</td>\n",
       "      <td>i'm fine. how about yourself?</td>\n",
       "    </tr>\n",
       "    <tr>\n",
       "      <th>1</th>\n",
       "      <td>i'm fine. how about yourself?</td>\n",
       "      <td>i'm pretty good. thanks for asking.</td>\n",
       "    </tr>\n",
       "    <tr>\n",
       "      <th>2</th>\n",
       "      <td>i'm pretty good. thanks for asking.</td>\n",
       "      <td>no problem. so how have you been?</td>\n",
       "    </tr>\n",
       "    <tr>\n",
       "      <th>3</th>\n",
       "      <td>no problem. so how have you been?</td>\n",
       "      <td>i've been great. what about you?</td>\n",
       "    </tr>\n",
       "    <tr>\n",
       "      <th>4</th>\n",
       "      <td>i've been great. what about you?</td>\n",
       "      <td>i've been good. i'm in school right now.</td>\n",
       "    </tr>\n",
       "    <tr>\n",
       "      <th>...</th>\n",
       "      <td>...</td>\n",
       "      <td>...</td>\n",
       "    </tr>\n",
       "    <tr>\n",
       "      <th>3720</th>\n",
       "      <td>that's a good question. maybe it's not old age.</td>\n",
       "      <td>are you right-handed?</td>\n",
       "    </tr>\n",
       "    <tr>\n",
       "      <th>3721</th>\n",
       "      <td>are you right-handed?</td>\n",
       "      <td>yes. all my life.</td>\n",
       "    </tr>\n",
       "    <tr>\n",
       "      <th>3722</th>\n",
       "      <td>yes. all my life.</td>\n",
       "      <td>you're wearing out your right hand. stop using...</td>\n",
       "    </tr>\n",
       "    <tr>\n",
       "      <th>3723</th>\n",
       "      <td>you're wearing out your right hand. stop using...</td>\n",
       "      <td>but i do all my writing with my right hand.</td>\n",
       "    </tr>\n",
       "    <tr>\n",
       "      <th>3724</th>\n",
       "      <td>but i do all my writing with my right hand.</td>\n",
       "      <td>start typing instead. that way your left hand ...</td>\n",
       "    </tr>\n",
       "  </tbody>\n",
       "</table>\n",
       "<p>3725 rows × 2 columns</p>\n",
       "</div>"
      ],
      "text/plain": [
       "                                                      0  \\\n",
       "0                                hi, how are you doing?   \n",
       "1                         i'm fine. how about yourself?   \n",
       "2                   i'm pretty good. thanks for asking.   \n",
       "3                     no problem. so how have you been?   \n",
       "4                      i've been great. what about you?   \n",
       "...                                                 ...   \n",
       "3720    that's a good question. maybe it's not old age.   \n",
       "3721                              are you right-handed?   \n",
       "3722                                  yes. all my life.   \n",
       "3723  you're wearing out your right hand. stop using...   \n",
       "3724        but i do all my writing with my right hand.   \n",
       "\n",
       "                                                      1  \n",
       "0                         i'm fine. how about yourself?  \n",
       "1                   i'm pretty good. thanks for asking.  \n",
       "2                     no problem. so how have you been?  \n",
       "3                      i've been great. what about you?  \n",
       "4              i've been good. i'm in school right now.  \n",
       "...                                                 ...  \n",
       "3720                              are you right-handed?  \n",
       "3721                                  yes. all my life.  \n",
       "3722  you're wearing out your right hand. stop using...  \n",
       "3723        but i do all my writing with my right hand.  \n",
       "3724  start typing instead. that way your left hand ...  \n",
       "\n",
       "[3725 rows x 2 columns]"
      ]
     },
     "execution_count": 3,
     "metadata": {},
     "output_type": "execute_result"
    }
   ],
   "source": [
    "df"
   ]
  },
  {
   "cell_type": "code",
   "execution_count": 4,
   "id": "13787042",
   "metadata": {},
   "outputs": [],
   "source": [
    "df = df.rename(columns={0: \"Questions\",1: \"Answers\"})\n",
    "# ou df.columns=['Questions','Answers']"
   ]
  },
  {
   "cell_type": "code",
   "execution_count": 5,
   "id": "75ab92e2",
   "metadata": {},
   "outputs": [],
   "source": [
    "b = {'Questions':'Hi','Answers':'hello'}\n",
    "c = {'Questions':'Hello','Answers':'hi'}\n",
    "d= {'Questions':'how are you','Answers':\"i'm fine. how about yourself?\"}\n",
    "e= {'Questions':'how are you doing','Answers':\"i'm fine. how about yourself?\"}\n",
    "df = df.append([b,c,d,e],ignore_index=True)"
   ]
  },
  {
   "cell_type": "code",
   "execution_count": 6,
   "id": "2e0091e1",
   "metadata": {},
   "outputs": [],
   "source": [
    "def cleaner(x):\n",
    "    return [a for a in (''.join([a for a in x if a not in string.punctuation])).lower().split()] # retire la ponctuation, mets tout en minuscules, split"
   ]
  },
  {
   "attachments": {
    "image-2.png": {
     "image/png": "[encoded data removed]"
    },
    "image-3.png": {
     "image/png": "[encoded data removed]"
    }
   },
   "cell_type": "markdown",
   "id": "13c6f813",
   "metadata": {},
   "source": [
    "**TF (Term-Frequency)** :  fréquence « brute » d'un terme est simplement le nombre d'occurrences de ce terme dans le document considéré\n",
    "\n",
    "**Calcul de TF**\n",
    "TF(t) = Nombre d'apparitions du terme t dans le document / Nombre total de termes dans le document\n",
    "\n",
    "**IDF (Term Frequency-Inverse Document Frequency)** :  mesure de l'importance du terme dans l'ensemble du corpus. Dans le schéma TF-IDF, elle vise à donner un poids plus important aux termes les moins fréquents, considérés comme plus discriminants. Elle consiste à calculer le logarithme (en base 10 ou en base 21) de l'inverse de la proportion de documents du corpus qui contiennent le terme\n",
    "\n",
    "**Calcul de IDF**\n",
    "![image-2.png](attachment:image-2.png)\n",
    "\n",
    "**Calcul de TF-IDF**\n",
    "\n",
    "Finalement, le poids s'obtient en multipliant les deux mesures \n",
    "![image-3.png](attachment:image-3.png)\n",
    "\n",
    "Compter le nombre d’occurrences des tokens présents dans le corpus pour chaque texte. Chaque texte est alors représenté par un vecteur d’occurrences.\n",
    "\n",
    "RQ :\n",
    "\n",
    "● Plus le vocabulaire du corpus est riche, plus la taille des vecteurs est grande, ce qui peut représenter un problème\n",
    "pour les modèles d’apprentissage utilisées dans l’étape suivante.\n",
    "\n",
    "● Le comptage d’occurrence des mots ne permet pas de rendre compte de leur agencement et donc du sens des\n",
    "phrases."
   ]
  },
  {
   "cell_type": "code",
   "execution_count": 20,
   "id": "b478ec86",
   "metadata": {},
   "outputs": [
    {
     "data": {
      "text/html": [
       "<div>\n",
       "<style scoped>\n",
       "    .dataframe tbody tr th:only-of-type {\n",
       "        vertical-align: middle;\n",
       "    }\n",
       "\n",
       "    .dataframe tbody tr th {\n",
       "        vertical-align: top;\n",
       "    }\n",
       "\n",
       "    .dataframe thead th {\n",
       "        text-align: right;\n",
       "    }\n",
       "</style>\n",
       "<table border=\"1\" class=\"dataframe\">\n",
       "  <thead>\n",
       "    <tr style=\"text-align: right;\">\n",
       "      <th></th>\n",
       "      <th>Questions</th>\n",
       "      <th>Answers</th>\n",
       "    </tr>\n",
       "  </thead>\n",
       "  <tbody>\n",
       "    <tr>\n",
       "      <th>0</th>\n",
       "      <td>hi, how are you doing?</td>\n",
       "      <td>i'm fine. how about yourself?</td>\n",
       "    </tr>\n",
       "    <tr>\n",
       "      <th>1</th>\n",
       "      <td>i'm fine. how about yourself?</td>\n",
       "      <td>i'm pretty good. thanks for asking.</td>\n",
       "    </tr>\n",
       "    <tr>\n",
       "      <th>2</th>\n",
       "      <td>i'm pretty good. thanks for asking.</td>\n",
       "      <td>no problem. so how have you been?</td>\n",
       "    </tr>\n",
       "    <tr>\n",
       "      <th>3</th>\n",
       "      <td>no problem. so how have you been?</td>\n",
       "      <td>i've been great. what about you?</td>\n",
       "    </tr>\n",
       "    <tr>\n",
       "      <th>4</th>\n",
       "      <td>i've been great. what about you?</td>\n",
       "      <td>i've been good. i'm in school right now.</td>\n",
       "    </tr>\n",
       "    <tr>\n",
       "      <th>...</th>\n",
       "      <td>...</td>\n",
       "      <td>...</td>\n",
       "    </tr>\n",
       "    <tr>\n",
       "      <th>3724</th>\n",
       "      <td>but i do all my writing with my right hand.</td>\n",
       "      <td>start typing instead. that way your left hand ...</td>\n",
       "    </tr>\n",
       "    <tr>\n",
       "      <th>3725</th>\n",
       "      <td>Hi</td>\n",
       "      <td>hello</td>\n",
       "    </tr>\n",
       "    <tr>\n",
       "      <th>3726</th>\n",
       "      <td>Hello</td>\n",
       "      <td>hi</td>\n",
       "    </tr>\n",
       "    <tr>\n",
       "      <th>3727</th>\n",
       "      <td>how are you</td>\n",
       "      <td>i'm fine. how about yourself?</td>\n",
       "    </tr>\n",
       "    <tr>\n",
       "      <th>3728</th>\n",
       "      <td>how are you doing</td>\n",
       "      <td>i'm fine. how about yourself?</td>\n",
       "    </tr>\n",
       "  </tbody>\n",
       "</table>\n",
       "<p>3729 rows × 2 columns</p>\n",
       "</div>"
      ],
      "text/plain": [
       "                                        Questions  \\\n",
       "0                          hi, how are you doing?   \n",
       "1                   i'm fine. how about yourself?   \n",
       "2             i'm pretty good. thanks for asking.   \n",
       "3               no problem. so how have you been?   \n",
       "4                i've been great. what about you?   \n",
       "...                                           ...   \n",
       "3724  but i do all my writing with my right hand.   \n",
       "3725                                           Hi   \n",
       "3726                                        Hello   \n",
       "3727                                  how are you   \n",
       "3728                            how are you doing   \n",
       "\n",
       "                                                Answers  \n",
       "0                         i'm fine. how about yourself?  \n",
       "1                   i'm pretty good. thanks for asking.  \n",
       "2                     no problem. so how have you been?  \n",
       "3                      i've been great. what about you?  \n",
       "4              i've been good. i'm in school right now.  \n",
       "...                                                 ...  \n",
       "3724  start typing instead. that way your left hand ...  \n",
       "3725                                              hello  \n",
       "3726                                                 hi  \n",
       "3727                      i'm fine. how about yourself?  \n",
       "3728                      i'm fine. how about yourself?  \n",
       "\n",
       "[3729 rows x 2 columns]"
      ]
     },
     "execution_count": 20,
     "metadata": {},
     "output_type": "execute_result"
    }
   ],
   "source": [
    "df"
   ]
  },
  {
   "cell_type": "code",
   "execution_count": 37,
   "id": "bcf24d25",
   "metadata": {},
   "outputs": [],
   "source": [
    "X = df['Questions']"
   ]
  },
  {
   "cell_type": "code",
   "execution_count": 24,
   "id": "528ff79e",
   "metadata": {},
   "outputs": [
    {
     "name": "stdout",
     "output_type": "stream",
     "text": [
      "  (0, 1)\t1\n",
      "  (1, 0)\t1\n"
     ]
    }
   ],
   "source": [
    "cv = CountVectorizer(analyzer=cleaner)\n",
    "test = cv.fit_transform(df)\n",
    "print(test)"
   ]
  },
  {
   "cell_type": "code",
   "execution_count": 38,
   "id": "c51678d6",
   "metadata": {},
   "outputs": [],
   "source": [
    "# cv = CountVectorizer(analyzer=cleaner)\n",
    "# test = cv.fit_transform(list(\"i'm fine. how about yourself?\"))\n",
    "# print(len(\"i'm fine. how about yourself?\"))\n",
    "# print(test.shape)\n",
    "cv = CountVectorizer(analyzer=cleaner)\n",
    "test = cv.fit_transform(X)"
   ]
  },
  {
   "cell_type": "code",
   "execution_count": 39,
   "id": "604299ca",
   "metadata": {},
   "outputs": [
    {
     "name": "stdout",
     "output_type": "stream",
     "text": [
      "  (0, 2382)\t0.21306869485827026\n",
      "  (0, 1007)\t0.37107685643497273\n",
      "  (0, 961)\t0.6675922609847034\n",
      "  (0, 608)\t0.5115017242365298\n",
      "  (0, 141)\t0.331044192013877\n",
      "  (1, 2389)\t0.5722091201540129\n",
      "  (1, 1031)\t0.32647381834325134\n",
      "  (1, 1007)\t0.33541003260165075\n",
      "  (1, 765)\t0.586245770609081\n",
      "  (1, 63)\t0.3313722607915039\n",
      "  (2, 2081)\t0.48715432729733293\n",
      "  (2, 1582)\t0.4340985873218764\n",
      "  (2, 1031)\t0.3065331507030978\n",
      "  (2, 880)\t0.3331695594627166\n",
      "  (2, 807)\t0.3040990466487449\n",
      "  (2, 159)\t0.5261162607973736\n",
      "  (3, 2382)\t0.2096912468811788\n",
      "  (3, 1890)\t0.3436995258044231\n",
      "  (3, 1588)\t0.5141093214340624\n",
      "  (3, 1365)\t0.35838602138319187\n",
      "  (3, 1007)\t0.365194749826372\n",
      "  (3, 934)\t0.32224589199575626\n",
      "  (3, 225)\t0.45600620831966593\n",
      "  (4, 2382)\t0.22175770442560436\n",
      "  (4, 2299)\t0.3181933198943797\n",
      "  :\t:\n",
      "  (3723, 1977)\t0.33443841603929875\n",
      "  (3723, 1890)\t0.21649973514103563\n",
      "  (3723, 1693)\t0.2735743516001498\n",
      "  (3723, 1433)\t0.27265602856239507\n",
      "  (3723, 1326)\t0.28264843075336354\n",
      "  (3723, 1077)\t0.16566116737450334\n",
      "  (3723, 915)\t0.3710381424156876\n",
      "  (3724, 2362)\t0.4630706210770971\n",
      "  (3724, 2333)\t0.27348939901264374\n",
      "  (3724, 1693)\t0.3061062667276809\n",
      "  (3724, 1336)\t0.48805945101655757\n",
      "  (3724, 1022)\t0.14380752739056796\n",
      "  (3724, 915)\t0.41515990049550217\n",
      "  (3724, 600)\t0.21081182323011624\n",
      "  (3724, 322)\t0.24894025293954436\n",
      "  (3724, 99)\t0.28180640873762713\n",
      "  (3725, 961)\t1.0\n",
      "  (3726, 951)\t1.0\n",
      "  (3727, 2382)\t0.3938385792533749\n",
      "  (3727, 1007)\t0.6859026476384577\n",
      "  (3727, 141)\t0.6119058191047353\n",
      "  (3728, 2382)\t0.28617991277897864\n",
      "  (3728, 1007)\t0.49840612427600894\n",
      "  (3728, 608)\t0.687015607457857\n",
      "  (3728, 141)\t0.4446368719700332\n"
     ]
    }
   ],
   "source": [
    "tt = TfidfTransformer()\n",
    "test2 = tt.fit_transform(test)\n",
    "print(test2)"
   ]
  },
  {
   "cell_type": "code",
   "execution_count": 42,
   "id": "6dde60a8",
   "metadata": {},
   "outputs": [
    {
     "data": {
      "text/plain": [
       "DecisionTreeClassifier()"
      ]
     },
     "execution_count": 42,
     "metadata": {},
     "output_type": "execute_result"
    }
   ],
   "source": [
    "dfc = DecisionTreeClassifier()\n",
    "# dfc.fit(test2,df['Answers'])"
   ]
  },
  {
   "cell_type": "code",
   "execution_count": 47,
   "id": "f889b1b0",
   "metadata": {},
   "outputs": [
    {
     "name": "stdout",
     "output_type": "stream",
     "text": [
      "[\"i'm fine. how about yourself?\"]\n"
     ]
    },
    {
     "ename": "ValueError",
     "evalue": "Found input variables with inconsistent numbers of samples: [3729, 1]",
     "output_type": "error",
     "traceback": [
      "\u001b[1;31m---------------------------------------------------------------------------\u001b[0m",
      "\u001b[1;31mValueError\u001b[0m                                Traceback (most recent call last)",
      "\u001b[1;32m<ipython-input-47-918a78d627ab>\u001b[0m in \u001b[0;36m<module>\u001b[1;34m\u001b[0m\n\u001b[0;32m      3\u001b[0m \u001b[0mrep\u001b[0m \u001b[1;33m=\u001b[0m \u001b[0mtt\u001b[0m\u001b[1;33m.\u001b[0m\u001b[0mtransform\u001b[0m\u001b[1;33m(\u001b[0m\u001b[0mrep\u001b[0m\u001b[1;33m)\u001b[0m\u001b[1;33m\u001b[0m\u001b[1;33m\u001b[0m\u001b[0m\n\u001b[0;32m      4\u001b[0m \u001b[0mprint\u001b[0m\u001b[1;33m(\u001b[0m\u001b[0mdfc\u001b[0m\u001b[1;33m.\u001b[0m\u001b[0mpredict\u001b[0m\u001b[1;33m(\u001b[0m\u001b[0mrep\u001b[0m\u001b[1;33m)\u001b[0m\u001b[1;33m)\u001b[0m\u001b[1;33m\u001b[0m\u001b[1;33m\u001b[0m\u001b[0m\n\u001b[1;32m----> 5\u001b[1;33m \u001b[0mprint\u001b[0m\u001b[1;33m(\u001b[0m\u001b[0mdfc\u001b[0m\u001b[1;33m.\u001b[0m\u001b[0mscore\u001b[0m\u001b[1;33m(\u001b[0m\u001b[0mrep\u001b[0m\u001b[1;33m,\u001b[0m\u001b[0mdf\u001b[0m\u001b[1;33m[\u001b[0m\u001b[1;34m'Answers'\u001b[0m\u001b[1;33m]\u001b[0m\u001b[1;33m)\u001b[0m\u001b[1;33m)\u001b[0m\u001b[1;33m\u001b[0m\u001b[1;33m\u001b[0m\u001b[0m\n\u001b[0m",
      "\u001b[1;32m~\\Anaconda3\\lib\\site-packages\\sklearn\\base.py\u001b[0m in \u001b[0;36mscore\u001b[1;34m(self, X, y, sample_weight)\u001b[0m\n\u001b[0;32m    497\u001b[0m         \"\"\"\n\u001b[0;32m    498\u001b[0m         \u001b[1;32mfrom\u001b[0m \u001b[1;33m.\u001b[0m\u001b[0mmetrics\u001b[0m \u001b[1;32mimport\u001b[0m \u001b[0maccuracy_score\u001b[0m\u001b[1;33m\u001b[0m\u001b[1;33m\u001b[0m\u001b[0m\n\u001b[1;32m--> 499\u001b[1;33m         \u001b[1;32mreturn\u001b[0m \u001b[0maccuracy_score\u001b[0m\u001b[1;33m(\u001b[0m\u001b[0my\u001b[0m\u001b[1;33m,\u001b[0m \u001b[0mself\u001b[0m\u001b[1;33m.\u001b[0m\u001b[0mpredict\u001b[0m\u001b[1;33m(\u001b[0m\u001b[0mX\u001b[0m\u001b[1;33m)\u001b[0m\u001b[1;33m,\u001b[0m \u001b[0msample_weight\u001b[0m\u001b[1;33m=\u001b[0m\u001b[0msample_weight\u001b[0m\u001b[1;33m)\u001b[0m\u001b[1;33m\u001b[0m\u001b[1;33m\u001b[0m\u001b[0m\n\u001b[0m\u001b[0;32m    500\u001b[0m \u001b[1;33m\u001b[0m\u001b[0m\n\u001b[0;32m    501\u001b[0m     \u001b[1;32mdef\u001b[0m \u001b[0m_more_tags\u001b[0m\u001b[1;33m(\u001b[0m\u001b[0mself\u001b[0m\u001b[1;33m)\u001b[0m\u001b[1;33m:\u001b[0m\u001b[1;33m\u001b[0m\u001b[1;33m\u001b[0m\u001b[0m\n",
      "\u001b[1;32m~\\Anaconda3\\lib\\site-packages\\sklearn\\utils\\validation.py\u001b[0m in \u001b[0;36minner_f\u001b[1;34m(*args, **kwargs)\u001b[0m\n\u001b[0;32m     71\u001b[0m                           FutureWarning)\n\u001b[0;32m     72\u001b[0m         \u001b[0mkwargs\u001b[0m\u001b[1;33m.\u001b[0m\u001b[0mupdate\u001b[0m\u001b[1;33m(\u001b[0m\u001b[1;33m{\u001b[0m\u001b[0mk\u001b[0m\u001b[1;33m:\u001b[0m \u001b[0marg\u001b[0m \u001b[1;32mfor\u001b[0m \u001b[0mk\u001b[0m\u001b[1;33m,\u001b[0m \u001b[0marg\u001b[0m \u001b[1;32min\u001b[0m \u001b[0mzip\u001b[0m\u001b[1;33m(\u001b[0m\u001b[0msig\u001b[0m\u001b[1;33m.\u001b[0m\u001b[0mparameters\u001b[0m\u001b[1;33m,\u001b[0m \u001b[0margs\u001b[0m\u001b[1;33m)\u001b[0m\u001b[1;33m}\u001b[0m\u001b[1;33m)\u001b[0m\u001b[1;33m\u001b[0m\u001b[1;33m\u001b[0m\u001b[0m\n\u001b[1;32m---> 73\u001b[1;33m         \u001b[1;32mreturn\u001b[0m \u001b[0mf\u001b[0m\u001b[1;33m(\u001b[0m\u001b[1;33m**\u001b[0m\u001b[0mkwargs\u001b[0m\u001b[1;33m)\u001b[0m\u001b[1;33m\u001b[0m\u001b[1;33m\u001b[0m\u001b[0m\n\u001b[0m\u001b[0;32m     74\u001b[0m     \u001b[1;32mreturn\u001b[0m \u001b[0minner_f\u001b[0m\u001b[1;33m\u001b[0m\u001b[1;33m\u001b[0m\u001b[0m\n\u001b[0;32m     75\u001b[0m \u001b[1;33m\u001b[0m\u001b[0m\n",
      "\u001b[1;32m~\\Anaconda3\\lib\\site-packages\\sklearn\\metrics\\_classification.py\u001b[0m in \u001b[0;36maccuracy_score\u001b[1;34m(y_true, y_pred, normalize, sample_weight)\u001b[0m\n\u001b[0;32m    185\u001b[0m \u001b[1;33m\u001b[0m\u001b[0m\n\u001b[0;32m    186\u001b[0m     \u001b[1;31m# Compute accuracy for each possible representation\u001b[0m\u001b[1;33m\u001b[0m\u001b[1;33m\u001b[0m\u001b[1;33m\u001b[0m\u001b[0m\n\u001b[1;32m--> 187\u001b[1;33m     \u001b[0my_type\u001b[0m\u001b[1;33m,\u001b[0m \u001b[0my_true\u001b[0m\u001b[1;33m,\u001b[0m \u001b[0my_pred\u001b[0m \u001b[1;33m=\u001b[0m \u001b[0m_check_targets\u001b[0m\u001b[1;33m(\u001b[0m\u001b[0my_true\u001b[0m\u001b[1;33m,\u001b[0m \u001b[0my_pred\u001b[0m\u001b[1;33m)\u001b[0m\u001b[1;33m\u001b[0m\u001b[1;33m\u001b[0m\u001b[0m\n\u001b[0m\u001b[0;32m    188\u001b[0m     \u001b[0mcheck_consistent_length\u001b[0m\u001b[1;33m(\u001b[0m\u001b[0my_true\u001b[0m\u001b[1;33m,\u001b[0m \u001b[0my_pred\u001b[0m\u001b[1;33m,\u001b[0m \u001b[0msample_weight\u001b[0m\u001b[1;33m)\u001b[0m\u001b[1;33m\u001b[0m\u001b[1;33m\u001b[0m\u001b[0m\n\u001b[0;32m    189\u001b[0m     \u001b[1;32mif\u001b[0m \u001b[0my_type\u001b[0m\u001b[1;33m.\u001b[0m\u001b[0mstartswith\u001b[0m\u001b[1;33m(\u001b[0m\u001b[1;34m'multilabel'\u001b[0m\u001b[1;33m)\u001b[0m\u001b[1;33m:\u001b[0m\u001b[1;33m\u001b[0m\u001b[1;33m\u001b[0m\u001b[0m\n",
      "\u001b[1;32m~\\Anaconda3\\lib\\site-packages\\sklearn\\metrics\\_classification.py\u001b[0m in \u001b[0;36m_check_targets\u001b[1;34m(y_true, y_pred)\u001b[0m\n\u001b[0;32m     79\u001b[0m     \u001b[0my_pred\u001b[0m \u001b[1;33m:\u001b[0m \u001b[0marray\u001b[0m \u001b[1;32mor\u001b[0m \u001b[0mindicator\u001b[0m \u001b[0mmatrix\u001b[0m\u001b[1;33m\u001b[0m\u001b[1;33m\u001b[0m\u001b[0m\n\u001b[0;32m     80\u001b[0m     \"\"\"\n\u001b[1;32m---> 81\u001b[1;33m     \u001b[0mcheck_consistent_length\u001b[0m\u001b[1;33m(\u001b[0m\u001b[0my_true\u001b[0m\u001b[1;33m,\u001b[0m \u001b[0my_pred\u001b[0m\u001b[1;33m)\u001b[0m\u001b[1;33m\u001b[0m\u001b[1;33m\u001b[0m\u001b[0m\n\u001b[0m\u001b[0;32m     82\u001b[0m     \u001b[0mtype_true\u001b[0m \u001b[1;33m=\u001b[0m \u001b[0mtype_of_target\u001b[0m\u001b[1;33m(\u001b[0m\u001b[0my_true\u001b[0m\u001b[1;33m)\u001b[0m\u001b[1;33m\u001b[0m\u001b[1;33m\u001b[0m\u001b[0m\n\u001b[0;32m     83\u001b[0m     \u001b[0mtype_pred\u001b[0m \u001b[1;33m=\u001b[0m \u001b[0mtype_of_target\u001b[0m\u001b[1;33m(\u001b[0m\u001b[0my_pred\u001b[0m\u001b[1;33m)\u001b[0m\u001b[1;33m\u001b[0m\u001b[1;33m\u001b[0m\u001b[0m\n",
      "\u001b[1;32m~\\Anaconda3\\lib\\site-packages\\sklearn\\utils\\validation.py\u001b[0m in \u001b[0;36mcheck_consistent_length\u001b[1;34m(*arrays)\u001b[0m\n\u001b[0;32m    254\u001b[0m     \u001b[0muniques\u001b[0m \u001b[1;33m=\u001b[0m \u001b[0mnp\u001b[0m\u001b[1;33m.\u001b[0m\u001b[0munique\u001b[0m\u001b[1;33m(\u001b[0m\u001b[0mlengths\u001b[0m\u001b[1;33m)\u001b[0m\u001b[1;33m\u001b[0m\u001b[1;33m\u001b[0m\u001b[0m\n\u001b[0;32m    255\u001b[0m     \u001b[1;32mif\u001b[0m \u001b[0mlen\u001b[0m\u001b[1;33m(\u001b[0m\u001b[0muniques\u001b[0m\u001b[1;33m)\u001b[0m \u001b[1;33m>\u001b[0m \u001b[1;36m1\u001b[0m\u001b[1;33m:\u001b[0m\u001b[1;33m\u001b[0m\u001b[1;33m\u001b[0m\u001b[0m\n\u001b[1;32m--> 256\u001b[1;33m         raise ValueError(\"Found input variables with inconsistent numbers of\"\n\u001b[0m\u001b[0;32m    257\u001b[0m                          \" samples: %r\" % [int(l) for l in lengths])\n\u001b[0;32m    258\u001b[0m \u001b[1;33m\u001b[0m\u001b[0m\n",
      "\u001b[1;31mValueError\u001b[0m: Found input variables with inconsistent numbers of samples: [3729, 1]"
     ]
    }
   ],
   "source": [
    "question = ['how are you']\n",
    "rep = cv.transform(question)\n",
    "rep = tt.transform(rep)\n",
    "print(dfc.predict(rep))\n",
    "print(dfc.score(rep,df['Answers']))"
   ]
  },
  {
   "cell_type": "code",
   "execution_count": 7,
   "id": "95e1415d",
   "metadata": {},
   "outputs": [],
   "source": [
    "Pipe = Pipeline([\n",
    "    ('bow',CountVectorizer(analyzer=cleaner)), # CountVectorizer : Convert a collection of text documents to a matrix of token counts.\n",
    "    ('tfidf',TfidfTransformer()), #Transform a count matrix to a normalized tf or tf-idf representation.\n",
    "    ('classifier',DecisionTreeClassifier())\n",
    "])"
   ]
  },
  {
   "cell_type": "code",
   "execution_count": 8,
   "id": "4113c89b",
   "metadata": {},
   "outputs": [
    {
     "data": {
      "text/plain": [
       "Pipeline(steps=[('bow',\n",
       "                 CountVectorizer(analyzer=<function cleaner at 0x0000018D4A6C13A0>)),\n",
       "                ('tfidf', TfidfTransformer()),\n",
       "                ('classifier', DecisionTreeClassifier())])"
      ]
     },
     "execution_count": 8,
     "metadata": {},
     "output_type": "execute_result"
    }
   ],
   "source": [
    "Pipe.fit(df['Questions'],df['Answers'])"
   ]
  },
  {
   "cell_type": "code",
   "execution_count": 9,
   "id": "fb15c62c",
   "metadata": {},
   "outputs": [
    {
     "data": {
      "text/plain": [
       "'hello'"
      ]
     },
     "execution_count": 9,
     "metadata": {},
     "output_type": "execute_result"
    }
   ],
   "source": [
    "Pipe.predict(['hi'])[0]"
   ]
  },
  {
   "cell_type": "code",
   "execution_count": 10,
   "id": "6cdd3ac6",
   "metadata": {},
   "outputs": [
    {
     "data": {
      "text/plain": [
       "\"i'm fine. how about yourself?\""
      ]
     },
     "execution_count": 10,
     "metadata": {},
     "output_type": "execute_result"
    }
   ],
   "source": [
    "Pipe.predict(['how are you'])[0]"
   ]
  },
  {
   "cell_type": "code",
   "execution_count": 11,
   "id": "81240f8d",
   "metadata": {},
   "outputs": [
    {
     "data": {
      "text/plain": [
       "\"i don't know. i think i'm average.\""
      ]
     },
     "execution_count": 11,
     "metadata": {},
     "output_type": "execute_result"
    }
   ],
   "source": [
    "Pipe.predict(['how re you'])[0]"
   ]
  },
  {
   "attachments": {
    "image.png": {
     "image/png": "[encoded data removed]"
    }
   },
   "cell_type": "markdown",
   "id": "cddf6b99",
   "metadata": {},
   "source": [
    "**Embedded word**\n",
    "\n",
    "Consiste à construire des vecteurs de taille fixe qui prennent en compte le contexte dans lequel se trouvent les mots.\n",
    "![image.png](attachment:image.png)"
   ]
  },
  {
   "cell_type": "markdown",
   "id": "404025ab",
   "metadata": {},
   "source": [
    "**6 key metrics to measure the performance of your chatbot**\n",
    "\n",
    "1. Comprehension capabilities\n",
    "2. User engagement\n",
    "3. Speed\n",
    "4. Functionality\n",
    "5. Interoperability\n",
    "6. Scalability"
   ]
  }
 ],
 "metadata": {
  "kernelspec": {
   "display_name": "Python 3",
   "language": "python",
   "name": "python3"
  },
  "language_info": {
   "codemirror_mode": {
    "name": "ipython",
    "version": 3
   },
   "file_extension": ".py",
   "mimetype": "text/x-python",
   "name": "python",
   "nbconvert_exporter": "python",
   "pygments_lexer": "ipython3",
   "version": "3.8.8"
  }
 },
 "nbformat": 4,
 "nbformat_minor": 5
}
