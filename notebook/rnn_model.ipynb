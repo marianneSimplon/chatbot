{
 "cells": [
  {
   "cell_type": "code",
   "execution_count": 1,
   "id": "6911229e",
   "metadata": {},
   "outputs": [],
   "source": [
    "import json \n",
    "import numpy as np \n",
    "import pandas as pd\n",
    "import matplotlib.pyplot as plt\n",
    "import random\n",
    "\n",
    "import string\n",
    "# import nltk\n",
    "from nltk import *\n",
    "from nltk.stem import WordNetLemmatizer\n",
    "from nltk.corpus import stopwords\n",
    "from nltk.tokenize import word_tokenize\n",
    "\n",
    "import tensorflow as tf\n",
    "from tensorflow import keras\n",
    "from tensorflow.keras.layers import Dense, Embedding, GlobalAveragePooling1D , Activation\n",
    "from tensorflow.keras.preprocessing.text import Tokenizer\n",
    "from tensorflow.keras.preprocessing.sequence import pad_sequences\n",
    "from sklearn.preprocessing import LabelEncoder\n",
    "\n",
    "from tensorflow.keras import Sequential\n",
    "from tensorflow.keras.layers import InputLayer\n",
    "from tensorflow.keras.layers import SimpleRNN\n",
    "from tensorflow.keras.layers import LSTM\n",
    "from tensorflow.keras.layers import Flatten\n",
    "from tensorflow.keras.layers import Dropout\n",
    "from tensorflow.keras import callbacks"
   ]
  },
  {
   "cell_type": "code",
   "execution_count": 2,
   "id": "05fcbb44",
   "metadata": {},
   "outputs": [],
   "source": [
    "with open(\"../data/Intent.json\") as train_file:\n",
    "    df= json.load(train_file)"
   ]
  },
  {
   "cell_type": "markdown",
   "id": "3bcc17f8",
   "metadata": {},
   "source": [
    "# TOKENIZATION"
   ]
  },
  {
   "cell_type": "code",
   "execution_count": 3,
   "id": "77c25541",
   "metadata": {},
   "outputs": [
    {
     "data": {
      "text/plain": [
       "'Greeting'"
      ]
     },
     "execution_count": 3,
     "metadata": {},
     "output_type": "execute_result"
    }
   ],
   "source": [
    "df[\"intents\"][0][\"intent\"]"
   ]
  },
  {
   "cell_type": "code",
   "execution_count": 4,
   "id": "a82bd075",
   "metadata": {},
   "outputs": [
    {
     "data": {
      "text/html": [
       "<div>\n",
       "<style scoped>\n",
       "    .dataframe tbody tr th:only-of-type {\n",
       "        vertical-align: middle;\n",
       "    }\n",
       "\n",
       "    .dataframe tbody tr th {\n",
       "        vertical-align: top;\n",
       "    }\n",
       "\n",
       "    .dataframe thead th {\n",
       "        text-align: right;\n",
       "    }\n",
       "</style>\n",
       "<table border=\"1\" class=\"dataframe\">\n",
       "  <thead>\n",
       "    <tr style=\"text-align: right;\">\n",
       "      <th></th>\n",
       "      <th>inputs</th>\n",
       "      <th>tags</th>\n",
       "    </tr>\n",
       "  </thead>\n",
       "  <tbody>\n",
       "    <tr>\n",
       "      <th>0</th>\n",
       "      <td>Hi</td>\n",
       "      <td>Greeting</td>\n",
       "    </tr>\n",
       "    <tr>\n",
       "      <th>1</th>\n",
       "      <td>Hi there</td>\n",
       "      <td>Greeting</td>\n",
       "    </tr>\n",
       "    <tr>\n",
       "      <th>2</th>\n",
       "      <td>Hola</td>\n",
       "      <td>Greeting</td>\n",
       "    </tr>\n",
       "    <tr>\n",
       "      <th>3</th>\n",
       "      <td>Hello</td>\n",
       "      <td>Greeting</td>\n",
       "    </tr>\n",
       "    <tr>\n",
       "      <th>4</th>\n",
       "      <td>Hello there</td>\n",
       "      <td>Greeting</td>\n",
       "    </tr>\n",
       "    <tr>\n",
       "      <th>...</th>\n",
       "      <td>...</td>\n",
       "      <td>...</td>\n",
       "    </tr>\n",
       "    <tr>\n",
       "      <th>138</th>\n",
       "      <td>Can you prove you have a conscious</td>\n",
       "      <td>SelfAware</td>\n",
       "    </tr>\n",
       "    <tr>\n",
       "      <th>139</th>\n",
       "      <td>Can you prove you are self-aware please</td>\n",
       "      <td>SelfAware</td>\n",
       "    </tr>\n",
       "    <tr>\n",
       "      <th>140</th>\n",
       "      <td>Can you prove you are self aware please</td>\n",
       "      <td>SelfAware</td>\n",
       "    </tr>\n",
       "    <tr>\n",
       "      <th>141</th>\n",
       "      <td>Can you prove you have a conscious please</td>\n",
       "      <td>SelfAware</td>\n",
       "    </tr>\n",
       "    <tr>\n",
       "      <th>142</th>\n",
       "      <td>prove you have a conscious</td>\n",
       "      <td>SelfAware</td>\n",
       "    </tr>\n",
       "  </tbody>\n",
       "</table>\n",
       "<p>143 rows × 2 columns</p>\n",
       "</div>"
      ],
      "text/plain": [
       "                                        inputs       tags\n",
       "0                                           Hi   Greeting\n",
       "1                                     Hi there   Greeting\n",
       "2                                         Hola   Greeting\n",
       "3                                        Hello   Greeting\n",
       "4                                  Hello there   Greeting\n",
       "..                                         ...        ...\n",
       "138         Can you prove you have a conscious  SelfAware\n",
       "139    Can you prove you are self-aware please  SelfAware\n",
       "140    Can you prove you are self aware please  SelfAware\n",
       "141  Can you prove you have a conscious please  SelfAware\n",
       "142                 prove you have a conscious  SelfAware\n",
       "\n",
       "[143 rows x 2 columns]"
      ]
     },
     "execution_count": 4,
     "metadata": {},
     "output_type": "execute_result"
    }
   ],
   "source": [
    "tags = []\n",
    "inputs = []\n",
    "responses = {}\n",
    "\n",
    "for intent in df['intents']:\n",
    "    responses[intent['intent']] = intent['responses']\n",
    "    for lines in intent['text']:\n",
    "        inputs.append(lines)\n",
    "        tags.append(intent['intent'])\n",
    "df = pd.DataFrame({'inputs': inputs, 'tags': tags})\n",
    "df"
   ]
  },
  {
   "cell_type": "code",
   "execution_count": 5,
   "id": "4a2c282c",
   "metadata": {},
   "outputs": [],
   "source": [
    "df[\"inputs\"] = df[\"inputs\"].apply(lambda wrd:[ltrs.lower() for ltrs in wrd if ltrs not in string.punctuation])\n",
    "df[\"inputs\"] = df[\"inputs\"].apply(lambda wrd:\"\".join(wrd))"
   ]
  },
  {
   "cell_type": "code",
   "execution_count": 6,
   "id": "e6774370",
   "metadata": {},
   "outputs": [],
   "source": [
    "# Tokenizer les data\n",
    "tokenizer = Tokenizer(num_words=2000)\n",
    "tokenizer.fit_on_texts(df[\"inputs\"])\n",
    "train = tokenizer.texts_to_sequences(df[\"inputs\"])"
   ]
  },
  {
   "cell_type": "code",
   "execution_count": 7,
   "id": "d85b5048",
   "metadata": {},
   "outputs": [],
   "source": [
    "# apply padding\n",
    "# x_train = pad_sequences(train)\n",
    "X_data = pad_sequences(train)"
   ]
  },
  {
   "cell_type": "code",
   "execution_count": 8,
   "id": "15abe545",
   "metadata": {},
   "outputs": [],
   "source": [
    "#encoding the outputs\n",
    "le = LabelEncoder()\n",
    "# Y_train = le.fit_transform(df['tags'])\n",
    "y_data = le.fit_transform(df['tags'])"
   ]
  },
  {
   "cell_type": "code",
   "execution_count": 10,
   "id": "59e1333d",
   "metadata": {},
   "outputs": [
    {
     "name": "stdout",
     "output_type": "stream",
     "text": [
      "9\n"
     ]
    }
   ],
   "source": [
    "# input_shape = x_train.shape[1]\n",
    "input_shape = X_data.shape[1]\n",
    "print(input_shape)"
   ]
  },
  {
   "cell_type": "code",
   "execution_count": 11,
   "id": "145ea579",
   "metadata": {},
   "outputs": [
    {
     "name": "stdout",
     "output_type": "stream",
     "text": [
      "number of unique words : 117\n",
      "output length  22\n"
     ]
    }
   ],
   "source": [
    "#define vocabulary\n",
    "vocabulary = len(tokenizer.word_index)\n",
    "print(\"number of unique words :\",vocabulary)\n",
    "output_length = le.classes_.shape[0]\n",
    "print(\"output length \", output_length)"
   ]
  },
  {
   "cell_type": "code",
   "execution_count": 12,
   "id": "d6710e1b",
   "metadata": {},
   "outputs": [],
   "source": [
    "from sklearn.model_selection import train_test_split"
   ]
  },
  {
   "cell_type": "code",
   "execution_count": 13,
   "id": "9857d227",
   "metadata": {},
   "outputs": [],
   "source": [
    "# X_train, X_test, y_train, y_test = train_test_split(x_train, Y_train, test_size=0.3, random_state=42, stratify=Y_train)\n",
    "X_train_data, X_test, y_train_data, y_test = train_test_split(X_data, y_data, test_size=0.15, random_state=42, stratify=y_data)"
   ]
  },
  {
   "cell_type": "code",
   "execution_count": 14,
   "id": "1d9b8c48",
   "metadata": {},
   "outputs": [],
   "source": [
    "X_train, X_val, y_train, y_val = train_test_split(X_train_data, y_train_data, test_size=0.2, random_state=42, stratify=y_train_data)"
   ]
  },
  {
   "cell_type": "code",
   "execution_count": 15,
   "id": "916e3574",
   "metadata": {
    "scrolled": true
   },
   "outputs": [
    {
     "name": "stdout",
     "output_type": "stream",
     "text": [
      "(96, 9)\n",
      "(22, 9)\n",
      "(96,)\n",
      "(22,)\n"
     ]
    }
   ],
   "source": [
    "print(X_train.shape)\n",
    "print(X_test.shape)\n",
    "print(y_train.shape)\n",
    "print(y_test.shape)"
   ]
  },
  {
   "cell_type": "code",
   "execution_count": 16,
   "id": "39fcd00b",
   "metadata": {},
   "outputs": [
    {
     "name": "stdout",
     "output_type": "stream",
     "text": [
      "number of unique words : 117\n",
      "output length  22\n"
     ]
    }
   ],
   "source": [
    "#define vocabulary\n",
    "vocabulary = len(tokenizer.word_index)\n",
    "print(\"number of unique words :\",vocabulary)\n",
    "output_length = le.classes_.shape[0]\n",
    "print(\"output length \", output_length)"
   ]
  },
  {
   "cell_type": "markdown",
   "id": "5cbbada4",
   "metadata": {},
   "source": [
    "# SimpleRNN"
   ]
  },
  {
   "cell_type": "code",
   "execution_count": 17,
   "id": "d940df8a",
   "metadata": {},
   "outputs": [],
   "source": [
    "#creating model\n",
    "model_tts = Sequential()\n",
    "model_tts.add(Embedding(vocabulary+1,10))\n",
    "model_tts.add(InputLayer(input_shape=(input_shape,)))\n",
    "model_tts.add(SimpleRNN(30))\n",
    "model_tts.add(Dense(output_length, activation=\"softmax\"))"
   ]
  },
  {
   "cell_type": "code",
   "execution_count": 18,
   "id": "f487bbad",
   "metadata": {},
   "outputs": [],
   "source": [
    "#compile the model\n",
    "model_tts.compile(loss=\"sparse_categorical_crossentropy\",optimizer=\"adam\",metrics=[\"accuracy\"])"
   ]
  },
  {
   "cell_type": "code",
   "execution_count": 19,
   "id": "ab85351a",
   "metadata": {},
   "outputs": [],
   "source": [
    "# early_stopping = callbacks.EarlyStopping(\n",
    "#     patience=20,\n",
    "#     min_delta=0.001,\n",
    "#     restore_best_weights=True,\n",
    "# )"
   ]
  },
  {
   "cell_type": "code",
   "execution_count": 20,
   "id": "5714c39a",
   "metadata": {},
   "outputs": [],
   "source": [
    "# early_stop = callbacks.EarlyStopping(monitor=\"loss\",mode=\"min\",verbose=1,patience=100)"
   ]
  },
  {
   "cell_type": "code",
   "execution_count": 21,
   "id": "ac2d726b",
   "metadata": {
    "scrolled": true
   },
   "outputs": [
    {
     "name": "stdout",
     "output_type": "stream",
     "text": [
      "Epoch 1/100\n",
      "3/3 [==============================] - 2s 201ms/step - loss: 3.0859 - accuracy: 0.0938 - val_loss: 3.0904 - val_accuracy: 0.0000e+00\n",
      "Epoch 2/100\n",
      "3/3 [==============================] - 0s 24ms/step - loss: 3.0675 - accuracy: 0.0938 - val_loss: 3.0797 - val_accuracy: 0.0400\n",
      "Epoch 3/100\n",
      "3/3 [==============================] - 0s 21ms/step - loss: 3.0517 - accuracy: 0.1250 - val_loss: 3.0705 - val_accuracy: 0.0400\n",
      "Epoch 4/100\n",
      "3/3 [==============================] - 0s 23ms/step - loss: 3.0361 - accuracy: 0.1458 - val_loss: 3.0619 - val_accuracy: 0.0400\n",
      "Epoch 5/100\n",
      "3/3 [==============================] - 0s 22ms/step - loss: 3.0216 - accuracy: 0.1875 - val_loss: 3.0532 - val_accuracy: 0.0800\n",
      "Epoch 6/100\n",
      "3/3 [==============================] - 0s 22ms/step - loss: 3.0058 - accuracy: 0.2812 - val_loss: 3.0442 - val_accuracy: 0.1200\n",
      "Epoch 7/100\n",
      "3/3 [==============================] - 0s 24ms/step - loss: 2.9899 - accuracy: 0.3021 - val_loss: 3.0345 - val_accuracy: 0.2000\n",
      "Epoch 8/100\n",
      "3/3 [==============================] - 0s 22ms/step - loss: 2.9722 - accuracy: 0.3229 - val_loss: 3.0238 - val_accuracy: 0.2400\n",
      "Epoch 9/100\n",
      "3/3 [==============================] - 0s 21ms/step - loss: 2.9537 - accuracy: 0.3542 - val_loss: 3.0116 - val_accuracy: 0.2400\n",
      "Epoch 10/100\n",
      "3/3 [==============================] - 0s 24ms/step - loss: 2.9325 - accuracy: 0.3542 - val_loss: 2.9979 - val_accuracy: 0.2400\n",
      "Epoch 11/100\n",
      "3/3 [==============================] - 0s 20ms/step - loss: 2.9095 - accuracy: 0.3646 - val_loss: 2.9826 - val_accuracy: 0.2800\n",
      "Epoch 12/100\n",
      "3/3 [==============================] - 0s 20ms/step - loss: 2.8844 - accuracy: 0.3854 - val_loss: 2.9648 - val_accuracy: 0.2800\n",
      "Epoch 13/100\n",
      "3/3 [==============================] - 0s 18ms/step - loss: 2.8536 - accuracy: 0.3854 - val_loss: 2.9444 - val_accuracy: 0.2000\n",
      "Epoch 14/100\n",
      "3/3 [==============================] - 0s 18ms/step - loss: 2.8226 - accuracy: 0.3750 - val_loss: 2.9216 - val_accuracy: 0.2800\n",
      "Epoch 15/100\n",
      "3/3 [==============================] - 0s 21ms/step - loss: 2.7873 - accuracy: 0.3854 - val_loss: 2.8970 - val_accuracy: 0.2800\n",
      "Epoch 16/100\n",
      "3/3 [==============================] - 0s 24ms/step - loss: 2.7543 - accuracy: 0.4271 - val_loss: 2.8737 - val_accuracy: 0.2800\n",
      "Epoch 17/100\n",
      "3/3 [==============================] - 0s 18ms/step - loss: 2.7080 - accuracy: 0.3958 - val_loss: 2.8448 - val_accuracy: 0.2800\n",
      "Epoch 18/100\n",
      "3/3 [==============================] - 0s 20ms/step - loss: 2.6661 - accuracy: 0.3542 - val_loss: 2.8161 - val_accuracy: 0.2800\n",
      "Epoch 19/100\n",
      "3/3 [==============================] - 0s 23ms/step - loss: 2.6233 - accuracy: 0.3229 - val_loss: 2.7887 - val_accuracy: 0.2800\n",
      "Epoch 20/100\n",
      "3/3 [==============================] - 0s 22ms/step - loss: 2.5803 - accuracy: 0.3542 - val_loss: 2.7638 - val_accuracy: 0.2800\n",
      "Epoch 21/100\n",
      "3/3 [==============================] - 0s 22ms/step - loss: 2.5403 - accuracy: 0.3854 - val_loss: 2.7353 - val_accuracy: 0.2400\n",
      "Epoch 22/100\n",
      "3/3 [==============================] - 0s 23ms/step - loss: 2.5046 - accuracy: 0.3229 - val_loss: 2.7118 - val_accuracy: 0.2400\n",
      "Epoch 23/100\n",
      "3/3 [==============================] - 0s 20ms/step - loss: 2.4588 - accuracy: 0.3958 - val_loss: 2.6868 - val_accuracy: 0.2800\n",
      "Epoch 24/100\n",
      "3/3 [==============================] - 0s 20ms/step - loss: 2.4182 - accuracy: 0.4583 - val_loss: 2.6617 - val_accuracy: 0.2800\n",
      "Epoch 25/100\n",
      "3/3 [==============================] - 0s 20ms/step - loss: 2.3750 - accuracy: 0.4271 - val_loss: 2.6382 - val_accuracy: 0.2400\n",
      "Epoch 26/100\n",
      "3/3 [==============================] - 0s 20ms/step - loss: 2.3382 - accuracy: 0.4167 - val_loss: 2.6112 - val_accuracy: 0.3200\n",
      "Epoch 27/100\n",
      "3/3 [==============================] - 0s 21ms/step - loss: 2.2956 - accuracy: 0.5000 - val_loss: 2.5877 - val_accuracy: 0.3200\n",
      "Epoch 28/100\n",
      "3/3 [==============================] - 0s 22ms/step - loss: 2.2545 - accuracy: 0.5312 - val_loss: 2.5637 - val_accuracy: 0.3600\n",
      "Epoch 29/100\n",
      "3/3 [==============================] - 0s 23ms/step - loss: 2.2102 - accuracy: 0.5312 - val_loss: 2.5470 - val_accuracy: 0.3600\n",
      "Epoch 30/100\n",
      "3/3 [==============================] - 0s 24ms/step - loss: 2.1704 - accuracy: 0.5521 - val_loss: 2.5166 - val_accuracy: 0.4000\n",
      "Epoch 31/100\n",
      "3/3 [==============================] - 0s 23ms/step - loss: 2.1234 - accuracy: 0.5833 - val_loss: 2.4901 - val_accuracy: 0.3200\n",
      "Epoch 32/100\n",
      "3/3 [==============================] - 0s 20ms/step - loss: 2.0842 - accuracy: 0.5833 - val_loss: 2.4668 - val_accuracy: 0.3600\n",
      "Epoch 33/100\n",
      "3/3 [==============================] - 0s 21ms/step - loss: 2.0403 - accuracy: 0.6146 - val_loss: 2.4494 - val_accuracy: 0.4400\n",
      "Epoch 34/100\n",
      "3/3 [==============================] - 0s 21ms/step - loss: 2.0020 - accuracy: 0.6146 - val_loss: 2.4228 - val_accuracy: 0.4000\n",
      "Epoch 35/100\n",
      "3/3 [==============================] - 0s 20ms/step - loss: 1.9558 - accuracy: 0.6250 - val_loss: 2.3948 - val_accuracy: 0.4000\n",
      "Epoch 36/100\n",
      "3/3 [==============================] - 0s 19ms/step - loss: 1.9144 - accuracy: 0.6667 - val_loss: 2.3735 - val_accuracy: 0.4000\n",
      "Epoch 37/100\n",
      "3/3 [==============================] - 0s 21ms/step - loss: 1.8718 - accuracy: 0.6562 - val_loss: 2.3558 - val_accuracy: 0.4000\n",
      "Epoch 38/100\n",
      "3/3 [==============================] - 0s 21ms/step - loss: 1.8358 - accuracy: 0.6875 - val_loss: 2.3286 - val_accuracy: 0.3600\n",
      "Epoch 39/100\n",
      "3/3 [==============================] - 0s 18ms/step - loss: 1.7901 - accuracy: 0.6875 - val_loss: 2.3097 - val_accuracy: 0.4000\n",
      "Epoch 40/100\n",
      "3/3 [==============================] - 0s 21ms/step - loss: 1.7518 - accuracy: 0.7188 - val_loss: 2.2907 - val_accuracy: 0.4000\n",
      "Epoch 41/100\n",
      "3/3 [==============================] - 0s 22ms/step - loss: 1.7115 - accuracy: 0.7188 - val_loss: 2.2730 - val_accuracy: 0.4000\n",
      "Epoch 42/100\n",
      "3/3 [==============================] - 0s 22ms/step - loss: 1.6744 - accuracy: 0.7292 - val_loss: 2.2485 - val_accuracy: 0.4000\n",
      "Epoch 43/100\n",
      "3/3 [==============================] - 0s 21ms/step - loss: 1.6348 - accuracy: 0.7292 - val_loss: 2.2270 - val_accuracy: 0.3600\n",
      "Epoch 44/100\n",
      "3/3 [==============================] - 0s 21ms/step - loss: 1.5959 - accuracy: 0.7708 - val_loss: 2.2115 - val_accuracy: 0.4000\n",
      "Epoch 45/100\n",
      "3/3 [==============================] - 0s 22ms/step - loss: 1.5597 - accuracy: 0.7917 - val_loss: 2.1906 - val_accuracy: 0.4000\n",
      "Epoch 46/100\n",
      "3/3 [==============================] - 0s 21ms/step - loss: 1.5240 - accuracy: 0.7917 - val_loss: 2.1741 - val_accuracy: 0.3600\n",
      "Epoch 47/100\n",
      "3/3 [==============================] - 0s 22ms/step - loss: 1.4930 - accuracy: 0.8125 - val_loss: 2.1585 - val_accuracy: 0.3600\n",
      "Epoch 48/100\n",
      "3/3 [==============================] - 0s 23ms/step - loss: 1.4486 - accuracy: 0.8229 - val_loss: 2.1501 - val_accuracy: 0.4000\n",
      "Epoch 49/100\n",
      "3/3 [==============================] - 0s 21ms/step - loss: 1.4231 - accuracy: 0.8229 - val_loss: 2.1399 - val_accuracy: 0.4000\n",
      "Epoch 50/100\n",
      "3/3 [==============================] - 0s 22ms/step - loss: 1.3810 - accuracy: 0.8229 - val_loss: 2.1109 - val_accuracy: 0.3600\n",
      "Epoch 51/100\n",
      "3/3 [==============================] - 0s 22ms/step - loss: 1.3538 - accuracy: 0.8438 - val_loss: 2.0965 - val_accuracy: 0.4000\n",
      "Epoch 52/100\n",
      "3/3 [==============================] - 0s 22ms/step - loss: 1.3197 - accuracy: 0.8333 - val_loss: 2.0952 - val_accuracy: 0.4400\n",
      "Epoch 53/100\n",
      "3/3 [==============================] - 0s 20ms/step - loss: 1.3007 - accuracy: 0.8229 - val_loss: 2.0749 - val_accuracy: 0.4000\n",
      "Epoch 54/100\n",
      "3/3 [==============================] - 0s 21ms/step - loss: 1.2556 - accuracy: 0.8542 - val_loss: 2.0731 - val_accuracy: 0.3600\n",
      "Epoch 55/100\n",
      "3/3 [==============================] - 0s 23ms/step - loss: 1.2303 - accuracy: 0.8229 - val_loss: 2.0516 - val_accuracy: 0.4000\n",
      "Epoch 56/100\n",
      "3/3 [==============================] - 0s 21ms/step - loss: 1.1988 - accuracy: 0.8438 - val_loss: 2.0492 - val_accuracy: 0.4400\n",
      "Epoch 57/100\n",
      "3/3 [==============================] - 0s 22ms/step - loss: 1.1719 - accuracy: 0.8438 - val_loss: 2.0346 - val_accuracy: 0.4400\n",
      "Epoch 58/100\n",
      "3/3 [==============================] - 0s 22ms/step - loss: 1.1419 - accuracy: 0.8542 - val_loss: 2.0162 - val_accuracy: 0.4400\n",
      "Epoch 59/100\n"
     ]
    },
    {
     "name": "stdout",
     "output_type": "stream",
     "text": [
      "3/3 [==============================] - 0s 22ms/step - loss: 1.1107 - accuracy: 0.8542 - val_loss: 2.0080 - val_accuracy: 0.4000\n",
      "Epoch 60/100\n",
      "3/3 [==============================] - 0s 22ms/step - loss: 1.0833 - accuracy: 0.8646 - val_loss: 2.0035 - val_accuracy: 0.4400\n",
      "Epoch 61/100\n",
      "3/3 [==============================] - 0s 22ms/step - loss: 1.0574 - accuracy: 0.8438 - val_loss: 1.9988 - val_accuracy: 0.4400\n",
      "Epoch 62/100\n",
      "3/3 [==============================] - 0s 23ms/step - loss: 1.0383 - accuracy: 0.8646 - val_loss: 1.9801 - val_accuracy: 0.4800\n",
      "Epoch 63/100\n",
      "3/3 [==============================] - 0s 22ms/step - loss: 1.0073 - accuracy: 0.8750 - val_loss: 1.9778 - val_accuracy: 0.4800\n",
      "Epoch 64/100\n",
      "3/3 [==============================] - 0s 21ms/step - loss: 0.9886 - accuracy: 0.8646 - val_loss: 1.9609 - val_accuracy: 0.4800\n",
      "Epoch 65/100\n",
      "3/3 [==============================] - 0s 20ms/step - loss: 0.9600 - accuracy: 0.8854 - val_loss: 1.9501 - val_accuracy: 0.4800\n",
      "Epoch 66/100\n",
      "3/3 [==============================] - 0s 21ms/step - loss: 0.9373 - accuracy: 0.8750 - val_loss: 1.9583 - val_accuracy: 0.4800\n",
      "Epoch 67/100\n",
      "3/3 [==============================] - 0s 22ms/step - loss: 0.9152 - accuracy: 0.8854 - val_loss: 1.9399 - val_accuracy: 0.4800\n",
      "Epoch 68/100\n",
      "3/3 [==============================] - 0s 20ms/step - loss: 0.8936 - accuracy: 0.8958 - val_loss: 1.9340 - val_accuracy: 0.4800\n",
      "Epoch 69/100\n",
      "3/3 [==============================] - 0s 21ms/step - loss: 0.8643 - accuracy: 0.8958 - val_loss: 1.9241 - val_accuracy: 0.4800\n",
      "Epoch 70/100\n",
      "3/3 [==============================] - 0s 20ms/step - loss: 0.8469 - accuracy: 0.9062 - val_loss: 1.9154 - val_accuracy: 0.5200\n",
      "Epoch 71/100\n",
      "3/3 [==============================] - 0s 19ms/step - loss: 0.8252 - accuracy: 0.9167 - val_loss: 1.9115 - val_accuracy: 0.4800\n",
      "Epoch 72/100\n",
      "3/3 [==============================] - 0s 21ms/step - loss: 0.8035 - accuracy: 0.9062 - val_loss: 1.9070 - val_accuracy: 0.4800\n",
      "Epoch 73/100\n",
      "3/3 [==============================] - 0s 20ms/step - loss: 0.7837 - accuracy: 0.9271 - val_loss: 1.9051 - val_accuracy: 0.4800\n",
      "Epoch 74/100\n",
      "3/3 [==============================] - 0s 21ms/step - loss: 0.7687 - accuracy: 0.9375 - val_loss: 1.9008 - val_accuracy: 0.5200\n",
      "Epoch 75/100\n",
      "3/3 [==============================] - 0s 23ms/step - loss: 0.7516 - accuracy: 0.9375 - val_loss: 1.8908 - val_accuracy: 0.4800\n",
      "Epoch 76/100\n",
      "3/3 [==============================] - 0s 20ms/step - loss: 0.7387 - accuracy: 0.9271 - val_loss: 1.8775 - val_accuracy: 0.5200\n",
      "Epoch 77/100\n",
      "3/3 [==============================] - 0s 22ms/step - loss: 0.7119 - accuracy: 0.9271 - val_loss: 1.8775 - val_accuracy: 0.4800\n",
      "Epoch 78/100\n",
      "3/3 [==============================] - 0s 19ms/step - loss: 0.6952 - accuracy: 0.9375 - val_loss: 1.8772 - val_accuracy: 0.4800\n",
      "Epoch 79/100\n",
      "3/3 [==============================] - 0s 21ms/step - loss: 0.6821 - accuracy: 0.9375 - val_loss: 1.8765 - val_accuracy: 0.5200\n",
      "Epoch 80/100\n",
      "3/3 [==============================] - 0s 18ms/step - loss: 0.6822 - accuracy: 0.9271 - val_loss: 1.8569 - val_accuracy: 0.4800\n",
      "Epoch 81/100\n",
      "3/3 [==============================] - 0s 21ms/step - loss: 0.6455 - accuracy: 0.9375 - val_loss: 1.8798 - val_accuracy: 0.5200\n",
      "Epoch 82/100\n",
      "3/3 [==============================] - 0s 21ms/step - loss: 0.6416 - accuracy: 0.9375 - val_loss: 1.8606 - val_accuracy: 0.5200\n",
      "Epoch 83/100\n",
      "3/3 [==============================] - 0s 21ms/step - loss: 0.6210 - accuracy: 0.9375 - val_loss: 1.8436 - val_accuracy: 0.4800\n",
      "Epoch 84/100\n",
      "3/3 [==============================] - 0s 21ms/step - loss: 0.6109 - accuracy: 0.9375 - val_loss: 1.8674 - val_accuracy: 0.5200\n",
      "Epoch 85/100\n",
      "3/3 [==============================] - 0s 21ms/step - loss: 0.5937 - accuracy: 0.9479 - val_loss: 1.8545 - val_accuracy: 0.5200\n",
      "Epoch 86/100\n",
      "3/3 [==============================] - 0s 19ms/step - loss: 0.5745 - accuracy: 0.9479 - val_loss: 1.8382 - val_accuracy: 0.5200\n",
      "Epoch 87/100\n",
      "3/3 [==============================] - 0s 19ms/step - loss: 0.5638 - accuracy: 0.9479 - val_loss: 1.8302 - val_accuracy: 0.5200\n",
      "Epoch 88/100\n",
      "3/3 [==============================] - 0s 19ms/step - loss: 0.5498 - accuracy: 0.9479 - val_loss: 1.8458 - val_accuracy: 0.5200\n",
      "Epoch 89/100\n",
      "3/3 [==============================] - 0s 22ms/step - loss: 0.5375 - accuracy: 0.9479 - val_loss: 1.8305 - val_accuracy: 0.5200\n",
      "Epoch 90/100\n",
      "3/3 [==============================] - 0s 23ms/step - loss: 0.5239 - accuracy: 0.9479 - val_loss: 1.8344 - val_accuracy: 0.4800\n",
      "Epoch 91/100\n",
      "3/3 [==============================] - 0s 20ms/step - loss: 0.5131 - accuracy: 0.9479 - val_loss: 1.8280 - val_accuracy: 0.5200\n",
      "Epoch 92/100\n",
      "3/3 [==============================] - 0s 21ms/step - loss: 0.5024 - accuracy: 0.9479 - val_loss: 1.8267 - val_accuracy: 0.5200\n",
      "Epoch 93/100\n",
      "3/3 [==============================] - 0s 21ms/step - loss: 0.4964 - accuracy: 0.9479 - val_loss: 1.8149 - val_accuracy: 0.4800\n",
      "Epoch 94/100\n",
      "3/3 [==============================] - 0s 20ms/step - loss: 0.4794 - accuracy: 0.9479 - val_loss: 1.8396 - val_accuracy: 0.5200\n",
      "Epoch 95/100\n",
      "3/3 [==============================] - 0s 21ms/step - loss: 0.4746 - accuracy: 0.9479 - val_loss: 1.8193 - val_accuracy: 0.5200\n",
      "Epoch 96/100\n",
      "3/3 [==============================] - 0s 21ms/step - loss: 0.4601 - accuracy: 0.9583 - val_loss: 1.8100 - val_accuracy: 0.4800\n",
      "Epoch 97/100\n",
      "3/3 [==============================] - 0s 21ms/step - loss: 0.4494 - accuracy: 0.9583 - val_loss: 1.8263 - val_accuracy: 0.5200\n",
      "Epoch 98/100\n",
      "3/3 [==============================] - 0s 21ms/step - loss: 0.4383 - accuracy: 0.9583 - val_loss: 1.8175 - val_accuracy: 0.5200\n",
      "Epoch 99/100\n",
      "3/3 [==============================] - 0s 21ms/step - loss: 0.4307 - accuracy: 0.9583 - val_loss: 1.8023 - val_accuracy: 0.5200\n",
      "Epoch 100/100\n",
      "3/3 [==============================] - 0s 20ms/step - loss: 0.4191 - accuracy: 0.9583 - val_loss: 1.8037 - val_accuracy: 0.5200\n"
     ]
    }
   ],
   "source": [
    "# history = model_sw.fit(x_train, Y_train, epochs=100)\n",
    "history = model_tts.fit(X_train,y_train, epochs=100, validation_data=(X_val, y_val))\n",
    "# history = model_tts.fit(X_train,y_train, epochs=100, validation_split=0.3,callbacks=[early_stopping])\n",
    "# pas de batch_size ?!"
   ]
  },
  {
   "cell_type": "code",
   "execution_count": 22,
   "id": "02964097",
   "metadata": {
    "scrolled": false
   },
   "outputs": [
    {
     "data": {
      "image/png": "[encoded data removed]",
      "text/plain": [
       "<Figure size 720x360 with 1 Axes>"
      ]
     },
     "metadata": {
      "needs_background": "light"
     },
     "output_type": "display_data"
    },
    {
     "data": {
      "image/png": "[encoded data removed]",
      "text/plain": [
       "<Figure size 720x360 with 1 Axes>"
      ]
     },
     "metadata": {
      "needs_background": "light"
     },
     "output_type": "display_data"
    }
   ],
   "source": [
    "# #plotting model accuracy\n",
    "# plt.plot(train_sw.history['accuracy'], label=\"training set accuracy\")\n",
    "# plt.plot(train_sw.history[\"loss\"], label =\"training set loss\")\n",
    "# plt.legend()\n",
    "\n",
    "plt.figure(figsize=(10,5))\n",
    "\n",
    "# summarize history for mae\n",
    "plt.plot(history.history['accuracy'])\n",
    "plt.plot(history.history['val_accuracy'])\n",
    "plt.title('Learning Curve')\n",
    "plt.ylabel('Accuracy')\n",
    "plt.xlabel('epoch')\n",
    "plt.legend(['train', 'test'], loc='upper left')\n",
    "plt.show()\n",
    "\n",
    "# summarize history for loss\n",
    "plt.figure(figsize=(10,5))\n",
    "plt.plot(history.history['loss'])\n",
    "plt.plot(history.history['val_loss'])\n",
    "plt.title('model loss')\n",
    "plt.ylabel('loss')\n",
    "plt.xlabel('epoch')\n",
    "plt.legend(['train', 'test'], loc='upper left')\n",
    "plt.show()"
   ]
  },
  {
   "cell_type": "code",
   "execution_count": 16,
   "id": "fce85660",
   "metadata": {},
   "outputs": [
    {
     "ename": "KeyboardInterrupt",
     "evalue": "Interrupted by user",
     "output_type": "error",
     "traceback": [
      "\u001b[1;31m---------------------------------------------------------------------------\u001b[0m",
      "\u001b[1;31mKeyboardInterrupt\u001b[0m                         Traceback (most recent call last)",
      "\u001b[1;32m<ipython-input-16-a4e01c871ec3>\u001b[0m in \u001b[0;36m<module>\u001b[1;34m\u001b[0m\n\u001b[0;32m      5\u001b[0m \u001b[1;32mwhile\u001b[0m \u001b[1;32mTrue\u001b[0m\u001b[1;33m:\u001b[0m\u001b[1;33m\u001b[0m\u001b[1;33m\u001b[0m\u001b[0m\n\u001b[0;32m      6\u001b[0m     \u001b[0mtexts_p\u001b[0m \u001b[1;33m=\u001b[0m \u001b[1;33m[\u001b[0m\u001b[1;33m]\u001b[0m\u001b[1;33m\u001b[0m\u001b[1;33m\u001b[0m\u001b[0m\n\u001b[1;32m----> 7\u001b[1;33m     \u001b[0mprediction_input\u001b[0m \u001b[1;33m=\u001b[0m \u001b[0minput\u001b[0m\u001b[1;33m(\u001b[0m\u001b[1;34m\"You : \"\u001b[0m\u001b[1;33m)\u001b[0m\u001b[1;33m\u001b[0m\u001b[1;33m\u001b[0m\u001b[0m\n\u001b[0m\u001b[0;32m      8\u001b[0m \u001b[1;33m\u001b[0m\u001b[0m\n\u001b[0;32m      9\u001b[0m     \u001b[1;31m#removing punctuation and converting to lowercase\u001b[0m\u001b[1;33m\u001b[0m\u001b[1;33m\u001b[0m\u001b[1;33m\u001b[0m\u001b[0m\n",
      "\u001b[1;32m~\\Anaconda3\\lib\\site-packages\\ipykernel\\kernelbase.py\u001b[0m in \u001b[0;36mraw_input\u001b[1;34m(self, prompt)\u001b[0m\n\u001b[0;32m    858\u001b[0m                 \u001b[1;34m\"raw_input was called, but this frontend does not support input requests.\"\u001b[0m\u001b[1;33m\u001b[0m\u001b[1;33m\u001b[0m\u001b[0m\n\u001b[0;32m    859\u001b[0m             )\n\u001b[1;32m--> 860\u001b[1;33m         return self._input_request(str(prompt),\n\u001b[0m\u001b[0;32m    861\u001b[0m             \u001b[0mself\u001b[0m\u001b[1;33m.\u001b[0m\u001b[0m_parent_ident\u001b[0m\u001b[1;33m,\u001b[0m\u001b[1;33m\u001b[0m\u001b[1;33m\u001b[0m\u001b[0m\n\u001b[0;32m    862\u001b[0m             \u001b[0mself\u001b[0m\u001b[1;33m.\u001b[0m\u001b[0m_parent_header\u001b[0m\u001b[1;33m,\u001b[0m\u001b[1;33m\u001b[0m\u001b[1;33m\u001b[0m\u001b[0m\n",
      "\u001b[1;32m~\\Anaconda3\\lib\\site-packages\\ipykernel\\kernelbase.py\u001b[0m in \u001b[0;36m_input_request\u001b[1;34m(self, prompt, ident, parent, password)\u001b[0m\n\u001b[0;32m    902\u001b[0m             \u001b[1;32mexcept\u001b[0m \u001b[0mKeyboardInterrupt\u001b[0m\u001b[1;33m:\u001b[0m\u001b[1;33m\u001b[0m\u001b[1;33m\u001b[0m\u001b[0m\n\u001b[0;32m    903\u001b[0m                 \u001b[1;31m# re-raise KeyboardInterrupt, to truncate traceback\u001b[0m\u001b[1;33m\u001b[0m\u001b[1;33m\u001b[0m\u001b[1;33m\u001b[0m\u001b[0m\n\u001b[1;32m--> 904\u001b[1;33m                 \u001b[1;32mraise\u001b[0m \u001b[0mKeyboardInterrupt\u001b[0m\u001b[1;33m(\u001b[0m\u001b[1;34m\"Interrupted by user\"\u001b[0m\u001b[1;33m)\u001b[0m \u001b[1;32mfrom\u001b[0m \u001b[1;32mNone\u001b[0m\u001b[1;33m\u001b[0m\u001b[1;33m\u001b[0m\u001b[0m\n\u001b[0m\u001b[0;32m    905\u001b[0m             \u001b[1;32mexcept\u001b[0m \u001b[0mException\u001b[0m \u001b[1;32mas\u001b[0m \u001b[0me\u001b[0m\u001b[1;33m:\u001b[0m\u001b[1;33m\u001b[0m\u001b[1;33m\u001b[0m\u001b[0m\n\u001b[0;32m    906\u001b[0m                 \u001b[0mself\u001b[0m\u001b[1;33m.\u001b[0m\u001b[0mlog\u001b[0m\u001b[1;33m.\u001b[0m\u001b[0mwarning\u001b[0m\u001b[1;33m(\u001b[0m\u001b[1;34m\"Invalid Message:\"\u001b[0m\u001b[1;33m,\u001b[0m \u001b[0mexc_info\u001b[0m\u001b[1;33m=\u001b[0m\u001b[1;32mTrue\u001b[0m\u001b[1;33m)\u001b[0m\u001b[1;33m\u001b[0m\u001b[1;33m\u001b[0m\u001b[0m\n",
      "\u001b[1;31mKeyboardInterrupt\u001b[0m: Interrupted by user"
     ]
    }
   ],
   "source": [
    "#chatting\n",
    "\n",
    "import random\n",
    "\n",
    "while True:\n",
    "    texts_p = []\n",
    "    prediction_input = input(\"You : \")\n",
    "    \n",
    "    #removing punctuation and converting to lowercase\n",
    "    prediction_input = [letters.lower() for letters in prediction_input if letters not in string.punctuation]\n",
    "    prediction_input = \"\".join(prediction_input)\n",
    "    texts_p.append(prediction_input)\n",
    "    \n",
    "    #tokenizing and padding\n",
    "    prediction_input = tokenizer.texts_to_sequences(texts_p)\n",
    "    prediction_input = np.array(prediction_input).reshape(-1)\n",
    "    prediction_input = pad_sequences([prediction_input],input_shape)\n",
    "    \n",
    "    #getting output from model\n",
    "    output = model.predict(prediction_input)\n",
    "    output = output.argmax()\n",
    "    \n",
    "    #finding the right tag and predicting\n",
    "    response_tag = le.inverse_transform([output])[0]\n",
    "    print(\"Bot :\",random.choice(responses[response_tag]))\n",
    "    if response_tag == \"goodbye\" :\n",
    "        break"
   ]
  }
 ],
 "metadata": {
  "kernelspec": {
   "display_name": "Python 3",
   "language": "python",
   "name": "python3"
  },
  "language_info": {
   "codemirror_mode": {
    "name": "ipython",
    "version": 3
   },
   "file_extension": ".py",
   "mimetype": "text/x-python",
   "name": "python",
   "nbconvert_exporter": "python",
   "pygments_lexer": "ipython3",
   "version": "3.8.8"
  }
 },
 "nbformat": 4,
 "nbformat_minor": 5
}
